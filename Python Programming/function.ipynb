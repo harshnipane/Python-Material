{
 "cells": [
  {
   "cell_type": "markdown",
   "id": "b160dc6a-91e9-436e-b9b2-8726702afc74",
   "metadata": {},
   "source": [
    "# Functions"
   ]
  },
  {
   "cell_type": "code",
   "execution_count": 2,
   "id": "c0e58236-4e18-44bf-aff1-8841edb87193",
   "metadata": {},
   "outputs": [
    {
     "name": "stdout",
     "output_type": "stream",
     "text": [
      "5\n"
     ]
    }
   ],
   "source": [
    "def add(a,b):\n",
    "    return a+b\n",
    "print(add(2,3))    "
   ]
  },
  {
   "cell_type": "code",
   "execution_count": 4,
   "id": "6e85e765-d519-4d14-8127-891437af903f",
   "metadata": {},
   "outputs": [
    {
     "data": {
      "text/plain": [
       "9"
      ]
     },
     "execution_count": 4,
     "metadata": {},
     "output_type": "execute_result"
    }
   ],
   "source": [
    "def add(a:int, b:int):\n",
    "    \"\"\"\n",
    "    add two nos and return sum\n",
    "    \"\"\"\n",
    "    return a+b\n",
    "add(5,4)    "
   ]
  },
  {
   "cell_type": "code",
   "execution_count": 13,
   "id": "016fc91a-9e6f-47ee-95f6-f4dd94a8b145",
   "metadata": {},
   "outputs": [
    {
     "data": {
      "text/plain": [
       "2725392139750729502980713245400918633290796330545803413734328823443106201171875"
      ]
     },
     "execution_count": 13,
     "metadata": {},
     "output_type": "execute_result"
    }
   ],
   "source": [
    "def mul():\n",
    "    m=1\n",
    "    for i in range(1,101,2):\n",
    "        m *= i\n",
    "    return m\n",
    "mul()    \n",
    "        "
   ]
  },
  {
   "cell_type": "code",
   "execution_count": 11,
   "id": "d5e050b8-fff9-4407-867d-fcb4d2d26382",
   "metadata": {},
   "outputs": [
    {
     "data": {
      "text/plain": [
       "120"
      ]
     },
     "execution_count": 11,
     "metadata": {},
     "output_type": "execute_result"
    }
   ],
   "source": [
    "def facto(a):\n",
    "    fact =1\n",
    "    for i in range(1,a+1):\n",
    "        fact = fact *i\n",
    "    return fact\n",
    "facto(5)    \n",
    "    "
   ]
  },
  {
   "cell_type": "markdown",
   "id": "3bb01b6f-d99c-4313-b2a5-59538bf1a519",
   "metadata": {},
   "source": [
    "take a list of two values as a parameter in functuion chage the first value in the function after the function call print the list "
   ]
  },
  {
   "cell_type": "code",
   "execution_count": 29,
   "id": "ceabbaa1-3cf5-49a2-a643-a451a14012c7",
   "metadata": {},
   "outputs": [
    {
     "name": "stdout",
     "output_type": "stream",
     "text": [
      "2563642439744 [1, 2]\n",
      "None\n",
      "2563642439744 [10, 2]\n"
     ]
    }
   ],
   "source": [
    "def func(l2):\n",
    "    l2[0] =10\n",
    "\n",
    "l=[1,2]\n",
    "print(id(l), l)\n",
    "print(func(l)) \n",
    "print(id(l),l)"
   ]
  },
  {
   "cell_type": "code",
   "execution_count": 24,
   "id": "d316bce2-4ac3-4ce9-9756-3093f07c6457",
   "metadata": {},
   "outputs": [
    {
     "name": "stdout",
     "output_type": "stream",
     "text": [
      "6\n"
     ]
    },
    {
     "data": {
      "text/plain": [
       "3"
      ]
     },
     "execution_count": 24,
     "metadata": {},
     "output_type": "execute_result"
    }
   ],
   "source": [
    "def add(a,b):\n",
    "    a =3\n",
    "    return a+b\n",
    "\n",
    "a=3\n",
    "b=2\n",
    "print(add(2,3)) \n",
    "a"
   ]
  },
  {
   "cell_type": "code",
   "execution_count": 30,
   "id": "02ecd62a-16fe-423e-bc7b-41e6471cb05f",
   "metadata": {},
   "outputs": [
    {
     "name": "stdout",
     "output_type": "stream",
     "text": [
      "1 2 (3, 4, 5, 6)\n"
     ]
    }
   ],
   "source": [
    "def hh(a,b,*c):\n",
    "    print(a,b,c)\n",
    "hh(1,2,3,4,5,6)    "
   ]
  },
  {
   "cell_type": "markdown",
   "id": "ad1b4735-330d-43b2-bc21-69fe10dbb420",
   "metadata": {},
   "source": [
    "## Lambda Function\n"
   ]
  },
  {
   "cell_type": "code",
   "execution_count": 4,
   "id": "e1aba44b-d83c-4f7b-ad80-887a09624161",
   "metadata": {},
   "outputs": [
    {
     "data": {
      "text/plain": [
       "'akurdipune'"
      ]
     },
     "execution_count": 4,
     "metadata": {},
     "output_type": "execute_result"
    }
   ],
   "source": [
    "x =(lambda str1,str2 :  str1+ str2)\n",
    "x(\"akurdi\",\"pune\")"
   ]
  },
  {
   "cell_type": "code",
   "execution_count": 6,
   "id": "dc7309b5-95f5-4aa5-81d7-4dae912ca8b7",
   "metadata": {},
   "outputs": [
    {
     "name": "stdout",
     "output_type": "stream",
     "text": [
      "['hello', 'welcome', 'hi', 'go']\n"
     ]
    }
   ],
   "source": [
    "words = [\"hello\",\"welcome\",\"hi\",\"go\"]\n",
    "print(sorted(words, key = lambda s: s[1]))"
   ]
  },
  {
   "cell_type": "markdown",
   "id": "c51bcb67-aa08-4b34-ac9f-5e22a5d5ef8d",
   "metadata": {},
   "source": [
    "## Map Function"
   ]
  },
  {
   "cell_type": "code",
   "execution_count": 13,
   "id": "2165cde0-3463-48d2-8ecb-86e10274462e",
   "metadata": {},
   "outputs": [
    {
     "data": {
      "text/plain": [
       "3.1622776601683795"
      ]
     },
     "execution_count": 13,
     "metadata": {},
     "output_type": "execute_result"
    }
   ],
   "source": [
    "numbers=[10,20,30]\n",
    "result = map(lambda x: x**0.5, numbers)\n",
    "#list(result)\n",
    "next(result)"
   ]
  },
  {
   "cell_type": "markdown",
   "id": "cdc7270d-32cb-45d3-bb20-f8fbbd22cfd0",
   "metadata": {},
   "source": [
    "## generator function"
   ]
  },
  {
   "cell_type": "code",
   "execution_count": 14,
   "id": "5c8b3430-31e1-454d-a45b-52fd63d4cf2b",
   "metadata": {},
   "outputs": [
    {
     "name": "stdout",
     "output_type": "stream",
     "text": [
      "10\n",
      "20\n",
      "30\n"
     ]
    }
   ],
   "source": [
    "l =[10,20,30]\n",
    "tl = (t for t in l)\n",
    "for i in tl:\n",
    "    print(i)"
   ]
  },
  {
   "cell_type": "code",
   "execution_count": null,
   "id": "53955a33-1a01-4ef5-a250-c4db06eddcf5",
   "metadata": {},
   "outputs": [],
   "source": []
  }
 ],
 "metadata": {
  "kernelspec": {
   "display_name": "Python 3 (ipykernel)",
   "language": "python",
   "name": "python3"
  },
  "language_info": {
   "codemirror_mode": {
    "name": "ipython",
    "version": 3
   },
   "file_extension": ".py",
   "mimetype": "text/x-python",
   "name": "python",
   "nbconvert_exporter": "python",
   "pygments_lexer": "ipython3",
   "version": "3.11.5"
  }
 },
 "nbformat": 4,
 "nbformat_minor": 5
}
