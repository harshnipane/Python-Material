{
 "cells": [
  {
   "cell_type": "markdown",
   "id": "ac72cc49-bcb6-4296-9cbf-d0fcd8be28ee",
   "metadata": {},
   "source": []
  },
  {
   "cell_type": "code",
   "execution_count": 1,
   "id": "23fa6888-f2c7-4341-a135-7be8dd656acb",
   "metadata": {},
   "outputs": [
    {
     "name": "stdout",
     "output_type": "stream",
     "text": [
      "*\n",
      "**\n",
      "***\n",
      "****\n",
      "*****\n"
     ]
    }
   ],
   "source": [
    "for idx in range(1,6):\n",
    "    print(\"*\"*idx)"
   ]
  },
  {
   "cell_type": "code",
   "execution_count": null,
   "id": "3fa48755-e494-4189-9461-e2f726605a9a",
   "metadata": {},
   "outputs": [],
   "source": []
  },
  {
   "cell_type": "markdown",
   "id": "d9dcfc6b-9994-4050-8f5d-9130b8a63ac7",
   "metadata": {},
   "source": [
    "stars  :: start =1, increase by 2, end = no of lines _________________ spaces :: start = no of lines // 2, decrease by 1, end =0\n"
   ]
  },
  {
   "cell_type": "code",
   "execution_count": null,
   "id": "dac37afb-26b5-4eae-a927-a8f32820a922",
   "metadata": {},
   "outputs": [],
   "source": [
    "n = int(input(\"no of lines\"))\n",
    "spaces = n//2\n",
    "stars = 1\n",
    "for i in range(1,n+1):\n",
    "    print(\" \"*spaces,\"*\"*stars,sep=\"\")"
   ]
  },
  {
   "cell_type": "code",
   "execution_count": 10,
   "id": "46f51872-6680-4099-8deb-9d6ddbf3c289",
   "metadata": {},
   "outputs": [
    {
     "name": "stdin",
     "output_type": "stream",
     "text": [
      "no of lines 7\n"
     ]
    },
    {
     "name": "stdout",
     "output_type": "stream",
     "text": [
      "   *\n",
      "  ***\n",
      " *****\n",
      "*******\n",
      " *****\n",
      "  ***\n",
      "   *\n"
     ]
    }
   ],
   "source": [
    "n = int(input(\"no of lines\"))\n",
    "count =0\n",
    "spaces = n//2\n",
    "stars = 1\n",
    "while(count <=(n//2)):\n",
    "    print(\" \"*spaces,\"*\"*stars,sep=\"\")\n",
    "    spaces -= 1\n",
    "    stars +=2\n",
    "    count += 1\n",
    "count -= 2\n",
    "spaces +=2\n",
    "stars -= 4\n",
    "while(count >=0):\n",
    "    print(\" \"*spaces,\"*\"*stars,sep=\"\")\n",
    "    spaces += 1\n",
    "    stars -=2\n",
    "    count -= 1    "
   ]
  },
  {
   "cell_type": "code",
   "execution_count": 1,
   "id": "58cbb7d9-08bc-4d37-9157-6eca96a8b1cb",
   "metadata": {},
   "outputs": [
    {
     "name": "stdin",
     "output_type": "stream",
     "text": [
      "no of lines 7\n"
     ]
    },
    {
     "name": "stdout",
     "output_type": "stream",
     "text": [
      "**** ****\n",
      "***   ***\n",
      "**     **\n",
      "*       *\n",
      "**     **\n",
      "***   ***\n",
      "**** ****\n"
     ]
    }
   ],
   "source": [
    "n = int(input(\"no of lines\"))\n",
    "count =0\n",
    "spaces = n//2+1\n",
    "stars = 1\n",
    "while(count <=(n//2)):\n",
    "    print(\"*\"*spaces,\" \"*stars,\"*\"*spaces,sep=\"\")\n",
    "    spaces -= 1\n",
    "    stars +=2\n",
    "    count += 1\n",
    "count -= 2\n",
    "spaces +=2\n",
    "stars -= 4\n",
    "while(count >=0):\n",
    "    print(\"*\"*spaces,\" \"*stars,\"*\"*spaces,sep=\"\")\n",
    "    spaces += 1\n",
    "    stars -=2\n",
    "    count -= 1   "
   ]
  },
  {
   "cell_type": "code",
   "execution_count": 5,
   "id": "31056e89-b510-4ccc-a4b3-26ccd43d80a4",
   "metadata": {},
   "outputs": [
    {
     "name": "stdin",
     "output_type": "stream",
     "text": [
      "no of lines 4\n"
     ]
    },
    {
     "name": "stdout",
     "output_type": "stream",
     "text": [
      "1010101\n",
      " 10101\n",
      "  101\n",
      "   1\n"
     ]
    }
   ],
   "source": [
    "n = int(input(\"no of lines\"))\n",
    "space =0\n",
    "while(n>0):\n",
    "    print(\" \"*space,\"10\"*(n-1),\"1\",sep=\"\")\n",
    "    n -= 1\n",
    "    space+= 1"
   ]
  },
  {
   "cell_type": "code",
   "execution_count": null,
   "id": "6c622eca-4e5b-430b-bdac-76dcb273fac4",
   "metadata": {},
   "outputs": [],
   "source": []
  },
  {
   "cell_type": "code",
   "execution_count": null,
   "id": "79b186ab-3e55-4f80-b167-07f8c2a1cdb7",
   "metadata": {},
   "outputs": [],
   "source": []
  }
 ],
 "metadata": {
  "kernelspec": {
   "display_name": "Python 3 (ipykernel)",
   "language": "python",
   "name": "python3"
  },
  "language_info": {
   "codemirror_mode": {
    "name": "ipython",
    "version": 3
   },
   "file_extension": ".py",
   "mimetype": "text/x-python",
   "name": "python",
   "nbconvert_exporter": "python",
   "pygments_lexer": "ipython3",
   "version": "3.11.5"
  }
 },
 "nbformat": 4,
 "nbformat_minor": 5
}
