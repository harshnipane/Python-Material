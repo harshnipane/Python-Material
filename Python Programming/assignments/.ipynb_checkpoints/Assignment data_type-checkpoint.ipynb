{
 "cells": [
  {
   "cell_type": "markdown",
   "id": "2b892750-c6a2-48ee-88f0-4a866e7bd818",
   "metadata": {},
   "source": [
    "# Assignment data type"
   ]
  },
  {
   "cell_type": "code",
   "execution_count": 2,
   "id": "46ba33b4-144e-473a-ada7-b093a7b0837e",
   "metadata": {},
   "outputs": [
    {
     "data": {
      "text/plain": [
       "int"
      ]
     },
     "execution_count": 2,
     "metadata": {},
     "output_type": "execute_result"
    }
   ],
   "source": [
    "type(0)"
   ]
  },
  {
   "cell_type": "code",
   "execution_count": 3,
   "id": "f5323edb-d30d-4971-ba65-254c68dc3c08",
   "metadata": {},
   "outputs": [
    {
     "data": {
      "text/plain": [
       "float"
      ]
     },
     "execution_count": 3,
     "metadata": {},
     "output_type": "execute_result"
    }
   ],
   "source": [
    "type(0.0)"
   ]
  },
  {
   "cell_type": "code",
   "execution_count": 4,
   "id": "4258c656-411f-4ba1-a1c3-5b39d33ce7ff",
   "metadata": {},
   "outputs": [
    {
     "data": {
      "text/plain": [
       "str"
      ]
     },
     "execution_count": 4,
     "metadata": {},
     "output_type": "execute_result"
    }
   ],
   "source": [
    "type('A')"
   ]
  },
  {
   "cell_type": "code",
   "execution_count": 5,
   "id": "db198cd7-344e-4de9-aca9-6b95b252f2d0",
   "metadata": {},
   "outputs": [
    {
     "data": {
      "text/plain": [
       "builtin_function_or_method"
      ]
     },
     "execution_count": 5,
     "metadata": {},
     "output_type": "execute_result"
    }
   ],
   "source": [
    "type(print)"
   ]
  },
  {
   "cell_type": "code",
   "execution_count": 6,
   "id": "a03562ee-df6c-4bcc-b284-4a46623f2480",
   "metadata": {},
   "outputs": [
    {
     "data": {
      "text/plain": [
       "complex"
      ]
     },
     "execution_count": 6,
     "metadata": {},
     "output_type": "execute_result"
    }
   ],
   "source": [
    "type(3+3j)"
   ]
  },
  {
   "cell_type": "code",
   "execution_count": 7,
   "id": "7c0e025c-12de-4c98-8066-126b325426eb",
   "metadata": {},
   "outputs": [
    {
     "data": {
      "text/plain": [
       "bool"
      ]
     },
     "execution_count": 7,
     "metadata": {},
     "output_type": "execute_result"
    }
   ],
   "source": [
    "type(True)"
   ]
  },
  {
   "cell_type": "code",
   "execution_count": null,
   "id": "769a1a5d-9273-4a90-8824-f593cbfd9cdc",
   "metadata": {},
   "outputs": [],
   "source": []
  },
  {
   "cell_type": "code",
   "execution_count": 8,
   "id": "c79c73a9-c218-455f-9d2d-7608a654f3e3",
   "metadata": {},
   "outputs": [
    {
     "data": {
      "text/plain": [
       "True"
      ]
     },
     "execution_count": 8,
     "metadata": {},
     "output_type": "execute_result"
    }
   ],
   "source": [
    "isinstance(10,int)"
   ]
  },
  {
   "cell_type": "code",
   "execution_count": 9,
   "id": "1c1b958e-de9c-43d3-bb4a-9c2356152cf6",
   "metadata": {},
   "outputs": [
    {
     "data": {
      "text/plain": [
       "False"
      ]
     },
     "execution_count": 9,
     "metadata": {},
     "output_type": "execute_result"
    }
   ],
   "source": [
    "isinstance(10,float)"
   ]
  },
  {
   "cell_type": "code",
   "execution_count": 10,
   "id": "62d999c2-ecaa-406d-afc4-34b396850f22",
   "metadata": {},
   "outputs": [
    {
     "data": {
      "text/plain": [
       "False"
      ]
     },
     "execution_count": 10,
     "metadata": {},
     "output_type": "execute_result"
    }
   ],
   "source": [
    "isinstance(1,bool)"
   ]
  },
  {
   "cell_type": "code",
   "execution_count": 11,
   "id": "78872817-dde7-4aa2-9551-bc95d361d99d",
   "metadata": {},
   "outputs": [
    {
     "data": {
      "text/plain": [
       "True"
      ]
     },
     "execution_count": 11,
     "metadata": {},
     "output_type": "execute_result"
    }
   ],
   "source": [
    "isinstance(10.8,float)"
   ]
  },
  {
   "cell_type": "code",
   "execution_count": 12,
   "id": "a1057c0b-6323-4797-8b69-a290eef04266",
   "metadata": {},
   "outputs": [
    {
     "data": {
      "text/plain": [
       "True"
      ]
     },
     "execution_count": 12,
     "metadata": {},
     "output_type": "execute_result"
    }
   ],
   "source": [
    "isinstance(True,bool)"
   ]
  },
  {
   "cell_type": "code",
   "execution_count": 13,
   "id": "8b9b753f-8483-4e06-8422-34fe0f197818",
   "metadata": {},
   "outputs": [
    {
     "data": {
      "text/plain": [
       "False"
      ]
     },
     "execution_count": 13,
     "metadata": {},
     "output_type": "execute_result"
    }
   ],
   "source": [
    "isinstance(78.8,int)"
   ]
  },
  {
   "cell_type": "code",
   "execution_count": 14,
   "id": "f8fe49ae-5c46-4d91-bef0-74381fceefe5",
   "metadata": {},
   "outputs": [
    {
     "data": {
      "text/plain": [
       "True"
      ]
     },
     "execution_count": 14,
     "metadata": {},
     "output_type": "execute_result"
    }
   ],
   "source": [
    "isinstance(78.8,float)"
   ]
  },
  {
   "cell_type": "code",
   "execution_count": 15,
   "id": "56f43cf9-28ce-439c-b6b8-369bfc8357e8",
   "metadata": {},
   "outputs": [
    {
     "data": {
      "text/plain": [
       "False"
      ]
     },
     "execution_count": 15,
     "metadata": {},
     "output_type": "execute_result"
    }
   ],
   "source": [
    "isinstance(78.8,complex)"
   ]
  },
  {
   "cell_type": "code",
   "execution_count": 16,
   "id": "9e9f4673-125c-4121-8611-77728100d1d1",
   "metadata": {},
   "outputs": [
    {
     "data": {
      "text/plain": [
       "True"
      ]
     },
     "execution_count": 16,
     "metadata": {},
     "output_type": "execute_result"
    }
   ],
   "source": [
    "isinstance(True,bool)"
   ]
  },
  {
   "cell_type": "markdown",
   "id": "1932c100-1a6b-49ba-a48b-b81f71796499",
   "metadata": {},
   "source": []
  },
  {
   "cell_type": "markdown",
   "id": "75c44209-02f0-45ea-85fc-229452b347aa",
   "metadata": {},
   "source": [
    " WAP to take following from user, \n",
    "roll no : should be int : store in a variable\n",
    "percentage marks : should be float: store in a variable\n",
    "Any complex number : should be a complex number : store in a variable\n",
    "name of student: should be a string : store in a variable"
   ]
  },
  {
   "cell_type": "code",
   "execution_count": 18,
   "id": "31a73156-2f23-41d6-be44-9a035c52f348",
   "metadata": {},
   "outputs": [
    {
     "name": "stdin",
     "output_type": "stream",
     "text": [
      "Enter roll no  23\n",
      "enter percentage marks  89.4\n",
      "enter complex number  6+3j\n",
      "enter name  harsh\n"
     ]
    },
    {
     "name": "stdout",
     "output_type": "stream",
     "text": [
      "23 89.4 (6+3j) harsh\n"
     ]
    }
   ],
   "source": [
    "roll = int(input(\"Enter roll no \"))\n",
    "percent = float(input(\"enter percentage marks \"))\n",
    "complex = complex(input(\"enter complex number \"))\n",
    "name = str(input(\"enter name \"))\n",
    "print(roll,percent,complex,name)\n",
    "                  "
   ]
  },
  {
   "cell_type": "markdown",
   "id": "dddff270-582d-443f-9360-1787243c3412",
   "metadata": {},
   "source": []
  },
  {
   "cell_type": "markdown",
   "id": "8d5f8919-8db6-4376-a1e3-273a46df30de",
   "metadata": {},
   "source": [
    "Q4. WAP to convert given integer to binary, hex and octal format"
   ]
  },
  {
   "cell_type": "code",
   "execution_count": 20,
   "id": "583d9247-47df-4a82-9d79-cd56b052536d",
   "metadata": {},
   "outputs": [
    {
     "name": "stdout",
     "output_type": "stream",
     "text": [
      "0b1010\n",
      "0xa\n",
      "0o12\n"
     ]
    }
   ],
   "source": [
    "a=10\n",
    "print(bin(a))\n",
    "print(hex(a))\n",
    "print(oct(a))"
   ]
  },
  {
   "cell_type": "code",
   "execution_count": null,
   "id": "a4c2aecb-8ffc-453f-a675-143786740699",
   "metadata": {},
   "outputs": [],
   "source": []
  },
  {
   "cell_type": "markdown",
   "id": "8d50857c-6417-4495-bbfe-49f8fb7c3bd5",
   "metadata": {},
   "source": [
    " Q5 Q6 Q7"
   ]
  },
  {
   "cell_type": "code",
   "execution_count": 29,
   "id": "ce9d89e5-0326-4bfd-a054-d3273b68a21b",
   "metadata": {},
   "outputs": [
    {
     "name": "stdout",
     "output_type": "stream",
     "text": [
      "<class 'int'>\n",
      "10\n"
     ]
    }
   ],
   "source": [
    "a= 0b1010\n",
    "print(int(a))"
   ]
  },
  {
   "cell_type": "code",
   "execution_count": 23,
   "id": "e694fdc1-0c44-4cc0-967d-c6cac2e1baff",
   "metadata": {},
   "outputs": [
    {
     "name": "stdout",
     "output_type": "stream",
     "text": [
      "10\n"
     ]
    }
   ],
   "source": [
    "b = 0o12\n",
    "print(int(a))"
   ]
  },
  {
   "cell_type": "code",
   "execution_count": 35,
   "id": "2d5fa1c1-254c-48ae-a68c-680ebcd2f226",
   "metadata": {},
   "outputs": [
    {
     "name": "stdout",
     "output_type": "stream",
     "text": [
      "10\n"
     ]
    }
   ],
   "source": [
    "c = 0xa\n",
    "print(int(a))"
   ]
  },
  {
   "cell_type": "code",
   "execution_count": null,
   "id": "03622c76-dfd9-4631-9e2a-45b2177dac6e",
   "metadata": {},
   "outputs": [],
   "source": []
  },
  {
   "cell_type": "code",
   "execution_count": null,
   "id": "c69ec805-1d26-4ed9-8122-111d7bb79b68",
   "metadata": {},
   "outputs": [],
   "source": []
  },
  {
   "cell_type": "code",
   "execution_count": null,
   "id": "8b9d8092-fdf9-4e2b-9b7a-87bba4068c93",
   "metadata": {},
   "outputs": [],
   "source": []
  },
  {
   "cell_type": "markdown",
   "id": "7dd0c982-f16e-4a39-9947-356bf406424a",
   "metadata": {},
   "source": [
    "Q9. Write a menu driven program.\n",
    "Ask the user which input needs to be converted \n",
    "1. binary 2. Octal 3. Hex\n",
    "Then convert given string to integer using int() function"
   ]
  },
  {
   "cell_type": "code",
   "execution_count": 34,
   "id": "da1bfd45-b9fe-4964-9930-53e3e6abb213",
   "metadata": {},
   "outputs": [
    {
     "name": "stdout",
     "output_type": "stream",
     "text": [
      "1.binary, 2.Octal, 3.Hex\n"
     ]
    },
    {
     "name": "stdin",
     "output_type": "stream",
     "text": [
      "Enter your choice 3\n",
      "enter hexa number start forom 0x 0xa\n"
     ]
    },
    {
     "name": "stdout",
     "output_type": "stream",
     "text": [
      "interger =  10\n"
     ]
    }
   ],
   "source": [
    "print(\"1.binary, 2.Octal, 3.Hex\")\n",
    "ch = int(input(\"Enter your choice\"))\n",
    "if(ch == 1):\n",
    "    st = input(\"enter binary number start forom 0b\")\n",
    "    print(\"interger = \",int(st,2))\n",
    "elif(ch == 2):\n",
    "    st = input(\"enter octal number start forom 0o\")\n",
    "    print(\"interger = \",int(st,8))\n",
    "else:\n",
    "    st = input(\"enter hexa number start forom 0x\")\n",
    "    print(\"interger = \",int(st,16))\n",
    "    "
   ]
  },
  {
   "cell_type": "code",
   "execution_count": null,
   "id": "c02af28e-adee-46a3-8cf6-120a6da67d62",
   "metadata": {},
   "outputs": [],
   "source": [
    "\n"
   ]
  },
  {
   "cell_type": "markdown",
   "id": "2472fb45-c4c6-4fcc-b5cc-349660c96fb4",
   "metadata": {},
   "source": [
    "Q10"
   ]
  },
  {
   "cell_type": "code",
   "execution_count": 37,
   "id": "64244772-2682-4628-b89e-73039a1bd49d",
   "metadata": {},
   "outputs": [
    {
     "data": {
      "text/plain": [
       "True"
      ]
     },
     "execution_count": 37,
     "metadata": {},
     "output_type": "execute_result"
    }
   ],
   "source": [
    "bool(100+56*3)"
   ]
  },
  {
   "cell_type": "code",
   "execution_count": 38,
   "id": "b4122b05-8fa8-4317-9f6c-71dbea8f9b1d",
   "metadata": {},
   "outputs": [
    {
     "data": {
      "text/plain": [
       "True"
      ]
     },
     "execution_count": 38,
     "metadata": {},
     "output_type": "execute_result"
    }
   ],
   "source": [
    "bool(' ')"
   ]
  },
  {
   "cell_type": "code",
   "execution_count": 39,
   "id": "1f3a416d-d8cc-48ef-8b9a-967d0da3b372",
   "metadata": {},
   "outputs": [
    {
     "data": {
      "text/plain": [
       "False"
      ]
     },
     "execution_count": 39,
     "metadata": {},
     "output_type": "execute_result"
    }
   ],
   "source": [
    "bool(10-10)"
   ]
  },
  {
   "cell_type": "code",
   "execution_count": 40,
   "id": "966605e5-18eb-4e16-85cb-49ece0385402",
   "metadata": {},
   "outputs": [
    {
     "data": {
      "text/plain": [
       "True"
      ]
     },
     "execution_count": 40,
     "metadata": {},
     "output_type": "execute_result"
    }
   ],
   "source": [
    "bool(19.99-19.9)"
   ]
  },
  {
   "cell_type": "code",
   "execution_count": 41,
   "id": "25581c4a-b644-49e1-97c1-daee92ea0a1d",
   "metadata": {},
   "outputs": [
    {
     "data": {
      "text/plain": [
       "False"
      ]
     },
     "execution_count": 41,
     "metadata": {},
     "output_type": "execute_result"
    }
   ],
   "source": [
    "bool([])"
   ]
  },
  {
   "cell_type": "code",
   "execution_count": 42,
   "id": "92daab32-f48f-4e61-b7e5-e81f41266f70",
   "metadata": {},
   "outputs": [
    {
     "data": {
      "text/plain": [
       "False"
      ]
     },
     "execution_count": 42,
     "metadata": {},
     "output_type": "execute_result"
    }
   ],
   "source": [
    "bool(range(0))"
   ]
  },
  {
   "cell_type": "code",
   "execution_count": 44,
   "id": "e072a95e-ac29-4ab3-9d8a-1afa32d147e4",
   "metadata": {},
   "outputs": [
    {
     "data": {
      "text/plain": [
       "False"
      ]
     },
     "execution_count": 44,
     "metadata": {},
     "output_type": "execute_result"
    }
   ],
   "source": [
    "bool(None)"
   ]
  },
  {
   "cell_type": "code",
   "execution_count": 45,
   "id": "5f1882b9-24e1-4c3a-8562-55e148700c30",
   "metadata": {},
   "outputs": [
    {
     "data": {
      "text/plain": [
       "True"
      ]
     },
     "execution_count": 45,
     "metadata": {},
     "output_type": "execute_result"
    }
   ],
   "source": [
    "bool(0+0.1j)"
   ]
  },
  {
   "cell_type": "code",
   "execution_count": 46,
   "id": "ecbcc22b-5100-4d03-88e8-542eec9b9580",
   "metadata": {},
   "outputs": [
    {
     "data": {
      "text/plain": [
       "False"
      ]
     },
     "execution_count": 46,
     "metadata": {},
     "output_type": "execute_result"
    }
   ],
   "source": [
    "bool(False)"
   ]
  },
  {
   "cell_type": "code",
   "execution_count": 47,
   "id": "8d7f6e81-4065-44c5-a486-2db0d4395057",
   "metadata": {},
   "outputs": [
    {
     "data": {
      "text/plain": [
       "True"
      ]
     },
     "execution_count": 47,
     "metadata": {},
     "output_type": "execute_result"
    }
   ],
   "source": [
    "bool('False')"
   ]
  },
  {
   "cell_type": "markdown",
   "id": "eb7dc012-fc9c-40ef-ac20-0d4d83fa55e4",
   "metadata": {},
   "source": [
    "Q11. Find the size of x when x is given following values"
   ]
  },
  {
   "cell_type": "code",
   "execution_count": 51,
   "id": "48a2177a-ebec-4eea-9ded-885ce985967a",
   "metadata": {},
   "outputs": [
    {
     "name": "stdout",
     "output_type": "stream",
     "text": [
      "28\n",
      "28\n",
      "28\n",
      "32\n",
      "36\n"
     ]
    }
   ],
   "source": [
    "import sys\n",
    "x=0 \n",
    "print(sys.getsizeof(x))\n",
    "x=1 \n",
    "print(sys.getsizeof(x))\n",
    "x=2 ** 20\n",
    "print(sys.getsizeof(x))\n",
    "x=2 ** 32\n",
    "print(sys.getsizeof(x))\n",
    "x=2 ** 60\n",
    "print(sys.getsizeof(x))"
   ]
  },
  {
   "cell_type": "code",
   "execution_count": null,
   "id": "4570dcbe-4a7e-4616-91b1-3fed9613a860",
   "metadata": {},
   "outputs": [],
   "source": []
  },
  {
   "cell_type": "markdown",
   "id": "e093bfe1-3293-4abc-94ae-f45e38fde849",
   "metadata": {},
   "source": [
    "Q12. Find output of following"
   ]
  },
  {
   "cell_type": "code",
   "execution_count": 2,
   "id": "bcce0f0d-ed03-4d9b-9cde-bf59a04e456d",
   "metadata": {},
   "outputs": [
    {
     "name": "stdout",
     "output_type": "stream",
     "text": [
      "11\n",
      "0\n",
      "0b0\n",
      "0x1\n",
      "1578.67\n",
      "1\n",
      "0\n",
      "-8\n",
      "1.0\n",
      "42.0\n",
      "1000.0\n",
      "inf\n"
     ]
    }
   ],
   "source": [
    "print(10 + True)\n",
    "print(int(False))\n",
    "print(bin(False))\n",
    "print(hex(True))\n",
    "print(1578.67 + False)\n",
    "print(int(5/4))\n",
    "print(int(9/10))\n",
    "print(int(-89/10))\n",
    "print(float(True))\n",
    "print(float(6*7))\n",
    "print(float(1e3))\n",
    "print(float(1e323))"
   ]
  },
  {
   "cell_type": "markdown",
   "id": "e6af0aca-1d4c-499b-bdb0-79d1f5ebe4b9",
   "metadata": {},
   "source": [
    "Q13"
   ]
  },
  {
   "cell_type": "code",
   "execution_count": 3,
   "id": "8ae08a5d-a790-4b33-9a74-981cdaed7706",
   "metadata": {},
   "outputs": [
    {
     "name": "stdout",
     "output_type": "stream",
     "text": [
      "4\n"
     ]
    }
   ],
   "source": [
    "print(int.bit_length(10))"
   ]
  },
  {
   "cell_type": "code",
   "execution_count": 4,
   "id": "e1dae6d3-3e24-42a2-bb76-ee4c4c27e383",
   "metadata": {},
   "outputs": [
    {
     "name": "stdout",
     "output_type": "stream",
     "text": [
      "0b1010\n"
     ]
    }
   ],
   "source": [
    "print(bin(10))"
   ]
  },
  {
   "cell_type": "code",
   "execution_count": null,
   "id": "f974e705-7e39-4045-99c4-5460c7a750f9",
   "metadata": {},
   "outputs": [],
   "source": []
  }
 ],
 "metadata": {
  "kernelspec": {
   "display_name": "Python 3 (ipykernel)",
   "language": "python",
   "name": "python3"
  },
  "language_info": {
   "codemirror_mode": {
    "name": "ipython",
    "version": 3
   },
   "file_extension": ".py",
   "mimetype": "text/x-python",
   "name": "python",
   "nbconvert_exporter": "python",
   "pygments_lexer": "ipython3",
   "version": "3.11.3"
  }
 },
 "nbformat": 4,
 "nbformat_minor": 5
}
