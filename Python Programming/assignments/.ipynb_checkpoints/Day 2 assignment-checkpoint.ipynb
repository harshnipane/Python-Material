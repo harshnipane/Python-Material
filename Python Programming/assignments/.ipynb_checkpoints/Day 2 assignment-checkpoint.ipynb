{
 "cells": [
  {
   "cell_type": "code",
   "execution_count": null,
   "id": "3ba14622-d5c3-4233-92ff-9aca85b9c58d",
   "metadata": {},
   "outputs": [],
   "source": [
    "print(\"hello\")"
   ]
  },
  {
   "cell_type": "markdown",
   "id": "4644eb0e-38fd-4851-95d7-39b385f2b25c",
   "metadata": {},
   "source": [
    "### Que 1 1"
   ]
  },
  {
   "cell_type": "code",
   "execution_count": 44,
   "id": "447d6f3a-0b87-4454-9912-05b890c7ce17",
   "metadata": {},
   "outputs": [
    {
     "name": "stdout",
     "output_type": "stream",
     "text": [
      "inf\n"
     ]
    }
   ],
   "source": [
    " print(1.5e200 *2.0e210)"
   ]
  },
  {
   "cell_type": "raw",
   "id": "504efd3e-b08d-434e-8080-b480b3b510f8",
   "metadata": {},
   "source": [
    "When you multiply such large numbers in Python, it can result in overflow,\n",
    "leading to the output of inf, which stands for \"infinity."
   ]
  },
  {
   "cell_type": "markdown",
   "id": "70d7c388-ae1b-493b-8fca-349135b4344e",
   "metadata": {},
   "source": [
    "### Que 1 2"
   ]
  },
  {
   "cell_type": "code",
   "execution_count": 45,
   "id": "7b5e893c-55da-43c5-800d-58b2035829af",
   "metadata": {},
   "outputs": [
    {
     "name": "stdout",
     "output_type": "stream",
     "text": [
      "0.0\n"
     ]
    }
   ],
   "source": [
    "print(3.4e-320 / 1e100)"
   ]
  },
  {
   "cell_type": "raw",
   "id": "bb2f626d-8ed6-408f-b211-a82b1717852a",
   "metadata": {},
   "source": [
    "In Python, when a number becomes too small, it underflows to zero. This is because floating-point numbers have limited precision,\n",
    "and when the magnitude becomes too small, it cannot be represented accurately"
   ]
  },
  {
   "cell_type": "markdown",
   "id": "5640d09a-645f-4361-a5ea-1ce4ca90e340",
   "metadata": {},
   "source": [
    "### Que 2 1"
   ]
  },
  {
   "cell_type": "code",
   "execution_count": 46,
   "id": "f1aa991d-5f95-40d3-b26b-9b42240bf2f0",
   "metadata": {},
   "outputs": [
    {
     "name": "stdout",
     "output_type": "stream",
     "text": [
      "0.333\n"
     ]
    }
   ],
   "source": [
    "print(format(1/3,'.3f'))"
   ]
  },
  {
   "cell_type": "markdown",
   "id": "8148d1d3-46b3-4bda-a641-ce1ad3b8a657",
   "metadata": {},
   "source": [
    "### Que 2 2"
   ]
  },
  {
   "cell_type": "code",
   "execution_count": 43,
   "id": "0be244ca-6465-4230-937a-2563233b0f41",
   "metadata": {},
   "outputs": [
    {
     "name": "stdin",
     "output_type": "stream",
     "text": [
      "Enter rupees :  578\n"
     ]
    },
    {
     "name": "stdout",
     "output_type": "stream",
     "text": [
      "  500 = 1\n",
      "   50 = 1\n",
      "   10 = 2\n",
      "    5 = 1\n",
      "    2 = 1\n"
     ]
    }
   ],
   "source": [
    "rupees = int(input(\"Enter rupees : \"))\n",
    "notes = [2000,500,100,50,10,5,2,1]\n",
    "for i in notes:\n",
    "    if(rupees > i):\n",
    "        count = rupees // i \n",
    "        rupees = rupees % i\n",
    "        #print(i,\" = \", count)\n",
    "        print(\"{:>5}\".format(i),\"=\", count)\n",
    "        continue"
   ]
  },
  {
   "cell_type": "markdown",
   "id": "a549b957-6d25-40d5-a1a9-83e058908138",
   "metadata": {},
   "source": [
    "### Q2 3"
   ]
  },
  {
   "cell_type": "code",
   "execution_count": 47,
   "id": "edb5785d-dfda-46e9-b1eb-01dfd3868533",
   "metadata": {},
   "outputs": [
    {
     "name": "stdout",
     "output_type": "stream",
     "text": [
      "0.3\n"
     ]
    }
   ],
   "source": [
    "print(format(1/3,'.1f'))"
   ]
  },
  {
   "cell_type": "markdown",
   "id": "34de1e2b-f9e6-4b04-b5b3-641094fd2644",
   "metadata": {},
   "source": [
    "### Q2 4"
   ]
  },
  {
   "cell_type": "code",
   "execution_count": 48,
   "id": "13d07a23-4895-468c-b047-efe3b99f4999",
   "metadata": {},
   "outputs": [
    {
     "name": "stdout",
     "output_type": "stream",
     "text": [
      "2.0\n"
     ]
    }
   ],
   "source": [
    "print(6*1/3)"
   ]
  },
  {
   "cell_type": "markdown",
   "id": "83e88538-ed66-4ed3-82ce-01dbdd8845c9",
   "metadata": {},
   "source": [
    "### Que 2 5"
   ]
  },
  {
   "cell_type": "code",
   "execution_count": 49,
   "id": "96f9eab6-1d4f-44e0-8e66-a71536c6e8df",
   "metadata": {},
   "outputs": [
    {
     "name": "stdout",
     "output_type": "stream",
     "text": [
      "1.9999999999999998\n"
     ]
    }
   ],
   "source": [
    "print(1/3 + 1/3 + 1/3 + 1/3 + 1/3 + 1/3)"
   ]
  },
  {
   "cell_type": "markdown",
   "id": "f743e88e-24b3-498f-81a1-13e0124526ab",
   "metadata": {},
   "source": [
    "### Q3 Answer - in que 1 it printed all the values after decimal but in 2nd que there is 3f which limited decimal upto 3 places\n",
    "### in 4th que it 1st multiplied the value then divided because  * and / has same precedence but from left * came 1st\n",
    "### in 5th it sum all the value"
   ]
  },
  {
   "cell_type": "markdown",
   "id": "d7c3f9e6-e619-4b59-afb0-7b84bae5c32c",
   "metadata": {},
   "source": [
    "### Que 4"
   ]
  },
  {
   "cell_type": "raw",
   "id": "d8befb56-b935-4019-8fe8-cc54977a548d",
   "metadata": {},
   "source": [
    "format can convert in decimal, binary, +ve, -ve value, \n",
    "no. after decimal and can find {} in string to add value"
   ]
  },
  {
   "cell_type": "markdown",
   "id": "0209981e-a84b-44dd-9fe8-552e1fca0aac",
   "metadata": {},
   "source": [
    "### Que 4 a"
   ]
  },
  {
   "cell_type": "code",
   "execution_count": 50,
   "id": "01006b63-916c-481c-925a-b85b322a0fbc",
   "metadata": {},
   "outputs": [
    {
     "name": "stdout",
     "output_type": "stream",
     "text": [
      "3.14286\n"
     ]
    }
   ],
   "source": [
    "print(format(22/7,'.5f'))"
   ]
  },
  {
   "cell_type": "markdown",
   "id": "fa6d5edb-af9c-40d3-8534-2da36d6bb4ce",
   "metadata": {},
   "source": [
    "### Que 4 b"
   ]
  },
  {
   "cell_type": "code",
   "execution_count": 51,
   "id": "0e4a4e57-6428-4fe1-a332-77054a1c13d1",
   "metadata": {},
   "outputs": [
    {
     "name": "stdout",
     "output_type": "stream",
     "text": [
      "     hello\n",
      "hello     \n"
     ]
    }
   ],
   "source": [
    "q = \"{:>10}\".format(\"hello\")\n",
    "print(q)\n",
    "q2 = \"{:<10}\".format(\"hello\") \n",
    "print(q2)"
   ]
  },
  {
   "cell_type": "markdown",
   "id": "968aef06-ab9b-421c-958c-44302d978c78",
   "metadata": {},
   "source": [
    "### Que 4 d"
   ]
  },
  {
   "cell_type": "code",
   "execution_count": 52,
   "id": "9c421fac-b3c8-4704-90d9-019c56854c4b",
   "metadata": {},
   "outputs": [
    {
     "name": "stdout",
     "output_type": "stream",
     "text": [
      "#####hello#####\n"
     ]
    }
   ],
   "source": [
    "print('{:#^15}'.format(\"hello\"))"
   ]
  },
  {
   "cell_type": "markdown",
   "id": "be94f854-716d-418c-a41a-7436b5506524",
   "metadata": {},
   "source": [
    "### Que 4 e"
   ]
  },
  {
   "cell_type": "code",
   "execution_count": 53,
   "id": "784b6059-704e-4ffd-b9fc-1342045dc056",
   "metadata": {},
   "outputs": [
    {
     "name": "stdout",
     "output_type": "stream",
     "text": [
      "           hii\n"
     ]
    }
   ],
   "source": [
    "print(\" \"*10,\"hii\")"
   ]
  },
  {
   "cell_type": "markdown",
   "id": "7eac2f47-7ddf-4c7d-aa81-02aa99f5a0d9",
   "metadata": {},
   "source": [
    "### Que 5 a"
   ]
  },
  {
   "cell_type": "code",
   "execution_count": 54,
   "id": "1331a590-f666-4cb6-8452-40723a6746a7",
   "metadata": {},
   "outputs": [
    {
     "name": "stdout",
     "output_type": "stream",
     "text": [
      "97 65 122 90\n"
     ]
    }
   ],
   "source": [
    "print(ord('a'),ord('A'),ord('z'),ord('Z'))"
   ]
  },
  {
   "cell_type": "code",
   "execution_count": 55,
   "id": "52a68763-a410-4914-9f95-941245acf43f",
   "metadata": {},
   "outputs": [
    {
     "name": "stdout",
     "output_type": "stream",
     "text": [
      "57 48 32 10 9\n"
     ]
    }
   ],
   "source": [
    "\"\"\"Que 5 b\"\"\"\n",
    "print(ord('9'),ord('0'),ord(' '), ord('\\n'), ord('\\t') )"
   ]
  },
  {
   "cell_type": "code",
   "execution_count": 56,
   "id": "863a80dc-6eb2-462a-96fd-05451e1f050f",
   "metadata": {},
   "outputs": [
    {
     "name": "stdout",
     "output_type": "stream",
     "text": [
      "# C 2 c\n"
     ]
    }
   ],
   "source": [
    "\"\"\"Que 5 c\"\"\"\n",
    "print(chr(35),chr(67),chr(50), chr(99))"
   ]
  },
  {
   "cell_type": "code",
   "execution_count": 57,
   "id": "2a142e27-db31-4464-bb6e-e2f1efd6c0f2",
   "metadata": {},
   "outputs": [
    {
     "name": "stdout",
     "output_type": "stream",
     "text": [
      "97  to  122\n"
     ]
    }
   ],
   "source": [
    "\"\"\"Que 5 d\"\"\"\n",
    "print(ord('a'),\" to \", ord('z'))"
   ]
  },
  {
   "cell_type": "markdown",
   "id": "11e4c21e-eade-4df6-ad99-d30ea7cfe87b",
   "metadata": {},
   "source": [
    "### Que 6"
   ]
  },
  {
   "cell_type": "code",
   "execution_count": 58,
   "id": "686c40bc-118a-4877-a1c9-fc9ce2d55665",
   "metadata": {},
   "outputs": [
    {
     "name": "stdout",
     "output_type": "stream",
     "text": [
      "abc \n",
      " bcd\n"
     ]
    }
   ],
   "source": [
    "\"\"\"Que 6\"\"\"\n",
    "print(\"abc\",\"\\n\",\"bcd\")"
   ]
  },
  {
   "cell_type": "code",
   "execution_count": 59,
   "id": "2ddf6381-3a4e-4919-9aa2-07c53cb38830",
   "metadata": {},
   "outputs": [
    {
     "name": "stdout",
     "output_type": "stream",
     "text": [
      "abc\n",
      "bcd\n"
     ]
    }
   ],
   "source": [
    "print(\"abc\\nbcd\")"
   ]
  },
  {
   "cell_type": "code",
   "execution_count": 60,
   "id": "1c99c3d6-b4a0-4790-8943-2f562803a535",
   "metadata": {},
   "outputs": [
    {
     "name": "stdout",
     "output_type": "stream",
     "text": [
      "1 \n",
      " 2\n"
     ]
    }
   ],
   "source": [
    "print(1,'\\n',2)"
   ]
  },
  {
   "cell_type": "code",
   "execution_count": 61,
   "id": "c432abbb-abd6-4cf3-9512-9987006ec335",
   "metadata": {},
   "outputs": [
    {
     "name": "stdout",
     "output_type": "stream",
     "text": [
      "hello \n",
      "\n",
      "!!\n"
     ]
    }
   ],
   "source": [
    "print(\"hello \\n\\n!!\")"
   ]
  },
  {
   "cell_type": "code",
   "execution_count": 62,
   "id": "2368eabb-0cb3-4596-a508-702f1b86b631",
   "metadata": {},
   "outputs": [
    {
     "name": "stdout",
     "output_type": "stream",
     "text": [
      "This is '\t' means tab\n"
     ]
    }
   ],
   "source": [
    "print(\"This is '\\t' means tab\") #---- 7 spaces"
   ]
  },
  {
   "cell_type": "code",
   "execution_count": 63,
   "id": "d2921f06-aa96-4d36-b917-0e1fd874728e",
   "metadata": {},
   "outputs": [
    {
     "name": "stdout",
     "output_type": "stream",
     "text": [
      "This#is#different\n"
     ]
    }
   ],
   "source": [
    "print(\"This\",\"is\",\"different\",sep='#') #seperated by #\n"
   ]
  },
  {
   "cell_type": "code",
   "execution_count": 64,
   "id": "610719d0-229f-41b9-a69f-d0fd9da7c04f",
   "metadata": {},
   "outputs": [
    {
     "name": "stdout",
     "output_type": "stream",
     "text": [
      "This\n",
      "is\n",
      "different\n"
     ]
    }
   ],
   "source": [
    "print(\"This\",\"is\",\"different\",sep='\\n')"
   ]
  },
  {
   "cell_type": "code",
   "execution_count": 65,
   "id": "94470241-2f96-406e-8a86-7ebd29a2e890",
   "metadata": {},
   "outputs": [
    {
     "name": "stdout",
     "output_type": "stream",
     "text": [
      "This is different\n"
     ]
    }
   ],
   "source": [
    "print(\"This\",\"is\",\"different\",end='\\n')"
   ]
  },
  {
   "cell_type": "markdown",
   "id": "89620d82-3c68-4b6a-9541-896f97fd3b95",
   "metadata": {},
   "source": [
    "#### Que 7"
   ]
  },
  {
   "cell_type": "code",
   "execution_count": 66,
   "id": "80dea23c-4855-4b38-8642-b834991153e1",
   "metadata": {},
   "outputs": [
    {
     "name": "stdout",
     "output_type": "stream",
     "text": [
      "5.0\n",
      "3.0\n",
      "33.666666666666664\n",
      "33\n",
      "2\n",
      "16\n",
      "9\n",
      "10\n",
      "(33, 2)\n",
      "16\n",
      "32\n",
      "8\n",
      "8\n"
     ]
    }
   ],
   "source": [
    "print(10/2)  #5.0\n",
    "print(10//3.0) #3.0\n",
    "print(101/3) #33.666666666666664\n",
    "print(101//3) #33\n",
    "print(101%3) #2 which is modulus\n",
    "print(2**4) #16 which is 2 power 4\n",
    "print(3**2) #9 which is 3 power 2\n",
    "print(abs(-10)) #10\n",
    "print(divmod(101,3)) #(33,2) 33 quotient, 2 remainder\n",
    "print(8<<1) #16   1000 <-- 10000 = 16\n",
    "print(8<<2) #32   10000 <-- 100000\n",
    "print(32 >> 2) #8 100000 --> 1000\n",
    "print(16 >> 1) #8 10000 --> 1000"
   ]
  },
  {
   "cell_type": "markdown",
   "id": "9c538ece-12b0-4330-a462-7d86b7dac0a3",
   "metadata": {},
   "source": [
    "### Que 8"
   ]
  },
  {
   "cell_type": "code",
   "execution_count": 67,
   "id": "7853e1fc-3515-476f-babe-ffeaea571e79",
   "metadata": {},
   "outputs": [
    {
     "name": "stdin",
     "output_type": "stream",
     "text": [
      "Maths : 80\n",
      "Eng : 70\n",
      "sci : 70\n"
     ]
    },
    {
     "name": "stdout",
     "output_type": "stream",
     "text": [
      "220\n"
     ]
    }
   ],
   "source": [
    "m = int(input(\"Maths :\"))\n",
    "e = int(input(\"Eng :\"))\n",
    "s = int(input(\"sci :\"))\n",
    "li = [m,s,e]\n",
    "total = sum(li)\n",
    "print(total)"
   ]
  },
  {
   "cell_type": "markdown",
   "id": "01ebe263-bf1d-4a8c-af59-f6b115a01fa5",
   "metadata": {},
   "source": [
    "### Que 9"
   ]
  },
  {
   "cell_type": "code",
   "execution_count": 68,
   "id": "f03ec537-c717-4288-9c7c-1b46d0d189ad",
   "metadata": {},
   "outputs": [
    {
     "name": "stdout",
     "output_type": "stream",
     "text": [
      "11\n",
      "6\n",
      "20\n",
      "-9.107142857142858\n",
      "16\n",
      "729\n",
      "8\n",
      "16.0\n"
     ]
    }
   ],
   "source": [
    "print(2 + 3 * (4 -1)) #11\n",
    "print(2 + ((3 *4) - 8)) #6\n",
    "print((2 + 3) * 4) #20\n",
    "print(-10 + 25 / (16 + 12))  #-9.107142857142858\n",
    "print(2 ** 2 ** 2) #16\n",
    "print((3 ** 2) ** 3)  #729\n",
    "x = y = 3 + 5   \n",
    "print(x)  #8\n",
    "print(8/2*(2+2))  #16"
   ]
  },
  {
   "cell_type": "markdown",
   "id": "76d7264b-a1e2-40ed-8e46-dcd8060d1d08",
   "metadata": {},
   "source": [
    "### Que 10"
   ]
  },
  {
   "cell_type": "code",
   "execution_count": 69,
   "id": "04dc5ca7-8b08-44fd-b1b0-a273c1791f02",
   "metadata": {},
   "outputs": [
    {
     "name": "stdout",
     "output_type": "stream",
     "text": [
      "10 10\n"
     ]
    }
   ],
   "source": [
    "x=y=10\n",
    "print(x,y, sep= \" \") \n"
   ]
  },
  {
   "cell_type": "code",
   "execution_count": 70,
   "id": "4d2eeac7-ef51-4613-acc0-70302f057e9c",
   "metadata": {},
   "outputs": [
    {
     "ename": "SyntaxError",
     "evalue": "cannot assign to literal (3704579841.py, line 1)",
     "output_type": "error",
     "traceback": [
      "\u001b[1;36m  Cell \u001b[1;32mIn[70], line 1\u001b[1;36m\u001b[0m\n\u001b[1;33m    x1 = 20 = y1\u001b[0m\n\u001b[1;37m         ^\u001b[0m\n\u001b[1;31mSyntaxError\u001b[0m\u001b[1;31m:\u001b[0m cannot assign to literal\n"
     ]
    }
   ],
   "source": [
    "x1 = 20 = y1\n",
    "print(x1,\" \", y1) #cannot assign to literals"
   ]
  },
  {
   "cell_type": "markdown",
   "id": "c2db45b5-7f73-4503-a9b6-2044061556c7",
   "metadata": {},
   "source": [
    "### Que 11"
   ]
  },
  {
   "cell_type": "code",
   "execution_count": 71,
   "id": "ea95791a-4288-4c1c-8bf3-807c45c191df",
   "metadata": {},
   "outputs": [
    {
     "name": "stdout",
     "output_type": "stream",
     "text": [
      "34.4\n",
      "10\n"
     ]
    }
   ],
   "source": [
    "x=10\n",
    "y=34.4\n",
    "print(x and y)   #34 if x is true then it will print y\n",
    "print(x or y)   #10 if x is true then print x"
   ]
  },
  {
   "cell_type": "markdown",
   "id": "55288a3e-7209-4312-bedc-d6229c2cb120",
   "metadata": {},
   "source": [
    "# IF ELSE"
   ]
  },
  {
   "cell_type": "markdown",
   "id": "04c8d0b4-2eff-4d7b-bd0a-d377f0853c18",
   "metadata": {},
   "source": [
    "### Que 1"
   ]
  },
  {
   "cell_type": "code",
   "execution_count": 72,
   "id": "6a086546-dc36-4f1b-9f94-44d577ee26dc",
   "metadata": {},
   "outputs": [
    {
     "name": "stdin",
     "output_type": "stream",
     "text": [
      "Enter total number of classes :  10\n",
      "Enter number of classes attended :  8\n"
     ]
    },
    {
     "name": "stdout",
     "output_type": "stream",
     "text": [
      "allowed\n"
     ]
    }
   ],
   "source": [
    "tc = int(input(\"Enter total number of classes : \"))\n",
    "ca = int(input(\"Enter number of classes attended : \"))\n",
    "percent = (ca/tc)* 100\n",
    "if percent > 75:\n",
    "    print(\"allowed\")\n",
    "else:\n",
    "    print(\"Not allowed\")"
   ]
  },
  {
   "cell_type": "markdown",
   "id": "4ee5b489-ed6e-491d-85e4-e504e7258f19",
   "metadata": {},
   "source": [
    "### Que 3"
   ]
  },
  {
   "cell_type": "code",
   "execution_count": 73,
   "id": "5800c2a0-71f7-4cce-84f7-43d9c7caf77d",
   "metadata": {},
   "outputs": [
    {
     "name": "stdout",
     "output_type": "stream",
     "text": [
      "Medical cause or not\n"
     ]
    },
    {
     "name": "stdin",
     "output_type": "stream",
     "text": [
      "Enter y or n :  n\n"
     ]
    },
    {
     "name": "stdout",
     "output_type": "stream",
     "text": [
      "Not Allowed\n"
     ]
    }
   ],
   "source": [
    "print(\"Medical cause or not\")\n",
    "stud = input(\"Enter y or n : \")\n",
    "if(stud == 'y'):\n",
    "    print(\"allowed\")\n",
    "elif(stud == 'n'):\n",
    "    print(\"Not Allowed\")\n",
    "else:\n",
    "    print(\"Enter proper input\")"
   ]
  },
  {
   "cell_type": "markdown",
   "id": "8933ef7f-270c-4ff5-8c94-50203e723473",
   "metadata": {},
   "source": [
    "### Que 4"
   ]
  },
  {
   "cell_type": "code",
   "execution_count": 74,
   "id": "0e8385d1-1fdc-4b78-91cf-6a30cda9a4d9",
   "metadata": {},
   "outputs": [
    {
     "name": "stdin",
     "output_type": "stream",
     "text": [
      "Enter Marks : 72\n"
     ]
    },
    {
     "name": "stdout",
     "output_type": "stream",
     "text": [
      "B\n"
     ]
    }
   ],
   "source": [
    "marks = int(input(\"Enter Marks :\"))\n",
    "if(marks < 25):\n",
    "    print(\"F\")\n",
    "elif(marks > 25 and marks <= 45):\n",
    "    print('E')\n",
    "elif(marks > 45 and marks <= 50):\n",
    "    print('F')\n",
    "elif(marks > 50 and marks <= 60):\n",
    "    print('D')\n",
    "elif(marks > 60 and marks <= 80):\n",
    "    print('B')\n",
    "else:\n",
    "    print('A')"
   ]
  },
  {
   "cell_type": "markdown",
   "id": "b2d2b065-3f64-4c36-9386-4b7965215bd2",
   "metadata": {},
   "source": [
    "### Que 5"
   ]
  },
  {
   "cell_type": "code",
   "execution_count": 75,
   "id": "ea57eae8-ccae-4bfc-9d16-a4304a708032",
   "metadata": {},
   "outputs": [
    {
     "name": "stdout",
     "output_type": "stream",
     "text": [
      "True\n",
      "True\n",
      "True\n",
      "True\n",
      "False\n"
     ]
    }
   ],
   "source": [
    "x,y,z = 2,5,0\n",
    "print(x==2)    #True\n",
    "print(x!= 5) #True\n",
    "print(x!=5 & y >=5) #True\n",
    "print(z!= 0 | x == 2)  #True\n",
    "print( not(y< 10))   #False"
   ]
  },
  {
   "cell_type": "markdown",
   "id": "150d3ad6-8cad-46cf-af14-e8a399f110e9",
   "metadata": {},
   "source": [
    "### Que 6"
   ]
  },
  {
   "cell_type": "code",
   "execution_count": 76,
   "id": "e06a5699-f0a8-42ec-9b1e-2e40785a5688",
   "metadata": {},
   "outputs": [
    {
     "name": "stdin",
     "output_type": "stream",
     "text": [
      "Enter number :  55\n"
     ]
    },
    {
     "name": "stdout",
     "output_type": "stream",
     "text": [
      "Divisible\n"
     ]
    }
   ],
   "source": [
    "num = int(input(\"Enter number : \"))\n",
    "if(num % 5 == 0 & num % 11 == 0):\n",
    "    print(\"Divisible\")\n",
    "else:\n",
    "    print(\"not divisible\")"
   ]
  },
  {
   "cell_type": "markdown",
   "id": "ef38df0c-c94b-4c7c-860c-345f79f91e79",
   "metadata": {},
   "source": [
    "###  Que 7"
   ]
  },
  {
   "cell_type": "code",
   "execution_count": 77,
   "id": "a3ffc1ac-5f9a-4a97-b880-5d0b80ece504",
   "metadata": {},
   "outputs": [
    {
     "name": "stdin",
     "output_type": "stream",
     "text": [
      "Number of units :  150\n"
     ]
    },
    {
     "name": "stdout",
     "output_type": "stream",
     "text": [
      "Rs 5 per unit\n"
     ]
    }
   ],
   "source": [
    "bill = int(input(\"Number of units : \"))\n",
    "if(bill < 100):\n",
    "    print(\"no changes \")\n",
    "elif(bill >= 100 & bill <= 200):\n",
    "    print(\"Rs 5 per unit\")\n",
    "else:\n",
    "    print(\"Rs 10 per unit\")"
   ]
  },
  {
   "cell_type": "markdown",
   "id": "4fe69721-1ca8-4643-a12c-232e6fc4c86b",
   "metadata": {},
   "source": [
    "### Que 8  Write a program to check whether the last digit of a number( entered by user ) is divisible by 3 or not.  "
   ]
  },
  {
   "cell_type": "code",
   "execution_count": 78,
   "id": "65e83348-5dbc-48ff-b815-b30f98320f9f",
   "metadata": {},
   "outputs": [
    {
     "name": "stdin",
     "output_type": "stream",
     "text": [
      "Enter number :  126\n"
     ]
    },
    {
     "name": "stdout",
     "output_type": "stream",
     "text": [
      "yes\n"
     ]
    }
   ],
   "source": [
    "num = int(input(\"Enter number : \"))\n",
    "lst = num%10\n",
    "if(lst%3 == 0 ):\n",
    "    print(\"yes\")\n",
    "else:\n",
    "    print(\"No\")"
   ]
  },
  {
   "cell_type": "markdown",
   "id": "ba9091f6-a4ba-4c3d-9432-64ca36f36b0e",
   "metadata": {},
   "source": [
    "### Que 9"
   ]
  },
  {
   "cell_type": "code",
   "execution_count": 79,
   "id": "81fcabd7-9a76-46d4-85f7-a62687e59cae",
   "metadata": {},
   "outputs": [
    {
     "name": "stdin",
     "output_type": "stream",
     "text": [
      "Enter year :  2024\n"
     ]
    },
    {
     "name": "stdout",
     "output_type": "stream",
     "text": [
      "Leap year\n"
     ]
    }
   ],
   "source": [
    "year = int(input(\"Enter year : \"))\n",
    "if(year % 4 ==0 & year % 400 == 0):\n",
    "    print(\"Leap year\")\n",
    "else:\n",
    "    print(\"Not leap year\")\n",
    "    "
   ]
  },
  {
   "cell_type": "markdown",
   "id": "d31c8d8c-6fdf-4130-9943-a294e15c3bf6",
   "metadata": {},
   "source": [
    "### Que 10"
   ]
  },
  {
   "cell_type": "code",
   "execution_count": 80,
   "id": "b3ad814f-ff4c-4b2e-a711-6edc23ac2831",
   "metadata": {},
   "outputs": [
    {
     "name": "stdin",
     "output_type": "stream",
     "text": [
      "Price of bike :  70000\n"
     ]
    },
    {
     "name": "stdout",
     "output_type": "stream",
     "text": [
      "Inssurance 10%, tax 10%\n",
      "84000.0\n"
     ]
    }
   ],
   "source": [
    "price = int(input(\"Price of bike : \"))\n",
    "if(price > 100000):\n",
    "    print(\"Inssurance 20%, tax 15%\")\n",
    "    T_tax = (price + (price*0.20) + (price * 0.15))\n",
    "elif(price > 50000 & price <= 100000):\n",
    "    print(\"Inssurance 10%, tax 10%\")\n",
    "    T_tax = (price + (price*0.10)+ (price * 0.10))\n",
    "else:\n",
    "    print(\"Inssurance 5%, tax 5%\")\n",
    "    T_tax = (price + (price*0.05)+ (price * 0.05))\n",
    "print(T_tax)"
   ]
  },
  {
   "cell_type": "markdown",
   "id": "d4eb7360-c086-40b7-b827-49b36292bcb0",
   "metadata": {},
   "source": [
    "# Loop Questions"
   ]
  },
  {
   "cell_type": "code",
   "execution_count": null,
   "id": "1d6a8bc9-7302-49c7-bcb1-059f69acfed1",
   "metadata": {},
   "outputs": [],
   "source": []
  },
  {
   "cell_type": "markdown",
   "id": "d2dd6bf2-5c6d-4e30-88f1-5f7076ff5034",
   "metadata": {},
   "source": [
    "### Que 1"
   ]
  },
  {
   "cell_type": "code",
   "execution_count": 82,
   "id": "598ebfa6-b6a9-4d9a-9ea0-c9264ca2cb4f",
   "metadata": {},
   "outputs": [
    {
     "name": "stdin",
     "output_type": "stream",
     "text": [
      "enter number :  1\n",
      "enter number :  2\n",
      "enter number :  3\n",
      "enter number :  4\n",
      "enter number :  5\n",
      "enter number :  6\n",
      "enter number :  7\n",
      "enter number :  8\n",
      "enter number :  9\n",
      "enter number :  10\n"
     ]
    },
    {
     "name": "stdout",
     "output_type": "stream",
     "text": [
      "Average =  5.5\n"
     ]
    }
   ],
   "source": [
    "total = 0\n",
    "for i in range(10):\n",
    "    num = int(input(\"enter number : \"))\n",
    "    total = total + num\n",
    "avg = total/10\n",
    "print(\"Average = \", avg)"
   ]
  },
  {
   "cell_type": "markdown",
   "id": "b97facbb-83d6-4391-9c0a-e08781b1a2db",
   "metadata": {},
   "source": [
    "### Que 2"
   ]
  },
  {
   "cell_type": "markdown",
   "id": "c543ee82-9f52-4e20-8978-e119eed26196",
   "metadata": {},
   "source": [
    "#### Que 2 a"
   ]
  },
  {
   "cell_type": "code",
   "execution_count": 3,
   "id": "a3d74639-4760-4f48-a2fd-64f02a6b25f0",
   "metadata": {},
   "outputs": [
    {
     "name": "stdin",
     "output_type": "stream",
     "text": [
      "Enter number of rows :  5\n"
     ]
    },
    {
     "name": "stdout",
     "output_type": "stream",
     "text": [
      "*\n",
      "**\n",
      "***\n",
      "****\n",
      "*****\n"
     ]
    }
   ],
   "source": [
    "num = int(input(\"Enter number of rows : \"))\n",
    "stars = 1\n",
    "i=0\n",
    "while(i<num):\n",
    "    print(\"*\"*stars)\n",
    "    stars +=1\n",
    "    i=i+1"
   ]
  },
  {
   "cell_type": "markdown",
   "id": "0e294aca-a604-4a7d-82a5-a1338488ec98",
   "metadata": {},
   "source": [
    "#### Que 2 b"
   ]
  },
  {
   "cell_type": "code",
   "execution_count": 15,
   "id": "21bb6ba3-c6aa-4ae1-894a-40a71bdeebd4",
   "metadata": {},
   "outputs": [
    {
     "name": "stdin",
     "output_type": "stream",
     "text": [
      "ENter num of rows :  5\n"
     ]
    },
    {
     "name": "stdout",
     "output_type": "stream",
     "text": [
      "     *\n",
      "   ***\n",
      " *****\n",
      "   ***\n",
      "     *\n"
     ]
    }
   ],
   "source": [
    "num = int(input(\"ENter num of rows : \"))\n",
    "spaces = num-1\n",
    "stars = 1\n",
    "count = 0\n",
    "while(count < num//2+1):\n",
    "    print(\" \"*spaces,\"*\"*stars)\n",
    "    count+=1\n",
    "    stars+=2\n",
    "    spaces -= 2\n",
    "spaces +=4\n",
    "stars -= 4\n",
    "count = 0\n",
    "while(count < num//2):\n",
    "    print(\" \"*spaces,\"*\"*stars)\n",
    "    count+=1\n",
    "    stars-=2\n",
    "    spaces+=2"
   ]
  },
  {
   "cell_type": "markdown",
   "id": "8791aa75-bd80-41c9-b0bf-0e5c17eb862c",
   "metadata": {},
   "source": [
    "#### Que 2 c"
   ]
  },
  {
   "cell_type": "code",
   "execution_count": 22,
   "id": "dc3739f4-f02c-418b-9024-2d0332b32029",
   "metadata": {},
   "outputs": [
    {
     "name": "stdin",
     "output_type": "stream",
     "text": [
      "Enter number of rows:  4\n"
     ]
    },
    {
     "name": "stdout",
     "output_type": "stream",
     "text": [
      "1010101\n",
      " 10101\n",
      "  101\n",
      "   1\n"
     ]
    }
   ],
   "source": [
    "num = int(input(\"Enter number of rows: \"))\n",
    "spaces = 0\n",
    "count = 0\n",
    "tens = num - 1\n",
    "while(count < num):\n",
    "    print(\" \"*spaces,\"10\"*tens,'1',sep=\"\")\n",
    "    spaces+=1\n",
    "    tens-=1\n",
    "    count+=1\n",
    "    \n"
   ]
  },
  {
   "cell_type": "code",
   "execution_count": 1,
   "id": "8df83f5f-9952-4235-829a-aee2130fbbf6",
   "metadata": {},
   "outputs": [
    {
     "name": "stdin",
     "output_type": "stream",
     "text": [
      "Enter number of rows :  5\n"
     ]
    },
    {
     "name": "stdout",
     "output_type": "stream",
     "text": [
      "1\n",
      "2\n",
      "3\n",
      "4\n",
      "5\n"
     ]
    }
   ],
   "source": [
    "# num = int(input(\"Enter number of rows : \"))\n",
    "# i = 1\n",
    "# count = 0\n",
    "# while(count < num):\n",
    "#     print(count)\n",
    "#     i+=1\n",
    "#     count+=1"
   ]
  },
  {
   "cell_type": "markdown",
   "id": "963d2aa2-4054-45cc-a891-83e078b169a9",
   "metadata": {},
   "source": [
    "#### Que 2 d"
   ]
  },
  {
   "cell_type": "code",
   "execution_count": 4,
   "id": "f4b34d4c-fe98-4733-931b-b7d6157ae389",
   "metadata": {},
   "outputs": [
    {
     "name": "stdin",
     "output_type": "stream",
     "text": [
      "Enter number of rows :  5\n"
     ]
    },
    {
     "name": "stdout",
     "output_type": "stream",
     "text": [
      "1 \n",
      "1 2 \n",
      "1 2 3 \n",
      "1 2 3 4 \n",
      "1 2 3 4 5 \n"
     ]
    }
   ],
   "source": [
    "num = int(input(\"Enter number of rows : \"))\n",
    "for i in range(num):\n",
    "    for j in range(1,i+2):\n",
    "        print(j, end = \" \")\n",
    "    print(\"\")"
   ]
  },
  {
   "cell_type": "markdown",
   "id": "2cda5cef-de8f-44c0-bdba-cd9fb2d97a53",
   "metadata": {},
   "source": [
    "### Que 3"
   ]
  },
  {
   "cell_type": "code",
   "execution_count": 11,
   "id": "bd419617-d2ff-4413-8987-7e6098743010",
   "metadata": {},
   "outputs": [
    {
     "name": "stdin",
     "output_type": "stream",
     "text": [
      "Enter 1st number 24\n",
      "Enter 2nd number 36\n"
     ]
    },
    {
     "name": "stdout",
     "output_type": "stream",
     "text": [
      "HCF =  12\n"
     ]
    }
   ],
   "source": [
    "n1 = int(input(\"Enter 1st number\"))\n",
    "n2 = int(input(\"Enter 2nd number\"))\n",
    "while(n1!=n2):\n",
    "    if n2 > n1:\n",
    "        n2 = n2-n1\n",
    "    else:\n",
    "        n1 = n1-n2\n",
    "print(\"HCF = \",n1)"
   ]
  },
  {
   "cell_type": "markdown",
   "id": "263d83b5-d480-4181-92a4-f99c925d1aa1",
   "metadata": {},
   "source": [
    "### Que 4"
   ]
  },
  {
   "cell_type": "code",
   "execution_count": 18,
   "id": "6c64d363-5a62-42bb-a61a-6013bba67305",
   "metadata": {},
   "outputs": [
    {
     "name": "stdin",
     "output_type": "stream",
     "text": [
      "Enter number 1\n",
      "Enter number 2\n",
      "Enter number 3\n",
      "Enter number 4\n",
      "Enter number 5\n",
      "Enter number q\n"
     ]
    },
    {
     "name": "stdout",
     "output_type": "stream",
     "text": [
      "15\n",
      "Avg =  3.0\n",
      "product =  120\n"
     ]
    }
   ],
   "source": [
    "mul = 1\n",
    "avg=0\n",
    "count = 0\n",
    "while(True):\n",
    "    num = input(\"Enter number\")\n",
    "    if(num == 'q'):\n",
    "        break\n",
    "    num =int(num)\n",
    "    mul = mul*num\n",
    "    avg = avg+num\n",
    "    count+=1\n",
    "print(avg)\n",
    "print(\"Avg = \", avg/count)\n",
    "print(\"product = \", mul)\n",
    "    "
   ]
  },
  {
   "cell_type": "markdown",
   "id": "801e4800-7929-4562-874f-e11c9cf6029b",
   "metadata": {},
   "source": [
    "### Que 5"
   ]
  },
  {
   "cell_type": "code",
   "execution_count": 20,
   "id": "b3bd412f-23d5-43e8-a43e-bd1dc873bc22",
   "metadata": {},
   "outputs": [
    {
     "name": "stdin",
     "output_type": "stream",
     "text": [
      "Enter number 526\n"
     ]
    },
    {
     "name": "stdout",
     "output_type": "stream",
     "text": [
      "Number of digits =  3\n",
      "Sum of digits is =  13\n"
     ]
    }
   ],
   "source": [
    "num = int(input(\"Enter number\"))\n",
    "total = 0\n",
    "sum = 0\n",
    "while(num!=0):\n",
    "    a = num%10\n",
    "    total = total+1\n",
    "    sum = sum +a\n",
    "    num = num // 10\n",
    "print(\"Number of digits = \", total)\n",
    "print(\"Sum of digits is = \", sum)"
   ]
  },
  {
   "cell_type": "markdown",
   "id": "773f2062-d40d-466c-a478-03a252d87602",
   "metadata": {},
   "source": [
    "### Que 6"
   ]
  },
  {
   "cell_type": "code",
   "execution_count": 24,
   "id": "df91c548-0960-4738-bdaf-5226c599cef9",
   "metadata": {},
   "outputs": [
    {
     "name": "stdin",
     "output_type": "stream",
     "text": [
      "Enter number 5\n"
     ]
    },
    {
     "name": "stdout",
     "output_type": "stream",
     "text": [
      "1\n",
      "8\n",
      "27\n",
      "64\n"
     ]
    }
   ],
   "source": [
    "import math\n",
    "num = int(input(\"Enter number\"))\n",
    "for i in range(1,num):\n",
    "    print(i*i*i)"
   ]
  },
  {
   "cell_type": "markdown",
   "id": "ccf9c480-7258-4b07-a7b6-90952b097eac",
   "metadata": {},
   "source": [
    "### Que 7"
   ]
  },
  {
   "cell_type": "markdown",
   "id": "b58bb66d-ccc0-4040-9380-4539f6f1bfa0",
   "metadata": {},
   "source": []
  },
  {
   "cell_type": "code",
   "execution_count": 26,
   "id": "fe06e154-e7b4-4255-b832-0526a3455d0b",
   "metadata": {},
   "outputs": [
    {
     "name": "stdin",
     "output_type": "stream",
     "text": [
      "Enter number :  2\n",
      "Enter number :  4\n",
      "Enter number :  6\n",
      "Enter number :  1\n",
      "Enter number :  1\n",
      "Enter number :  1\n",
      "Enter number :  1\n",
      "Enter number :  1\n",
      "Enter number :  1\n",
      "Enter number :  1\n",
      "Enter number :  1\n",
      "Enter number :  1\n",
      "Enter number :  1\n",
      "Enter number :  1\n",
      "Enter number :  1\n",
      "Enter number :  1\n",
      "Enter number :  1\n",
      "Enter number :  1\n",
      "Enter number :  1\n"
     ]
    },
    {
     "name": "stdout",
     "output_type": "stream",
     "text": [
      "12\n"
     ]
    }
   ],
   "source": [
    "sum = 0\n",
    "for i in range(1,20):\n",
    "    num = int(input(\"Enter number : \"))\n",
    "    if(num % 2 ==0):\n",
    "        sum = sum+num\n",
    "print(sum)"
   ]
  },
  {
   "cell_type": "markdown",
   "id": "830e8837-2774-4966-a437-b55660049cb6",
   "metadata": {},
   "source": [
    "### Que 8"
   ]
  },
  {
   "cell_type": "code",
   "execution_count": 10,
   "id": "e64a2646-3902-44e6-872e-a30f89b3b4d2",
   "metadata": {},
   "outputs": [
    {
     "name": "stdin",
     "output_type": "stream",
     "text": [
      "Enter length of series :  3\n"
     ]
    },
    {
     "name": "stdout",
     "output_type": "stream",
     "text": [
      "1107\n"
     ]
    }
   ],
   "source": [
    "length = int(input(\"Enter length of series : \"))\n",
    "count = 1\n",
    "li = []\n",
    "while(count <= length):\n",
    "    elem = \"9\"*count\n",
    "    elem = int(elem)\n",
    "    li.append(elem)\n",
    "    count += 1\n",
    "print(\"Sum of all numbers : \",sum(li))"
   ]
  },
  {
   "cell_type": "markdown",
   "id": "af876554-4639-4f04-82cd-adddb882c1c8",
   "metadata": {},
   "source": [
    "### Que 9"
   ]
  },
  {
   "cell_type": "code",
   "execution_count": null,
   "id": "b0a2400b-34b1-4486-b7bd-f1f22ebafa6e",
   "metadata": {},
   "outputs": [],
   "source": [
    "#[ 1+x+x^2/2!+x^3/3!+....]"
   ]
  },
  {
   "cell_type": "code",
   "execution_count": 2,
   "id": "e8bf9445-2560-4a2c-911f-c13c76f21c53",
   "metadata": {},
   "outputs": [
    {
     "name": "stdin",
     "output_type": "stream",
     "text": [
      "Enter length of list :  5\n",
      "Enter value of x  3\n"
     ]
    },
    {
     "name": "stdout",
     "output_type": "stream",
     "text": [
      "[1.0, 3.0, 4.5, 4.5, 3.375]\n",
      "16.375\n"
     ]
    }
   ],
   "source": [
    "import math\n",
    "length = int(input(\"Enter length of list : \"))\n",
    "x = int(input(\"Enter value of x \"))\n",
    "count = 0\n",
    "li = []\n",
    "while(count < length):\n",
    "    num = pow(x,count)/math.factorial(count)\n",
    "    li.append(num)\n",
    "    count+=1\n",
    "print(li)\n",
    "print(sum(li))"
   ]
  },
  {
   "cell_type": "code",
   "execution_count": null,
   "id": "ccf961a2-fc2a-445c-b64c-ec83cc76d1e9",
   "metadata": {},
   "outputs": [],
   "source": []
  },
  {
   "cell_type": "markdown",
   "id": "557c6fba-7ef2-45b4-bd3c-29aef0ab6ca1",
   "metadata": {},
   "source": [
    "### Que 10"
   ]
  },
  {
   "cell_type": "code",
   "execution_count": null,
   "id": "1daaf5fb-3227-4f0c-934b-d2cd77580f48",
   "metadata": {},
   "outputs": [],
   "source": [
    "# [ x - x^3 + x^5 –x^7+x^9-x^11+ ......]"
   ]
  },
  {
   "cell_type": "code",
   "execution_count": 4,
   "id": "033eeeda-745c-44f1-852b-b4ec37343771",
   "metadata": {},
   "outputs": [
    {
     "name": "stdin",
     "output_type": "stream",
     "text": [
      "Enter length of string :  5\n",
      "Enter number to be powred :  2\n"
     ]
    },
    {
     "name": "stdout",
     "output_type": "stream",
     "text": [
      "[2, -8, 32, -128, 512]\n",
      "Sum =  410\n"
     ]
    }
   ],
   "source": [
    "length = int(input(\"Enter length of string : \"))\n",
    "num = int(input(\"Enter number to be powred : \"))\n",
    "count = 1\n",
    "power = 1\n",
    "li = []\n",
    "while(count < length+1):\n",
    "    elem = pow(num,power)\n",
    "    if(count%2 == 0):\n",
    "        elem = elem * -1\n",
    "    li.append(elem)\n",
    "    power += 2\n",
    "    count += 1\n",
    "print(li)\n",
    "print(\"Sum = \",sum(li))"
   ]
  },
  {
   "cell_type": "markdown",
   "id": "13e87a0e-5b95-48e2-afb8-d67aed505255",
   "metadata": {},
   "source": [
    "### Que 11"
   ]
  },
  {
   "cell_type": "code",
   "execution_count": 7,
   "id": "0f5e269c-6376-47bf-ba1c-ca666a884e92",
   "metadata": {},
   "outputs": [
    {
     "name": "stdin",
     "output_type": "stream",
     "text": [
      "Enter number 14\n"
     ]
    },
    {
     "name": "stdout",
     "output_type": "stream",
     "text": [
      "Not prime\n"
     ]
    }
   ],
   "source": [
    "num = int(input(\"Enter number\"))\n",
    "idx = 2\n",
    "while(idx < int(num**0.5)+1):\n",
    "    if(num % idx == 0):\n",
    "        print(\"Not prime\")\n",
    "        break\n",
    "    idx += 1\n",
    "else:\n",
    "    print(\"prime\")"
   ]
  },
  {
   "cell_type": "markdown",
   "id": "ce4ab168-2c1e-414e-8ba0-211c387eb5fc",
   "metadata": {},
   "source": [
    "### Que 12"
   ]
  },
  {
   "cell_type": "code",
   "execution_count": 16,
   "id": "42f384be-ada5-432b-83a9-205eeb1789ae",
   "metadata": {},
   "outputs": [
    {
     "name": "stdin",
     "output_type": "stream",
     "text": [
      "Enter number :  10\n"
     ]
    },
    {
     "name": "stdout",
     "output_type": "stream",
     "text": [
      "24\n"
     ]
    }
   ],
   "source": [
    "num = int(input(\"Enter number : \"))\n",
    "total = 0\n",
    "for i in range(3,num,2):\n",
    "    total = total+i\n",
    "    \n",
    "print(total)"
   ]
  },
  {
   "cell_type": "code",
   "execution_count": null,
   "id": "25968e0a-f056-4022-9b2a-922ade70b4cd",
   "metadata": {},
   "outputs": [],
   "source": []
  }
 ],
 "metadata": {
  "kernelspec": {
   "display_name": "Python 3 (ipykernel)",
   "language": "python",
   "name": "python3"
  },
  "language_info": {
   "codemirror_mode": {
    "name": "ipython",
    "version": 3
   },
   "file_extension": ".py",
   "mimetype": "text/x-python",
   "name": "python",
   "nbconvert_exporter": "python",
   "pygments_lexer": "ipython3",
   "version": "3.11.3"
  }
 },
 "nbformat": 4,
 "nbformat_minor": 5
}
