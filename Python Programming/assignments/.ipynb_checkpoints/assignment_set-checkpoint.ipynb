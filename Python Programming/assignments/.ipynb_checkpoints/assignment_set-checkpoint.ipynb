{
 "cells": [
  {
   "cell_type": "markdown",
   "id": "25802487-5664-40fc-ad56-b64afbee78c8",
   "metadata": {},
   "source": [
    "1. Write a Python program to create a set."
   ]
  },
  {
   "cell_type": "code",
   "execution_count": 6,
   "id": "19c4cd65-fed8-47f2-b1ca-f2ac6e523135",
   "metadata": {},
   "outputs": [
    {
     "name": "stdout",
     "output_type": "stream",
     "text": [
      "{1, 2, 3, 4, 5} {'r', 'h', 's', 'a'} {10, 20, (90, 99)}\n"
     ]
    }
   ],
   "source": [
    "s ={1,2,3,4,5}\n",
    "s1 = set('harsh')\n",
    "s2 = set([10,20,(90,99)])\n",
    "print(s,s1,s2)"
   ]
  },
  {
   "cell_type": "markdown",
   "id": "af7f64aa-bfcd-4e3a-af24-7169fb0ec61d",
   "metadata": {},
   "source": [
    "2. Write a Python program to iterate over sets."
   ]
  },
  {
   "cell_type": "code",
   "execution_count": 4,
   "id": "c6fab33d-f4f3-4ea5-9f5d-7484d9388ccf",
   "metadata": {},
   "outputs": [
    {
     "name": "stdout",
     "output_type": "stream",
     "text": [
      "1\n",
      "2\n",
      "3\n",
      "4\n",
      "5\n"
     ]
    }
   ],
   "source": [
    "for i in s:\n",
    "    print(i)"
   ]
  },
  {
   "cell_type": "markdown",
   "id": "83541525-60fd-48c2-b3a3-e53ec887ecd5",
   "metadata": {},
   "source": [
    "3. Write a Python program to add member(s) to a set."
   ]
  },
  {
   "cell_type": "code",
   "execution_count": 10,
   "id": "205699fd-32a5-462b-9d7c-491eca7c75b3",
   "metadata": {},
   "outputs": [
    {
     "data": {
      "text/plain": [
       "{1, 2, 3, 4, 5, 6}"
      ]
     },
     "execution_count": 10,
     "metadata": {},
     "output_type": "execute_result"
    }
   ],
   "source": [
    "s ={1,2,3,4,5}\n",
    "s.add(6)\n",
    "s"
   ]
  },
  {
   "cell_type": "markdown",
   "id": "0e033d6f-5377-428a-86cc-0ba91c43cdf9",
   "metadata": {},
   "source": [
    "4. Write a Python program to remove item(s) from a given set"
   ]
  },
  {
   "cell_type": "code",
   "execution_count": 12,
   "id": "28330024-3710-446e-8bb5-e5133d3c2093",
   "metadata": {},
   "outputs": [
    {
     "data": {
      "text/plain": [
       "{1, 2, 4, 5}"
      ]
     },
     "execution_count": 12,
     "metadata": {},
     "output_type": "execute_result"
    }
   ],
   "source": [
    "s ={1,2,3,4,5}\n",
    "s.remove(3)\n",
    "s"
   ]
  },
  {
   "cell_type": "markdown",
   "id": "18864b31-f825-43b3-89fd-ea3dc9b56b0a",
   "metadata": {},
   "source": [
    "5. Write a Python program to remove an item from a set if it is present in the set."
   ]
  },
  {
   "cell_type": "code",
   "execution_count": 14,
   "id": "2e28fa9b-e2f2-451e-aac5-7d915edaff9a",
   "metadata": {},
   "outputs": [
    {
     "data": {
      "text/plain": [
       "{1, 2, 4}"
      ]
     },
     "execution_count": 14,
     "metadata": {},
     "output_type": "execute_result"
    }
   ],
   "source": [
    "s.remove(5)\n",
    "s"
   ]
  },
  {
   "cell_type": "markdown",
   "id": "f761a17f-b6a6-4b6d-b2c3-17ebd789afef",
   "metadata": {},
   "source": [
    "6. Write a Python program to create an intersection of sets."
   ]
  },
  {
   "cell_type": "code",
   "execution_count": 17,
   "id": "bdc99c11-9f6f-471e-b44c-6bfe28dbd185",
   "metadata": {},
   "outputs": [
    {
     "data": {
      "text/plain": [
       "{1, 2, 4}"
      ]
     },
     "execution_count": 17,
     "metadata": {},
     "output_type": "execute_result"
    }
   ],
   "source": [
    "s1 ={1,2,3,4,5}\n",
    "s2 ={1, 2, 4,6}\n",
    "s1.intersection(s2)"
   ]
  },
  {
   "cell_type": "markdown",
   "id": "5cfa1356-ded2-4bcd-878b-2b2e1e7dd4cb",
   "metadata": {},
   "source": [
    "7. Write a Python program to create a union of sets."
   ]
  },
  {
   "cell_type": "code",
   "execution_count": 18,
   "id": "a88f842f-8840-4817-be52-69bb4b3202d3",
   "metadata": {},
   "outputs": [
    {
     "data": {
      "text/plain": [
       "{1, 2, 3, 4, 5, 6}"
      ]
     },
     "execution_count": 18,
     "metadata": {},
     "output_type": "execute_result"
    }
   ],
   "source": [
    "s1 ={1,2,3,4,5}\n",
    "s2 ={1, 2, 4,6}\n",
    "s1.union(s2)"
   ]
  },
  {
   "cell_type": "markdown",
   "id": "d7159f29-19f4-42af-8731-80d5ec7503ff",
   "metadata": {},
   "source": [
    "8. Write a Python program to create set difference"
   ]
  },
  {
   "cell_type": "code",
   "execution_count": 19,
   "id": "14b97931-5b6d-4a5e-ab5b-98774263e2e2",
   "metadata": {},
   "outputs": [
    {
     "data": {
      "text/plain": [
       "{3, 5}"
      ]
     },
     "execution_count": 19,
     "metadata": {},
     "output_type": "execute_result"
    }
   ],
   "source": [
    "s1.difference(s2)"
   ]
  },
  {
   "cell_type": "markdown",
   "id": "223f0fdb-214a-4734-b5bb-d866cde6ee5c",
   "metadata": {},
   "source": [
    "9. Write a Python program to create a symmetric difference."
   ]
  },
  {
   "cell_type": "code",
   "execution_count": 25,
   "id": "2086c4ed-a498-416a-ba45-1e88aaf1a492",
   "metadata": {},
   "outputs": [
    {
     "data": {
      "text/plain": [
       "{3, 5, 6}"
      ]
     },
     "execution_count": 25,
     "metadata": {},
     "output_type": "execute_result"
    }
   ],
   "source": [
    "s1 ={1,2,3,4,5}\n",
    "s2 ={1,2,4,6}\n",
    "s1.symmetric_difference(s2)"
   ]
  },
  {
   "cell_type": "markdown",
   "id": "045a0de1-8938-45c5-a459-e51b9bae2601",
   "metadata": {},
   "source": [
    "10. Write a Python program to check if a set is a subset of another set."
   ]
  },
  {
   "cell_type": "code",
   "execution_count": 38,
   "id": "e6cd003c-7a78-40f4-8871-3061b04bdd2b",
   "metadata": {},
   "outputs": [
    {
     "data": {
      "text/plain": [
       "True"
      ]
     },
     "execution_count": 38,
     "metadata": {},
     "output_type": "execute_result"
    }
   ],
   "source": [
    "s1 ={1,2,3,4,5}\n",
    "s2 ={3,4}\n",
    "s2.issubset(s1)"
   ]
  },
  {
   "cell_type": "markdown",
   "id": "75b66d38-3eb5-4e1b-8d29-58afea5fc3e9",
   "metadata": {},
   "source": [
    "11. Write a Python program to create a shallow copy of sets"
   ]
  },
  {
   "cell_type": "code",
   "execution_count": 32,
   "id": "31ddb4f5-837a-4e93-8b08-b570c45e4861",
   "metadata": {},
   "outputs": [
    {
     "data": {
      "text/plain": [
       "{1, 2, 3, 4, 5}"
      ]
     },
     "execution_count": 32,
     "metadata": {},
     "output_type": "execute_result"
    }
   ],
   "source": [
    "ss = s1.copy()\n",
    "ss"
   ]
  },
  {
   "cell_type": "markdown",
   "id": "03ab1448-850a-44a8-8825-face7fe75dd7",
   "metadata": {},
   "source": [
    "12. Write a Python program to remove all elements from a given set."
   ]
  },
  {
   "cell_type": "code",
   "execution_count": 29,
   "id": "8e05e919-dc72-40e8-95a4-f6e46434d649",
   "metadata": {},
   "outputs": [
    {
     "data": {
      "text/plain": [
       "set()"
      ]
     },
     "execution_count": 29,
     "metadata": {},
     "output_type": "execute_result"
    }
   ],
   "source": [
    "sc ={1,2,3,4,5}\n",
    "sc.clear()\n",
    "sc"
   ]
  },
  {
   "cell_type": "markdown",
   "id": "9273f1aa-eeef-4cd6-a5e8-6f3ea3960cf5",
   "metadata": {},
   "source": [
    "13. Write a Python program that uses frozensets."
   ]
  },
  {
   "cell_type": "code",
   "execution_count": 39,
   "id": "e471900c-7351-4c57-970a-e3338135fb02",
   "metadata": {},
   "outputs": [
    {
     "data": {
      "text/plain": [
       "frozenset({(90, 80), 10, 29})"
      ]
     },
     "execution_count": 39,
     "metadata": {},
     "output_type": "execute_result"
    }
   ],
   "source": [
    "fs = frozenset([10,29,(90,80)])\n",
    "fs"
   ]
  },
  {
   "cell_type": "markdown",
   "id": "d8933db8-fd12-455b-a3a3-db78d64d80fe",
   "metadata": {},
   "source": [
    "14. Write a Python program to find the maximum and minimum values in a set."
   ]
  },
  {
   "cell_type": "code",
   "execution_count": 40,
   "id": "69f739d7-cbf3-469b-861d-d6d3419965d2",
   "metadata": {},
   "outputs": [
    {
     "name": "stdout",
     "output_type": "stream",
     "text": [
      "1 4\n"
     ]
    }
   ],
   "source": [
    "sc ={1,2,3,4,5}\n",
    "print(min(s),max(s))"
   ]
  },
  {
   "cell_type": "markdown",
   "id": "cd3247a2",
   "metadata": {},
   "source": [
    "15. Write a Python program to find the length of a set."
   ]
  },
  {
   "cell_type": "code",
   "execution_count": 1,
   "id": "feb7c4ec",
   "metadata": {},
   "outputs": [
    {
     "data": {
      "text/plain": [
       "5"
      ]
     },
     "execution_count": 1,
     "metadata": {},
     "output_type": "execute_result"
    }
   ],
   "source": [
    "st = {1,2,3,4,5}\n",
    "len(st)"
   ]
  },
  {
   "cell_type": "markdown",
   "id": "10adb333",
   "metadata": {},
   "source": [
    "16. Write a Python program to check if a given value is present in a set or not."
   ]
  },
  {
   "cell_type": "code",
   "execution_count": 2,
   "id": "c6bf2257",
   "metadata": {},
   "outputs": [
    {
     "name": "stdout",
     "output_type": "stream",
     "text": [
      "Yes\n"
     ]
    }
   ],
   "source": [
    "st = {1,2,3,4,5}\n",
    "if(1 in st):\n",
    "    print(\"Yes\")\n",
    "else:\n",
    "    print(\"No\")"
   ]
  },
  {
   "cell_type": "markdown",
   "id": "4af52156",
   "metadata": {},
   "source": [
    "17 Write a Python program to check if two given sets have no elements in common."
   ]
  },
  {
   "cell_type": "code",
   "execution_count": 6,
   "id": "73ee1072",
   "metadata": {},
   "outputs": [
    {
     "name": "stdout",
     "output_type": "stream",
     "text": [
      "None\n"
     ]
    }
   ],
   "source": [
    "s1 ={1,2,3,4,5}\n",
    "s2 ={9,84,0,7}\n",
    "print(s1.symmetric_difference_update(s2))"
   ]
  },
  {
   "cell_type": "markdown",
   "id": "bb639117",
   "metadata": {},
   "source": [
    "18. Write a Python program to check if a given set is a superset of itself and a superset of another given set."
   ]
  },
  {
   "cell_type": "code",
   "execution_count": 10,
   "id": "73558102",
   "metadata": {},
   "outputs": [
    {
     "data": {
      "text/plain": [
       "True"
      ]
     },
     "execution_count": 10,
     "metadata": {},
     "output_type": "execute_result"
    }
   ],
   "source": [
    "s1 ={1,2,3,4,5}\n",
    "s2 ={1,2}\n",
    "s1.issuperset(s2)"
   ]
  },
  {
   "cell_type": "markdown",
   "id": "03da5bfa",
   "metadata": {},
   "source": [
    "19. Write a Python program to find elements in a given set that are not in another set."
   ]
  },
  {
   "cell_type": "code",
   "execution_count": 11,
   "id": "17d07c9e",
   "metadata": {},
   "outputs": [
    {
     "data": {
      "text/plain": [
       "{1, 2, 4}"
      ]
     },
     "execution_count": 11,
     "metadata": {},
     "output_type": "execute_result"
    }
   ],
   "source": [
    "s1 ={1,2,3,4,5}\n",
    "s2 ={5,3,0,7}\n",
    "s1.difference(s2)"
   ]
  },
  {
   "cell_type": "markdown",
   "id": "9adb83e7",
   "metadata": {},
   "source": [
    "20. Write a Python program to remove the intersection of a second set with a first set."
   ]
  },
  {
   "cell_type": "code",
   "execution_count": 13,
   "id": "9e8a2bd1",
   "metadata": {},
   "outputs": [
    {
     "name": "stdout",
     "output_type": "stream",
     "text": [
      "{1, 2, 4}\n"
     ]
    }
   ],
   "source": [
    "print(s1 - s1.intersection(s2))"
   ]
  },
  {
   "cell_type": "markdown",
   "id": "b294f425",
   "metadata": {},
   "source": [
    "21. Write a Python program to find all the unique words and count the frequency of occurrence from a given list of strings. Use Python set data type.\n"
   ]
  },
  {
   "cell_type": "code",
   "execution_count": null,
   "id": "7e4ee148",
   "metadata": {},
   "outputs": [],
   "source": []
  },
  {
   "cell_type": "code",
   "execution_count": null,
   "id": "690bd1dc",
   "metadata": {},
   "outputs": [],
   "source": []
  },
  {
   "cell_type": "markdown",
   "id": "ca068696",
   "metadata": {},
   "source": [
    "22. Write a Python program that finds all pairs of elements in a list whose sum is equal to a given value."
   ]
  },
  {
   "cell_type": "code",
   "execution_count": 24,
   "id": "4cc25a85",
   "metadata": {},
   "outputs": [
    {
     "data": {
      "text/plain": [
       "{(3, 3), (4, 2), (5, 1)}"
      ]
     },
     "execution_count": 24,
     "metadata": {},
     "output_type": "execute_result"
    }
   ],
   "source": [
    "l1 =[1,2,3,4,5,3]\n",
    "s =set()\n",
    "v = 6\n",
    "for i in l1:\n",
    "    cp = v -i\n",
    "    if(cp in l1 and (i,cp) not in s):\n",
    "        s.add((cp,i))\n",
    "s        \n",
    "        \n",
    "    "
   ]
  },
  {
   "cell_type": "markdown",
   "id": "1b741551",
   "metadata": {},
   "source": [
    "23. Write a Python program to find the longest common prefix of all strings. Use the Python set.\n"
   ]
  },
  {
   "cell_type": "code",
   "execution_count": 37,
   "id": "1ae69e0a",
   "metadata": {},
   "outputs": [
    {
     "name": "stdout",
     "output_type": "stream",
     "text": [
      "fl\n"
     ]
    }
   ],
   "source": [
    "st = [\"flower\",\"flow\",\"flight\"]\n",
    "ans = st[0]\n",
    "for i in st[1:]:\n",
    "    k=0\n",
    "    j=0\n",
    "    for el in i:\n",
    "        if(el == ans[j]):\n",
    "            k+=1\n",
    "            j+=1\n",
    "    ans = ans[:k]   \n",
    "print(ans)   "
   ]
  },
  {
   "cell_type": "code",
   "execution_count": 34,
   "id": "8716b661",
   "metadata": {},
   "outputs": [
    {
     "data": {
      "text/plain": [
       "'flower'"
      ]
     },
     "execution_count": 34,
     "metadata": {},
     "output_type": "execute_result"
    }
   ],
   "source": []
  },
  {
   "cell_type": "markdown",
   "id": "779e54e7",
   "metadata": {},
   "source": [
    "24. Write a Python program to find the two numbers whose product is maximum among all the pairs in a given list of numbers. Use the Python set."
   ]
  },
  {
   "cell_type": "code",
   "execution_count": 36,
   "id": "dfa1f350",
   "metadata": {},
   "outputs": [
    {
     "name": "stdout",
     "output_type": "stream",
     "text": [
      "flow\n",
      "flight\n"
     ]
    }
   ],
   "source": []
  },
  {
   "cell_type": "code",
   "execution_count": null,
   "id": "0d35b9ba",
   "metadata": {},
   "outputs": [],
   "source": []
  }
 ],
 "metadata": {
  "kernelspec": {
   "display_name": "Python 3 (ipykernel)",
   "language": "python",
   "name": "python3"
  },
  "language_info": {
   "codemirror_mode": {
    "name": "ipython",
    "version": 3
   },
   "file_extension": ".py",
   "mimetype": "text/x-python",
   "name": "python",
   "nbconvert_exporter": "python",
   "pygments_lexer": "ipython3",
   "version": "3.11.3"
  }
 },
 "nbformat": 4,
 "nbformat_minor": 5
}
