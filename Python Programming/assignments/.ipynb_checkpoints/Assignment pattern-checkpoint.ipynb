{
 "cells": [
  {
   "cell_type": "markdown",
   "id": "5232ccc6-3cab-4d73-bceb-d43a47aa9dbe",
   "metadata": {},
   "source": [
    "## Loop Questions:"
   ]
  },
  {
   "cell_type": "markdown",
   "id": "3a7d486e-906c-402d-af16-2612dc583fcb",
   "metadata": {},
   "source": [
    "1.\tAccept 10 integers from user  and print their average value on the screen "
   ]
  },
  {
   "cell_type": "code",
   "execution_count": 4,
   "id": "e9bed81f-364d-462f-ac54-0beb091ea5c3",
   "metadata": {},
   "outputs": [
    {
     "name": "stdin",
     "output_type": "stream",
     "text": [
      "enter number  1\n",
      "enter number  2\n",
      "enter number  3\n",
      "enter number  4\n",
      "enter number  5\n",
      "enter number  6\n",
      "enter number  7\n",
      "enter number  8\n",
      "enter number  9\n",
      "enter number  0\n"
     ]
    },
    {
     "name": "stdout",
     "output_type": "stream",
     "text": [
      "average:  4.5\n"
     ]
    }
   ],
   "source": [
    "sum =0\n",
    "for i in range(10):\n",
    "    val = int(input(\"enter number \"))\n",
    "    sum = sum + val\n",
    "avg = sum/10\n",
    "print(\"average: \",avg)"
   ]
  },
  {
   "cell_type": "markdown",
   "id": "beeca1bd-63cf-4343-9a9e-c4347bbfb6db",
   "metadata": {},
   "source": [
    "2.\tPrint the following patterns using loop : "
   ]
  },
  {
   "cell_type": "code",
   "execution_count": 1,
   "id": "ee2225ec-7a0b-4f55-9ec8-4a5740fb4f33",
   "metadata": {},
   "outputs": [
    {
     "name": "stdout",
     "output_type": "stream",
     "text": [
      "*\n",
      "**\n",
      "***\n",
      "****\n",
      "*****\n"
     ]
    }
   ],
   "source": [
    "for idx in range(1,6):\n",
    "    print(\"*\"*idx)"
   ]
  },
  {
   "cell_type": "code",
   "execution_count": 2,
   "id": "3b232b27-5f97-4a6e-bc70-666b5a333105",
   "metadata": {},
   "outputs": [
    {
     "name": "stdin",
     "output_type": "stream",
     "text": [
      "no of lines 7\n"
     ]
    },
    {
     "name": "stdout",
     "output_type": "stream",
     "text": [
      "1010101010101\n",
      " 10101010101\n",
      "  101010101\n",
      "   1010101\n",
      "    10101\n",
      "     101\n",
      "      1\n"
     ]
    }
   ],
   "source": [
    "n = int(input(\"no of lines\"))\n",
    "space =0\n",
    "while(n>0):\n",
    "    print(\" \"*space,\"10\"*(n-1),\"1\",sep=\"\")\n",
    "    n -= 1\n",
    "    space+= 1"
   ]
  },
  {
   "cell_type": "code",
   "execution_count": 7,
   "id": "e45911c0-2a38-4dae-93bc-e56c1b8ce1b9",
   "metadata": {},
   "outputs": [
    {
     "name": "stdin",
     "output_type": "stream",
     "text": [
      "enter no of lines 5\n"
     ]
    },
    {
     "name": "stdout",
     "output_type": "stream",
     "text": [
      "     *\n",
      "   ***\n",
      " *****\n",
      "   ***\n",
      "     *\n"
     ]
    }
   ],
   "source": [
    "ln = int(input(\"enter no of lines\"))\n",
    "count =0\n",
    "space = ln -1\n",
    "star = 1\n",
    "while(count < ln//2 +1):\n",
    "    print(\" \"*(space),\"*\"*star)\n",
    "    space -= 2\n",
    "    star  += 2\n",
    "    count += 1\n",
    "space += 4\n",
    "star -= 4\n",
    "count -= 2\n",
    "while(count >=0):\n",
    "    print(\" \"*(space),\"*\"*star)\n",
    "    space += 2\n",
    "    star  -= 2\n",
    "    count -= 1"
   ]
  },
  {
   "cell_type": "code",
   "execution_count": 13,
   "id": "a37b61cf-850f-4efb-908e-20ec59c03283",
   "metadata": {},
   "outputs": [
    {
     "name": "stdin",
     "output_type": "stream",
     "text": [
      "enter num  4\n"
     ]
    },
    {
     "name": "stdout",
     "output_type": "stream",
     "text": [
      "1 \n",
      "1 2 \n",
      "1 2 3 \n",
      "1 2 3 4 \n"
     ]
    }
   ],
   "source": [
    "s = int(input(\"enter num \"))\n",
    "for i in range(s):\n",
    "    for j in range(1,i+2):\n",
    "        print(j,end=\" \")\n",
    "    print(\"\")    "
   ]
  },
  {
   "cell_type": "markdown",
   "id": "ee929ce4-9502-443b-ad7d-01a87f075bd3",
   "metadata": {},
   "source": [
    "3.\tWrite a program to find greatest common divisor (GCD) or highest common factor (HCF) of given two numbers."
   ]
  },
  {
   "cell_type": "code",
   "execution_count": 19,
   "id": "bb1e18b7-c882-4f6b-b46d-920d6f797c84",
   "metadata": {},
   "outputs": [
    {
     "name": "stdin",
     "output_type": "stream",
     "text": [
      "enter number 1 66\n",
      "enter number 1 33\n"
     ]
    },
    {
     "name": "stdout",
     "output_type": "stream",
     "text": [
      "HCF  33\n"
     ]
    }
   ],
   "source": [
    "n1 = int(input(\"enter number 1\"))\n",
    "n2 = int(input(\"enter number 1\"))\n",
    "\n",
    "while(n1 != n2):\n",
    "    if(n1>n2):\n",
    "        n1 = n1-n2\n",
    "    else:\n",
    "        n2 = n2-n1\n",
    "\n",
    "print(\"HCF \",n1)\n",
    "        \n",
    "    "
   ]
  },
  {
   "cell_type": "code",
   "execution_count": null,
   "id": "9c2cebbd-3e46-4c8f-9ea9-bfe0bd900e77",
   "metadata": {},
   "outputs": [],
   "source": [
    "q=0\n",
    "while(q == 'q'):\n",
    "    q = (input()"
   ]
  },
  {
   "cell_type": "code",
   "execution_count": null,
   "id": "9463baee-ca59-4bea-ba93-23a427f17592",
   "metadata": {},
   "outputs": [],
   "source": []
  },
  {
   "cell_type": "markdown",
   "id": "93db2a64-b57e-4337-a38c-93f45fd5fad5",
   "metadata": {},
   "source": [
    "4.\tTake integer inputs from user until he/she presses q ( Ask to press q to quit after every integer input ). Print average and product of all numbers. "
   ]
  },
  {
   "cell_type": "code",
   "execution_count": 23,
   "id": "105c1525-6e35-455f-bfd2-731869f2da4f",
   "metadata": {},
   "outputs": [
    {
     "name": "stdin",
     "output_type": "stream",
     "text": [
      "enter number  1\n",
      "enter number  2\n",
      "enter number  3\n",
      "enter number  4\n",
      "enter number  5\n",
      "enter number  q\n"
     ]
    },
    {
     "name": "stdout",
     "output_type": "stream",
     "text": [
      "sum= 3.0\n",
      "product= 120\n"
     ]
    }
   ],
   "source": [
    "summ = 0\n",
    "mul =1\n",
    "count =0\n",
    "while(1):\n",
    "    num = input(\"enter number \")\n",
    "    if(num == 'q'):\n",
    "        break\n",
    "    num = int(num)\n",
    "    summ = summ + num\n",
    "    mul = mul * num\n",
    "    count += 1\n",
    "print(\"sum=\",summ/count)\n",
    "print(\"product=\",mul)"
   ]
  },
  {
   "cell_type": "code",
   "execution_count": null,
   "id": "1a730a70-537a-443e-a0a7-29259f62a7d6",
   "metadata": {},
   "outputs": [],
   "source": []
  },
  {
   "cell_type": "markdown",
   "id": "927415aa-c41e-4ac0-81f6-41267f1ffc53",
   "metadata": {},
   "source": [
    "5.\tGiven a number count the total number of digits in a number and also find sum of digits of the number. "
   ]
  },
  {
   "cell_type": "code",
   "execution_count": 21,
   "id": "f0b8f534-bcc3-4047-9aff-db8b1a6a69dc",
   "metadata": {},
   "outputs": [
    {
     "name": "stdin",
     "output_type": "stream",
     "text": [
      "enter number  123\n"
     ]
    },
    {
     "name": "stdout",
     "output_type": "stream",
     "text": [
      "count  3\n",
      "sum  6\n"
     ]
    }
   ],
   "source": [
    "n = int(input(\"enter number \"))\n",
    "count =0\n",
    "s =0\n",
    "while(n != 0):\n",
    "    count += 1\n",
    "    m = n % 10\n",
    "    s = s + m\n",
    "    n = n // 10\n",
    "print(\"count \",count)       \n",
    "print(\"sum \",s)    \n",
    " "
   ]
  },
  {
   "cell_type": "code",
   "execution_count": null,
   "id": "0920f7e1-2e29-4eb6-97f8-bf3fa442184d",
   "metadata": {},
   "outputs": [],
   "source": []
  },
  {
   "cell_type": "markdown",
   "id": "fcd1377a-466c-4991-b754-1a4a9cebbed0",
   "metadata": {},
   "source": [
    "6.\tTo display the cube of the number upto given an integer. If the given integer is 5, then display cube of 1 to 4. # range(1,5)"
   ]
  },
  {
   "cell_type": "code",
   "execution_count": 24,
   "id": "8d8c2125-a885-4c38-aa87-5969aa133771",
   "metadata": {},
   "outputs": [
    {
     "name": "stdin",
     "output_type": "stream",
     "text": [
      "enter number 5\n"
     ]
    },
    {
     "name": "stdout",
     "output_type": "stream",
     "text": [
      "1\n",
      "8\n",
      "27\n",
      "64\n"
     ]
    }
   ],
   "source": [
    "ss = int(input(\"enter number\"))\n",
    "for i in range(1,ss):\n",
    "    print(i*i*i)\n",
    "    "
   ]
  },
  {
   "cell_type": "code",
   "execution_count": null,
   "id": "3e558fe2-ec4e-4178-9841-790eb4990e0e",
   "metadata": {},
   "outputs": [],
   "source": []
  },
  {
   "cell_type": "markdown",
   "id": "f3de172c-6f35-4211-bc81-2fdc62015bfa",
   "metadata": {},
   "source": [
    "7.\tAccept 20 numbers from user and display sum of only even numbers."
   ]
  },
  {
   "cell_type": "code",
   "execution_count": 25,
   "id": "9e7e737e-339d-4e0e-a40b-5300080ae594",
   "metadata": {},
   "outputs": [
    {
     "name": "stdin",
     "output_type": "stream",
     "text": [
      "enter number 1\n",
      "enter number 2\n"
     ]
    },
    {
     "ename": "TypeError",
     "evalue": "unsupported operand type(s) for +: 'builtin_function_or_method' and 'int'",
     "output_type": "error",
     "traceback": [
      "\u001b[1;31m---------------------------------------------------------------------------\u001b[0m",
      "\u001b[1;31mTypeError\u001b[0m                                 Traceback (most recent call last)",
      "Cell \u001b[1;32mIn[25], line 4\u001b[0m\n\u001b[0;32m      2\u001b[0m     s \u001b[38;5;241m=\u001b[39m \u001b[38;5;28mint\u001b[39m(\u001b[38;5;28minput\u001b[39m(\u001b[38;5;124m\"\u001b[39m\u001b[38;5;124menter number\u001b[39m\u001b[38;5;124m\"\u001b[39m))\n\u001b[0;32m      3\u001b[0m     \u001b[38;5;28;01mif\u001b[39;00m(s \u001b[38;5;241m%\u001b[39m \u001b[38;5;241m2\u001b[39m \u001b[38;5;241m==\u001b[39m \u001b[38;5;241m0\u001b[39m):\n\u001b[1;32m----> 4\u001b[0m         \u001b[38;5;28msum\u001b[39m \u001b[38;5;241m=\u001b[39m \u001b[38;5;28msum\u001b[39m \u001b[38;5;241m+\u001b[39m s\n\u001b[0;32m      5\u001b[0m \u001b[38;5;28mprint\u001b[39m(\u001b[38;5;28msum\u001b[39m)\n",
      "\u001b[1;31mTypeError\u001b[0m: unsupported operand type(s) for +: 'builtin_function_or_method' and 'int'"
     ]
    }
   ],
   "source": [
    "sum=0\n",
    "for i in range(20):\n",
    "    s = int(input(\"enter number\"))\n",
    "    if(s % 2 == 0):\n",
    "        sum = sum + s\n",
    "print(sum)        "
   ]
  },
  {
   "cell_type": "code",
   "execution_count": null,
   "id": "dcd0ce0d-1f8e-41d4-8681-968edb708eb1",
   "metadata": {},
   "outputs": [],
   "source": []
  }
 ],
 "metadata": {
  "kernelspec": {
   "display_name": "Python 3 (ipykernel)",
   "language": "python",
   "name": "python3"
  },
  "language_info": {
   "codemirror_mode": {
    "name": "ipython",
    "version": 3
   },
   "file_extension": ".py",
   "mimetype": "text/x-python",
   "name": "python",
   "nbconvert_exporter": "python",
   "pygments_lexer": "ipython3",
   "version": "3.11.3"
  }
 },
 "nbformat": 4,
 "nbformat_minor": 5
}
