{
 "cells": [
  {
   "cell_type": "markdown",
   "id": "e4cd152b-360a-4627-b61c-8b6590d9a44e",
   "metadata": {},
   "source": [
    "1. Write a Python script to sort (ascending and descending) a dictionary by value."
   ]
  },
  {
   "cell_type": "code",
   "execution_count": null,
   "id": "45ff8655-9ef3-4d76-9496-7474bb6b78c9",
   "metadata": {},
   "outputs": [],
   "source": [
    "Sample Dictionary : {0: 10, 1: 20}"
   ]
  },
  {
   "cell_type": "markdown",
   "id": "f40910fb-8040-47ae-b6b8-de9cdc53f229",
   "metadata": {},
   "source": [
    "2. Write a Python script to add a key to a dictionary.\n",
    "\n",
    "Sample Dictionary : {0: 10, 1: 20}\n",
    "Expected Result : {0: 10, 1: 20, 2: 30}"
   ]
  },
  {
   "cell_type": "code",
   "execution_count": 3,
   "id": "45bc668e-9f33-475e-880f-b10ab066e47c",
   "metadata": {},
   "outputs": [
    {
     "data": {
      "text/plain": [
       "{0: 10, 1: 20, 2: 30}"
      ]
     },
     "execution_count": 3,
     "metadata": {},
     "output_type": "execute_result"
    }
   ],
   "source": [
    "di = {0: 10, 1: 20}\n",
    "di[2] = 30 # di.add di.insert XXX\n",
    "di"
   ]
  },
  {
   "cell_type": "markdown",
   "id": "97a48317-fe48-4589-a886-3a26bf876fd1",
   "metadata": {},
   "source": [
    "3. Write a Python script to concatenate the following dictionaries to create a new one.\n",
    "\n",
    "Sample Dictionary :\n",
    "dic1={1:10, 2:20}\n",
    "dic2={3:30, 4:40}\n",
    "dic3={5:50,6:60}\n",
    "Expected Result : {1: 10, 2: 20, 3: 30, 4: 40, 5: 50, 6: 60}"
   ]
  },
  {
   "cell_type": "code",
   "execution_count": 4,
   "id": "6d5cbdb8-ae07-4694-84e0-d46ff4e322f3",
   "metadata": {},
   "outputs": [
    {
     "data": {
      "text/plain": [
       "{1: 10, 2: 20, 3: 30, 4: 40, 5: 50, 6: 60}"
      ]
     },
     "execution_count": 4,
     "metadata": {},
     "output_type": "execute_result"
    }
   ],
   "source": [
    "d1={1:10, 2:20} \n",
    "d2={3:30, 4:40} \n",
    "d3={5:50,6:60}\n",
    "d = {**d1,**d2,**d3}\n",
    "d"
   ]
  },
  {
   "cell_type": "code",
   "execution_count": 7,
   "id": "801ecf90-2c54-4d10-99ad-24c6e4a30d84",
   "metadata": {},
   "outputs": [
    {
     "data": {
      "text/plain": [
       "{1: 10, 2: 20, 3: 30, 4: 40, 5: 50, 6: 60}"
      ]
     },
     "execution_count": 7,
     "metadata": {},
     "output_type": "execute_result"
    }
   ],
   "source": [
    "d4 = {}\n",
    "for key,val in d1.items():\n",
    "    d4[key] = val\n",
    "for key,val in d2.items():\n",
    "    d4[key] = val\n",
    "for key,val in d3.items():\n",
    "    d4[key] = val\n",
    "d4"
   ]
  },
  {
   "cell_type": "markdown",
   "id": "0455f425-1231-4f66-9a53-7d21cdaf45a9",
   "metadata": {},
   "source": [
    "4. Write a Python script to check whether a given key already exists in a dictionary."
   ]
  },
  {
   "cell_type": "code",
   "execution_count": 14,
   "id": "5784d73e-a227-4ad4-b083-ecb7fe655431",
   "metadata": {},
   "outputs": [
    {
     "name": "stdout",
     "output_type": "stream",
     "text": [
      "Found\n"
     ]
    }
   ],
   "source": [
    "di = {0: 10, 1: 20,'ab':30}\n",
    "k = 1\n",
    "for i in di.keys():\n",
    "    if(i == 1):\n",
    "        print(\"Found\")\n",
    "        c=1\n",
    "        break\n",
    "    else:\n",
    "        c=0\n",
    "if(c==0):\n",
    "    print(\"not found\")"
   ]
  },
  {
   "cell_type": "markdown",
   "id": "6c81e997",
   "metadata": {},
   "source": [
    "5. Write a Python program to iterate over dictionaries using for loops."
   ]
  },
  {
   "cell_type": "code",
   "execution_count": 1,
   "id": "6cf7f8a7-359d-498e-85c0-6104de69c89b",
   "metadata": {},
   "outputs": [
    {
     "name": "stdout",
     "output_type": "stream",
     "text": [
      "10\n",
      "20\n",
      "30\n",
      "40\n",
      "50\n",
      "60\n"
     ]
    }
   ],
   "source": [
    "dct = {1: 10, 2: 20, 3: 30, 4: 40, 5: 50, 6: 60}\n",
    "for key in dct.keys():\n",
    "    print(dct[key])"
   ]
  },
  {
   "cell_type": "markdown",
   "id": "bb1d3f01",
   "metadata": {},
   "source": [
    "6. Write a Python script to generate and print a dictionary that contains a number (between 1 and n) in the form (x, x*x).\n",
    "Sample Dictionary ( n = 5) :\n",
    "Expected Output : {1: 1, 2: 4, 3: 9, 4: 16, 5: 25}/"
   ]
  },
  {
   "cell_type": "code",
   "execution_count": 3,
   "id": "29b6ac7a",
   "metadata": {},
   "outputs": [
    {
     "data": {
      "text/plain": [
       "{1: 1, 2: 4, 3: 9, 4: 16, 5: 25}"
      ]
     },
     "execution_count": 3,
     "metadata": {},
     "output_type": "execute_result"
    }
   ],
   "source": [
    "dd = {}\n",
    "for i in range(1,6):\n",
    "    dd[i] = i*i\n",
    "dd    "
   ]
  },
  {
   "cell_type": "markdown",
   "id": "161fdc1f",
   "metadata": {},
   "source": [
    "7. Write a Python script to print a dictionary where the keys are numbers between 1 and 15 (both included) and the values are the square of the keys.\n",
    "Sample Dictionary\n",
    "{1: 1, 2: 4, 3: 9, 4: 16, 5: 25, 6: 36, 7: 49, 8: 64, 9: 81, 10: 100, 11: 121, 12: 144, 13: 169, 14: 196, 15: 225}"
   ]
  },
  {
   "cell_type": "code",
   "execution_count": 4,
   "id": "247462a3",
   "metadata": {},
   "outputs": [
    {
     "data": {
      "text/plain": [
       "{1: 1,\n",
       " 2: 4,\n",
       " 3: 9,\n",
       " 4: 16,\n",
       " 5: 25,\n",
       " 6: 36,\n",
       " 7: 49,\n",
       " 8: 64,\n",
       " 9: 81,\n",
       " 10: 100,\n",
       " 11: 121,\n",
       " 12: 144,\n",
       " 13: 169,\n",
       " 14: 196,\n",
       " 15: 225}"
      ]
     },
     "execution_count": 4,
     "metadata": {},
     "output_type": "execute_result"
    }
   ],
   "source": [
    "dd1 = {}\n",
    "for i in range(1,16):\n",
    "    dd1[i] = i*i\n",
    "dd1  "
   ]
  },
  {
   "cell_type": "markdown",
   "id": "6bb7ff3f",
   "metadata": {},
   "source": [
    "8. Write a Python script to merge two Python dictionaries."
   ]
  },
  {
   "cell_type": "code",
   "execution_count": 5,
   "id": "8049fe40",
   "metadata": {},
   "outputs": [
    {
     "data": {
      "text/plain": [
       "{1: 10, 2: 20, 3: 30, 4: 40}"
      ]
     },
     "execution_count": 5,
     "metadata": {},
     "output_type": "execute_result"
    }
   ],
   "source": [
    "d1={1:10, 2:20} \n",
    "d2={3:30, 4:40}\n",
    "d3= {}\n",
    "for key,value in d1.items():\n",
    "    d3[key] = value\n",
    "for key,value in d2.items():\n",
    "    d3[key] = value \n",
    "d3    "
   ]
  },
  {
   "cell_type": "code",
   "execution_count": null,
   "id": "256b84c3",
   "metadata": {},
   "outputs": [],
   "source": []
  },
  {
   "cell_type": "code",
   "execution_count": null,
   "id": "3b5dceed",
   "metadata": {},
   "outputs": [],
   "source": []
  },
  {
   "cell_type": "markdown",
   "id": "759558ba-b755-47f4-a6ee-786545693500",
   "metadata": {},
   "source": [
    "10. Write a Python program to sum all the items in a dictionary."
   ]
  },
  {
   "cell_type": "code",
   "execution_count": 9,
   "id": "19777b7e-9e5e-48b0-bb3b-c4b6bf7b80c2",
   "metadata": {},
   "outputs": [
    {
     "name": "stdout",
     "output_type": "stream",
     "text": [
      "dict_values([10, 20, 30, 40, 50, 60])\n"
     ]
    }
   ],
   "source": [
    "d = {1: 10, 2: 20, 3: 30, 4: 40, 5: 50, 6: 60}\n",
    "for i in d.values():\n",
    "    \n",
    "    \n"
   ]
  },
  {
   "cell_type": "markdown",
   "id": "2474f34a",
   "metadata": {},
   "source": [
    "12. Write a Python program to remove a key from a dictionary."
   ]
  },
  {
   "cell_type": "code",
   "execution_count": 6,
   "id": "44c0f565",
   "metadata": {},
   "outputs": [
    {
     "data": {
      "text/plain": [
       "{2: 20}"
      ]
     },
     "execution_count": 6,
     "metadata": {},
     "output_type": "execute_result"
    }
   ],
   "source": [
    "d1={1:10, 2:20} \n",
    "del d1[1]\n",
    "d1"
   ]
  },
  {
   "cell_type": "markdown",
   "id": "2912f26b",
   "metadata": {},
   "source": [
    "13. Write a Python program to map two lists into a dictionary."
   ]
  },
  {
   "cell_type": "code",
   "execution_count": 9,
   "id": "4c1ed646",
   "metadata": {},
   "outputs": [
    {
     "data": {
      "text/plain": [
       "{10: 30, 20: 80}"
      ]
     },
     "execution_count": 9,
     "metadata": {},
     "output_type": "execute_result"
    }
   ],
   "source": [
    "dt =dict(zip([10,20],[30,80]))\n",
    "dt"
   ]
  },
  {
   "cell_type": "markdown",
   "id": "26271a55",
   "metadata": {},
   "source": [
    "14. Write a Python program to sort a given dictionary by key. And output should be a dictionary."
   ]
  },
  {
   "cell_type": "code",
   "execution_count": 5,
   "id": "6813d0f6",
   "metadata": {},
   "outputs": [
    {
     "data": {
      "text/plain": [
       "{1: 10, 2: 20, 3: 30, 4: 40, 5: 50, 6: 60}"
      ]
     },
     "execution_count": 5,
     "metadata": {},
     "output_type": "execute_result"
    }
   ],
   "source": [
    "d = {1: 10,4: 40, 2: 20, 3: 30, 5: 50, 6: 60}\n",
    "p = sorted(d)\n",
    "d2 = {k: d[k] for k in p}\n",
    "d2 "
   ]
  },
  {
   "cell_type": "code",
   "execution_count": 9,
   "id": "35785a4b",
   "metadata": {},
   "outputs": [
    {
     "data": {
      "text/plain": [
       "{1: 10, 2: 20, 3: 30, 4: 40, 5: 50, 6: 60}"
      ]
     },
     "execution_count": 9,
     "metadata": {},
     "output_type": "execute_result"
    }
   ],
   "source": [
    "d3={}\n",
    "for k in p:\n",
    "    d3[k] = d[k]\n",
    "d3    "
   ]
  },
  {
   "cell_type": "markdown",
   "id": "e9e947ec-c5d2-445d-ace4-3759c3c9412e",
   "metadata": {},
   "source": [
    "15. Write a Python program to get the maximum and minimum values of a dictionary."
   ]
  },
  {
   "cell_type": "code",
   "execution_count": 19,
   "id": "99079fc3-b32c-4d7c-85f7-544bb20686f8",
   "metadata": {},
   "outputs": [
    {
     "name": "stdout",
     "output_type": "stream",
     "text": [
      "-10 -60\n"
     ]
    }
   ],
   "source": [
    "d = {1: -10, 2: -20, 3: -30, 4: -40, 5: -50, 6: -60}\n",
    "l = list(d.values())\n",
    "mx = l[0]\n",
    "mn = l[0]\n",
    "for i in l:\n",
    "    if(mx < i):\n",
    "        mx = i\n",
    "    elif(mn >i):  \n",
    "        mn = i\n",
    "print(mx,mn)        "
   ]
  },
  {
   "cell_type": "code",
   "execution_count": 17,
   "id": "9a6aa0f5-5fe5-487a-ba7f-4e190f313a43",
   "metadata": {},
   "outputs": [
    {
     "data": {
      "text/plain": [
       "dict_values"
      ]
     },
     "execution_count": 17,
     "metadata": {},
     "output_type": "execute_result"
    }
   ],
   "source": [
    "17. Write a Python program to remove duplicates from the dictionary."
   ]
  },
  {
   "cell_type": "markdown",
   "id": "6f44d522-ee47-480a-8bc7-3f5c38a7b4d0",
   "metadata": {},
   "source": [
    "18. Write a Python program to check if a dictionary is empty or not."
   ]
  },
  {
   "cell_type": "code",
   "execution_count": 20,
   "id": "7b41755e-7619-421d-b0a4-ade6e2259f8a",
   "metadata": {},
   "outputs": [
    {
     "data": {
      "text/plain": [
       "False"
      ]
     },
     "execution_count": 20,
     "metadata": {},
     "output_type": "execute_result"
    }
   ],
   "source": [
    "d ={}\n",
    "bool(d)"
   ]
  },
  {
   "cell_type": "markdown",
   "id": "aa506f18",
   "metadata": {},
   "source": [
    "19. Write a Python program to combine two dictionary by adding values for common keys.\n",
    "d1 = {'a': 100, 'b': 200, 'c':300}\n",
    "d2 = {'a': 300, 'b': 200, 'd':400}\n",
    "Sample output: Counter({'a': 400, 'b': 400, 'd': 400, 'c': 300})"
   ]
  },
  {
   "cell_type": "code",
   "execution_count": 12,
   "id": "4718f7a0-29d5-4bfe-9f93-ee05c63e6abb",
   "metadata": {},
   "outputs": [
    {
     "data": {
      "text/plain": [
       "{'a': 400, 'b': 400, 'c': 300, 'd': 400}"
      ]
     },
     "execution_count": 12,
     "metadata": {},
     "output_type": "execute_result"
    }
   ],
   "source": [
    "d1 = {'a': 100, 'b': 200, 'c':300} \n",
    "d2 = {'a': 300, 'b': 200, 'd':400}\n",
    "d3 ={}\n",
    "for i in d1.keys():\n",
    "    if(i in d2.keys()):\n",
    "        d3[i] = d1[i] + d2[i]\n",
    "    else:\n",
    "        d3[i] = d1[i]\n",
    "\n",
    "for i in d2.keys():\n",
    "    if(i not in d1.keys()):\n",
    "        d3[i] = d2[i]\n",
    "d3    \n",
    "    "
   ]
  },
  {
   "cell_type": "markdown",
   "id": "01161498",
   "metadata": {},
   "source": [
    "20. Write a Python program to print all distinct values in a dictionary.\n",
    "Sample Data : [{\"V\":\"S001\"}, {\"V\": \"S002\"}, {\"VI\": \"S001\"}, {\"VI\": \"S005\"}, {\"VII\":\"S005\"}, {\"V\":\"S009\"},{\"VIII\":\"S007\"}]\n",
    "Expected Output : Unique Values: {'S005', 'S002', 'S007', 'S001', 'S009'}"
   ]
  },
  {
   "cell_type": "code",
   "execution_count": 14,
   "id": "cc86b4f5",
   "metadata": {},
   "outputs": [
    {
     "data": {
      "text/plain": [
       "{'S001', 'S002', 'S005', 'S007', 'S009'}"
      ]
     },
     "execution_count": 14,
     "metadata": {},
     "output_type": "execute_result"
    }
   ],
   "source": [
    "data = [{\"V\":\"S001\"}, {\"V\": \"S002\"}, {\"VI\": \"S001\"}, {\"VI\": \"S005\"}, {\"VII\":\"S005\"}, {\"V\":\"S009\"},{\"VIII\":\"S007\"}]\n",
    "s =set()\n",
    "for i in data:\n",
    "    for j in i.values():\n",
    "        s.add(j)\n",
    "s        "
   ]
  },
  {
   "cell_type": "markdown",
   "id": "5ce3ab78",
   "metadata": {},
   "source": [
    "21. Write a Python program to create and display all combinations of letters, selecting each letter from a different key in a dictionary.\n",
    "Sample data : {'1':['a','b'], '2':['c','d']}\n",
    "Expected Output:\n",
    "ac\n",
    "ad\n",
    "bc\n",
    "bd"
   ]
  },
  {
   "cell_type": "code",
   "execution_count": 2,
   "id": "34710d64",
   "metadata": {},
   "outputs": [
    {
     "data": {
      "text/plain": [
       "[['a', 'b'], ['c', 'd']]"
      ]
     },
     "execution_count": 2,
     "metadata": {},
     "output_type": "execute_result"
    }
   ],
   "source": [
    "cm = {'1':['a','b'], '2':['c','d']}\n",
    "ls=[]\n",
    "for i in cm.values():\n",
    "    ls.append(i)\n",
    "ls"
   ]
  },
  {
   "cell_type": "markdown",
   "id": "96f66b9a-c1d5-4e9f-82dc-b166e08c69a9",
   "metadata": {},
   "source": [
    "22. Write a Python program to find the highest 3 values of corresponding keys in a dictionary."
   ]
  },
  {
   "cell_type": "code",
   "execution_count": 3,
   "id": "0fa2ac24-df3a-4b9a-88c0-9084500c1f3c",
   "metadata": {},
   "outputs": [
    {
     "data": {
      "text/plain": [
       "[100, 200, 300]"
      ]
     },
     "execution_count": 3,
     "metadata": {},
     "output_type": "execute_result"
    }
   ],
   "source": [
    "d1 = {'a': 100, 'b': 500, 'c':300,'d':200} \n",
    "ds = sorted(d1.values())\n",
    "ds[:3]"
   ]
  },
  {
   "cell_type": "markdown",
   "id": "1a127640-9786-430f-8aec-7fd70b33677b",
   "metadata": {},
   "source": [
    "23. Write a Python program to combine values in a list of dictionaries.\n",
    "Sample data: [{'item': 'item1', 'amount': 400}, {'item': 'item2', 'amount': 300}, {'item': 'item1', 'amount': 750}]\n",
    "Expected Output: Counter({'item1': 1150, 'item2': 300})"
   ]
  },
  {
   "cell_type": "code",
   "execution_count": 20,
   "id": "3a34bcd0-6681-4467-9dcd-1063e50bafba",
   "metadata": {},
   "outputs": [
    {
     "data": {
      "text/plain": [
       "{'item1': 1150, 'item2': 300}"
      ]
     },
     "execution_count": 20,
     "metadata": {},
     "output_type": "execute_result"
    }
   ],
   "source": [
    "itm =  [{'item': 'item1', 'amount': 400}, {'item': 'item2', 'amount': 300}, {'item': 'item1', 'amount': 750}]\n",
    "dct = {}\n",
    "for i in itm:\n",
    "    if i['item'] in dct:\n",
    "        dct[i['item']] += i['amount']\n",
    "    else:\n",
    "        dct[i['item']] = i['amount']\n",
    "dct   "
   ]
  },
  {
   "cell_type": "markdown",
   "id": "8a8dbe49-578a-4740-8e78-a9b448e17190",
   "metadata": {},
   "source": [
    "24. Write a Python program to create a dictionary from a string.\n",
    "Note: Track the count of the letters from the string.\n",
    "Sample string : 'w3resource'\n",
    "Expected output: {'w': 1, '3': 1, 'r': 2, 'e': 2, 's': 1, 'o': 1, 'u': 1, 'c': 1}"
   ]
  },
  {
   "cell_type": "code",
   "execution_count": 21,
   "id": "7e920aee-12c5-4b2a-839b-c5ef9dc0cc15",
   "metadata": {},
   "outputs": [
    {
     "data": {
      "text/plain": [
       "{'w': 1, '3': 1, 'r': 2, 'e': 2, 's': 1, 'o': 1, 'u': 1, 'c': 1}"
      ]
     },
     "execution_count": 21,
     "metadata": {},
     "output_type": "execute_result"
    }
   ],
   "source": [
    "st= 'w3resource'\n",
    "dct = {}\n",
    "for i in st:\n",
    "    dct[i] = st.count(i)\n",
    "dct    "
   ]
  },
  {
   "cell_type": "markdown",
   "id": "75cc61cf-9906-4364-8c83-98b2af79043b",
   "metadata": {},
   "source": [
    "27. Write a Python program to convert a list into a nested dictionary of keys.\n",
    "\n",
    "Ex. i/p [1, 2, 3, 4]\n",
    "o/p  {1: {2: {3: {4: {}}}}}"
   ]
  },
  {
   "cell_type": "code",
   "execution_count": null,
   "id": "5ec3040b-414f-4684-80e5-10820af5a047",
   "metadata": {},
   "outputs": [],
   "source": []
  },
  {
   "cell_type": "markdown",
   "id": "480e35f9-b4a1-4216-8a23-eeea7614cee5",
   "metadata": {},
   "source": [
    "28. Write a Python program. There is a dictionary where values contain list of integers.\n",
    "So, program should sort that list and return complete dictionary\n",
    "Ex. \n",
    "i/p\n",
    "{'n1': [2, 3, 1], 'n2': [5, 1, 2], 'n3': [3, 2, 4]}\n",
    "o/p\n",
    "{'n1': [1, 2, 3], 'n2': [1, 2, 5], 'n3': [2, 3, 4]}\n"
   ]
  },
  {
   "cell_type": "code",
   "execution_count": 28,
   "id": "9c2f965b-b17f-4b39-ab9d-12bfd0d03f38",
   "metadata": {},
   "outputs": [
    {
     "data": {
      "text/plain": [
       "{'n1': [1, 2, 3], 'n2': [1, 2, 5], 'n3': [2, 3, 4]}"
      ]
     },
     "execution_count": 28,
     "metadata": {},
     "output_type": "execute_result"
    }
   ],
   "source": [
    "p = {'n1': [2, 3, 1], 'n2': [5, 1, 2], 'n3': [3, 2, 4]}\n",
    "q = {}\n",
    "for i in p.keys():\n",
    "    q[i] = sorted(p[i])\n",
    "q    "
   ]
  },
  {
   "cell_type": "markdown",
   "id": "13b61ad4-75ff-4609-ad57-23fa4e854396",
   "metadata": {},
   "source": [
    "29. Write a Python program to remove spaces from dictionary keys.\n",
    "After removing spaces if keys repeat then keep the latest value.\n",
    "Ex. \n",
    "i/p\n",
    "{'S  001': ['Math', 'Science'], 'S    002': ['Math', 'English'], 'S 3':['Math', 'English'], 'S3':['English'], }\n",
    "o/p\n",
    "{'S001': ['Math', 'Science'], 'S002': ['Math', 'English'], 'S3':['English']}"
   ]
  },
  {
   "cell_type": "code",
   "execution_count": 37,
   "id": "cad6be10-1dfe-4be3-9dff-a48f1d98b248",
   "metadata": {},
   "outputs": [
    {
     "data": {
      "text/plain": [
       "{'S001': ['Math', 'Science'], 'S002': ['Math', 'English'], 'S3': ['English']}"
      ]
     },
     "execution_count": 37,
     "metadata": {},
     "output_type": "execute_result"
    }
   ],
   "source": [
    "sub = {'S 001': ['Math', 'Science'], 'S 002': ['Math', 'English'], 'S 3':['Math', 'English'], 'S3':['English'] }\n",
    "sub1 = {}\n",
    "for i in sub:\n",
    "    sub1[i.replace(\" \",\"\")] = sub[i]\n",
    "sub1    \n",
    "    "
   ]
  },
  {
   "cell_type": "markdown",
   "id": "22f0611d-cd13-43f8-8e50-7ebbc919a37c",
   "metadata": {},
   "source": [
    "30. Write a Python program to get the top three items in a shop.\n",
    "Sample data: {'item1': 45.50, 'item2':35, 'item3': 41.30, 'item4':55, 'item5': 24}\n",
    "Expected Output:\n",
    "item4 55\n",
    "item1 45.5\n",
    "item3 41.3"
   ]
  },
  {
   "cell_type": "code",
   "execution_count": 48,
   "id": "9ca48c1f-b1d0-4170-bf40-aa844e48ddcb",
   "metadata": {},
   "outputs": [
    {
     "data": {
      "text/plain": [
       "{'item4': 55, 'item1': 45.5, 'item3': 41.3}"
      ]
     },
     "execution_count": 48,
     "metadata": {},
     "output_type": "execute_result"
    }
   ],
   "source": [
    "ta = {'item1': 45.50, 'item2':35, 'item3': 41.30, 'item4':55, 'item5': 24}\n",
    "at = tuple(ta.items())\n",
    "sort = sorted(at,key = lambda x : x[1],reverse = True)\n",
    "sort = dict(sort[:3])\n",
    "sort"
   ]
  },
  {
   "cell_type": "markdown",
   "id": "84e7d5b3-8591-4e85-86a5-13463edc7414",
   "metadata": {},
   "source": [
    "\n",
    "34. Write a Python program to count the total number of items under all keys in a dictionary value that is a list.\n",
    "Ex. \n",
    "i/p {'Alex': ['subj1', 'subj2', 'subj3'], 'David': ['subj1', 'subj2']}\n",
    "o/p total values : 5"
   ]
  },
  {
   "cell_type": "code",
   "execution_count": 53,
   "id": "247da8e9-19d4-4fbe-9d5c-caeea5dc4bf2",
   "metadata": {},
   "outputs": [
    {
     "data": {
      "text/plain": [
       "5"
      ]
     },
     "execution_count": 53,
     "metadata": {},
     "output_type": "execute_result"
    }
   ],
   "source": [
    "al =  {'Alex': ['subj1', 'subj2', 'subj3'], 'David': ['subj1', 'subj2']}\n",
    "l =0\n",
    "for i in al.values():\n",
    "    l += len(i)\n",
    "l    "
   ]
  },
  {
   "cell_type": "markdown",
   "id": "733d7453-39c0-4278-bee1-7847c34a011c",
   "metadata": {},
   "source": [
    "35. Write a Python program to sort dictionary by value.\n",
    "Sample data : {'Math':81, 'Physics':83, 'Chemistry':87}\n",
    "Expected data: [('Chemistry', 87), ('Physics', 83), ('Math', 81)]"
   ]
  },
  {
   "cell_type": "code",
   "execution_count": 59,
   "id": "b458058a-68d7-40ac-855d-4ac704b5426c",
   "metadata": {},
   "outputs": [
    {
     "data": {
      "text/plain": [
       "[('Chemistry', 87), ('Physics', 83), ('Math', 81)]"
      ]
     },
     "execution_count": 59,
     "metadata": {},
     "output_type": "execute_result"
    }
   ],
   "source": [
    "a = {'Math':81, 'Physics':83, 'Chemistry':87}\n",
    "b = sorted(tuple(a.items()),key = lambda x : x[1],reverse = True)\n",
    "b"
   ]
  },
  {
   "cell_type": "code",
   "execution_count": null,
   "id": "ad7a8db1-34d6-46e6-bc84-04c4dd4b0896",
   "metadata": {},
   "outputs": [],
   "source": []
  }
 ],
 "metadata": {
  "kernelspec": {
   "display_name": "Python 3 (ipykernel)",
   "language": "python",
   "name": "python3"
  },
  "language_info": {
   "codemirror_mode": {
    "name": "ipython",
    "version": 3
   },
   "file_extension": ".py",
   "mimetype": "text/x-python",
   "name": "python",
   "nbconvert_exporter": "python",
   "pygments_lexer": "ipython3",
   "version": "3.11.5"
  }
 },
 "nbformat": 4,
 "nbformat_minor": 5
}
