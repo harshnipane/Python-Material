{
 "cells": [
  {
   "cell_type": "markdown",
   "id": "eb99f7cb-0b30-478b-b90e-862f1bd63248",
   "metadata": {
    "id": "eb99f7cb-0b30-478b-b90e-862f1bd63248"
   },
   "source": [
    "1. Write a Python program to create a tuple."
   ]
  },
  {
   "cell_type": "code",
   "execution_count": null,
   "id": "6d7a40a6-736b-4c38-bf15-2051b6f5cd9d",
   "metadata": {
    "id": "6d7a40a6-736b-4c38-bf15-2051b6f5cd9d",
    "outputId": "b2d9d36c-a2bb-404e-a140-67c4587bfcf4"
   },
   "outputs": [
    {
     "data": {
      "text/plain": [
       "(1, 2, 3, 4)"
      ]
     },
     "execution_count": 8,
     "metadata": {},
     "output_type": "execute_result"
    }
   ],
   "source": [
    "t= (1,2,3,4)\n",
    "t"
   ]
  },
  {
   "cell_type": "markdown",
   "id": "a00529de-4699-4c7f-b15e-5c8b8fe42bcd",
   "metadata": {
    "id": "a00529de-4699-4c7f-b15e-5c8b8fe42bcd"
   },
   "source": [
    "2. Write a Python program to create a tuple with different data types"
   ]
  },
  {
   "cell_type": "code",
   "execution_count": null,
   "id": "bf5f170d-42c0-4df6-97f9-a5165b1b7d88",
   "metadata": {
    "id": "bf5f170d-42c0-4df6-97f9-a5165b1b7d88",
    "outputId": "ad77c892-48f0-494e-e6ef-42d1a20bca74"
   },
   "outputs": [
    {
     "name": "stdout",
     "output_type": "stream",
     "text": [
      "(10, [20, 30], 40) ('abc', [20, 30], 70.8)\n"
     ]
    }
   ],
   "source": [
    "t1 = ( 10, [20,30], 40)\n",
    "t2 = (\"abc\",[20,30],70.8)\n",
    "print(t1,t2)"
   ]
  },
  {
   "cell_type": "markdown",
   "id": "6d3ef67d-b9dd-4c57-8b7a-0630ae255450",
   "metadata": {
    "id": "6d3ef67d-b9dd-4c57-8b7a-0630ae255450"
   },
   "source": [
    "3. Write a Python program to create a tuple of numbers and print one item."
   ]
  },
  {
   "cell_type": "code",
   "execution_count": null,
   "id": "ea2ac03b-f3d0-4755-a1bf-3ef0709f030e",
   "metadata": {
    "id": "ea2ac03b-f3d0-4755-a1bf-3ef0709f030e"
   },
   "outputs": [],
   "source": []
  },
  {
   "cell_type": "markdown",
   "id": "1751136f-14f2-49f0-98e2-125cdb9701f6",
   "metadata": {
    "id": "1751136f-14f2-49f0-98e2-125cdb9701f6"
   },
   "source": [
    "4. Write a Python program to unpack a tuple into several variables."
   ]
  },
  {
   "cell_type": "code",
   "execution_count": null,
   "id": "53566d3f-1616-47af-99eb-00a028dc04ea",
   "metadata": {
    "id": "53566d3f-1616-47af-99eb-00a028dc04ea",
    "outputId": "6846d9d6-b04e-4206-d48d-a9987c40404b"
   },
   "outputs": [
    {
     "name": "stdout",
     "output_type": "stream",
     "text": [
      "1 2\n"
     ]
    }
   ],
   "source": [
    "v1,v2= (1,2)\n",
    "print(v1,v2)"
   ]
  },
  {
   "cell_type": "markdown",
   "id": "c34b04bc-ecd3-42c2-926a-3efe0802a045",
   "metadata": {
    "id": "c34b04bc-ecd3-42c2-926a-3efe0802a045"
   },
   "source": [
    "5. Write a Python program to add an item to a tuple."
   ]
  },
  {
   "cell_type": "markdown",
   "id": "6d985606-4244-4169-b102-56d4ca337b64",
   "metadata": {
    "id": "6d985606-4244-4169-b102-56d4ca337b64"
   },
   "source": [
    "cant add elements in tuple"
   ]
  },
  {
   "cell_type": "markdown",
   "id": "4360135d-e2ec-4fda-85a2-061aa93b5ab2",
   "metadata": {
    "id": "4360135d-e2ec-4fda-85a2-061aa93b5ab2"
   },
   "source": [
    "6. Write a Python program to convert a tuple to a string."
   ]
  },
  {
   "cell_type": "code",
   "execution_count": null,
   "id": "e301db8a-3ea6-4049-89ce-c0e887336a26",
   "metadata": {
    "id": "e301db8a-3ea6-4049-89ce-c0e887336a26",
    "outputId": "7361c224-ee07-4c5b-c523-2680d9af0ebc"
   },
   "outputs": [
    {
     "data": {
      "text/plain": [
       "'harsh'"
      ]
     },
     "execution_count": 14,
     "metadata": {},
     "output_type": "execute_result"
    }
   ],
   "source": [
    "t2 = ('h','a','r','s','h')\n",
    "\"\".join(t2)"
   ]
  },
  {
   "cell_type": "code",
   "execution_count": null,
   "id": "b8c93e48-d9ec-4460-bb33-665b42478e24",
   "metadata": {
    "id": "b8c93e48-d9ec-4460-bb33-665b42478e24",
    "outputId": "9d2624d4-81fc-417c-891d-3ea7c001ebd7"
   },
   "outputs": [
    {
     "data": {
      "text/plain": [
       "\"('h', 'a', 'r', 's', 'h')\""
      ]
     },
     "execution_count": 15,
     "metadata": {},
     "output_type": "execute_result"
    }
   ],
   "source": [
    "t1 = ('h','a','r','s','h')\n",
    "str(t1)"
   ]
  },
  {
   "cell_type": "code",
   "execution_count": null,
   "id": "7ce06fe7-6ab1-4cb7-a4c2-5d1278d633a7",
   "metadata": {
    "id": "7ce06fe7-6ab1-4cb7-a4c2-5d1278d633a7",
    "outputId": "f1503ebf-f413-497b-de98-cf89eb1c8a8e"
   },
   "outputs": [
    {
     "data": {
      "text/plain": [
       "'1234'"
      ]
     },
     "execution_count": 16,
     "metadata": {},
     "output_type": "execute_result"
    }
   ],
   "source": [
    "t3 = (1,2,3,4)\n",
    "s3 =\"\"\n",
    "for i in t3:\n",
    "    s3+= str(i)\n",
    "s3"
   ]
  },
  {
   "cell_type": "markdown",
   "id": "fe242b20-166c-4852-b8b5-1c212485fc59",
   "metadata": {
    "id": "fe242b20-166c-4852-b8b5-1c212485fc59"
   },
   "source": [
    "7. Write a Python program to get the 4th element from the last element of a tuple."
   ]
  },
  {
   "cell_type": "code",
   "execution_count": null,
   "id": "cae8ce08-5507-468e-9816-fee123b803cd",
   "metadata": {
    "id": "cae8ce08-5507-468e-9816-fee123b803cd",
    "outputId": "efddd998-4d53-4d16-af72-7ea135054131"
   },
   "outputs": [
    {
     "data": {
      "text/plain": [
       "3"
      ]
     },
     "execution_count": 17,
     "metadata": {},
     "output_type": "execute_result"
    }
   ],
   "source": [
    "t3 = (1,2,3,4,5,6)\n",
    "n = t3[-4]\n",
    "n"
   ]
  },
  {
   "cell_type": "markdown",
   "id": "48eb8498-d810-45e9-83ad-878f5dd5f741",
   "metadata": {
    "id": "48eb8498-d810-45e9-83ad-878f5dd5f741"
   },
   "source": [
    "9. Write a Python program to find repeated items in a tuple."
   ]
  },
  {
   "cell_type": "code",
   "execution_count": null,
   "id": "d5f308fd-5d67-4282-9027-6b2d7317e000",
   "metadata": {
    "id": "d5f308fd-5d67-4282-9027-6b2d7317e000",
    "outputId": "02fead0b-94c9-4370-baa2-4d50ddbd1818"
   },
   "outputs": [
    {
     "name": "stdout",
     "output_type": "stream",
     "text": [
      "repeated elem: 3\n",
      "repeated elem: 6\n"
     ]
    }
   ],
   "source": [
    "t3 = (1,2,3,3,4,5,6,6,7)\n",
    "for e1 in set(t3):\n",
    "    if t3.count(e1) > 1:\n",
    "        print(\"repeated elem:\", e1)"
   ]
  },
  {
   "cell_type": "markdown",
   "id": "6422a0b3-ac77-4e17-a4a6-94ae9822d668",
   "metadata": {
    "id": "6422a0b3-ac77-4e17-a4a6-94ae9822d668"
   },
   "source": [
    "8. Write a Python program to create the  a tuple in another tuple."
   ]
  },
  {
   "cell_type": "code",
   "execution_count": null,
   "id": "11c5551f-baa1-414a-b6f8-1299b71db4cc",
   "metadata": {
    "id": "11c5551f-baa1-414a-b6f8-1299b71db4cc",
    "outputId": "25952472-3bda-423e-cb31-fc9f77b9929f"
   },
   "outputs": [
    {
     "data": {
      "text/plain": [
       "(1, 2, 3, (7, 5))"
      ]
     },
     "execution_count": 62,
     "metadata": {},
     "output_type": "execute_result"
    }
   ],
   "source": [
    "t2 = (7,5)\n",
    "t1 = (1,2,3,t2)\n",
    "t1"
   ]
  },
  {
   "cell_type": "markdown",
   "id": "30aae2e9-cdb2-4f66-bf1e-29936bbb01d0",
   "metadata": {
    "id": "30aae2e9-cdb2-4f66-bf1e-29936bbb01d0"
   },
   "source": [
    "10. Write a Python program to check whether an element exists within a tuple."
   ]
  },
  {
   "cell_type": "code",
   "execution_count": null,
   "id": "4e2e57a9-51c7-4367-9367-909493e92fb2",
   "metadata": {
    "id": "4e2e57a9-51c7-4367-9367-909493e92fb2",
    "outputId": "3456c638-0c75-405a-9dce-073abb800f04"
   },
   "outputs": [
    {
     "name": "stdout",
     "output_type": "stream",
     "text": [
      "Yes\n"
     ]
    }
   ],
   "source": [
    "n=3\n",
    "tp = (1,2,3,3,4,5,6,6,7)\n",
    "if(n in tp):\n",
    "    print(\"Yes\")"
   ]
  },
  {
   "cell_type": "markdown",
   "id": "c2875243-c879-40bd-8581-1f0ae2ee57e5",
   "metadata": {
    "id": "c2875243-c879-40bd-8581-1f0ae2ee57e5"
   },
   "source": [
    "11. Write a Python program to convert a list to a tuple."
   ]
  },
  {
   "cell_type": "code",
   "execution_count": 2,
   "id": "6c00e900-f80a-4e8b-b454-852648944fa8",
   "metadata": {
    "id": "6c00e900-f80a-4e8b-b454-852648944fa8",
    "outputId": "a6b21baf-2f34-4bb9-e55d-106b65dcbc73"
   },
   "outputs": [
    {
     "data": {
      "text/plain": [
       "(1, 2, 3, 4, 5, 6, 7)"
      ]
     },
     "execution_count": 2,
     "metadata": {},
     "output_type": "execute_result"
    }
   ],
   "source": [
    "l1 = [1,2,3,4,5,6,7]\n",
    "t =tuple(l1)\n",
    "t"
   ]
  },
  {
   "cell_type": "code",
   "execution_count": 6,
   "id": "66cfa2c8-81e9-45f6-9567-1398a01b280d",
   "metadata": {
    "id": "66cfa2c8-81e9-45f6-9567-1398a01b280d",
    "outputId": "a79d8065-679d-4c9c-d031-03684cd158ff"
   },
   "outputs": [
    {
     "data": {
      "text/plain": [
       "([7, 2, 3, 4, 5, 6, 7],)"
      ]
     },
     "execution_count": 6,
     "metadata": {},
     "output_type": "execute_result"
    }
   ],
   "source": [
    "t1 =(l1,)\n",
    "t1\n",
    "t1[0][0]=7\n",
    "t1"
   ]
  },
  {
   "cell_type": "markdown",
   "id": "b27e7086-b7e8-415b-99f8-52753eccaaa5",
   "metadata": {
    "id": "b27e7086-b7e8-415b-99f8-52753eccaaa5"
   },
   "source": [
    "12. Write a Python program to remove an item from a tuple."
   ]
  },
  {
   "cell_type": "markdown",
   "id": "105fd767-76af-4993-bb63-d85fcbc2477d",
   "metadata": {
    "id": "105fd767-76af-4993-bb63-d85fcbc2477d"
   },
   "source": [
    "immutable"
   ]
  },
  {
   "cell_type": "markdown",
   "id": "d3f16a47-bb69-4b28-88be-bf1b7dcb4ed4",
   "metadata": {
    "id": "d3f16a47-bb69-4b28-88be-bf1b7dcb4ed4"
   },
   "source": [
    "13. Write a Python program to slice a tuple."
   ]
  },
  {
   "cell_type": "code",
   "execution_count": null,
   "id": "3d61e0ec-403d-4a32-8256-561d4e6d1e00",
   "metadata": {
    "id": "3d61e0ec-403d-4a32-8256-561d4e6d1e00",
    "outputId": "8a6a6761-549f-42c0-8b40-15716e904dce"
   },
   "outputs": [
    {
     "name": "stdout",
     "output_type": "stream",
     "text": [
      "(1, 2, 3, 4)\n"
     ]
    }
   ],
   "source": [
    "ts = (1,2,3,4)\n",
    "print(ts[:])"
   ]
  },
  {
   "cell_type": "markdown",
   "id": "cc03e9a5-8188-4a3b-b90a-8c9997fd94e0",
   "metadata": {
    "id": "cc03e9a5-8188-4a3b-b90a-8c9997fd94e0"
   },
   "source": [
    "14. Write a Python program to find the index of an item in a tuple."
   ]
  },
  {
   "cell_type": "code",
   "execution_count": null,
   "id": "ea20b607-8ee9-473e-87cb-087d6d482a18",
   "metadata": {
    "id": "ea20b607-8ee9-473e-87cb-087d6d482a18",
    "outputId": "42c2c537-95d4-437a-c9ad-ea89ba7b456f"
   },
   "outputs": [
    {
     "name": "stdout",
     "output_type": "stream",
     "text": [
      "3\n"
     ]
    }
   ],
   "source": [
    "ts = (1,2,3,4)\n",
    "print(ts.index(4))"
   ]
  },
  {
   "cell_type": "markdown",
   "id": "2679b55d-d43f-47df-b436-30d16fa485b1",
   "metadata": {
    "id": "2679b55d-d43f-47df-b436-30d16fa485b1"
   },
   "source": [
    "15. Write a Python program to find the length of a tuple."
   ]
  },
  {
   "cell_type": "code",
   "execution_count": null,
   "id": "b1da24b8-2668-423f-8ed2-26008cb6aa56",
   "metadata": {
    "id": "b1da24b8-2668-423f-8ed2-26008cb6aa56",
    "outputId": "8610990c-f932-4d00-c5d6-54bfe712ad5a"
   },
   "outputs": [
    {
     "data": {
      "text/plain": [
       "4"
      ]
     },
     "execution_count": 53,
     "metadata": {},
     "output_type": "execute_result"
    }
   ],
   "source": [
    "le = len(ts)\n",
    "le"
   ]
  },
  {
   "cell_type": "code",
   "execution_count": null,
   "id": "c7a041b9-d5b8-49db-80f2-2a96c69e87ca",
   "metadata": {
    "id": "c7a041b9-d5b8-49db-80f2-2a96c69e87ca",
    "outputId": "8fa1fec1-7012-4df2-b07e-05c7b0d38c07"
   },
   "outputs": [
    {
     "data": {
      "text/plain": [
       "4"
      ]
     },
     "execution_count": 55,
     "metadata": {},
     "output_type": "execute_result"
    }
   ],
   "source": [
    "count =0\n",
    "for i in ts:\n",
    "    count+=1\n",
    "count"
   ]
  },
  {
   "cell_type": "markdown",
   "id": "670f217a-b2ae-47ad-9e18-d0cbca0cf2fb",
   "metadata": {
    "id": "670f217a-b2ae-47ad-9e18-d0cbca0cf2fb"
   },
   "source": [
    "16. Write a Python program to convert a tuple to a dictionary."
   ]
  },
  {
   "cell_type": "code",
   "execution_count": null,
   "id": "e09a6ac5-dcbb-431c-8163-38b67c4c3c72",
   "metadata": {
    "id": "e09a6ac5-dcbb-431c-8163-38b67c4c3c72",
    "outputId": "29b09377-bc93-49b9-bd9e-390c9d02707e"
   },
   "outputs": [
    {
     "ename": "ValueError",
     "evalue": "dictionary update sequence element #0 has length 1; 2 is required",
     "output_type": "error",
     "traceback": [
      "\u001b[1;31m---------------------------------------------------------------------------\u001b[0m",
      "\u001b[1;31mValueError\u001b[0m                                Traceback (most recent call last)",
      "Cell \u001b[1;32mIn[66], line 2\u001b[0m\n\u001b[0;32m      1\u001b[0m ts \u001b[38;5;241m=\u001b[39m ([\u001b[38;5;124m'\u001b[39m\u001b[38;5;124mone\u001b[39m\u001b[38;5;124m'\u001b[39m],\u001b[38;5;241m1\u001b[39m)\n\u001b[1;32m----> 2\u001b[0m d \u001b[38;5;241m=\u001b[39m\u001b[38;5;28mdict\u001b[39m(\u001b[38;5;28mzip\u001b[39m(ts))\n\u001b[0;32m      3\u001b[0m d\n",
      "\u001b[1;31mValueError\u001b[0m: dictionary update sequence element #0 has length 1; 2 is required"
     ]
    }
   ],
   "source": [
    "ts = (['one'],1)\n",
    "d =dict(zip(ts))\n",
    "d"
   ]
  },
  {
   "cell_type": "markdown",
   "id": "fe0e0b89-a671-4007-9e9d-47f237ea4732",
   "metadata": {
    "id": "fe0e0b89-a671-4007-9e9d-47f237ea4732"
   },
   "source": [
    "17. Write a Python program to unzip a list of tuples into individual lists."
   ]
  },
  {
   "cell_type": "code",
   "execution_count": null,
   "id": "d1298446-7208-483d-ac5e-55c5e82878e1",
   "metadata": {
    "id": "d1298446-7208-483d-ac5e-55c5e82878e1",
    "outputId": "3618ef02-ec89-4fd7-db2e-eb92a746e30d"
   },
   "outputs": [
    {
     "name": "stdout",
     "output_type": "stream",
     "text": [
      "[1, 2, 3]\n",
      "[4, 5, 6]\n",
      "[7, 8, 9]\n"
     ]
    }
   ],
   "source": [
    "lot = [(1,2,3),(4,5,6),(7,8,9)]\n",
    "for tp in lot:\n",
    "    print(list(tp))\n"
   ]
  },
  {
   "cell_type": "markdown",
   "id": "7df2e262-2305-4f07-a19a-7b11fb209fa0",
   "metadata": {
    "id": "7df2e262-2305-4f07-a19a-7b11fb209fa0"
   },
   "source": [
    "18. Write a Python program to reverse a tuple."
   ]
  },
  {
   "cell_type": "code",
   "execution_count": null,
   "id": "a2b8ce6a-31a8-4fdb-b87a-8f7c15050850",
   "metadata": {
    "id": "a2b8ce6a-31a8-4fdb-b87a-8f7c15050850",
    "outputId": "ea1678d2-3365-4847-d67a-ae364939c44e"
   },
   "outputs": [
    {
     "name": "stdout",
     "output_type": "stream",
     "text": [
      "(4, 3, 2, 1) (4, 3, 2, 1) [4, 3, 2, 1]\n"
     ]
    }
   ],
   "source": [
    "ts = (1,2,3,4)\n",
    "t2 = ts[::-1]\n",
    "print(t2,tuple(reversed(ts)),sorted(ts,reverse=True))"
   ]
  },
  {
   "cell_type": "markdown",
   "id": "fea01bf9-bc5d-4c81-8b1b-8967c0ed35c7",
   "metadata": {
    "id": "fea01bf9-bc5d-4c81-8b1b-8967c0ed35c7"
   },
   "source": [
    "19. Write a Python program to convert a list of tuples into a dictionary."
   ]
  },
  {
   "cell_type": "code",
   "execution_count": null,
   "id": "3013bb5f-8ec9-45ea-9f74-393e1d84dce5",
   "metadata": {
    "id": "3013bb5f-8ec9-45ea-9f74-393e1d84dce5",
    "outputId": "91528628-db3f-4501-bea5-dde4e1e0bec7"
   },
   "outputs": [
    {
     "data": {
      "text/plain": [
       "{'two': 2, 'five': 5, 'nine': 9}"
      ]
     },
     "execution_count": 73,
     "metadata": {},
     "output_type": "execute_result"
    }
   ],
   "source": [
    "lot = [('two',2),('five',5),('nine',9)]\n",
    "dict(lot)"
   ]
  },
  {
   "cell_type": "code",
   "execution_count": null,
   "id": "27fe3c5c-d8c8-4f91-8621-163eb05975b5",
   "metadata": {
    "id": "27fe3c5c-d8c8-4f91-8621-163eb05975b5"
   },
   "outputs": [],
   "source": []
  },
  {
   "cell_type": "markdown",
   "id": "8a6d2b4f-7a4a-4c1e-81be-c02ef4b0e83a",
   "metadata": {
    "id": "8a6d2b4f-7a4a-4c1e-81be-c02ef4b0e83a"
   },
   "source": [
    "20. Write a Python program to print a tuple with string formatting.\n",
    "Sample tuple : (100, 200, 300)\n",
    "Output : This is a tuple (100, 200, 300)"
   ]
  },
  {
   "cell_type": "code",
   "execution_count": null,
   "id": "da112253-6a80-4604-9c41-30a360ea50f6",
   "metadata": {
    "id": "da112253-6a80-4604-9c41-30a360ea50f6",
    "outputId": "ba4e2edf-4c20-4b76-d45c-9c789862baed"
   },
   "outputs": [
    {
     "name": "stdout",
     "output_type": "stream",
     "text": [
      "tHIS IS TUPLE (1, 2, 3, 4)\n"
     ]
    }
   ],
   "source": [
    "ts = (1,2,3,4)\n",
    "st =str(ts)\n",
    "print(\"tHIS IS TUPLE\",st)"
   ]
  },
  {
   "cell_type": "code",
   "execution_count": null,
   "id": "ec03bf7e-d26a-4b3b-8f60-d06485206b46",
   "metadata": {
    "id": "ec03bf7e-d26a-4b3b-8f60-d06485206b46",
    "outputId": "40db1f65-d3d4-46cf-a7ee-5fea02758b22"
   },
   "outputs": [
    {
     "name": "stdout",
     "output_type": "stream",
     "text": [
      "(\n",
      "1\n",
      ",\n",
      " \n",
      "2\n",
      ",\n",
      " \n",
      "3\n",
      ",\n",
      " \n",
      "4\n",
      ")\n"
     ]
    }
   ],
   "source": [
    "for i in st:\n",
    "    print(i)"
   ]
  },
  {
   "cell_type": "markdown",
   "id": "882111d0-7f4f-4370-b2b4-d845be1e4f81",
   "metadata": {
    "id": "882111d0-7f4f-4370-b2b4-d845be1e4f81"
   },
   "source": [
    "21. Write a Python program to replace the last value of tuples in a list.\n",
    "Sample list: [(10, 20, 40), (40, 50, 60), (70, 80, 90)]\n",
    "Expected Output: [(10, 20, 100), (40, 50, 100), (70, 80, 100)]"
   ]
  },
  {
   "cell_type": "code",
   "execution_count": 11,
   "id": "a0614b45-6a4b-45f4-adf4-377709390fa2",
   "metadata": {
    "id": "a0614b45-6a4b-45f4-adf4-377709390fa2",
    "outputId": "6223cf3b-3ab4-4c85-acd4-4cbdb6bbaeba"
   },
   "outputs": [
    {
     "data": {
      "text/plain": [
       "[(10, 20, 100), (40, 50, 100), (70, 80, 100)]"
      ]
     },
     "execution_count": 11,
     "metadata": {},
     "output_type": "execute_result"
    }
   ],
   "source": [
    "l1 = [(10, 20, 40), (40, 50, 60), (70, 80, 90)]\n",
    "l2 =[]\n",
    "for i in l1:\n",
    "    l2.append(tuple((*i[:2],100)))\n",
    "l2\n"
   ]
  },
  {
   "cell_type": "code",
   "execution_count": 9,
   "id": "ab23c8aa-11be-4ef9-a706-835b5c88d9f8",
   "metadata": {},
   "outputs": [
    {
     "ename": "SyntaxError",
     "evalue": "cannot assign to subscript here. Maybe you meant '==' instead of '='? (3552062812.py, line 1)",
     "output_type": "error",
     "traceback": [
      "\u001b[1;36m  Cell \u001b[1;32mIn[9], line 1\u001b[1;36m\u001b[0m\n\u001b[1;33m    l2 = [l1, lambda:x, x[-1] = 100]\u001b[0m\n\u001b[1;37m                        ^\u001b[0m\n\u001b[1;31mSyntaxError\u001b[0m\u001b[1;31m:\u001b[0m cannot assign to subscript here. Maybe you meant '==' instead of '='?\n"
     ]
    }
   ],
   "source": []
  },
  {
   "cell_type": "markdown",
   "id": "64fccd95-eb9a-4475-a690-97c0f3ab470c",
   "metadata": {
    "id": "64fccd95-eb9a-4475-a690-97c0f3ab470c"
   },
   "source": [
    "22. Write a Python program to remove an empty tuple(s) from a list of tuples.\n",
    "Sample data: [(), (), ('',), ('a', 'b'), ('a', 'b', 'c'), ('d')]\n",
    "Expected output: [('',), ('a', 'b'), ('a', 'b', 'c'), 'd']"
   ]
  },
  {
   "cell_type": "code",
   "execution_count": null,
   "id": "75e22009-b7ff-44d1-9ad4-fec06516e3d8",
   "metadata": {
    "id": "75e22009-b7ff-44d1-9ad4-fec06516e3d8",
    "outputId": "bd53482a-62ad-425f-dc64-edaa87460e50"
   },
   "outputs": [
    {
     "data": {
      "text/plain": [
       "[('',), ('a', 'b'), ('a', 'b', 'c'), 'd']"
      ]
     },
     "execution_count": 90,
     "metadata": {},
     "output_type": "execute_result"
    }
   ],
   "source": [
    "sd = [(), (), ('',), ('a', 'b'), ('a', 'b', 'c'), ('d')]\n",
    "l2 = [elem for elem in sd if len(elem) != 0]\n",
    "l2"
   ]
  },
  {
   "cell_type": "markdown",
   "id": "68fda17f-ca44-4733-afa3-1fc2e2bb9a45",
   "metadata": {
    "id": "68fda17f-ca44-4733-afa3-1fc2e2bb9a45"
   },
   "source": [
    "23. Write a Python program to sort a tuple by its float element.\n",
    "Sample data: [('item1', '12.20'), ('item2', '15.10'), ('item3', '24.5')]\n",
    "Expected Output: [('item3', '24.5'), ('item2', '15.10'), ('item1', '12.20')]"
   ]
  },
  {
   "cell_type": "code",
   "execution_count": 15,
   "id": "548baa7e-54c4-4ba5-bbeb-93b01a4aa086",
   "metadata": {
    "id": "548baa7e-54c4-4ba5-bbeb-93b01a4aa086",
    "outputId": "c14f5406-6fc0-414c-9b16-d111b7fd6163"
   },
   "outputs": [
    {
     "name": "stdout",
     "output_type": "stream",
     "text": [
      "[('item3', '24.5'), ('item2', '15.10'), ('item1', '12.20')]\n"
     ]
    }
   ],
   "source": [
    "ls = [('item1', '12.20'), ('item2', '15.10'), ('item3', '24.5')]\n",
    "l1 =[float((t[1])) for t in ls]\n",
    "l1.sort(reverse = True)\n",
    "l2 = [()]*len(l1)\n",
    "for tup in ls:\n",
    "    idx = l1.index(float(tup[1]))\n",
    "    l2[idx] = tup\n",
    "print(l2)"
   ]
  },
  {
   "cell_type": "code",
   "execution_count": 19,
   "id": "d9cc041e-432c-49b9-9d98-061ee0a21579",
   "metadata": {},
   "outputs": [
    {
     "data": {
      "text/plain": [
       "[('item3', '24.5'), ('item2', '15.10'), ('item1', '12.20')]"
      ]
     },
     "execution_count": 19,
     "metadata": {},
     "output_type": "execute_result"
    }
   ],
   "source": [
    "pp = sorted(ls,key = lambda x: x[-1],reverse = True)\n",
    "pp"
   ]
  },
  {
   "cell_type": "markdown",
   "id": "ae4dd42c-8bdb-49f7-9d75-371f8afa5fec",
   "metadata": {
    "id": "ae4dd42c-8bdb-49f7-9d75-371f8afa5fec"
   },
   "source": [
    "24. Write a Python program to count the elements in a list until an element is a tuple."
   ]
  },
  {
   "cell_type": "code",
   "execution_count": null,
   "id": "e5bbf60e-5242-491e-8bad-c2557fa0753c",
   "metadata": {
    "id": "e5bbf60e-5242-491e-8bad-c2557fa0753c",
    "outputId": "b95e3737-6d6a-40b2-95e7-f2b3f99bbcce"
   },
   "outputs": [
    {
     "name": "stdout",
     "output_type": "stream",
     "text": [
      "6\n"
     ]
    }
   ],
   "source": [
    "lot = [1,[2,22],3,4,5,6,(1,2,3)]\n",
    "count=0\n",
    "for i in lot:\n",
    "    if(type(i) == tuple):\n",
    "        break\n",
    "    count+= 1\n",
    "print(count)"
   ]
  },
  {
   "cell_type": "markdown",
   "id": "0b422ca9-7186-485c-a8ab-b11fbd8dc7e1",
   "metadata": {
    "id": "0b422ca9-7186-485c-a8ab-b11fbd8dc7e1"
   },
   "source": [
    "25. Write a Python program to convert a given string list to a tuple.\n",
    "Original string: python 3.0\n",
    "\n",
    "Convert the said string to a tuple:\n",
    "('p', 'y', 't', 'h', 'o', 'n', '3', '.', '0')"
   ]
  },
  {
   "cell_type": "code",
   "execution_count": null,
   "id": "c499a69b-56c1-4ed6-a828-548a692e7649",
   "metadata": {
    "id": "c499a69b-56c1-4ed6-a828-548a692e7649",
    "outputId": "852008b9-923a-4239-f0d7-5f5e4fa616ab"
   },
   "outputs": [
    {
     "data": {
      "text/plain": [
       "('p', 'y', 't', 'h', 'o', 'n', ' ', '3', '.', '0')"
      ]
     },
     "execution_count": 2,
     "metadata": {},
     "output_type": "execute_result"
    }
   ],
   "source": [
    "st = 'python 3.0'\n",
    "stu = tuple(st)\n",
    "stu"
   ]
  },
  {
   "cell_type": "markdown",
   "id": "ff4e3270-dda9-4f64-9275-45cb9c7c806b",
   "metadata": {
    "id": "ff4e3270-dda9-4f64-9275-45cb9c7c806b"
   },
   "source": [
    "26. Write a Python program to calculate the product, multiplying all the numbers in a given tuple.\n",
    "Original Tuple:\n",
    "(4, 3, 2, 2, -1, 18)\n",
    "Product - multiplying all the numbers of the said tuple: -864\n",
    "Original Tuple:\n",
    "(2, 4, 8, 8, 3, 2, 9)\n",
    "Product - multiplying all the numbers of the said tuple: 27648"
   ]
  },
  {
   "cell_type": "code",
   "execution_count": null,
   "id": "2ea2eeae-5d8d-48ac-98e4-e666029d7902",
   "metadata": {
    "id": "2ea2eeae-5d8d-48ac-98e4-e666029d7902",
    "outputId": "34e8e0d6-185e-4c37-d749-5bbfc95425c7"
   },
   "outputs": [
    {
     "name": "stdout",
     "output_type": "stream",
     "text": [
      "-864\n"
     ]
    }
   ],
   "source": [
    "T= (4, 3, 2, 2, -1, 18)\n",
    "mul =1\n",
    "for i in T:\n",
    "    mul *= i\n",
    "print(mul)"
   ]
  },
  {
   "cell_type": "markdown",
   "id": "e90675bc-5731-4fc9-a12b-039ed7b439f3",
   "metadata": {
    "id": "e90675bc-5731-4fc9-a12b-039ed7b439f3"
   },
   "source": [
    "27. Write a Python program to calculate the average value of the numbers in a given tuple of tuples.\n",
    "Original Tuple:\n",
    "((10, 10, 10, 12), (30, 45, 56, 45), (81, 80, 39, 32), (1, 2, 3, 4))\n",
    "Average value of the numbers of the said tuple of tuples:\n",
    "[30.5, 34.25, 27.0, 23.25]"
   ]
  },
  {
   "cell_type": "code",
   "execution_count": null,
   "id": "cecb3be0-223f-4060-8cc8-0982f3537a12",
   "metadata": {
    "id": "cecb3be0-223f-4060-8cc8-0982f3537a12",
    "outputId": "1633d33b-80a7-46ba-c5dc-40a6568ba9af"
   },
   "outputs": [
    {
     "data": {
      "text/plain": [
       "[10.5, 54.5, 112.5, 115.0]"
      ]
     },
     "execution_count": 12,
     "metadata": {},
     "output_type": "execute_result"
    }
   ],
   "source": [
    "gt = ((10, 10, 10, 12), (30, 45, 56, 45), (81, 80, 39, 32), (1, 2, 3, 4))\n",
    "lt = []\n",
    "summ =0\n",
    "for i in gt:\n",
    "    for j in i:\n",
    "        summ+= j\n",
    "    lt.append(summ/len(i))\n",
    "lt\n"
   ]
  },
  {
   "cell_type": "code",
   "execution_count": 22,
   "id": "c8fb14f2-68f1-485c-9dbd-eea0b2e57c4f",
   "metadata": {},
   "outputs": [
    {
     "data": {
      "text/plain": [
       "[10.5, 44.0, 58.0, 2.5]"
      ]
     },
     "execution_count": 22,
     "metadata": {},
     "output_type": "execute_result"
    }
   ],
   "source": [
    "gt = ((10, 10, 10, 12), (30, 45, 56, 45), (81, 80, 39, 32), (1, 2, 3, 4))\n",
    "lt = []\n",
    "summ =0\n",
    "for i in gt:\n",
    "    summ = sum(i)\n",
    "    lt.append(summ/len(i))\n",
    "lt"
   ]
  },
  {
   "cell_type": "markdown",
   "id": "0b6b0fe4-f4c8-4614-9ef2-933b87676721",
   "metadata": {
    "id": "0b6b0fe4-f4c8-4614-9ef2-933b87676721"
   },
   "source": [
    "28. Write a Python program to convert a tuple of string values to a tuple of integer values.\n",
    "Original tuple values:\n",
    "(('333', '33'), ('1416', '55'))\n",
    "New tuple values:\n",
    "((333, 33), (1416, 55))"
   ]
  },
  {
   "cell_type": "code",
   "execution_count": null,
   "id": "910a7193-f6bc-4b9c-b7f6-1a70d92d25f3",
   "metadata": {
    "id": "910a7193-f6bc-4b9c-b7f6-1a70d92d25f3",
    "outputId": "f0aee632-ffd7-4ddc-9c37-6ae1504d935b"
   },
   "outputs": [
    {
     "data": {
      "text/plain": [
       "((333, 33), (1416, 55))"
      ]
     },
     "execution_count": 44,
     "metadata": {},
     "output_type": "execute_result"
    }
   ],
   "source": [
    "ts = (('333', '33'), ('1416', '55'))\n",
    "lt = []\n",
    "ls = []\n",
    "\n",
    "for i in ts:\n",
    "    for j in i:\n",
    "        lt.append(int(j))\n",
    "    ls.append(tuple(lt))\n",
    "    lt=[]\n",
    "tuple(ls)"
   ]
  },
  {
   "cell_type": "markdown",
   "id": "51160a98-8359-46d2-af19-80bef380746d",
   "metadata": {
    "id": "51160a98-8359-46d2-af19-80bef380746d"
   },
   "source": [
    "29. Write a Python program to convert a given tuple of positive integers into an integer.\n",
    "Original tuple:\n",
    "(1, 2, 3)\n",
    "Convert the said tuple of positive integers into an integer:\n",
    "123\n",
    "Original tuple:\n",
    "(10, 20, 40, 5, 70)\n",
    "Convert the said tuple of positive integers into an integer:\n",
    "102040570"
   ]
  },
  {
   "cell_type": "code",
   "execution_count": null,
   "id": "1a3c7b22-6e67-49c7-a233-713da458f5df",
   "metadata": {
    "id": "1a3c7b22-6e67-49c7-a233-713da458f5df",
    "outputId": "1be652e9-b055-4197-96f9-d1821fce9f13"
   },
   "outputs": [
    {
     "data": {
      "text/plain": [
       "102040570"
      ]
     },
     "execution_count": 33,
     "metadata": {},
     "output_type": "execute_result"
    }
   ],
   "source": [
    "e =(10, 20, 40, 5, 70)\n",
    "st= \"\"\n",
    "for i in e:\n",
    "    st+= str(i)\n",
    "int(st)\n"
   ]
  },
  {
   "cell_type": "markdown",
   "id": "b3adba61-2aa3-457a-afc8-0505be58e13b",
   "metadata": {
    "id": "b3adba61-2aa3-457a-afc8-0505be58e13b"
   },
   "source": [
    "30. Write a Python program to check if a specified element appears in a tuple of tuples.\n",
    "Original list:\n",
    "(('Red', 'White', 'Blue'), ('Green', 'Pink', 'Purple'), ('Orange', 'Yellow', 'Lime'))\n",
    "Check if White presenet in said tuple of tuples!\n",
    "True\n",
    "Check if White presenet in said tuple of tuples!\n",
    "True\n",
    "Check if Olive presenet in said tuple of tuples!\n",
    "False"
   ]
  },
  {
   "cell_type": "code",
   "execution_count": null,
   "id": "ecc650f6-96bd-481d-8f65-ed14a60452bf",
   "metadata": {
    "id": "ecc650f6-96bd-481d-8f65-ed14a60452bf",
    "outputId": "f096d17e-151d-4efa-928a-604c01755b78"
   },
   "outputs": [
    {
     "name": "stdout",
     "output_type": "stream",
     "text": [
      "True\n"
     ]
    }
   ],
   "source": [
    "cl =(('Red', 'White', 'Blue'), ('Green', 'Pink', 'Purple'), ('Orange', 'Yellow', 'Lime'))\n",
    "count =0\n",
    "for i in cl:\n",
    "    for j in i:\n",
    "        if(j == 'White'):\n",
    "            count=1\n",
    "if(count == 1):\n",
    "    print(True)"
   ]
  },
  {
   "cell_type": "code",
   "execution_count": 28,
   "id": "7e3b01ec-e959-4b65-a8b1-cbe1c5b10baa",
   "metadata": {},
   "outputs": [
    {
     "name": "stdout",
     "output_type": "stream",
     "text": [
      "('Red', 'White', 'Blue')\n",
      "('Green', 'Pink', 'Purple')\n",
      "('Orange', 'Yellow', 'Lime')\n",
      "true\n"
     ]
    }
   ],
   "source": [
    "cl =(('Red', 'White', 'Blue'), ('Green', 'Pink', 'Purple'), ('Orange', 'Yellow', 'Lime'))\n",
    "c=0\n",
    "for i in cl:\n",
    "    print(i)\n",
    "    if('White' in i):\n",
    "        c=1\n",
    "if(c==1):\n",
    "    print(\"true\")\n",
    "else:\n",
    "    print(\"false\")"
   ]
  },
  {
   "cell_type": "code",
   "execution_count": 27,
   "id": "29ebbf86-ddec-4f10-8ec7-9d2f4710dfd1",
   "metadata": {},
   "outputs": [
    {
     "name": "stdout",
     "output_type": "stream",
     "text": [
      "sbh\n"
     ]
    }
   ],
   "source": []
  },
  {
   "cell_type": "markdown",
   "id": "5a650c3f-5e21-4389-9a8a-24df2f429749",
   "metadata": {
    "id": "5a650c3f-5e21-4389-9a8a-24df2f429749"
   },
   "source": [
    "31. Write a Python program to compute the element-wise sum of given tuples.\n",
    "Original lists:\n",
    "(1, 2, 3, 4)\n",
    "(3, 5, 2, 1)\n",
    "(2, 2, 3, 1)\n",
    "Element-wise sum of the said tuples:\n",
    "(6, 9, 8, 6)"
   ]
  },
  {
   "cell_type": "code",
   "execution_count": null,
   "id": "4adc2e59-805c-4311-9ea3-7ef8f559e414",
   "metadata": {
    "id": "4adc2e59-805c-4311-9ea3-7ef8f559e414",
    "outputId": "88937e33-9ee4-4a3b-85e1-afb79e99e5d5"
   },
   "outputs": [
    {
     "data": {
      "text/plain": [
       "(6, 9, 8, 6)"
      ]
     },
     "execution_count": 46,
     "metadata": {},
     "output_type": "execute_result"
    }
   ],
   "source": [
    "t1=(1, 2, 3, 4)\n",
    "t2=(3, 5, 2, 1)\n",
    "t3=(2, 2, 3, 1)\n",
    "ls =[]\n",
    "for i,j,k in zip(t1,t2,t3):\n",
    "    ls.append(i+j+k)\n",
    "tuple(ls)"
   ]
  },
  {
   "cell_type": "markdown",
   "id": "5b54caae-ea23-4e61-9e14-01ea28766ba5",
   "metadata": {
    "id": "5b54caae-ea23-4e61-9e14-01ea28766ba5"
   },
   "source": [
    "32. Write a Python program to compute the sum of all the elements of each tuple stored inside a list of tuples.\n",
    "Original list of tuples:\n",
    "[(1, 2), (2, 3), (3, 4)]\n",
    "Sum of all the elements of each tuple stored inside the said list of tuples:\n",
    "[3, 5, 7]\n",
    "Original list of tuples:\n",
    "[(1, 2, 6), (2, 3, -6), (3, 4), (2, 2, 2, 2)]\n",
    "Sum of all the elements of each tuple stored inside the said list of tuples:\n",
    "[9, -1, 7, 8]"
   ]
  },
  {
   "cell_type": "code",
   "execution_count": null,
   "id": "1891be4c-3d21-468c-abad-28e67a44de30",
   "metadata": {
    "id": "1891be4c-3d21-468c-abad-28e67a44de30",
    "outputId": "054f7940-552d-4c49-910e-c850f9161545"
   },
   "outputs": [
    {
     "data": {
      "text/plain": [
       "[3, 5, 7]"
      ]
     },
     "execution_count": 47,
     "metadata": {},
     "output_type": "execute_result"
    }
   ],
   "source": [
    "tp= [(1, 2), (2, 3), (3, 4)]\n",
    "lt =[]\n",
    "for i in tp:\n",
    "    sm=0\n",
    "    for j in i:\n",
    "        sm += j\n",
    "    lt.append(sm)\n",
    "lt"
   ]
  },
  {
   "cell_type": "code",
   "execution_count": 29,
   "id": "9155ab37-6557-4602-b8fe-e18a9bb513f7",
   "metadata": {},
   "outputs": [
    {
     "data": {
      "text/plain": [
       "[3, 5, 7]"
      ]
     },
     "execution_count": 29,
     "metadata": {},
     "output_type": "execute_result"
    }
   ],
   "source": [
    "tp= [(1, 2), (2, 3), (3, 4)]\n",
    "lt =[]\n",
    "for i in tp:\n",
    "    sm = sum(i)\n",
    "    lt.append(sm)\n",
    "lt"
   ]
  },
  {
   "cell_type": "code",
   "execution_count": null,
   "id": "2ced8f6f-8af0-4f42-97b0-2c7030929fbf",
   "metadata": {
    "id": "2ced8f6f-8af0-4f42-97b0-2c7030929fbf"
   },
   "outputs": [],
   "source": [
    "33. Write a Python program to convert a given list of tuples to a list of lists.\n",
    "Original list of tuples: [(1, 2), (2, 3), (3, 4)]\n",
    "Convert the said list of tuples to a list of lists: [[1, 2], [2, 3], [3, 4]]\n",
    "Original list of tuples: [(1, 2), (2, 3, 5), (3, 4), (2, 3, 4, 2)]\n",
    "Convert the said list of tuples to a list of lists: [[1, 2], [2, 3, 5], [3, 4], [2, 3, 4, 2]]"
   ]
  },
  {
   "cell_type": "code",
   "execution_count": null,
   "id": "6d4d02b1-7e93-498a-84c7-23e367a95c41",
   "metadata": {
    "id": "6d4d02b1-7e93-498a-84c7-23e367a95c41",
    "outputId": "b28522d1-89c0-4532-fd18-694eb992466f"
   },
   "outputs": [
    {
     "data": {
      "text/plain": [
       "[[1, 2], [2, 3], [3, 4]]"
      ]
     },
     "execution_count": 49,
     "metadata": {},
     "output_type": "execute_result"
    }
   ],
   "source": [
    "l= [list(elem) for elem in tp ]\n",
    "l"
   ]
  },
  {
   "cell_type": "code",
   "execution_count": 21,
   "id": "1d7092e4-7df7-404e-bde5-63d4ee51147a",
   "metadata": {
    "id": "1d7092e4-7df7-404e-bde5-63d4ee51147a"
   },
   "outputs": [
    {
     "data": {
      "text/plain": [
       "10"
      ]
     },
     "execution_count": 21,
     "metadata": {},
     "output_type": "execute_result"
    }
   ],
   "source": [
    "l1 = (1,2,3,4)\n",
    "sum(l1)"
   ]
  },
  {
   "cell_type": "code",
   "execution_count": null,
   "id": "32c4b1c1-0ab8-4ce9-b179-2e3ea49c7f70",
   "metadata": {},
   "outputs": [],
   "source": []
  }
 ],
 "metadata": {
  "colab": {
   "provenance": []
  },
  "kernelspec": {
   "display_name": "Python 3 (ipykernel)",
   "language": "python",
   "name": "python3"
  },
  "language_info": {
   "codemirror_mode": {
    "name": "ipython",
    "version": 3
   },
   "file_extension": ".py",
   "mimetype": "text/x-python",
   "name": "python",
   "nbconvert_exporter": "python",
   "pygments_lexer": "ipython3",
   "version": "3.11.5"
  }
 },
 "nbformat": 4,
 "nbformat_minor": 5
}
