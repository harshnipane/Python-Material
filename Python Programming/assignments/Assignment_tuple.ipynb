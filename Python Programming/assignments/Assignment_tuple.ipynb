{
 "cells": [
  {
   "cell_type": "markdown",
   "id": "eb99f7cb-0b30-478b-b90e-862f1bd63248",
   "metadata": {},
   "source": [
    "1. Write a Python program to create a tuple."
   ]
  },
  {
   "cell_type": "code",
   "execution_count": 8,
   "id": "6d7a40a6-736b-4c38-bf15-2051b6f5cd9d",
   "metadata": {},
   "outputs": [
    {
     "data": {
      "text/plain": [
       "(1, 2, 3, 4)"
      ]
     },
     "execution_count": 8,
     "metadata": {},
     "output_type": "execute_result"
    }
   ],
   "source": [
    "t= (1,2,3,4)\n",
    "t"
   ]
  },
  {
   "cell_type": "markdown",
   "id": "a00529de-4699-4c7f-b15e-5c8b8fe42bcd",
   "metadata": {},
   "source": [
    "2. Write a Python program to create a tuple with different data types"
   ]
  },
  {
   "cell_type": "code",
   "execution_count": 12,
   "id": "bf5f170d-42c0-4df6-97f9-a5165b1b7d88",
   "metadata": {},
   "outputs": [
    {
     "name": "stdout",
     "output_type": "stream",
     "text": [
      "(10, [20, 30], 40) ('abc', [20, 30], 70.8)\n"
     ]
    }
   ],
   "source": [
    "t1 = ( 10, [20,30], 40)\n",
    "t2 = (\"abc\",[20,30],70.8)\n",
    "print(t1,t2)"
   ]
  },
  {
   "cell_type": "markdown",
   "id": "6d3ef67d-b9dd-4c57-8b7a-0630ae255450",
   "metadata": {},
   "source": [
    "3. Write a Python program to create a tuple of numbers and print one item."
   ]
  },
  {
   "cell_type": "code",
   "execution_count": null,
   "id": "ea2ac03b-f3d0-4755-a1bf-3ef0709f030e",
   "metadata": {},
   "outputs": [],
   "source": []
  },
  {
   "cell_type": "markdown",
   "id": "1751136f-14f2-49f0-98e2-125cdb9701f6",
   "metadata": {},
   "source": [
    "4. Write a Python program to unpack a tuple into several variables."
   ]
  },
  {
   "cell_type": "code",
   "execution_count": 3,
   "id": "53566d3f-1616-47af-99eb-00a028dc04ea",
   "metadata": {},
   "outputs": [
    {
     "name": "stdout",
     "output_type": "stream",
     "text": [
      "1 2\n"
     ]
    }
   ],
   "source": [
    "v1,v2= (1,2)\n",
    "print(v1,v2)"
   ]
  },
  {
   "cell_type": "markdown",
   "id": "c34b04bc-ecd3-42c2-926a-3efe0802a045",
   "metadata": {},
   "source": [
    "5. Write a Python program to add an item to a tuple."
   ]
  },
  {
   "cell_type": "markdown",
   "id": "6d985606-4244-4169-b102-56d4ca337b64",
   "metadata": {},
   "source": [
    "cant add elements in tuple"
   ]
  },
  {
   "cell_type": "markdown",
   "id": "4360135d-e2ec-4fda-85a2-061aa93b5ab2",
   "metadata": {},
   "source": [
    "6. Write a Python program to convert a tuple to a string."
   ]
  },
  {
   "cell_type": "code",
   "execution_count": 14,
   "id": "e301db8a-3ea6-4049-89ce-c0e887336a26",
   "metadata": {},
   "outputs": [
    {
     "data": {
      "text/plain": [
       "'harsh'"
      ]
     },
     "execution_count": 14,
     "metadata": {},
     "output_type": "execute_result"
    }
   ],
   "source": [
    "t2 = ('h','a','r','s','h')\n",
    "\"\".join(t2)"
   ]
  },
  {
   "cell_type": "code",
   "execution_count": 15,
   "id": "b8c93e48-d9ec-4460-bb33-665b42478e24",
   "metadata": {},
   "outputs": [
    {
     "data": {
      "text/plain": [
       "\"('h', 'a', 'r', 's', 'h')\""
      ]
     },
     "execution_count": 15,
     "metadata": {},
     "output_type": "execute_result"
    }
   ],
   "source": [
    "t1 = ('h','a','r','s','h')\n",
    "str(t1)"
   ]
  },
  {
   "cell_type": "code",
   "execution_count": 16,
   "id": "7ce06fe7-6ab1-4cb7-a4c2-5d1278d633a7",
   "metadata": {},
   "outputs": [
    {
     "data": {
      "text/plain": [
       "'1234'"
      ]
     },
     "execution_count": 16,
     "metadata": {},
     "output_type": "execute_result"
    }
   ],
   "source": [
    "t3 = (1,2,3,4)\n",
    "s3 =\"\"\n",
    "for i in t3:\n",
    "    s3+= str(i)\n",
    "s3    "
   ]
  },
  {
   "cell_type": "markdown",
   "id": "fe242b20-166c-4852-b8b5-1c212485fc59",
   "metadata": {},
   "source": [
    "7. Write a Python program to get the 4th element from the last element of a tuple."
   ]
  },
  {
   "cell_type": "code",
   "execution_count": 17,
   "id": "cae8ce08-5507-468e-9816-fee123b803cd",
   "metadata": {},
   "outputs": [
    {
     "data": {
      "text/plain": [
       "3"
      ]
     },
     "execution_count": 17,
     "metadata": {},
     "output_type": "execute_result"
    }
   ],
   "source": [
    "t3 = (1,2,3,4,5,6)\n",
    "n = t3[-4]\n",
    "n"
   ]
  },
  {
   "cell_type": "markdown",
   "id": "48eb8498-d810-45e9-83ad-878f5dd5f741",
   "metadata": {},
   "source": [
    "9. Write a Python program to find repeated items in a tuple."
   ]
  },
  {
   "cell_type": "code",
   "execution_count": 28,
   "id": "d5f308fd-5d67-4282-9027-6b2d7317e000",
   "metadata": {},
   "outputs": [
    {
     "name": "stdout",
     "output_type": "stream",
     "text": [
      "repeated elem: 3\n",
      "repeated elem: 6\n"
     ]
    }
   ],
   "source": [
    "t3 = (1,2,3,3,4,5,6,6,7)\n",
    "for e1 in set(t3):\n",
    "    if t3.count(e1) > 1:\n",
    "        print(\"repeated elem:\", e1)"
   ]
  },
  {
   "cell_type": "markdown",
   "id": "6422a0b3-ac77-4e17-a4a6-94ae9822d668",
   "metadata": {},
   "source": [
    "8. Write a Python program to create the  a tuple in another tuple."
   ]
  },
  {
   "cell_type": "code",
   "execution_count": 62,
   "id": "11c5551f-baa1-414a-b6f8-1299b71db4cc",
   "metadata": {},
   "outputs": [
    {
     "data": {
      "text/plain": [
       "(1, 2, 3, (7, 5))"
      ]
     },
     "execution_count": 62,
     "metadata": {},
     "output_type": "execute_result"
    }
   ],
   "source": [
    "t2 = (7,5)\n",
    "t1 = (1,2,3,t2)\n",
    "t1"
   ]
  },
  {
   "cell_type": "markdown",
   "id": "30aae2e9-cdb2-4f66-bf1e-29936bbb01d0",
   "metadata": {},
   "source": [
    "10. Write a Python program to check whether an element exists within a tuple."
   ]
  },
  {
   "cell_type": "code",
   "execution_count": 29,
   "id": "4e2e57a9-51c7-4367-9367-909493e92fb2",
   "metadata": {},
   "outputs": [
    {
     "name": "stdout",
     "output_type": "stream",
     "text": [
      "Yes\n"
     ]
    }
   ],
   "source": [
    "n=3\n",
    "tp = (1,2,3,3,4,5,6,6,7)\n",
    "if(n in tp):\n",
    "    print(\"Yes\")"
   ]
  },
  {
   "cell_type": "markdown",
   "id": "c2875243-c879-40bd-8581-1f0ae2ee57e5",
   "metadata": {},
   "source": [
    "11. Write a Python program to convert a list to a tuple."
   ]
  },
  {
   "cell_type": "code",
   "execution_count": 52,
   "id": "6c00e900-f80a-4e8b-b454-852648944fa8",
   "metadata": {},
   "outputs": [
    {
     "data": {
      "text/plain": [
       "(1, 2, 3, 4, 5, 6, 7)"
      ]
     },
     "execution_count": 52,
     "metadata": {},
     "output_type": "execute_result"
    }
   ],
   "source": [
    "l1 = [1,2,3,4,5,6,7]\n",
    "t =tuple(l1)\n",
    "t"
   ]
  },
  {
   "cell_type": "code",
   "execution_count": 51,
   "id": "66cfa2c8-81e9-45f6-9567-1398a01b280d",
   "metadata": {},
   "outputs": [
    {
     "data": {
      "text/plain": [
       "([1, 2, 3, 4, 5, 6, 7],)"
      ]
     },
     "execution_count": 51,
     "metadata": {},
     "output_type": "execute_result"
    }
   ],
   "source": [
    "t1 =(l1,)\n",
    "t1"
   ]
  },
  {
   "cell_type": "markdown",
   "id": "b27e7086-b7e8-415b-99f8-52753eccaaa5",
   "metadata": {},
   "source": [
    "12. Write a Python program to remove an item from a tuple."
   ]
  },
  {
   "cell_type": "markdown",
   "id": "105fd767-76af-4993-bb63-d85fcbc2477d",
   "metadata": {},
   "source": [
    "immutable"
   ]
  },
  {
   "cell_type": "markdown",
   "id": "d3f16a47-bb69-4b28-88be-bf1b7dcb4ed4",
   "metadata": {},
   "source": [
    "13. Write a Python program to slice a tuple."
   ]
  },
  {
   "cell_type": "code",
   "execution_count": 42,
   "id": "3d61e0ec-403d-4a32-8256-561d4e6d1e00",
   "metadata": {},
   "outputs": [
    {
     "name": "stdout",
     "output_type": "stream",
     "text": [
      "(1, 2, 3, 4)\n"
     ]
    }
   ],
   "source": [
    "ts = (1,2,3,4)\n",
    "print(ts[:])"
   ]
  },
  {
   "cell_type": "markdown",
   "id": "cc03e9a5-8188-4a3b-b90a-8c9997fd94e0",
   "metadata": {},
   "source": [
    "14. Write a Python program to find the index of an item in a tuple."
   ]
  },
  {
   "cell_type": "code",
   "execution_count": 44,
   "id": "ea20b607-8ee9-473e-87cb-087d6d482a18",
   "metadata": {},
   "outputs": [
    {
     "name": "stdout",
     "output_type": "stream",
     "text": [
      "3\n"
     ]
    }
   ],
   "source": [
    "ts = (1,2,3,4)\n",
    "print(ts.index(4))"
   ]
  },
  {
   "cell_type": "markdown",
   "id": "2679b55d-d43f-47df-b436-30d16fa485b1",
   "metadata": {},
   "source": [
    "15. Write a Python program to find the length of a tuple."
   ]
  },
  {
   "cell_type": "code",
   "execution_count": 53,
   "id": "b1da24b8-2668-423f-8ed2-26008cb6aa56",
   "metadata": {},
   "outputs": [
    {
     "data": {
      "text/plain": [
       "4"
      ]
     },
     "execution_count": 53,
     "metadata": {},
     "output_type": "execute_result"
    }
   ],
   "source": [
    "le = len(ts)\n",
    "le"
   ]
  },
  {
   "cell_type": "code",
   "execution_count": 55,
   "id": "c7a041b9-d5b8-49db-80f2-2a96c69e87ca",
   "metadata": {},
   "outputs": [
    {
     "data": {
      "text/plain": [
       "4"
      ]
     },
     "execution_count": 55,
     "metadata": {},
     "output_type": "execute_result"
    }
   ],
   "source": [
    "count =0\n",
    "for i in ts:\n",
    "    count+=1\n",
    "count    "
   ]
  },
  {
   "cell_type": "markdown",
   "id": "670f217a-b2ae-47ad-9e18-d0cbca0cf2fb",
   "metadata": {},
   "source": [
    "16. Write a Python program to convert a tuple to a dictionary."
   ]
  },
  {
   "cell_type": "code",
   "execution_count": 66,
   "id": "e09a6ac5-dcbb-431c-8163-38b67c4c3c72",
   "metadata": {},
   "outputs": [
    {
     "ename": "ValueError",
     "evalue": "dictionary update sequence element #0 has length 1; 2 is required",
     "output_type": "error",
     "traceback": [
      "\u001b[1;31m---------------------------------------------------------------------------\u001b[0m",
      "\u001b[1;31mValueError\u001b[0m                                Traceback (most recent call last)",
      "Cell \u001b[1;32mIn[66], line 2\u001b[0m\n\u001b[0;32m      1\u001b[0m ts \u001b[38;5;241m=\u001b[39m ([\u001b[38;5;124m'\u001b[39m\u001b[38;5;124mone\u001b[39m\u001b[38;5;124m'\u001b[39m],\u001b[38;5;241m1\u001b[39m)\n\u001b[1;32m----> 2\u001b[0m d \u001b[38;5;241m=\u001b[39m\u001b[38;5;28mdict\u001b[39m(\u001b[38;5;28mzip\u001b[39m(ts))\n\u001b[0;32m      3\u001b[0m d\n",
      "\u001b[1;31mValueError\u001b[0m: dictionary update sequence element #0 has length 1; 2 is required"
     ]
    }
   ],
   "source": [
    "ts = (['one'],1)\n",
    "d =dict(zip(ts))\n",
    "d"
   ]
  },
  {
   "cell_type": "markdown",
   "id": "fe0e0b89-a671-4007-9e9d-47f237ea4732",
   "metadata": {},
   "source": [
    "17. Write a Python program to unzip a list of tuples into individual lists."
   ]
  },
  {
   "cell_type": "code",
   "execution_count": 69,
   "id": "d1298446-7208-483d-ac5e-55c5e82878e1",
   "metadata": {},
   "outputs": [
    {
     "name": "stdout",
     "output_type": "stream",
     "text": [
      "[1, 2, 3]\n",
      "[4, 5, 6]\n",
      "[7, 8, 9]\n"
     ]
    }
   ],
   "source": [
    "lot = [(1,2,3),(4,5,6),(7,8,9)]\n",
    "for tp in lot:\n",
    "    print(list(tp))\n"
   ]
  },
  {
   "cell_type": "markdown",
   "id": "7df2e262-2305-4f07-a19a-7b11fb209fa0",
   "metadata": {},
   "source": [
    "18. Write a Python program to reverse a tuple."
   ]
  },
  {
   "cell_type": "code",
   "execution_count": 72,
   "id": "a2b8ce6a-31a8-4fdb-b87a-8f7c15050850",
   "metadata": {},
   "outputs": [
    {
     "name": "stdout",
     "output_type": "stream",
     "text": [
      "(4, 3, 2, 1) (4, 3, 2, 1) [4, 3, 2, 1]\n"
     ]
    }
   ],
   "source": [
    "ts = (1,2,3,4)\n",
    "t2 = ts[::-1]\n",
    "print(t2,tuple(reversed(ts)),sorted(ts,reverse=True))"
   ]
  },
  {
   "cell_type": "markdown",
   "id": "fea01bf9-bc5d-4c81-8b1b-8967c0ed35c7",
   "metadata": {},
   "source": [
    "19. Write a Python program to convert a list of tuples into a dictionary."
   ]
  },
  {
   "cell_type": "code",
   "execution_count": 73,
   "id": "3013bb5f-8ec9-45ea-9f74-393e1d84dce5",
   "metadata": {},
   "outputs": [
    {
     "data": {
      "text/plain": [
       "{'two': 2, 'five': 5, 'nine': 9}"
      ]
     },
     "execution_count": 73,
     "metadata": {},
     "output_type": "execute_result"
    }
   ],
   "source": [
    "lot = [('two',2),('five',5),('nine',9)]\n",
    "dict(lot)\n"
   ]
  },
  {
   "cell_type": "code",
   "execution_count": null,
   "id": "27fe3c5c-d8c8-4f91-8621-163eb05975b5",
   "metadata": {},
   "outputs": [],
   "source": []
  },
  {
   "cell_type": "markdown",
   "id": "8a6d2b4f-7a4a-4c1e-81be-c02ef4b0e83a",
   "metadata": {},
   "source": [
    "20. Write a Python program to print a tuple with string formatting.\n",
    "Sample tuple : (100, 200, 300)\n",
    "Output : This is a tuple (100, 200, 300)"
   ]
  },
  {
   "cell_type": "code",
   "execution_count": 76,
   "id": "da112253-6a80-4604-9c41-30a360ea50f6",
   "metadata": {},
   "outputs": [
    {
     "name": "stdout",
     "output_type": "stream",
     "text": [
      "tHIS IS TUPLE (1, 2, 3, 4)\n"
     ]
    }
   ],
   "source": [
    "ts = (1,2,3,4)\n",
    "st =str(ts)\n",
    "print(\"tHIS IS TUPLE\",st)"
   ]
  },
  {
   "cell_type": "code",
   "execution_count": 78,
   "id": "ec03bf7e-d26a-4b3b-8f60-d06485206b46",
   "metadata": {},
   "outputs": [
    {
     "name": "stdout",
     "output_type": "stream",
     "text": [
      "(\n",
      "1\n",
      ",\n",
      " \n",
      "2\n",
      ",\n",
      " \n",
      "3\n",
      ",\n",
      " \n",
      "4\n",
      ")\n"
     ]
    }
   ],
   "source": [
    "for i in st:\n",
    "    print(i)"
   ]
  },
  {
   "cell_type": "markdown",
   "id": "882111d0-7f4f-4370-b2b4-d845be1e4f81",
   "metadata": {},
   "source": [
    "21. Write a Python program to replace the last value of tuples in a list.\n",
    "Sample list: [(10, 20, 40), (40, 50, 60), (70, 80, 90)]\n",
    "Expected Output: [(10, 20, 100), (40, 50, 100), (70, 80, 100)]"
   ]
  },
  {
   "cell_type": "code",
   "execution_count": 88,
   "id": "a0614b45-6a4b-45f4-adf4-377709390fa2",
   "metadata": {},
   "outputs": [
    {
     "data": {
      "text/plain": [
       "[(10, 20, 100), (40, 50, 100), (70, 80, 100)]"
      ]
     },
     "execution_count": 88,
     "metadata": {},
     "output_type": "execute_result"
    }
   ],
   "source": [
    "l1 = [(10, 20, 40), (40, 50, 60), (70, 80, 90)]\n",
    "l2 =[]\n",
    "for i in l1:\n",
    "    l2.append(tuple((*i[:2],100)))\n",
    "l2 \n",
    "    "
   ]
  },
  {
   "cell_type": "markdown",
   "id": "64fccd95-eb9a-4475-a690-97c0f3ab470c",
   "metadata": {},
   "source": [
    "22. Write a Python program to remove an empty tuple(s) from a list of tuples.\n",
    "Sample data: [(), (), ('',), ('a', 'b'), ('a', 'b', 'c'), ('d')]\n",
    "Expected output: [('',), ('a', 'b'), ('a', 'b', 'c'), 'd']"
   ]
  },
  {
   "cell_type": "code",
   "execution_count": 90,
   "id": "75e22009-b7ff-44d1-9ad4-fec06516e3d8",
   "metadata": {},
   "outputs": [
    {
     "data": {
      "text/plain": [
       "[('',), ('a', 'b'), ('a', 'b', 'c'), 'd']"
      ]
     },
     "execution_count": 90,
     "metadata": {},
     "output_type": "execute_result"
    }
   ],
   "source": [
    "sd = [(), (), ('',), ('a', 'b'), ('a', 'b', 'c'), ('d')]\n",
    "l2 = [elem for elem in sd if len(elem) != 0]\n",
    "l2"
   ]
  },
  {
   "cell_type": "markdown",
   "id": "68fda17f-ca44-4733-afa3-1fc2e2bb9a45",
   "metadata": {},
   "source": [
    "23. Write a Python program to sort a tuple by its float element.\n",
    "Sample data: [('item1', '12.20'), ('item2', '15.10'), ('item3', '24.5')]\n",
    "Expected Output: [('item3', '24.5'), ('item2', '15.10'), ('item1', '12.20')]"
   ]
  },
  {
   "cell_type": "code",
   "execution_count": 106,
   "id": "548baa7e-54c4-4ba5-bbeb-93b01a4aa086",
   "metadata": {},
   "outputs": [
    {
     "name": "stdout",
     "output_type": "stream",
     "text": [
      "[('item3', '24.5'), ('item2', '15.10'), ('item1', '12.20')]\n"
     ]
    }
   ],
   "source": [
    "ls = [('item1', '12.20'), ('item2', '15.10'), ('item3', '24.5')]\n",
    "l1 =[float((t[1])) for t in ls]\n",
    "l1.sort(reverse = True)\n",
    "l2 = [()]*len(l1)\n",
    "for tup in ls:\n",
    "    idx = l1.index(float(tup[1]))\n",
    "    l2[idx] = tup\n",
    "print(l2)    "
   ]
  },
  {
   "cell_type": "markdown",
   "id": "ae4dd42c-8bdb-49f7-9d75-371f8afa5fec",
   "metadata": {},
   "source": [
    "24. Write a Python program to count the elements in a list until an element is a tuple."
   ]
  },
  {
   "cell_type": "code",
   "execution_count": 111,
   "id": "e5bbf60e-5242-491e-8bad-c2557fa0753c",
   "metadata": {},
   "outputs": [
    {
     "name": "stdout",
     "output_type": "stream",
     "text": [
      "6\n"
     ]
    }
   ],
   "source": [
    "lot = [1,[2,22],3,4,5,6,(1,2,3)]\n",
    "count=0\n",
    "for i in lot:\n",
    "    if(type(i) == tuple):\n",
    "        break\n",
    "    count+= 1    \n",
    "print(count)   "
   ]
  },
  {
   "cell_type": "markdown",
   "id": "0b422ca9-7186-485c-a8ab-b11fbd8dc7e1",
   "metadata": {},
   "source": [
    "25. Write a Python program to convert a given string list to a tuple.\n",
    "Original string: python 3.0\n",
    "\n",
    "Convert the said string to a tuple:\n",
    "('p', 'y', 't', 'h', 'o', 'n', '3', '.', '0')"
   ]
  },
  {
   "cell_type": "code",
   "execution_count": 2,
   "id": "c499a69b-56c1-4ed6-a828-548a692e7649",
   "metadata": {},
   "outputs": [
    {
     "data": {
      "text/plain": [
       "('p', 'y', 't', 'h', 'o', 'n', ' ', '3', '.', '0')"
      ]
     },
     "execution_count": 2,
     "metadata": {},
     "output_type": "execute_result"
    }
   ],
   "source": [
    "st = 'python 3.0'\n",
    "stu = tuple(st)\n",
    "stu"
   ]
  },
  {
   "cell_type": "markdown",
   "id": "ff4e3270-dda9-4f64-9275-45cb9c7c806b",
   "metadata": {},
   "source": [
    "26. Write a Python program to calculate the product, multiplying all the numbers in a given tuple.\n",
    "Original Tuple:\n",
    "(4, 3, 2, 2, -1, 18)\n",
    "Product - multiplying all the numbers of the said tuple: -864\n",
    "Original Tuple:\n",
    "(2, 4, 8, 8, 3, 2, 9)\n",
    "Product - multiplying all the numbers of the said tuple: 27648"
   ]
  },
  {
   "cell_type": "code",
   "execution_count": 5,
   "id": "2ea2eeae-5d8d-48ac-98e4-e666029d7902",
   "metadata": {},
   "outputs": [
    {
     "name": "stdout",
     "output_type": "stream",
     "text": [
      "-864\n"
     ]
    }
   ],
   "source": [
    "T= (4, 3, 2, 2, -1, 18)\n",
    "mul =1\n",
    "for i in T:\n",
    "    mul *= i\n",
    "print(mul)    "
   ]
  },
  {
   "cell_type": "markdown",
   "id": "e90675bc-5731-4fc9-a12b-039ed7b439f3",
   "metadata": {},
   "source": [
    "27. Write a Python program to calculate the average value of the numbers in a given tuple of tuples.\n",
    "Original Tuple:\n",
    "((10, 10, 10, 12), (30, 45, 56, 45), (81, 80, 39, 32), (1, 2, 3, 4))\n",
    "Average value of the numbers of the said tuple of tuples:\n",
    "[30.5, 34.25, 27.0, 23.25]"
   ]
  },
  {
   "cell_type": "code",
   "execution_count": 12,
   "id": "cecb3be0-223f-4060-8cc8-0982f3537a12",
   "metadata": {},
   "outputs": [
    {
     "data": {
      "text/plain": [
       "[10.5, 54.5, 112.5, 115.0]"
      ]
     },
     "execution_count": 12,
     "metadata": {},
     "output_type": "execute_result"
    }
   ],
   "source": [
    "gt = ((10, 10, 10, 12), (30, 45, 56, 45), (81, 80, 39, 32), (1, 2, 3, 4))\n",
    "lt = []\n",
    "summ =0\n",
    "for i in gt:\n",
    "    for j in i:\n",
    "        summ+= j\n",
    "    lt.append(summ/len(i))\n",
    "lt    \n",
    "        "
   ]
  },
  {
   "cell_type": "markdown",
   "id": "0b6b0fe4-f4c8-4614-9ef2-933b87676721",
   "metadata": {},
   "source": [
    "28. Write a Python program to convert a tuple of string values to a tuple of integer values.\n",
    "Original tuple values:\n",
    "(('333', '33'), ('1416', '55'))\n",
    "New tuple values:\n",
    "((333, 33), (1416, 55))"
   ]
  },
  {
   "cell_type": "code",
   "execution_count": 44,
   "id": "910a7193-f6bc-4b9c-b7f6-1a70d92d25f3",
   "metadata": {},
   "outputs": [
    {
     "data": {
      "text/plain": [
       "((333, 33), (1416, 55))"
      ]
     },
     "execution_count": 44,
     "metadata": {},
     "output_type": "execute_result"
    }
   ],
   "source": [
    "ts = (('333', '33'), ('1416', '55'))\n",
    "lt = []\n",
    "ls = []\n",
    "\n",
    "for i in ts:\n",
    "    for j in i:\n",
    "        lt.append(int(j))\n",
    "    ls.append(tuple(lt))\n",
    "    lt=[]    \n",
    "tuple(ls)       "
   ]
  },
  {
   "cell_type": "markdown",
   "id": "51160a98-8359-46d2-af19-80bef380746d",
   "metadata": {},
   "source": [
    "29. Write a Python program to convert a given tuple of positive integers into an integer.\n",
    "Original tuple:\n",
    "(1, 2, 3)\n",
    "Convert the said tuple of positive integers into an integer:\n",
    "123\n",
    "Original tuple:\n",
    "(10, 20, 40, 5, 70)\n",
    "Convert the said tuple of positive integers into an integer:\n",
    "102040570"
   ]
  },
  {
   "cell_type": "code",
   "execution_count": 33,
   "id": "1a3c7b22-6e67-49c7-a233-713da458f5df",
   "metadata": {},
   "outputs": [
    {
     "data": {
      "text/plain": [
       "102040570"
      ]
     },
     "execution_count": 33,
     "metadata": {},
     "output_type": "execute_result"
    }
   ],
   "source": [
    "e =(10, 20, 40, 5, 70)\n",
    "st= \"\"\n",
    "for i in e:\n",
    "    st+= str(i)\n",
    "int(st)    \n",
    "    "
   ]
  },
  {
   "cell_type": "markdown",
   "id": "b3adba61-2aa3-457a-afc8-0505be58e13b",
   "metadata": {},
   "source": [
    "30. Write a Python program to check if a specified element appears in a tuple of tuples.\n",
    "Original list:\n",
    "(('Red', 'White', 'Blue'), ('Green', 'Pink', 'Purple'), ('Orange', 'Yellow', 'Lime'))\n",
    "Check if White presenet in said tuple of tuples!\n",
    "True\n",
    "Check if White presenet in said tuple of tuples!\n",
    "True\n",
    "Check if Olive presenet in said tuple of tuples!\n",
    "False"
   ]
  },
  {
   "cell_type": "code",
   "execution_count": 43,
   "id": "ecc650f6-96bd-481d-8f65-ed14a60452bf",
   "metadata": {},
   "outputs": [
    {
     "name": "stdout",
     "output_type": "stream",
     "text": [
      "True\n"
     ]
    }
   ],
   "source": [
    "cl =(('Red', 'White', 'Blue'), ('Green', 'Pink', 'Purple'), ('Orange', 'Yellow', 'Lime'))\n",
    "count =0\n",
    "for i in cl:\n",
    "    for j in i:\n",
    "        if(j == 'White'):\n",
    "            count=1\n",
    "if(count == 1):\n",
    "    print(True)"
   ]
  },
  {
   "cell_type": "markdown",
   "id": "5a650c3f-5e21-4389-9a8a-24df2f429749",
   "metadata": {},
   "source": [
    "31. Write a Python program to compute the element-wise sum of given tuples.\n",
    "Original lists:\n",
    "(1, 2, 3, 4)\n",
    "(3, 5, 2, 1)\n",
    "(2, 2, 3, 1)\n",
    "Element-wise sum of the said tuples:\n",
    "(6, 9, 8, 6)"
   ]
  },
  {
   "cell_type": "code",
   "execution_count": 46,
   "id": "4adc2e59-805c-4311-9ea3-7ef8f559e414",
   "metadata": {},
   "outputs": [
    {
     "data": {
      "text/plain": [
       "(6, 9, 8, 6)"
      ]
     },
     "execution_count": 46,
     "metadata": {},
     "output_type": "execute_result"
    }
   ],
   "source": [
    "t1=(1, 2, 3, 4)\n",
    "t2=(3, 5, 2, 1)\n",
    "t3=(2, 2, 3, 1)\n",
    "ls =[]\n",
    "for i,j,k in zip(t1,t2,t3):\n",
    "    ls.append(i+j+k)\n",
    "tuple(ls)"
   ]
  },
  {
   "cell_type": "markdown",
   "id": "5b54caae-ea23-4e61-9e14-01ea28766ba5",
   "metadata": {},
   "source": [
    "32. Write a Python program to compute the sum of all the elements of each tuple stored inside a list of tuples.\n",
    "Original list of tuples:\n",
    "[(1, 2), (2, 3), (3, 4)]\n",
    "Sum of all the elements of each tuple stored inside the said list of tuples:\n",
    "[3, 5, 7]\n",
    "Original list of tuples:\n",
    "[(1, 2, 6), (2, 3, -6), (3, 4), (2, 2, 2, 2)]\n",
    "Sum of all the elements of each tuple stored inside the said list of tuples:\n",
    "[9, -1, 7, 8]"
   ]
  },
  {
   "cell_type": "code",
   "execution_count": 47,
   "id": "1891be4c-3d21-468c-abad-28e67a44de30",
   "metadata": {},
   "outputs": [
    {
     "data": {
      "text/plain": [
       "[3, 5, 7]"
      ]
     },
     "execution_count": 47,
     "metadata": {},
     "output_type": "execute_result"
    }
   ],
   "source": [
    "tp= [(1, 2), (2, 3), (3, 4)]\n",
    "lt =[]\n",
    "for i in tp:\n",
    "    sm=0\n",
    "    for j in i:\n",
    "        sm += j\n",
    "    lt.append(sm) \n",
    "lt            "
   ]
  },
  {
   "cell_type": "code",
   "execution_count": null,
   "id": "2ced8f6f-8af0-4f42-97b0-2c7030929fbf",
   "metadata": {},
   "outputs": [],
   "source": [
    "33. Write a Python program to convert a given list of tuples to a list of lists.\n",
    "Original list of tuples: [(1, 2), (2, 3), (3, 4)]\n",
    "Convert the said list of tuples to a list of lists: [[1, 2], [2, 3], [3, 4]]\n",
    "Original list of tuples: [(1, 2), (2, 3, 5), (3, 4), (2, 3, 4, 2)]\n",
    "Convert the said list of tuples to a list of lists: [[1, 2], [2, 3, 5], [3, 4], [2, 3, 4, 2]]"
   ]
  },
  {
   "cell_type": "code",
   "execution_count": 49,
   "id": "6d4d02b1-7e93-498a-84c7-23e367a95c41",
   "metadata": {},
   "outputs": [
    {
     "data": {
      "text/plain": [
       "[[1, 2], [2, 3], [3, 4]]"
      ]
     },
     "execution_count": 49,
     "metadata": {},
     "output_type": "execute_result"
    }
   ],
   "source": [
    "l= [list(elem) for elem in tp ]\n",
    "l"
   ]
  },
  {
   "cell_type": "code",
   "execution_count": null,
   "id": "1d7092e4-7df7-404e-bde5-63d4ee51147a",
   "metadata": {},
   "outputs": [],
   "source": []
  }
 ],
 "metadata": {
  "kernelspec": {
   "display_name": "Python 3 (ipykernel)",
   "language": "python",
   "name": "python3"
  },
  "language_info": {
   "codemirror_mode": {
    "name": "ipython",
    "version": 3
   },
   "file_extension": ".py",
   "mimetype": "text/x-python",
   "name": "python",
   "nbconvert_exporter": "python",
   "pygments_lexer": "ipython3",
   "version": "3.11.5"
  }
 },
 "nbformat": 4,
 "nbformat_minor": 5
}
