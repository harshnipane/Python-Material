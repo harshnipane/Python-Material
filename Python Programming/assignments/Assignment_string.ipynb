{
 "cells": [
  {
   "cell_type": "markdown",
   "id": "e7fdf8be-0735-450c-83d1-e1455748a99d",
   "metadata": {
    "id": "e7fdf8be-0735-450c-83d1-e1455748a99d"
   },
   "source": [
    "1. Given a string of odd length greater than 7, return a new string made of the middle three characters\n",
    "of a given String"
   ]
  },
  {
   "cell_type": "code",
   "execution_count": null,
   "id": "7c346909-1e4a-4dd9-936e-0429d26282ed",
   "metadata": {
    "id": "7c346909-1e4a-4dd9-936e-0429d26282ed",
    "outputId": "6a706d26-6e68-448c-c0d5-131a31197b11"
   },
   "outputs": [
    {
     "name": "stdout",
     "output_type": "stream",
     "text": [
      "zip\n"
     ]
    }
   ],
   "source": [
    "str1 = \"RakeshzipPetabb\"\n",
    "mid = len(str1) // 2\n",
    "r = str1[mid-1]+str1[mid]+str1[mid+1]\n",
    "print(r)"
   ]
  },
  {
   "cell_type": "markdown",
   "id": "fc805cf2-eaad-46f6-8143-dbf06f899016",
   "metadata": {
    "id": "fc805cf2-eaad-46f6-8143-dbf06f899016"
   },
   "source": [
    "2. Given two strings, s1 and s2, create a new string by appending s2 in the middle of s1\n",
    "Given:\n",
    "s1 = \"Ault\"\n",
    "s2 = \"Kelly\""
   ]
  },
  {
   "cell_type": "code",
   "execution_count": null,
   "id": "a742c7d1-4673-46ef-a113-76654b5939e0",
   "metadata": {
    "id": "a742c7d1-4673-46ef-a113-76654b5939e0",
    "outputId": "9bcb74be-bda4-4753-e024-2d7fdcc8f928"
   },
   "outputs": [
    {
     "name": "stdout",
     "output_type": "stream",
     "text": [
      "AuKellylt\n"
     ]
    }
   ],
   "source": [
    "s1 = \"Ault\"\n",
    "s2 = \"Kelly\"\n",
    "l = len(s1) // 2\n",
    "s3 =  s1[:l]+s2+s1[l:]\n",
    "print(s3)"
   ]
  },
  {
   "cell_type": "markdown",
   "id": "d0de2487-743a-4080-93f8-fdeaa9ba18b5",
   "metadata": {
    "id": "d0de2487-743a-4080-93f8-fdeaa9ba18b5"
   },
   "source": [
    "3. two strings, s1, and s2 return a new string made of the first, middle, and last characters each input\n",
    "string\n",
    "Given:\n",
    "s1 = \"America\"\n",
    "s2 = \"Japan\"\n",
    "Expected Output:\n",
    "AJrpan"
   ]
  },
  {
   "cell_type": "code",
   "execution_count": null,
   "id": "52603531-ea0f-4cd6-bbc8-1ab684d30ec7",
   "metadata": {
    "id": "52603531-ea0f-4cd6-bbc8-1ab684d30ec7",
    "outputId": "4eade58a-d3d5-4c04-8456-965838dcd7aa"
   },
   "outputs": [
    {
     "name": "stdout",
     "output_type": "stream",
     "text": [
      "AJrpan\n"
     ]
    }
   ],
   "source": [
    "s1 = \"America\"\n",
    "s2 = \"Japan\"\n",
    "s3 = s1[0]+s2[0]+s1[len(s1)//2]+s2[len(s2)//2]+s1[-1]+s2[-1]\n",
    "print(s3)"
   ]
  },
  {
   "cell_type": "markdown",
   "id": "a6870f57-3779-4cbf-b530-7379ee54a151",
   "metadata": {
    "id": "a6870f57-3779-4cbf-b530-7379ee54a151"
   },
   "source": [
    "4. Given an input string with the combination of the lower and upper case arrange characters in such a\n",
    "way that all lowercase letters should come first."
   ]
  },
  {
   "cell_type": "code",
   "execution_count": null,
   "id": "40efaae1-0c89-4884-9c90-45d4aa2cb28b",
   "metadata": {
    "id": "40efaae1-0c89-4884-9c90-45d4aa2cb28b",
    "outputId": "2e24e055-ef0f-4c6b-957b-d3c4019c7185"
   },
   "outputs": [
    {
     "name": "stdout",
     "output_type": "stream",
     "text": [
      "asHRH\n"
     ]
    }
   ],
   "source": [
    "st = \"HaRsH\"\n",
    "ns =\"\"\n",
    "for i in st:\n",
    "    if(i.islower()):\n",
    "        ns = ns + i\n",
    "for i in st:\n",
    "    if(i.isupper()):\n",
    "        ns = ns + i\n",
    "print(ns)"
   ]
  },
  {
   "cell_type": "markdown",
   "id": "17ecebe3-71e8-4770-a72e-3b7651248e07",
   "metadata": {
    "id": "17ecebe3-71e8-4770-a72e-3b7651248e07"
   },
   "source": [
    "5. create a third-string made of the first char of s1 then the last char of s2, Next, the second char of s1\n",
    "and second last char of s2, and so on. Any leftover chars go at the end of the result.\n",
    "Given:\n",
    "s1 = \"Abc\"\n",
    "s2 = \"Xyz\"\n",
    "Expected Output:\n",
    "AzbycX"
   ]
  },
  {
   "cell_type": "code",
   "execution_count": null,
   "id": "e8d37430-4cf8-4bda-92bc-30ee5d8e34b6",
   "metadata": {
    "id": "e8d37430-4cf8-4bda-92bc-30ee5d8e34b6",
    "outputId": "72ec9c22-20d9-43c4-8a17-601dbe67d70f"
   },
   "outputs": [
    {
     "name": "stdout",
     "output_type": "stream",
     "text": [
      "a3b2c1d\n"
     ]
    }
   ],
   "source": [
    "s1 = \"abcd\"\n",
    "s2 = \"123\"\n",
    "s3 = \"\"\n",
    "l1 = len(s1)\n",
    "l2 = len(s2)\n",
    "if(l1<l2):\n",
    "    a=l1\n",
    "    s4 = s2\n",
    "else:\n",
    "    a=l2\n",
    "    s4 = s1\n",
    "for i in range(a):\n",
    "    s3 = s3 + s1[-l1]+ s2[l2-1]\n",
    "    l1 -=1\n",
    "    l2 -=1\n",
    "s3 = s3 + s4[a:]\n",
    "print(s3)"
   ]
  },
  {
   "cell_type": "markdown",
   "id": "e9f686b7-d79e-44a4-b89c-c610623b037e",
   "metadata": {
    "id": "e9f686b7-d79e-44a4-b89c-c610623b037e"
   },
   "source": [
    "6. Find all occurrences of “USA” from right to left in a given string ignoring the case. also display the\n",
    "starting position\n",
    "Given:\n",
    "str1 = \"Welcome to USA. usa awesome, isn't it?\n",
    "Expected answer : 16, 11"
   ]
  },
  {
   "cell_type": "code",
   "execution_count": 1,
   "id": "720c6a91-09cb-44ef-af7a-1df0a56d306a",
   "metadata": {
    "id": "720c6a91-09cb-44ef-af7a-1df0a56d306a",
    "outputId": "8de4166c-bef4-44ce-90a2-dcd39192663e"
   },
   "outputs": [
    {
     "name": "stdout",
     "output_type": "stream",
     "text": [
      "16\n",
      "11\n"
     ]
    }
   ],
   "source": [
    "str1 = \"Welcome to USA. usa awesome, isn't it?\"\n",
    "str2=\"USA. usa USA. usa USA. usa USA. usa USA. usa USA. usa \"\n",
    "str1 = str1.lower()\n",
    "s=0\n",
    "e=len(str1)\n",
    "while(1):\n",
    "    r = str1.rfind(\"usa\",s,e)\n",
    "    if(r == -1):\n",
    "        break\n",
    "    print(r)\n",
    "    e=r"
   ]
  },
  {
   "cell_type": "markdown",
   "id": "c923e1ff-c870-4851-8656-ece89593c68a",
   "metadata": {
    "id": "c923e1ff-c870-4851-8656-ece89593c68a"
   },
   "source": [
    "7. Find all overlapping occurrences of given substring in given string\n",
    "Ex.\n",
    "String = 0111\n",
    "Substring = 11\n",
    "Expected answer : 2\n",
    "String : ANANAAAANNN\n",
    "Substring: ANA\n",
    "Expected answer : 2\n",
    "String : ANANAAAANNN\n",
    "Substring: AA\n",
    "Expected answer : 3"
   ]
  },
  {
   "cell_type": "code",
   "execution_count": null,
   "id": "97b25ac0-a682-4db3-b88b-bfdc2d06e717",
   "metadata": {
    "id": "97b25ac0-a682-4db3-b88b-bfdc2d06e717",
    "outputId": "cc5777a3-4211-4f12-b497-3e763b8c3fba"
   },
   "outputs": [
    {
     "name": "stdout",
     "output_type": "stream",
     "text": [
      "2\n"
     ]
    }
   ],
   "source": [
    "s = '0111'\n",
    "sb = '11'\n",
    "l= len(sb)\n",
    "count =0\n",
    "for i in range(0,len(s)-1):\n",
    "    if(s[i:i+l] == sb):\n",
    "        count +=1\n",
    "print(count)"
   ]
  },
  {
   "cell_type": "code",
   "execution_count": null,
   "id": "6936a2f0-169c-4034-aa04-0534f5a73749",
   "metadata": {
    "id": "6936a2f0-169c-4034-aa04-0534f5a73749",
    "outputId": "35ea011d-395e-41ae-db6a-78a8f8f343a8"
   },
   "outputs": [
    {
     "name": "stdout",
     "output_type": "stream",
     "text": [
      "Defaulting to user installation because normal site-packages is not writeable\n",
      "Collecting sympy\n",
      "  Downloading sympy-1.12-py3-none-any.whl.metadata (12 kB)\n",
      "Collecting mpmath>=0.19 (from sympy)\n",
      "  Downloading mpmath-1.3.0-py3-none-any.whl.metadata (8.6 kB)\n",
      "Downloading sympy-1.12-py3-none-any.whl (5.7 MB)\n",
      "   ---------------------------------------- 0.0/5.7 MB ? eta -:--:--\n",
      "    --------------------------------------- 0.1/5.7 MB 1.5 MB/s eta 0:00:04\n",
      "   - -------------------------------------- 0.2/5.7 MB 2.5 MB/s eta 0:00:03\n",
      "   -- ------------------------------------- 0.4/5.7 MB 2.5 MB/s eta 0:00:03\n",
      "   ---- ----------------------------------- 0.6/5.7 MB 3.6 MB/s eta 0:00:02\n",
      "   ------ --------------------------------- 0.9/5.7 MB 3.9 MB/s eta 0:00:02\n",
      "   -------- ------------------------------- 1.2/5.7 MB 4.4 MB/s eta 0:00:02\n",
      "   ---------- ----------------------------- 1.6/5.7 MB 4.7 MB/s eta 0:00:01\n",
      "   ------------ --------------------------- 1.8/5.7 MB 5.0 MB/s eta 0:00:01\n",
      "   -------------- ------------------------- 2.1/5.7 MB 5.0 MB/s eta 0:00:01\n",
      "   ---------------- ----------------------- 2.3/5.7 MB 4.9 MB/s eta 0:00:01\n",
      "   ----------------- ---------------------- 2.6/5.7 MB 5.1 MB/s eta 0:00:01\n",
      "   -------------------- ------------------- 2.9/5.7 MB 5.1 MB/s eta 0:00:01\n",
      "   ---------------------- ----------------- 3.3/5.7 MB 5.3 MB/s eta 0:00:01\n",
      "   ------------------------ --------------- 3.6/5.7 MB 5.4 MB/s eta 0:00:01\n",
      "   --------------------------- ------------ 3.9/5.7 MB 5.6 MB/s eta 0:00:01\n",
      "   ---------------------------- ----------- 4.1/5.7 MB 5.6 MB/s eta 0:00:01\n",
      "   ------------------------------- -------- 4.5/5.7 MB 5.6 MB/s eta 0:00:01\n",
      "   --------------------------------- ------ 4.8/5.7 MB 5.7 MB/s eta 0:00:01\n",
      "   ----------------------------------- ---- 5.1/5.7 MB 5.7 MB/s eta 0:00:01\n",
      "   ------------------------------------- -- 5.4/5.7 MB 5.9 MB/s eta 0:00:01\n",
      "   ---------------------------------------  5.7/5.7 MB 5.8 MB/s eta 0:00:01\n",
      "   ---------------------------------------  5.7/5.7 MB 5.8 MB/s eta 0:00:01\n",
      "   ---------------------------------------  5.7/5.7 MB 5.8 MB/s eta 0:00:01\n",
      "   ---------------------------------------  5.7/5.7 MB 5.8 MB/s eta 0:00:01\n",
      "   ---------------------------------------- 5.7/5.7 MB 5.1 MB/s eta 0:00:00\n",
      "Downloading mpmath-1.3.0-py3-none-any.whl (536 kB)\n",
      "   ---------------------------------------- 0.0/536.2 kB ? eta -:--:--\n",
      "   --------------------------- ------------ 368.6/536.2 kB 7.6 MB/s eta 0:00:01\n",
      "   ---------------------------------------  532.5/536.2 kB 6.7 MB/s eta 0:00:01\n",
      "   ---------------------------------------  532.5/536.2 kB 6.7 MB/s eta 0:00:01\n",
      "   ---------------------------------------- 536.2/536.2 kB 3.4 MB/s eta 0:00:00\n",
      "Installing collected packages: mpmath, sympy\n",
      "Successfully installed mpmath-1.3.0 sympy-1.12\n",
      "Note: you may need to restart the kernel to use updated packages.\n"
     ]
    },
    {
     "name": "stderr",
     "output_type": "stream",
     "text": [
      "DEPRECATION: Loading egg at c:\\programdata\\miniconda3\\lib\\site-packages\\vboxapi-1.0-py3.11.egg is deprecated. pip 24.3 will enforce this behaviour change. A possible replacement is to use pip for package installation.. Discussion can be found at https://github.com/pypa/pip/issues/12330\n",
      "  WARNING: The script isympy.exe is installed in 'C:\\Users\\dbda\\AppData\\Roaming\\Python\\Python311\\Scripts' which is not on PATH.\n",
      "  Consider adding this directory to PATH or, if you prefer to suppress this warning, use --no-warn-script-location.\n"
     ]
    }
   ],
   "source": [
    "pip install sympy"
   ]
  },
  {
   "cell_type": "markdown",
   "id": "b7f88ed2-51b4-4b3f-93db-b74d37e104ee",
   "metadata": {
    "id": "b7f88ed2-51b4-4b3f-93db-b74d37e104ee"
   },
   "source": [
    "8. Given a string in format Emp_name:Emp_id\n",
    "If emp_is is perfect square -- > Print only vowels from emp_name\n",
    "Else if emp_id is prime -- > print alternate characters from emp_name\n",
    "Else if emp_id is odd -- > print sum of ascii values of characters in emp_name\n",
    "Else print None"
   ]
  },
  {
   "cell_type": "code",
   "execution_count": null,
   "id": "fef93964-088a-4d0d-82c2-3918097e82bc",
   "metadata": {
    "id": "fef93964-088a-4d0d-82c2-3918097e82bc",
    "outputId": "0b7b3398-73f6-47ee-d0dd-3d244bb827c9"
   },
   "outputs": [
    {
     "ename": "ModuleNotFoundError",
     "evalue": "No module named 'sympy'",
     "output_type": "error",
     "traceback": [
      "\u001b[1;31m---------------------------------------------------------------------------\u001b[0m",
      "\u001b[1;31mModuleNotFoundError\u001b[0m                       Traceback (most recent call last)",
      "Cell \u001b[1;32mIn[13], line 1\u001b[0m\n\u001b[1;32m----> 1\u001b[0m \u001b[38;5;28;01mimport\u001b[39;00m \u001b[38;5;21;01msympy\u001b[39;00m\n\u001b[0;32m      2\u001b[0m emp_name \u001b[38;5;241m=\u001b[39m \u001b[38;5;124m\"\u001b[39m\u001b[38;5;124mHarsh\u001b[39m\u001b[38;5;124m\"\u001b[39m\n\u001b[0;32m      3\u001b[0m emp_id \u001b[38;5;241m=\u001b[39m \u001b[38;5;241m5\u001b[39m\n",
      "\u001b[1;31mModuleNotFoundError\u001b[0m: No module named 'sympy'"
     ]
    }
   ],
   "source": [
    "import sympy\n",
    "emp_name = \"Harsh\"\n",
    "emp_id = 5\n",
    "if(emp_id.isprime()):\n",
    "    vowels = \"AaEeIiOoUu\"\n",
    "    for ch in emp_name:\n",
    "        l = [elem for elem in string if elem in vowels]\n",
    "print(l)\n"
   ]
  },
  {
   "cell_type": "code",
   "execution_count": null,
   "id": "002e0f22-c380-4561-b2cd-9428ccf5f418",
   "metadata": {
    "id": "002e0f22-c380-4561-b2cd-9428ccf5f418",
    "outputId": "05752814-f82b-479c-d340-c1d892f48127"
   },
   "outputs": [
    {
     "ename": "ModuleNotFoundError",
     "evalue": "No module named 'sympy'",
     "output_type": "error",
     "traceback": [
      "\u001b[1;31m---------------------------------------------------------------------------\u001b[0m",
      "\u001b[1;31mModuleNotFoundError\u001b[0m                       Traceback (most recent call last)",
      "Cell \u001b[1;32mIn[5], line 1\u001b[0m\n\u001b[1;32m----> 1\u001b[0m \u001b[38;5;28;01mfrom\u001b[39;00m \u001b[38;5;21;01msympy\u001b[39;00m \u001b[38;5;28;01mimport\u001b[39;00m \u001b[38;5;241m*\u001b[39m\n\u001b[0;32m      3\u001b[0m \u001b[38;5;66;03m# calling isprime function on different numbers\u001b[39;00m\n\u001b[0;32m      4\u001b[0m geek1 \u001b[38;5;241m=\u001b[39m isprime(\u001b[38;5;241m30\u001b[39m)\n",
      "\u001b[1;31mModuleNotFoundError\u001b[0m: No module named 'sympy'"
     ]
    }
   ],
   "source": []
  },
  {
   "cell_type": "markdown",
   "id": "de99c21b-1194-44ac-aefa-0199faa9fbf8",
   "metadata": {
    "id": "de99c21b-1194-44ac-aefa-0199faa9fbf8"
   },
   "source": [
    "9. Find all mobile number mentioned in given paragraph of text\n",
    "Mobile number is always a 10 digit number no spaces no special characters\n",
    "Ex. Input= “this is a good number 9089786756 and 8900000000 is a desired number”\n",
    "Expected output: 9089786756 , 8900000000"
   ]
  },
  {
   "cell_type": "code",
   "execution_count": null,
   "id": "3a25cc28-6fe7-4d33-8dd8-e839823244b8",
   "metadata": {
    "id": "3a25cc28-6fe7-4d33-8dd8-e839823244b8",
    "outputId": "e2e4c9b7-e6c1-42d9-cff1-aa75643b0a74"
   },
   "outputs": [
    {
     "name": "stdout",
     "output_type": "stream",
     "text": [
      "9089786756\n",
      "8900000000\n"
     ]
    }
   ],
   "source": [
    "input= 'this is 1 good number 9089786756 and 8900000000 is a desired number'\n",
    "s = input.split()\n",
    "num = []\n",
    "for i in s:\n",
    "    if(i.isdigit()):\n",
    "        num.append(i)\n",
    "\n",
    "for j in num:\n",
    "    if(len(j) == 10):\n",
    "        print(j)\n"
   ]
  },
  {
   "cell_type": "markdown",
   "id": "d8b7b8ee-b41d-4a46-ae1b-b6d78c385e86",
   "metadata": {
    "id": "d8b7b8ee-b41d-4a46-ae1b-b6d78c385e86"
   },
   "source": [
    "10. Count occurrence of spaces, and special characters in given string\n",
    "Ex.\n",
    "Input: Fgh^f #89\n",
    "Expected output :\n",
    "Spaces: 1\n",
    "Special characters: 2"
   ]
  },
  {
   "cell_type": "code",
   "execution_count": null,
   "id": "af80393c-5d2c-4fbf-bd1b-5357325d9637",
   "metadata": {
    "id": "af80393c-5d2c-4fbf-bd1b-5357325d9637",
    "outputId": "c67aee9f-60dd-4900-fd2e-2dcf3e388df2"
   },
   "outputs": [
    {
     "name": "stdout",
     "output_type": "stream",
     "text": [
      "spaces:  1 Special characters:  2\n"
     ]
    }
   ],
   "source": [
    "y= \"Fgh^f #89\"\n",
    "cs,cc =0,0\n",
    "for i in y:\n",
    "    if(i == \" \"):\n",
    "        cs += 1\n",
    "    else:\n",
    "        if(not i.isalnum() == 0):\n",
    "            cs =cs\n",
    "        else:\n",
    "            cc+=1\n",
    "print(\"spaces: \",cs,\"Special characters: \",cc)"
   ]
  },
  {
   "cell_type": "code",
   "execution_count": null,
   "id": "f52e7647-f4e0-4fbb-ac64-2ed250352de3",
   "metadata": {
    "id": "f52e7647-f4e0-4fbb-ac64-2ed250352de3"
   },
   "outputs": [],
   "source": []
  },
  {
   "cell_type": "markdown",
   "id": "11aae08d-6963-412f-a165-e3b3076168c9",
   "metadata": {
    "id": "11aae08d-6963-412f-a165-e3b3076168c9"
   },
   "source": [
    "11. Given a paragraph count number of words, sentences. Every sentence ends with either . or ? or !\n",
    "Print Count of how many normal sentences ending with . , how many interrogative sentences ( ending\n",
    "with ?) and how many exclamatory sentences ( ending with !).\n",
    "Ex.\n",
    "Input : “I am at CDAC. What about you? I am surprised by current weather!”\n",
    "Normal sentence : 1\n",
    "Interrogative: 1\n",
    "Exclamatory : 1"
   ]
  },
  {
   "cell_type": "code",
   "execution_count": null,
   "id": "3b9ae616-9bf8-4c05-8173-ddd674c9c75d",
   "metadata": {
    "id": "3b9ae616-9bf8-4c05-8173-ddd674c9c75d",
    "outputId": "06eebb5e-5089-4227-82d4-aa2dd77de668"
   },
   "outputs": [
    {
     "name": "stdout",
     "output_type": "stream",
     "text": [
      "Normal sentence : 1 Interrogative:  1 Exclamatory :  1\n"
     ]
    }
   ],
   "source": [
    "st = 'I am at CDAC. What about you? I am surprised by current weather!'\n",
    "p,q,e = 0,0,0\n",
    "for i in st:\n",
    "    if(i == '.'):\n",
    "        p +=1\n",
    "    if(i== '?'):\n",
    "        q+=1\n",
    "    if(i == '!'):\n",
    "        e+=1\n",
    "print(\"Normal sentence :\",p,\"Interrogative: \",q,\"Exclamatory : \",e)"
   ]
  },
  {
   "cell_type": "markdown",
   "id": "117d19fe-b710-4dfc-ab83-3e4889b4e527",
   "metadata": {
    "id": "117d19fe-b710-4dfc-ab83-3e4889b4e527"
   },
   "source": [
    "12. You are given a string S and width w.\n",
    "Your task is to wrap the string into a paragraph of width w\n",
    "Example .\n",
    "String : “ABCDEFGHIJKLIMNOQRSTUVWXYZ”"
   ]
  },
  {
   "cell_type": "code",
   "execution_count": null,
   "id": "29ac2d46-bd48-4363-8037-8043319131f3",
   "metadata": {
    "id": "29ac2d46-bd48-4363-8037-8043319131f3",
    "outputId": "72402f71-13bf-4fc8-fc05-a65fc71ee188"
   },
   "outputs": [
    {
     "name": "stdout",
     "output_type": "stream",
     "text": [
      "ABCD\n",
      "EFGH\n",
      "IJKL\n",
      "IMNO\n",
      "QRST\n",
      "UVWX\n",
      "YZ\n",
      "\n"
     ]
    }
   ],
   "source": [
    "st= 'ABCDEFGHIJKLIMNOQRSTUVWXYZ'\n",
    "para = ''\n",
    "for i in range(0, len(st), 4):\n",
    "        para += st[i:i+4] + \"\\n\"\n",
    "print(para)\n"
   ]
  },
  {
   "cell_type": "code",
   "execution_count": 2,
   "id": "c6d13a70-7c99-419c-9e73-03376dd6b378",
   "metadata": {
    "id": "c6d13a70-7c99-419c-9e73-03376dd6b378",
    "outputId": "ce79f6f0-857c-49f1-d995-41e500e3a260"
   },
   "outputs": [
    {
     "name": "stdout",
     "output_type": "stream",
     "text": [
      "{'a', 'an', 'anana', 'anan', 'ana'}\n",
      "{'b', 'banana', 'nan', 'na', 'nana', 'ba', 'banan', 'ban', 'n', 'bana'}\n",
      "Lata:  10\n"
     ]
    }
   ],
   "source": [
    "string = \"banana\"\n",
    "vol = ['a','e','i','o','u']\n",
    "r = set()\n",
    "l = set()\n",
    "for i in range(len(string)):\n",
    "    for j in range(i+1,len(string)+1):\n",
    "        if(string[i] in vol):\n",
    "            r.add(string[i:j])\n",
    "        else:\n",
    "            l.add(string[i:j])\n",
    "print(r)\n",
    "print(l)\n",
    "\n",
    "if(len(r) > len(l)):\n",
    "    print(\"Ravi: \",len(r))\n",
    "else:\n",
    "    print(\"Lata: \",len(l))"
   ]
  },
  {
   "cell_type": "code",
   "execution_count": null,
   "id": "625bdefa-7d29-41ac-93f2-edf04f986bf8",
   "metadata": {
    "id": "625bdefa-7d29-41ac-93f2-edf04f986bf8"
   },
   "outputs": [],
   "source": []
  },
  {
   "cell_type": "code",
   "execution_count": null,
   "id": "b107e9f6-fc6f-457a-a633-5d01ece8cec2",
   "metadata": {
    "id": "b107e9f6-fc6f-457a-a633-5d01ece8cec2"
   },
   "outputs": [],
   "source": []
  },
  {
   "cell_type": "code",
   "execution_count": null,
   "id": "4a72acd2-ef13-4d3c-b81f-6b87b78f4b4f",
   "metadata": {
    "id": "4a72acd2-ef13-4d3c-b81f-6b87b78f4b4f"
   },
   "outputs": [],
   "source": []
  },
  {
   "cell_type": "code",
   "execution_count": null,
   "id": "97c6ebc2-efbf-4289-a9b3-7dce2b218079",
   "metadata": {
    "id": "97c6ebc2-efbf-4289-a9b3-7dce2b218079"
   },
   "outputs": [],
   "source": []
  },
  {
   "cell_type": "code",
   "execution_count": null,
   "id": "6be4f4b7-751f-4e05-8518-e388aff1e0d5",
   "metadata": {
    "id": "6be4f4b7-751f-4e05-8518-e388aff1e0d5"
   },
   "outputs": [],
   "source": []
  },
  {
   "cell_type": "code",
   "execution_count": null,
   "id": "55cc29d1-7c40-4818-bc85-957e6819aeca",
   "metadata": {
    "id": "55cc29d1-7c40-4818-bc85-957e6819aeca"
   },
   "outputs": [],
   "source": []
  },
  {
   "cell_type": "markdown",
   "id": "c86dded8-7b40-4339-b5eb-62a5fcb7e257",
   "metadata": {
    "id": "c86dded8-7b40-4339-b5eb-62a5fcb7e257"
   },
   "source": [
    "3. Write a Python program to get a string made of the first 2 and last 2 characters of a given string. If the string length is less than 2, return the empty string instead.\n",
    "Sample String : 'w3resource'\n",
    "Expected Result : 'w3ce'\n",
    "Sample String : 'w3'\n",
    "Expected Result : 'w3w3'\n",
    "Sample String : ' 'w'\n",
    "Expected Result : ''"
   ]
  },
  {
   "cell_type": "code",
   "execution_count": null,
   "id": "e517fbe5-e2fe-4563-8266-993bd3c2b086",
   "metadata": {
    "id": "e517fbe5-e2fe-4563-8266-993bd3c2b086",
    "outputId": "4deed4ec-006f-4698-b388-dc486a18b22a"
   },
   "outputs": [
    {
     "name": "stdout",
     "output_type": "stream",
     "text": [
      "w3ce\n"
     ]
    }
   ],
   "source": [
    "sg = 'w3resource'\n",
    "if(len(sg)< 2):\n",
    "    print(\"\")\n",
    "else:\n",
    "    ns = sg[:2] + sg[-2:len(sg)]\n",
    "    print(ns)"
   ]
  },
  {
   "cell_type": "markdown",
   "id": "1a7ca5b6-f8b5-4feb-b81e-dcd7b7c990a3",
   "metadata": {
    "id": "1a7ca5b6-f8b5-4feb-b81e-dcd7b7c990a3"
   },
   "source": [
    "4. Write a Python program to get a string from a given string where all occurrences of its first char have been changed to '$', except the first char itself.\n",
    "Sample String : 'restart'\n",
    "Expected Result : 'resta$t'\n",
    "Sample String : 'ababab'\n",
    "Expected Result : 'ab$b$b'"
   ]
  },
  {
   "cell_type": "code",
   "execution_count": 3,
   "id": "3ab784ef-0a22-4b02-bdc5-bd954ec87311",
   "metadata": {
    "id": "3ab784ef-0a22-4b02-bdc5-bd954ec87311",
    "outputId": "620b6776-4482-44ac-f382-9234b6026acd"
   },
   "outputs": [
    {
     "data": {
      "text/plain": [
       "'ab$b$b'"
      ]
     },
     "execution_count": 3,
     "metadata": {},
     "output_type": "execute_result"
    }
   ],
   "source": [
    "ss = 'ababab'\n",
    "s1 = ss[0]\n",
    "for i in ss[1:]:\n",
    "    if(i == ss[0]):\n",
    "        s1 += '$'\n",
    "    else:\n",
    "        s1 += i\n",
    "s1"
   ]
  },
  {
   "cell_type": "markdown",
   "id": "186991ac-5e96-4326-bf08-4dd8e3761ad0",
   "metadata": {
    "id": "186991ac-5e96-4326-bf08-4dd8e3761ad0"
   },
   "source": [
    "5. Write a Python program to get a single string from two given strings, separated by a space and swap the first two characters of each string.\n",
    "Sample String : 'abc', 'xyz'\n",
    "Expected Result : 'xyc abz'\n",
    "Sample String : 'Hello', 'World'\n",
    "Expected Result : 'Wollo Herld'"
   ]
  },
  {
   "cell_type": "code",
   "execution_count": 4,
   "id": "a1d4bd04-0f5b-41c0-8ec9-248ea9e35476",
   "metadata": {
    "id": "a1d4bd04-0f5b-41c0-8ec9-248ea9e35476",
    "outputId": "856cc00e-fa0b-4ff2-cbf2-366a99b02ae9"
   },
   "outputs": [
    {
     "data": {
      "text/plain": [
       "'Wollo Herld'"
      ]
     },
     "execution_count": 4,
     "metadata": {},
     "output_type": "execute_result"
    }
   ],
   "source": [
    "s1 = 'Hello'\n",
    "s2 = 'World'\n",
    "s3 = s2[:2] + s1[2:] + \" \" + s1[:2] + s2[2:]\n",
    "s3\n"
   ]
  },
  {
   "cell_type": "markdown",
   "id": "37c6bf7c-4a23-4264-a022-c0aabdec045c",
   "metadata": {
    "id": "37c6bf7c-4a23-4264-a022-c0aabdec045c"
   },
   "source": [
    "8. Write a Python function that takes a list of words and return the longest word and the length of the longest one.\n",
    "Sample Output:\n",
    "Longest word: Exercises\n",
    "Length of the longest word: 9"
   ]
  },
  {
   "cell_type": "code",
   "execution_count": null,
   "id": "735abc95-b5e7-4ef2-81fd-16115d78a719",
   "metadata": {
    "id": "735abc95-b5e7-4ef2-81fd-16115d78a719",
    "outputId": "0d52eb14-1ef2-47bd-8844-e2f9c4558b9e"
   },
   "outputs": [
    {
     "name": "stdout",
     "output_type": "stream",
     "text": [
      "photosysthesis 14\n"
     ]
    }
   ],
   "source": [
    "long = ['harsh', 'exercise','kite','photosysthesis','cloud']\n",
    "maxi = long[0]\n",
    "for i in long:\n",
    "    if(len(i) > len(maxi)):\n",
    "        maxi = i\n",
    "print(maxi, len(maxi))"
   ]
  },
  {
   "cell_type": "markdown",
   "id": "2f3dfb8d-a6f7-4491-b000-485e7ac25ddf",
   "metadata": {
    "id": "2f3dfb8d-a6f7-4491-b000-485e7ac25ddf"
   },
   "source": [
    "9. Write a Python program to remove the nth index character from a nonempty string"
   ]
  },
  {
   "cell_type": "code",
   "execution_count": null,
   "id": "2828cbf8-c184-409c-9e8f-4e12684758f2",
   "metadata": {
    "id": "2828cbf8-c184-409c-9e8f-4e12684758f2",
    "outputId": "79be5ee6-9c8c-4c9c-a170-a301aa8ebd24"
   },
   "outputs": [
    {
     "data": {
      "text/plain": [
       "'noneptystring'"
      ]
     },
     "execution_count": 32,
     "metadata": {},
     "output_type": "execute_result"
    }
   ],
   "source": [
    "n = 4\n",
    "string = 'nonemptystring'\n",
    "st = \"\"\n",
    "for i in range(len(string)):\n",
    "    if(i != n):\n",
    "        st += string[i]\n",
    "st"
   ]
  },
  {
   "cell_type": "markdown",
   "id": "c82a5a31-f518-4656-9f65-4b51c32203d1",
   "metadata": {
    "id": "c82a5a31-f518-4656-9f65-4b51c32203d1"
   },
   "source": [
    "10. Write a Python program to change a given string to a newly string where the first and last chars have been exchanged."
   ]
  },
  {
   "cell_type": "code",
   "execution_count": null,
   "id": "4abd2951-864f-4126-a1fb-511e503fc21e",
   "metadata": {
    "id": "4abd2951-864f-4126-a1fb-511e503fc21e",
    "outputId": "4c15a3d7-6c5c-4d46-9f67-ad4cc389b11a"
   },
   "outputs": [
    {
     "data": {
      "text/plain": [
       "'eitk'"
      ]
     },
     "execution_count": 33,
     "metadata": {},
     "output_type": "execute_result"
    }
   ],
   "source": [
    "h = \"kite\"\n",
    "nh = h[-1] + h[1:len(h)-1] + h[0]\n",
    "nh"
   ]
  },
  {
   "cell_type": "markdown",
   "id": "65629221-607e-4cf5-8eea-74fffe54458b",
   "metadata": {
    "id": "65629221-607e-4cf5-8eea-74fffe54458b"
   },
   "source": [
    "14. Write a Python program that accepts a comma-separated sequence of words as input and prints the distinct words in sorted form (alphanumerically).\n",
    "Sample Words : red, white, black, red, green, black\n",
    "Expected Result : black, green, red, white,red"
   ]
  },
  {
   "cell_type": "code",
   "execution_count": null,
   "id": "a5d0132d-e0cb-4a39-b4ec-f294b442da76",
   "metadata": {
    "id": "a5d0132d-e0cb-4a39-b4ec-f294b442da76",
    "outputId": "9edd22bc-b0cb-48e0-eee8-34848181d7da"
   },
   "outputs": [
    {
     "data": {
      "text/plain": [
       "['black', 'green', 'red', 'white']"
      ]
     },
     "execution_count": 40,
     "metadata": {},
     "output_type": "execute_result"
    }
   ],
   "source": [
    "col = 'red,white,black,red,green,black'\n",
    "uq = set(col.split(\",\"))\n",
    "sorted(uq)"
   ]
  },
  {
   "cell_type": "markdown",
   "id": "396b5af2-8c0f-4cd0-be9a-9aa85ae90f45",
   "metadata": {
    "id": "396b5af2-8c0f-4cd0-be9a-9aa85ae90f45"
   },
   "source": [
    "15. Write a Python function to create an HTML string with tags around the word(s).\n",
    "Sample function and result :\n",
    "add_tags('i', 'Python') -> '<i>Python</i>'\n",
    "add_tags('b', 'Python Tutorial') -> '<b>Python Tutorial </b>'"
   ]
  },
  {
   "cell_type": "markdown",
   "id": "02bd6868-a24e-4d29-afb8-8be4b50a34a2",
   "metadata": {
    "id": "02bd6868-a24e-4d29-afb8-8be4b50a34a2"
   },
   "source": [
    "25. Write a Python program to create a Caesar encryption.\n",
    "\n",
    "Note : In cryptography, a Caesar cipher, also known as Caesar's cipher, the shift cipher, Caesar's code or Caesar shift, is one of the simplest and most widely known encryption techniques. It is a type of substitution cipher in which each letter in the plaintext is replaced by a letter some fixed number of positions down the alphabet. For example, with a left shift of 3, D would be replaced by A, E would become B, and so on. The method is named after Julius Caesar, who used it in his private correspondence."
   ]
  },
  {
   "cell_type": "code",
   "execution_count": 9,
   "id": "57d9f7ed-0d4f-4a40-b4a1-a3f4565ca08d",
   "metadata": {
    "id": "57d9f7ed-0d4f-4a40-b4a1-a3f4565ca08d",
    "outputId": "684593a9-ba87-4562-bfee-3875e6a45956"
   },
   "outputs": [
    {
     "data": {
      "text/plain": [
       "'fubswrjudskb'"
      ]
     },
     "execution_count": 9,
     "metadata": {},
     "output_type": "execute_result"
    }
   ],
   "source": [
    "cc = 'cryptography'\n",
    "n = 3\n",
    "cc1 = \"\"\n",
    "for i in cc:\n",
    "    result = chr((ord(i) - 97 + n)%26 + 97)\n",
    "    cc1+=result\n",
    "cc1"
   ]
  },
  {
   "cell_type": "code",
   "execution_count": null,
   "id": "2648eb67-856e-4dc9-8af8-7af79e497acb",
   "metadata": {
    "id": "2648eb67-856e-4dc9-8af8-7af79e497acb",
    "outputId": "19af5001-1eff-4ceb-e093-a07ac9066de1"
   },
   "outputs": [
    {
     "ename": "NameError",
     "evalue": "name 'c' is not defined",
     "output_type": "error",
     "traceback": [
      "\u001b[1;31m---------------------------------------------------------------------------\u001b[0m",
      "\u001b[1;31mNameError\u001b[0m                                 Traceback (most recent call last)",
      "Cell \u001b[1;32mIn[4], line 1\u001b[0m\n\u001b[1;32m----> 1\u001b[0m \u001b[38;5;28mord\u001b[39m(c)\n",
      "\u001b[1;31mNameError\u001b[0m: name 'c' is not defined"
     ]
    }
   ],
   "source": []
  },
  {
   "cell_type": "markdown",
   "id": "b3f6bc66-4904-48a3-84b1-83239af2eca6",
   "metadata": {
    "id": "b3f6bc66-4904-48a3-84b1-83239af2eca6"
   },
   "source": [
    "30. Write a Python program to print the following numbers up to 2 decimal places.\n",
    "a. 123.45678\n",
    "b. 0.0000004\n",
    "c. 123\n",
    "d. 123456789.9"
   ]
  },
  {
   "cell_type": "code",
   "execution_count": null,
   "id": "c2edb873-aa35-4da7-ae49-331e4a1f9564",
   "metadata": {
    "id": "c2edb873-aa35-4da7-ae49-331e4a1f9564",
    "outputId": "ba07b196-d20b-4292-ba9d-93abc29df13a"
   },
   "outputs": [
    {
     "data": {
      "text/plain": [
       "123.46"
      ]
     },
     "execution_count": 10,
     "metadata": {},
     "output_type": "execute_result"
    }
   ],
   "source": [
    "round(123.45678,2)"
   ]
  },
  {
   "cell_type": "code",
   "execution_count": null,
   "id": "691098f6-a942-4e67-81ff-576af1f6cc94",
   "metadata": {
    "id": "691098f6-a942-4e67-81ff-576af1f6cc94"
   },
   "outputs": [],
   "source": [
    "33. Write a Python program to print the following integers with zeros to the left of the specified width. If integer with greater width, then display error message.\n",
    "a. Use format\n",
    "b. write your logic to perform this task\n",
    "\n",
    "Example : width =5\n",
    "input     output\n",
    "345    \t  00345\n",
    "56789     56789\n",
    "0         00000\n",
    "123456    Error"
   ]
  },
  {
   "cell_type": "code",
   "execution_count": null,
   "id": "e2cadfa1-956f-480a-9afb-8d6932cb4b68",
   "metadata": {
    "id": "e2cadfa1-956f-480a-9afb-8d6932cb4b68",
    "outputId": "6b8dcda7-b5e9-4553-bcd9-be2894e725db"
   },
   "outputs": [
    {
     "data": {
      "text/plain": [
       "'00345'"
      ]
     },
     "execution_count": 19,
     "metadata": {},
     "output_type": "execute_result"
    }
   ],
   "source": [
    "format(345,'0>5')"
   ]
  },
  {
   "cell_type": "markdown",
   "id": "ef6fcda9-fd8b-40f7-b50a-9b71773c1a89",
   "metadata": {
    "id": "ef6fcda9-fd8b-40f7-b50a-9b71773c1a89"
   },
   "source": [
    "37. Write a Python program to display a number in left, right, and center aligned with a width of 10."
   ]
  },
  {
   "cell_type": "code",
   "execution_count": null,
   "id": "2294ebd1-e2a8-481a-9c06-315c8bf8e99f",
   "metadata": {
    "id": "2294ebd1-e2a8-481a-9c06-315c8bf8e99f",
    "outputId": "ff91d69c-61fb-4c86-d852-ef82163ae771"
   },
   "outputs": [
    {
     "data": {
      "text/plain": [
       "'    10    '"
      ]
     },
     "execution_count": 20,
     "metadata": {},
     "output_type": "execute_result"
    }
   ],
   "source": [
    "format(10,'^10')"
   ]
  },
  {
   "cell_type": "code",
   "execution_count": null,
   "id": "3320d4c8-a325-4874-b445-fdbd487fb1ba",
   "metadata": {
    "id": "3320d4c8-a325-4874-b445-fdbd487fb1ba",
    "outputId": "d08d6ee0-4c7e-458d-be71-ec4b9aa7f7e7"
   },
   "outputs": [
    {
     "data": {
      "text/plain": [
       "'        10'"
      ]
     },
     "execution_count": 21,
     "metadata": {},
     "output_type": "execute_result"
    }
   ],
   "source": [
    "format(10,'>10')"
   ]
  },
  {
   "cell_type": "code",
   "execution_count": null,
   "id": "ab60a7ea-e475-4920-8a4a-a6b8d038f966",
   "metadata": {
    "id": "ab60a7ea-e475-4920-8a4a-a6b8d038f966",
    "outputId": "62605605-8c6d-45ca-93b7-718b87f9f65d"
   },
   "outputs": [
    {
     "data": {
      "text/plain": [
       "'10        '"
      ]
     },
     "execution_count": 22,
     "metadata": {},
     "output_type": "execute_result"
    }
   ],
   "source": [
    "format(10,'<10')"
   ]
  },
  {
   "cell_type": "markdown",
   "id": "0f6422b5-c6f5-496a-8639-bc7ff038adec",
   "metadata": {
    "id": "0f6422b5-c6f5-496a-8639-bc7ff038adec"
   },
   "source": [
    "40. Write a Python program to reverse all words in a string.(do both using slice and without library)\n",
    "Ex\n",
    "input: \"i am feeling great here\"\n",
    "output:\"here great feeling am i\""
   ]
  },
  {
   "cell_type": "code",
   "execution_count": null,
   "id": "a4656aaf-9e69-4f09-9495-cd51a2e60d01",
   "metadata": {
    "id": "a4656aaf-9e69-4f09-9495-cd51a2e60d01",
    "outputId": "d9ebf624-a675-4ae3-e366-b3de81ab3435"
   },
   "outputs": [
    {
     "data": {
      "text/plain": [
       "'ereh taerg gnileef ma i'"
      ]
     },
     "execution_count": 34,
     "metadata": {},
     "output_type": "execute_result"
    }
   ],
   "source": [
    "s6 = \"i am feeling great here\"\n",
    "s7 = s6[::-1]\n",
    "s7"
   ]
  },
  {
   "cell_type": "code",
   "execution_count": 19,
   "id": "fd595ef0-8ea0-410b-9e3e-2fae48e665ad",
   "metadata": {
    "id": "fd595ef0-8ea0-410b-9e3e-2fae48e665ad"
   },
   "outputs": [
    {
     "name": "stdout",
     "output_type": "stream",
     "text": [
      "['i', 'am', 'feeling', 'great', 'here']\n"
     ]
    },
    {
     "data": {
      "text/plain": [
       "'i_am_feeling_great_here'"
      ]
     },
     "execution_count": 19,
     "metadata": {},
     "output_type": "execute_result"
    }
   ],
   "source": [
    "s6 = \"i am feeling great here\"\n",
    "s6 = s6.split()\n",
    "s =\"\"\n",
    "print(s6)\n",
    "s = \"_\".join(s6)\n",
    "s"
   ]
  },
  {
   "cell_type": "code",
   "execution_count": null,
   "id": "61fc03d6-0f46-4877-a12b-e78705383f85",
   "metadata": {},
   "outputs": [],
   "source": []
  }
 ],
 "metadata": {
  "colab": {
   "provenance": []
  },
  "kernelspec": {
   "display_name": "Python 3 (ipykernel)",
   "language": "python",
   "name": "python3"
  },
  "language_info": {
   "codemirror_mode": {
    "name": "ipython",
    "version": 3
   },
   "file_extension": ".py",
   "mimetype": "text/x-python",
   "name": "python",
   "nbconvert_exporter": "python",
   "pygments_lexer": "ipython3",
   "version": "3.11.5"
  }
 },
 "nbformat": 4,
 "nbformat_minor": 5
}
