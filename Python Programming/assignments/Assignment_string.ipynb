{
 "cells": [
  {
   "cell_type": "markdown",
   "id": "e7fdf8be-0735-450c-83d1-e1455748a99d",
   "metadata": {},
   "source": [
    "1. Given a string of odd length greater than 7, return a new string made of the middle three characters\n",
    "of a given String"
   ]
  },
  {
   "cell_type": "code",
   "execution_count": 1,
   "id": "7c346909-1e4a-4dd9-936e-0429d26282ed",
   "metadata": {},
   "outputs": [
    {
     "name": "stdout",
     "output_type": "stream",
     "text": [
      "zip\n"
     ]
    }
   ],
   "source": [
    "str1 = \"RakeshzipPetabb\"\n",
    "mid = len(str1) // 2\n",
    "r = str1[mid-1]+str1[mid]+str1[mid+1]\n",
    "print(r)"
   ]
  },
  {
   "cell_type": "markdown",
   "id": "fc805cf2-eaad-46f6-8143-dbf06f899016",
   "metadata": {},
   "source": [
    "2. Given two strings, s1 and s2, create a new string by appending s2 in the middle of s1\n",
    "Given:\n",
    "s1 = \"Ault\"\n",
    "s2 = \"Kelly\""
   ]
  },
  {
   "cell_type": "code",
   "execution_count": 4,
   "id": "a742c7d1-4673-46ef-a113-76654b5939e0",
   "metadata": {},
   "outputs": [
    {
     "name": "stdout",
     "output_type": "stream",
     "text": [
      "AuKellylt\n"
     ]
    }
   ],
   "source": [
    "s1 = \"Ault\" \n",
    "s2 = \"Kelly\"\n",
    "l = len(s1) // 2\n",
    "s3 =  s1[:l]+s2+s1[l:]\n",
    "print(s3)"
   ]
  },
  {
   "cell_type": "markdown",
   "id": "d0de2487-743a-4080-93f8-fdeaa9ba18b5",
   "metadata": {},
   "source": [
    "3. two strings, s1, and s2 return a new string made of the first, middle, and last characters each input\n",
    "string\n",
    "Given:\n",
    "s1 = \"America\"\n",
    "s2 = \"Japan\"\n",
    "Expected Output:\r\n",
    "AJrpan"
   ]
  },
  {
   "cell_type": "code",
   "execution_count": 6,
   "id": "52603531-ea0f-4cd6-bbc8-1ab684d30ec7",
   "metadata": {},
   "outputs": [
    {
     "name": "stdout",
     "output_type": "stream",
     "text": [
      "AJrpan\n"
     ]
    }
   ],
   "source": [
    "s1 = \"America\" \n",
    "s2 = \"Japan\" \n",
    "s3 = s1[0]+s2[0]+s1[len(s1)//2]+s2[len(s2)//2]+s1[-1]+s2[-1]\n",
    "print(s3)"
   ]
  },
  {
   "cell_type": "markdown",
   "id": "a6870f57-3779-4cbf-b530-7379ee54a151",
   "metadata": {},
   "source": [
    "4. Given an input string with the combination of the lower and upper case arrange characters in such a\n",
    "way that all lowercase letters should come first."
   ]
  },
  {
   "cell_type": "code",
   "execution_count": 14,
   "id": "40efaae1-0c89-4884-9c90-45d4aa2cb28b",
   "metadata": {},
   "outputs": [
    {
     "name": "stdout",
     "output_type": "stream",
     "text": [
      "asHRH\n"
     ]
    }
   ],
   "source": [
    "st = \"HaRsH\"\n",
    "ns =\"\"\n",
    "for i in st:\n",
    "    if(i.islower()):\n",
    "        ns = ns + i\n",
    "for i in st:\n",
    "    if(i.isupper()):\n",
    "        ns = ns + i        \n",
    "print(ns)        "
   ]
  },
  {
   "cell_type": "markdown",
   "id": "17ecebe3-71e8-4770-a72e-3b7651248e07",
   "metadata": {},
   "source": [
    "5. create a third-string made of the first char of s1 then the last char of s2, Next, the second char of s1\n",
    "and second last char of s2, and so on. Any leftover chars go at the end of the result.\n",
    "Given:\n",
    "s1 = \"Abc\"\n",
    "s2 = \"Xyz\"\n",
    "Expected Output:\r\n",
    "AzbycX"
   ]
  },
  {
   "cell_type": "code",
   "execution_count": 63,
   "id": "e8d37430-4cf8-4bda-92bc-30ee5d8e34b6",
   "metadata": {},
   "outputs": [
    {
     "name": "stdout",
     "output_type": "stream",
     "text": [
      "a3b2c1d\n"
     ]
    }
   ],
   "source": [
    "s1 = \"abcd\" \n",
    "s2 = \"123\"\n",
    "s3 = \"\"\n",
    "l1 = len(s1)\n",
    "l2 = len(s2)\n",
    "if(l1<l2):\n",
    "    a=l1\n",
    "    s4 = s2\n",
    "else:\n",
    "    a=l2\n",
    "    s4 = s1\n",
    "for i in range(a):\n",
    "    s3 = s3 + s1[-l1]+ s2[l2-1]\n",
    "    l1 -=1\n",
    "    l2 -=1\n",
    "s3 = s3 + s4[a:]\n",
    "print(s3)"
   ]
  },
  {
   "cell_type": "markdown",
   "id": "e9f686b7-d79e-44a4-b89c-c610623b037e",
   "metadata": {},
   "source": [
    "6. Find all occurrences of “USA” from right to left in a given string ignoring the case. also display the\n",
    "starting position\n",
    "Given:\n",
    "str1 = \"Welcome to USA. usa awesome, isn't it?\n",
    "Expected answer : 16, 11"
   ]
  },
  {
   "cell_type": "code",
   "execution_count": 66,
   "id": "720c6a91-09cb-44ef-af7a-1df0a56d306a",
   "metadata": {},
   "outputs": [
    {
     "name": "stdout",
     "output_type": "stream",
     "text": [
      "16\n",
      "11\n"
     ]
    }
   ],
   "source": [
    "str1 = \"Welcome to USA. usa awesome, isn't it?\"\n",
    "str2=\"USA. usa USA. usa USA. usa USA. usa USA. usa USA. usa \"\n",
    "str1 = str1.lower()\n",
    "s=0\n",
    "e=len(str1)\n",
    "while(1):\n",
    "    r = str1.rfind(\"usa\",s,e)\n",
    "    if(r == -1):\n",
    "        break\n",
    "    print(r)    \n",
    "    e=r"
   ]
  },
  {
   "cell_type": "markdown",
   "id": "c923e1ff-c870-4851-8656-ece89593c68a",
   "metadata": {},
   "source": [
    "7. Find all overlapping occurrences of given substring in given string\n",
    "Ex.\n",
    "String = 0111\n",
    "Substring = 11\n",
    "Expected answer : 2\n",
    "String : ANANAAAANNN\n",
    "Substring: ANA\n",
    "Expected answer : 2\n",
    "String : ANANAAAANNN\n",
    "Substring: AA\n",
    "Expected answer : 3"
   ]
  },
  {
   "cell_type": "code",
   "execution_count": 6,
   "id": "97b25ac0-a682-4db3-b88b-bfdc2d06e717",
   "metadata": {},
   "outputs": [
    {
     "name": "stdout",
     "output_type": "stream",
     "text": [
      "2\n"
     ]
    }
   ],
   "source": [
    "s = '0111' \n",
    "sb = '11'\n",
    "l= len(sb)\n",
    "count =0\n",
    "for i in range(0,len(s)-1):\n",
    "    if(s[i:i+l] == sb):\n",
    "        count +=1\n",
    "print(count)        "
   ]
  },
  {
   "cell_type": "code",
   "execution_count": 9,
   "id": "6936a2f0-169c-4034-aa04-0534f5a73749",
   "metadata": {},
   "outputs": [
    {
     "name": "stdout",
     "output_type": "stream",
     "text": [
      "Defaulting to user installation because normal site-packages is not writeable\n",
      "Collecting sympy\n",
      "  Downloading sympy-1.12-py3-none-any.whl.metadata (12 kB)\n",
      "Collecting mpmath>=0.19 (from sympy)\n",
      "  Downloading mpmath-1.3.0-py3-none-any.whl.metadata (8.6 kB)\n",
      "Downloading sympy-1.12-py3-none-any.whl (5.7 MB)\n",
      "   ---------------------------------------- 0.0/5.7 MB ? eta -:--:--\n",
      "    --------------------------------------- 0.1/5.7 MB 1.5 MB/s eta 0:00:04\n",
      "   - -------------------------------------- 0.2/5.7 MB 2.5 MB/s eta 0:00:03\n",
      "   -- ------------------------------------- 0.4/5.7 MB 2.5 MB/s eta 0:00:03\n",
      "   ---- ----------------------------------- 0.6/5.7 MB 3.6 MB/s eta 0:00:02\n",
      "   ------ --------------------------------- 0.9/5.7 MB 3.9 MB/s eta 0:00:02\n",
      "   -------- ------------------------------- 1.2/5.7 MB 4.4 MB/s eta 0:00:02\n",
      "   ---------- ----------------------------- 1.6/5.7 MB 4.7 MB/s eta 0:00:01\n",
      "   ------------ --------------------------- 1.8/5.7 MB 5.0 MB/s eta 0:00:01\n",
      "   -------------- ------------------------- 2.1/5.7 MB 5.0 MB/s eta 0:00:01\n",
      "   ---------------- ----------------------- 2.3/5.7 MB 4.9 MB/s eta 0:00:01\n",
      "   ----------------- ---------------------- 2.6/5.7 MB 5.1 MB/s eta 0:00:01\n",
      "   -------------------- ------------------- 2.9/5.7 MB 5.1 MB/s eta 0:00:01\n",
      "   ---------------------- ----------------- 3.3/5.7 MB 5.3 MB/s eta 0:00:01\n",
      "   ------------------------ --------------- 3.6/5.7 MB 5.4 MB/s eta 0:00:01\n",
      "   --------------------------- ------------ 3.9/5.7 MB 5.6 MB/s eta 0:00:01\n",
      "   ---------------------------- ----------- 4.1/5.7 MB 5.6 MB/s eta 0:00:01\n",
      "   ------------------------------- -------- 4.5/5.7 MB 5.6 MB/s eta 0:00:01\n",
      "   --------------------------------- ------ 4.8/5.7 MB 5.7 MB/s eta 0:00:01\n",
      "   ----------------------------------- ---- 5.1/5.7 MB 5.7 MB/s eta 0:00:01\n",
      "   ------------------------------------- -- 5.4/5.7 MB 5.9 MB/s eta 0:00:01\n",
      "   ---------------------------------------  5.7/5.7 MB 5.8 MB/s eta 0:00:01\n",
      "   ---------------------------------------  5.7/5.7 MB 5.8 MB/s eta 0:00:01\n",
      "   ---------------------------------------  5.7/5.7 MB 5.8 MB/s eta 0:00:01\n",
      "   ---------------------------------------  5.7/5.7 MB 5.8 MB/s eta 0:00:01\n",
      "   ---------------------------------------- 5.7/5.7 MB 5.1 MB/s eta 0:00:00\n",
      "Downloading mpmath-1.3.0-py3-none-any.whl (536 kB)\n",
      "   ---------------------------------------- 0.0/536.2 kB ? eta -:--:--\n",
      "   --------------------------- ------------ 368.6/536.2 kB 7.6 MB/s eta 0:00:01\n",
      "   ---------------------------------------  532.5/536.2 kB 6.7 MB/s eta 0:00:01\n",
      "   ---------------------------------------  532.5/536.2 kB 6.7 MB/s eta 0:00:01\n",
      "   ---------------------------------------- 536.2/536.2 kB 3.4 MB/s eta 0:00:00\n",
      "Installing collected packages: mpmath, sympy\n",
      "Successfully installed mpmath-1.3.0 sympy-1.12\n",
      "Note: you may need to restart the kernel to use updated packages.\n"
     ]
    },
    {
     "name": "stderr",
     "output_type": "stream",
     "text": [
      "DEPRECATION: Loading egg at c:\\programdata\\miniconda3\\lib\\site-packages\\vboxapi-1.0-py3.11.egg is deprecated. pip 24.3 will enforce this behaviour change. A possible replacement is to use pip for package installation.. Discussion can be found at https://github.com/pypa/pip/issues/12330\n",
      "  WARNING: The script isympy.exe is installed in 'C:\\Users\\dbda\\AppData\\Roaming\\Python\\Python311\\Scripts' which is not on PATH.\n",
      "  Consider adding this directory to PATH or, if you prefer to suppress this warning, use --no-warn-script-location.\n"
     ]
    }
   ],
   "source": [
    "pip install sympy"
   ]
  },
  {
   "cell_type": "markdown",
   "id": "b7f88ed2-51b4-4b3f-93db-b74d37e104ee",
   "metadata": {},
   "source": [
    "8. Given a string in format Emp_name:Emp_id\n",
    "If emp_is is perfect square -- > Print only vowels from emp_name\n",
    "Else if emp_id is prime -- > print alternate characters from emp_name\n",
    "Else if emp_id is odd -- > print sum of ascii values of characters in emp_name\n",
    "Else print None"
   ]
  },
  {
   "cell_type": "code",
   "execution_count": 13,
   "id": "fef93964-088a-4d0d-82c2-3918097e82bc",
   "metadata": {},
   "outputs": [
    {
     "ename": "ModuleNotFoundError",
     "evalue": "No module named 'sympy'",
     "output_type": "error",
     "traceback": [
      "\u001b[1;31m---------------------------------------------------------------------------\u001b[0m",
      "\u001b[1;31mModuleNotFoundError\u001b[0m                       Traceback (most recent call last)",
      "Cell \u001b[1;32mIn[13], line 1\u001b[0m\n\u001b[1;32m----> 1\u001b[0m \u001b[38;5;28;01mimport\u001b[39;00m \u001b[38;5;21;01msympy\u001b[39;00m\n\u001b[0;32m      2\u001b[0m emp_name \u001b[38;5;241m=\u001b[39m \u001b[38;5;124m\"\u001b[39m\u001b[38;5;124mHarsh\u001b[39m\u001b[38;5;124m\"\u001b[39m\n\u001b[0;32m      3\u001b[0m emp_id \u001b[38;5;241m=\u001b[39m \u001b[38;5;241m5\u001b[39m\n",
      "\u001b[1;31mModuleNotFoundError\u001b[0m: No module named 'sympy'"
     ]
    }
   ],
   "source": [
    "import sympy\n",
    "emp_name = \"Harsh\"\n",
    "emp_id = 5\n",
    "if(emp_id.isprime()):\n",
    "    vowels = \"AaEeIiOoUu\"\n",
    "    for ch in emp_name:\n",
    "        l = [elem for elem in string if elem in vowels]\n",
    "print(l)        \n",
    "        "
   ]
  },
  {
   "cell_type": "code",
   "execution_count": 5,
   "id": "002e0f22-c380-4561-b2cd-9428ccf5f418",
   "metadata": {},
   "outputs": [
    {
     "ename": "ModuleNotFoundError",
     "evalue": "No module named 'sympy'",
     "output_type": "error",
     "traceback": [
      "\u001b[1;31m---------------------------------------------------------------------------\u001b[0m",
      "\u001b[1;31mModuleNotFoundError\u001b[0m                       Traceback (most recent call last)",
      "Cell \u001b[1;32mIn[5], line 1\u001b[0m\n\u001b[1;32m----> 1\u001b[0m \u001b[38;5;28;01mfrom\u001b[39;00m \u001b[38;5;21;01msympy\u001b[39;00m \u001b[38;5;28;01mimport\u001b[39;00m \u001b[38;5;241m*\u001b[39m\n\u001b[0;32m      3\u001b[0m \u001b[38;5;66;03m# calling isprime function on different numbers\u001b[39;00m\n\u001b[0;32m      4\u001b[0m geek1 \u001b[38;5;241m=\u001b[39m isprime(\u001b[38;5;241m30\u001b[39m)\n",
      "\u001b[1;31mModuleNotFoundError\u001b[0m: No module named 'sympy'"
     ]
    }
   ],
   "source": []
  },
  {
   "cell_type": "markdown",
   "id": "de99c21b-1194-44ac-aefa-0199faa9fbf8",
   "metadata": {},
   "source": [
    "9. Find all mobile number mentioned in given paragraph of text\n",
    "Mobile number is always a 10 digit number no spaces no special characters\n",
    "Ex. Input= “this is a good number 9089786756 and 8900000000 is a desired number”\n",
    "Expected output: 9089786756 , 8900000000"
   ]
  },
  {
   "cell_type": "code",
   "execution_count": 25,
   "id": "3a25cc28-6fe7-4d33-8dd8-e839823244b8",
   "metadata": {},
   "outputs": [
    {
     "name": "stdout",
     "output_type": "stream",
     "text": [
      "9089786756\n",
      "8900000000\n"
     ]
    }
   ],
   "source": [
    "input= 'this is 1 good number 9089786756 and 8900000000 is a desired number'\n",
    "s = input.split()\n",
    "num = []\n",
    "for i in s:\n",
    "    if(i.isdigit()):\n",
    "        num.append(i)\n",
    "\n",
    "for j in num:\n",
    "    if(len(j) == 10):\n",
    "        print(j)\n",
    "    "
   ]
  },
  {
   "cell_type": "markdown",
   "id": "d8b7b8ee-b41d-4a46-ae1b-b6d78c385e86",
   "metadata": {},
   "source": [
    "10. Count occurrence of spaces, and special characters in given string\n",
    "Ex.\n",
    "Input: Fgh^f #89\n",
    "Expected output :\n",
    "Spaces: 1\n",
    "Special characters: 2"
   ]
  },
  {
   "cell_type": "code",
   "execution_count": 39,
   "id": "af80393c-5d2c-4fbf-bd1b-5357325d9637",
   "metadata": {},
   "outputs": [
    {
     "name": "stdout",
     "output_type": "stream",
     "text": [
      "spaces:  1 Special characters:  2\n"
     ]
    }
   ],
   "source": [
    "y= \"Fgh^f #89\"\n",
    "cs,cc =0,0\n",
    "for i in y:\n",
    "    if(i == \" \"):\n",
    "        cs += 1\n",
    "    else:\n",
    "        if(not i.isalnum() == 0): \n",
    "            cs =cs\n",
    "        else:\n",
    "            cc+=1       \n",
    "print(\"spaces: \",cs,\"Special characters: \",cc)       "
   ]
  },
  {
   "cell_type": "code",
   "execution_count": null,
   "id": "f52e7647-f4e0-4fbb-ac64-2ed250352de3",
   "metadata": {},
   "outputs": [],
   "source": [
    "       "
   ]
  },
  {
   "cell_type": "markdown",
   "id": "11aae08d-6963-412f-a165-e3b3076168c9",
   "metadata": {},
   "source": [
    "11. Given a paragraph count number of words, sentences. Every sentence ends with either . or ? or !\n",
    "Print Count of how many normal sentences ending with . , how many interrogative sentences ( ending\n",
    "with ?) and how many exclamatory sentences ( ending with !).\n",
    "Ex.\n",
    "Input : “I am at CDAC. What about you? I am surprised by current weather!”\n",
    "Normal sentence : 1\n",
    "Interrogative: 1\n",
    "Exclamatory : 1"
   ]
  },
  {
   "cell_type": "code",
   "execution_count": 42,
   "id": "3b9ae616-9bf8-4c05-8173-ddd674c9c75d",
   "metadata": {},
   "outputs": [
    {
     "name": "stdout",
     "output_type": "stream",
     "text": [
      "Normal sentence : 1 Interrogative:  1 Exclamatory :  1\n"
     ]
    }
   ],
   "source": [
    "st = 'I am at CDAC. What about you? I am surprised by current weather!'\n",
    "p,q,e = 0,0,0\n",
    "for i in st:\n",
    "    if(i == '.'):\n",
    "        p +=1\n",
    "    if(i== '?'):\n",
    "        q+=1\n",
    "    if(i == '!'):\n",
    "        e+=1\n",
    "print(\"Normal sentence :\",p,\"Interrogative: \",q,\"Exclamatory : \",e)     "
   ]
  },
  {
   "cell_type": "markdown",
   "id": "117d19fe-b710-4dfc-ab83-3e4889b4e527",
   "metadata": {},
   "source": [
    "12. You are given a string S and width w.\n",
    "Your task is to wrap the string into a paragraph of width w\n",
    "Example .\n",
    "String : “ABCDEFGHIJKLIMNOQRSTUVWXYZ”"
   ]
  },
  {
   "cell_type": "code",
   "execution_count": 48,
   "id": "29ac2d46-bd48-4363-8037-8043319131f3",
   "metadata": {},
   "outputs": [
    {
     "name": "stdout",
     "output_type": "stream",
     "text": [
      "ABCD\n",
      "EFGH\n",
      "IJKL\n",
      "IMNO\n",
      "QRST\n",
      "UVWX\n",
      "YZ\n",
      "\n"
     ]
    }
   ],
   "source": [
    "st= 'ABCDEFGHIJKLIMNOQRSTUVWXYZ'\n",
    "para = ''\n",
    "for i in range(0, len(st), 4):\n",
    "        para += st[i:i+4] + \"\\n\"\n",
    "print(para)    \n",
    "   "
   ]
  },
  {
   "cell_type": "code",
   "execution_count": null,
   "id": "c6d13a70-7c99-419c-9e73-03376dd6b378",
   "metadata": {},
   "outputs": [],
   "source": []
  }
 ],
 "metadata": {
  "kernelspec": {
   "display_name": "Python 3 (ipykernel)",
   "language": "python",
   "name": "python3"
  },
  "language_info": {
   "codemirror_mode": {
    "name": "ipython",
    "version": 3
   },
   "file_extension": ".py",
   "mimetype": "text/x-python",
   "name": "python",
   "nbconvert_exporter": "python",
   "pygments_lexer": "ipython3",
   "version": "3.11.5"
  }
 },
 "nbformat": 4,
 "nbformat_minor": 5
}
