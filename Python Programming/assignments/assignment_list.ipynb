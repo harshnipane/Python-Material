{
 "cells": [
  {
   "cell_type": "markdown",
   "id": "c79d5447-8bae-4708-8725-9ab07f19453c",
   "metadata": {},
   "source": [
    "1. Reverse a given list in Python\n",
    "aList = [100, 200, 300, 400, 500]"
   ]
  },
  {
   "cell_type": "code",
   "execution_count": 2,
   "id": "3ff8f5ab-a579-4bb9-ad04-9e9f0f2e7c44",
   "metadata": {},
   "outputs": [
    {
     "name": "stdout",
     "output_type": "stream",
     "text": [
      "[500, 400, 300, 200, 100]\n"
     ]
    }
   ],
   "source": [
    "alist = [100, 200, 300, 400, 500]\n",
    "print(alist[::-1])"
   ]
  },
  {
   "cell_type": "code",
   "execution_count": null,
   "id": "eb7b062c-3154-4c5e-abd3-4a29b74d828d",
   "metadata": {},
   "outputs": [],
   "source": []
  },
  {
   "cell_type": "markdown",
   "id": "5abb9387-3850-4db0-8268-972b5cc92a8d",
   "metadata": {},
   "source": [
    "2. take a list 'l1' of even nos between 150 to 250. Print its length.\n",
    "Then create another list 'l2' using 'l1', containing only nos divisible by 4 from 'l1'."
   ]
  },
  {
   "cell_type": "code",
   "execution_count": 5,
   "id": "de3b9ac1-d1d9-4f81-b491-27447f03e882",
   "metadata": {},
   "outputs": [
    {
     "name": "stdout",
     "output_type": "stream",
     "text": [
      "[152, 156, 160, 164, 168, 172, 176, 180, 184, 188, 192, 196, 200, 204, 208, 212, 216, 220, 224, 228, 232, 236, 240, 244, 248]\n"
     ]
    }
   ],
   "source": [
    "l1 = []\n",
    "for i in range(150,251,2):\n",
    "    l1.append(i)\n",
    "\n",
    "l2 = [elem for elem in l1 if elem % 4 == 0]\n",
    "print(l2)\n",
    "\n",
    "    "
   ]
  },
  {
   "cell_type": "code",
   "execution_count": null,
   "id": "259edc0d-234b-4f26-9a95-c349f476ebde",
   "metadata": {},
   "outputs": [],
   "source": []
  },
  {
   "cell_type": "markdown",
   "id": "04f5ad8b-9c43-420f-950b-e0c9c4d6ab6d",
   "metadata": {},
   "source": [
    "Given a Python list of numbers. Turn every item of a list into its square root\n",
    "aList = [1, 4, 9, 16, 25, 36, 49] "
   ]
  },
  {
   "cell_type": "code",
   "execution_count": 11,
   "id": "961fcca3-8217-4843-ace0-30af4400dad6",
   "metadata": {},
   "outputs": [
    {
     "name": "stdout",
     "output_type": "stream",
     "text": [
      "[1, 2, 3, 4, 5, 6, 7]\n"
     ]
    }
   ],
   "source": [
    "import math\n",
    "a1 = [1, 4, 9, 16, 25, 36, 49]\n",
    "a2 = []\n",
    "for i in a1:\n",
    "    a2.append(math.trunc(i**0.5))\n",
    "print(a2)    \n",
    "    "
   ]
  },
  {
   "cell_type": "code",
   "execution_count": null,
   "id": "2a50df2b-d88c-4094-a5a4-74354038c3b6",
   "metadata": {},
   "outputs": [],
   "source": []
  },
  {
   "cell_type": "markdown",
   "id": "1836cf39-19af-4607-a771-f7c7074c37bb",
   "metadata": {},
   "source": [
    "4. Print two lists in the following order\n",
    "list1 = [5, 6,7]\n",
    "list2 = [0, 1]\n",
    "output:\r\n",
    "50,51,60,61,70,71"
   ]
  },
  {
   "cell_type": "code",
   "execution_count": 12,
   "id": "b7e965f9-2eb4-4f6e-9cbd-83d5fc5a10ef",
   "metadata": {},
   "outputs": [
    {
     "name": "stdout",
     "output_type": "stream",
     "text": [
      "7\n"
     ]
    }
   ],
   "source": [
    "list1 = [5, 6,7] \n",
    "list2 = [0, 1] \n",
    "print(3++4)"
   ]
  },
  {
   "cell_type": "code",
   "execution_count": 20,
   "id": "0851a084-fb4a-4f2e-b993-3f0bb227f2c0",
   "metadata": {},
   "outputs": [
    {
     "name": "stdout",
     "output_type": "stream",
     "text": [
      "50\n",
      "51\n",
      "60\n",
      "61\n",
      "70\n",
      "71\n"
     ]
    }
   ],
   "source": [
    "for i in range(len(list1)):\n",
    "    for j in range(len(list2)):\n",
    "        num1 = list1[i]\n",
    "        num2 = list2[j]    \n",
    "        print(str(num1)+str(num2))"
   ]
  },
  {
   "cell_type": "code",
   "execution_count": null,
   "id": "97c360c2-1e57-42a1-938c-5b9bff546700",
   "metadata": {},
   "outputs": [],
   "source": []
  },
  {
   "cell_type": "markdown",
   "id": "b5e21ac9-2aaa-468b-9e66-391676cda373",
   "metadata": {},
   "source": [
    "5. Given a two Python list. Iterate both lists simultaneously such that list1 should display item in original order and list2 in reverse order. It should work for any two lists.\n",
    "list1 = [10, 20, 30, 40]\n",
    "list2 = [100, 200, 300, 400]"
   ]
  },
  {
   "cell_type": "code",
   "execution_count": 31,
   "id": "e1cfef6a-5d6c-44d1-9145-4be6a67db66c",
   "metadata": {},
   "outputs": [
    {
     "name": "stdout",
     "output_type": "stream",
     "text": [
      "10 500\n",
      "20 400\n",
      "30 300\n",
      "40 200\n"
     ]
    }
   ],
   "source": [
    "l1 = [10, 20, 30, 40] \n",
    "l2 = [100, 200, 300, 400,500]\n",
    "i =0\n",
    "j = len(l2)-1\n",
    "while(i !=len(l1) and j >=0):\n",
    "    print(l1[i],l2[j],sep=\" \")\n",
    "    i +=1\n",
    "    j -=1\n",
    "    "
   ]
  },
  {
   "cell_type": "code",
   "execution_count": null,
   "id": "c4c7dffa-b4f8-42e8-88c9-92f7742db03e",
   "metadata": {},
   "outputs": [],
   "source": []
  },
  {
   "cell_type": "markdown",
   "id": "564cdabe-fc76-4ebf-a1b4-77a76461430f",
   "metadata": {},
   "source": [
    "6. Remove empty strings from the list of strings\n",
    "list1 = [\"Ashish\", \"\", \"Atharva\", \"Amit\", \"\", \"Revati\"]\n",
    "output:\n",
    "[\"Ashish\", \"Atharva\", \"Amit\", \"Revati\"]"
   ]
  },
  {
   "cell_type": "code",
   "execution_count": 33,
   "id": "6c03cdd7-fd8a-4e75-9f4e-3ac939d86987",
   "metadata": {},
   "outputs": [
    {
     "name": "stdout",
     "output_type": "stream",
     "text": [
      "['Ashish', 'Atharva', 'Amit', 'Revati']\n"
     ]
    }
   ],
   "source": [
    "name = [\"Ashish\", \"\", \"Atharva\", \"Amit\", \"\", \"Revati\"]\n",
    "for i in name:\n",
    "    if(i == \"\"):\n",
    "        name.remove(i)\n",
    "print(name)        \n",
    "    "
   ]
  },
  {
   "cell_type": "code",
   "execution_count": null,
   "id": "b82669b8-379a-4e64-90a7-7a973a818634",
   "metadata": {},
   "outputs": [],
   "source": []
  },
  {
   "cell_type": "markdown",
   "id": "41348b4e-0e15-4657-b3e4-aa4f58c48200",
   "metadata": {},
   "source": [
    "7. Add item 7000 after 6000 in the following Python List\n",
    "list1 = [10, 20, [300, 400, [5000, 6000], 500], 30, 40]\n",
    "output:\n",
    "[10, 20, [300, 400, [5000, 6000, 7000], 500], 30, 40]"
   ]
  },
  {
   "cell_type": "code",
   "execution_count": 37,
   "id": "b6cc6892-be08-40ac-8065-6cfd01da9646",
   "metadata": {},
   "outputs": [
    {
     "name": "stdout",
     "output_type": "stream",
     "text": [
      "[10, 20, [300, 400, [5000, 6000, 7000], 500], 30, 40]\n"
     ]
    }
   ],
   "source": [
    "ad = [10, 20, [300, 400, [5000, 6000], 500], 30, 40] \n",
    "ad[2][2].insert(2,7000)\n",
    "print(ad)"
   ]
  },
  {
   "cell_type": "code",
   "execution_count": null,
   "id": "ff706bd5-7c47-4d93-bcc5-478cda0b00cd",
   "metadata": {},
   "outputs": [],
   "source": []
  },
  {
   "cell_type": "markdown",
   "id": "5cbbe38e-9a07-46e5-bff4-ceaf6358e8dc",
   "metadata": {},
   "source": [
    "8 Given a nested list extend it by adding the sub list [\"h\", \"i\", \"j\"] in such a way that it will look like the following list\n",
    "\n",
    "list1 = [\"a\", \"b\", [\"c\", [\"d\", \"e\", [\"f\", \"g\"], \"k\"], \"l\"], \"m\", \"n\"]\n",
    "Sub List to be added = [\"h\", \"i\", \"j\"]\n",
    "output:\n",
    "['a', 'b', ['c', ['d', 'e', ['f', 'g', 'h', 'i', 'j'], 'k'], 'l'], 'm', 'n'] "
   ]
  },
  {
   "cell_type": "code",
   "execution_count": 9,
   "id": "90de284c-a1e3-47c2-b804-d7baeb71bb5a",
   "metadata": {},
   "outputs": [
    {
     "data": {
      "text/plain": [
       "['a', 'b', ['c', ['d', 'e', ['f', 'g', 'h', 'i', 'j'], 'k'], 'l'], 'm', 'n']"
      ]
     },
     "execution_count": 9,
     "metadata": {},
     "output_type": "execute_result"
    }
   ],
   "source": [
    "b = [\"h\", \"i\", \"j\"]\n",
    "b1 = [\"a\", \"b\", [\"c\", [\"d\", \"e\", [\"f\", \"g\"], \"k\"], \"l\"], \"m\", \"n\"] \n",
    "b1[2][1][2][2:] =b\n",
    "b1"
   ]
  },
  {
   "cell_type": "code",
   "execution_count": null,
   "id": "87956cbb-5d29-45be-9cc1-9bdfa4b0e5ac",
   "metadata": {},
   "outputs": [],
   "source": []
  },
  {
   "cell_type": "code",
   "execution_count": null,
   "id": "e221246f-7de3-43bb-8da9-7fff2eec3cdd",
   "metadata": {},
   "outputs": [],
   "source": []
  },
  {
   "cell_type": "markdown",
   "id": "11ca3e05-9871-4fdb-bfc9-9435b6f3f1e8",
   "metadata": {},
   "source": [
    "9. Given a Python list, find value 20 in the list, and if it is present, replace it with 200. Only update the first occurrence of a value\n",
    "list1 = [5, 10, 15, 20, 25, 50, 20]\n",
    "output:\n",
    "list1 = [5, 10, 15, 200, 25, 50, 20]"
   ]
  },
  {
   "cell_type": "code",
   "execution_count": 11,
   "id": "219808a7-001b-424a-be3c-900240478cc3",
   "metadata": {},
   "outputs": [
    {
     "name": "stdout",
     "output_type": "stream",
     "text": [
      "[5, 10, 15, 200, 25, 50, 20]\n"
     ]
    }
   ],
   "source": [
    " lt = [5, 10, 15, 20, 25, 50, 20]\n",
    "for i,e in enumerate(lt):\n",
    "    if e == 20:\n",
    "        lt[i] = 200\n",
    "        break\n",
    "\n",
    "print(lt)\n",
    "        \n",
    "        "
   ]
  },
  {
   "cell_type": "code",
   "execution_count": null,
   "id": "6486f767-2fe0-4065-bf4c-15e08ba980b2",
   "metadata": {},
   "outputs": [],
   "source": []
  },
  {
   "cell_type": "markdown",
   "id": "0e327bcc-3d40-4bfd-a212-389d9284ea19",
   "metadata": {},
   "source": [
    "10. Given a Python list, remove all occurrence of 20 from the list\n",
    "list1 = [5, 20, 15, 20, 25, 50, 20]\n",
    "output:\n",
    "[5, 15, 25, 50]"
   ]
  },
  {
   "cell_type": "code",
   "execution_count": 14,
   "id": "73e9c3a6-d175-48ff-bf08-e8d1121961af",
   "metadata": {},
   "outputs": [
    {
     "data": {
      "text/plain": [
       "[5, 15, 25, 50]"
      ]
     },
     "execution_count": 14,
     "metadata": {},
     "output_type": "execute_result"
    }
   ],
   "source": [
    "list1 = [5, 20, 15, 20, 25, 50, 20]\n",
    "for i in list1:\n",
    "    if(i ==20):\n",
    "        list1.remove(i)\n",
    "list1        "
   ]
  },
  {
   "cell_type": "code",
   "execution_count": null,
   "id": "37753dac-8e4b-4711-a7d8-623f2653d557",
   "metadata": {},
   "outputs": [],
   "source": []
  },
  {
   "cell_type": "markdown",
   "id": "9c709a9f-e49c-4eb9-9ed5-ca20411aa77b",
   "metadata": {},
   "source": [
    "11. Take a number as input from user. \n",
    "Print maximum and minimum integer which can be generated using all the digits in the input number\n",
    "Ex. Input 3421   : o/p max: 4321, min 1234\n",
    "Input 7789    : o/p max: 9776   min 6779"
   ]
  },
  {
   "cell_type": "code",
   "execution_count": 31,
   "id": "c51bc697-3b79-40ab-9a1a-989320125daf",
   "metadata": {},
   "outputs": [
    {
     "name": "stdin",
     "output_type": "stream",
     "text": [
      "enter number 2674\n"
     ]
    },
    {
     "name": "stdout",
     "output_type": "stream",
     "text": [
      "Max = 7642\n",
      "Min = 2467\n"
     ]
    }
   ],
   "source": [
    "num = int(input(\"enter number\"))\n",
    "l = []\n",
    "max =0\n",
    "min =0\n",
    "while(num != 0):\n",
    "    m = num % 10\n",
    "    l.append(m)\n",
    "    num = num //10\n",
    "l.sort()\n",
    "c=1\n",
    "for i in range(len(l)):\n",
    "    if(i==0):\n",
    "        max = max + (l[i]*c)\n",
    "    else:\n",
    "        max = max + (l[i]*c)\n",
    "    c = c*10    \n",
    "print(\"Max =\",max) \n",
    "c=1\n",
    "l.sort(reverse = True)\n",
    "for i in range(len(l)):\n",
    "    if(i==0):\n",
    "        min = min + (l[i]*c)\n",
    "    else:\n",
    "        min = min + (l[i]*c)\n",
    "    c = c*10    \n",
    "print(\"Min =\",min)\n",
    "    \n",
    "    \n",
    "    "
   ]
  },
  {
   "cell_type": "code",
   "execution_count": null,
   "id": "aabc36e1-4e24-44ea-9e3e-7c763dfbf6f8",
   "metadata": {},
   "outputs": [],
   "source": []
  },
  {
   "cell_type": "markdown",
   "id": "a4c7f561-5da7-4109-9172-4320e7375952",
   "metadata": {},
   "source": [
    "12. Take integer from user and print all odd numbers which can be generated using any number of digits from given number\n",
    "Ex. \n",
    "Input: 3421  o/p: 1,3,13,43,23,31,41,21,421,241,341,431,423,243,143,413,1243,1423,4213,4123, 2413,2143, .. etc"
   ]
  },
  {
   "cell_type": "code",
   "execution_count": 4,
   "id": "0b1854ee-0818-4a92-98c7-25ce7a83ffc1",
   "metadata": {},
   "outputs": [
    {
     "name": "stdin",
     "output_type": "stream",
     "text": [
      "enter the number:  1234\n"
     ]
    },
    {
     "data": {
      "text/plain": [
       "['1', '2', '3', '4']"
      ]
     },
     "execution_count": 4,
     "metadata": {},
     "output_type": "execute_result"
    }
   ],
   "source": [
    "num = (input(\"enter the number: \"))\n",
    "l1 = list(num)\n"
   ]
  },
  {
   "cell_type": "code",
   "execution_count": null,
   "id": "804939d7-ae2e-4a6b-8208-b5bdee2f9aba",
   "metadata": {},
   "outputs": [],
   "source": []
  },
  {
   "cell_type": "code",
   "execution_count": 1,
   "id": "62ecf168-16a3-4501-8ad1-d7c44f30ba54",
   "metadata": {},
   "outputs": [
    {
     "name": "stdout",
     "output_type": "stream",
     "text": [
      "[0, 300]\n"
     ]
    }
   ],
   "source": [
    "l1 = [ 0 , 1]\n",
    "x= l1[0]   # x =0\n",
    "x, l1[x] = 1, 300  # x =1, l1[1] = 300\n",
    "print(l1)"
   ]
  },
  {
   "cell_type": "code",
   "execution_count": 3,
   "id": "802921aa-f9c3-489f-9658-a9bb66b842f4",
   "metadata": {},
   "outputs": [
    {
     "name": "stdout",
     "output_type": "stream",
     "text": [
      "False\n"
     ]
    }
   ],
   "source": [
    "comp = [1, 2, ('aa', 'ab')]   < [1, 2, ('abc', 'a'), 4]\n",
    "print(comp)"
   ]
  },
  {
   "cell_type": "code",
   "execution_count": 3,
   "id": "ee85f24e-a0ed-4abf-be3c-20ee0d8f0198",
   "metadata": {},
   "outputs": [
    {
     "data": {
      "text/plain": [
       "(1, 2, 3, 4, [1000, 20])"
      ]
     },
     "execution_count": 3,
     "metadata": {},
     "output_type": "execute_result"
    }
   ],
   "source": [
    "t =(1,2,3,4,[10,20])\n",
    "t[-1][0] = 1000\n",
    "t"
   ]
  },
  {
   "cell_type": "code",
   "execution_count": 11,
   "id": "65b08c31-f1a2-42fa-b340-22abef234df5",
   "metadata": {},
   "outputs": [
    {
     "data": {
      "text/plain": [
       "{1, 2, 3, 4, frozenset({1, 2, 3, 5, 6})}"
      ]
     },
     "execution_count": 11,
     "metadata": {},
     "output_type": "execute_result"
    }
   ],
   "source": [
    "s= frozenset([1,2,3,5,6])\n",
    "type(s)\n",
    "s2 = {1,2,3,4,s}\n",
    "s2"
   ]
  },
  {
   "cell_type": "code",
   "execution_count": null,
   "id": "3fee24f1-0751-4d75-b6f0-c65475bf863b",
   "metadata": {},
   "outputs": [],
   "source": []
  }
 ],
 "metadata": {
  "kernelspec": {
   "display_name": "Python 3 (ipykernel)",
   "language": "python",
   "name": "python3"
  },
  "language_info": {
   "codemirror_mode": {
    "name": "ipython",
    "version": 3
   },
   "file_extension": ".py",
   "mimetype": "text/x-python",
   "name": "python",
   "nbconvert_exporter": "python",
   "pygments_lexer": "ipython3",
   "version": "3.11.5"
  }
 },
 "nbformat": 4,
 "nbformat_minor": 5
}
