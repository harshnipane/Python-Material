{
 "cells": [
  {
   "cell_type": "markdown",
   "id": "0debbf13",
   "metadata": {},
   "source": [
    "1. Write a Python program to sum all the items in a list."
   ]
  },
  {
   "cell_type": "code",
   "execution_count": 1,
   "id": "4bfde463",
   "metadata": {},
   "outputs": [
    {
     "name": "stdout",
     "output_type": "stream",
     "text": [
      "15\n"
     ]
    }
   ],
   "source": [
    "l = [1,2,3,4,5]\n",
    "s=0\n",
    "for i in l:\n",
    "    s = s + i\n",
    "    \n",
    "print(s)    "
   ]
  },
  {
   "cell_type": "markdown",
   "id": "ebaee63c",
   "metadata": {},
   "source": [
    "2. Write a Python program to multiply all the items in a list."
   ]
  },
  {
   "cell_type": "code",
   "execution_count": 3,
   "id": "b20e3f6b",
   "metadata": {},
   "outputs": [
    {
     "name": "stdout",
     "output_type": "stream",
     "text": [
      "120\n"
     ]
    }
   ],
   "source": [
    "li = [1,2,3,4,5]\n",
    "m=1\n",
    "for i in li:\n",
    "     m= m * i\n",
    "print(m)    "
   ]
  },
  {
   "cell_type": "markdown",
   "id": "0030882b",
   "metadata": {},
   "source": [
    "3. Write a Python program to get the largest number from a list."
   ]
  },
  {
   "cell_type": "code",
   "execution_count": 5,
   "id": "52541ceb",
   "metadata": {},
   "outputs": [
    {
     "name": "stdout",
     "output_type": "stream",
     "text": [
      "5\n"
     ]
    }
   ],
   "source": [
    "l1 = [1,2,3,4,5]\n",
    "print(max(l1))"
   ]
  },
  {
   "cell_type": "markdown",
   "id": "2d96f37a",
   "metadata": {},
   "source": [
    "4. Write a Python program to get the smallest number from a list."
   ]
  },
  {
   "cell_type": "code",
   "execution_count": 6,
   "id": "7c26c2fa",
   "metadata": {},
   "outputs": [
    {
     "name": "stdout",
     "output_type": "stream",
     "text": [
      "1\n"
     ]
    }
   ],
   "source": [
    "l1 = [1,2,3,4,5]\n",
    "print(min(l1))"
   ]
  },
  {
   "cell_type": "markdown",
   "id": "0d7ec9c8",
   "metadata": {},
   "source": [
    "5. Write a Python program to count the number of strings from a given list of strings. \n",
    "Condition is, the string length is 2 or more and the first and last characters are the same.\n",
    "Sample List : ['abc', 'xyz', 'aba', '1221']\n",
    "Expected Result : 2"
   ]
  },
  {
   "cell_type": "code",
   "execution_count": 8,
   "id": "05201b92",
   "metadata": {},
   "outputs": [
    {
     "name": "stdout",
     "output_type": "stream",
     "text": [
      "2\n"
     ]
    }
   ],
   "source": [
    "Lt = ['abc', 'xyz', 'aba', '1221']\n",
    "count=0\n",
    "for i in Lt:\n",
    "    if(len(i)>=2 and i[0] == i[len(i)-1]):\n",
    "        count +=1\n",
    "print(count)        \n",
    "        "
   ]
  },
  {
   "cell_type": "markdown",
   "id": "00d8891d",
   "metadata": {},
   "source": [
    "6. Write a Python program to get a list, sorted in increasing order by the last element in each tuple from a given list of non-empty tuples.\n",
    "Sample List : [(2, 5), (1, 2), (4, 4), (2, 3), (2, 1)]\n",
    "Expected Result : [(2, 1), (1, 2), (2, 3), (4, 4), (2, 5)]"
   ]
  },
  {
   "cell_type": "code",
   "execution_count": 15,
   "id": "e7eae091",
   "metadata": {},
   "outputs": [
    {
     "ename": "SyntaxError",
     "evalue": "invalid syntax. Perhaps you forgot a comma? (3041044706.py, line 3)",
     "output_type": "error",
     "traceback": [
      "\u001b[1;36m  Cell \u001b[1;32mIn[15], line 3\u001b[1;36m\u001b[0m\n\u001b[1;33m    sl2 = sorted(sl, key=sl[][[-1]])\u001b[0m\n\u001b[1;37m                         ^\u001b[0m\n\u001b[1;31mSyntaxError\u001b[0m\u001b[1;31m:\u001b[0m invalid syntax. Perhaps you forgot a comma?\n"
     ]
    }
   ],
   "source": [
    "sl = [(2, 5), (1, 2), (4, 4), (2, 3), (2, 1)]\n",
    "\n",
    "sl2 = sorted(sl, key=lambda x: x[-1])\n",
    "sl2"
   ]
  },
  {
   "cell_type": "markdown",
   "id": "863e7e38",
   "metadata": {},
   "source": [
    "7. Write a Python program to remove duplicates from a list. Use another list to store unique values."
   ]
  },
  {
   "cell_type": "code",
   "execution_count": 11,
   "id": "b0b9cd5d",
   "metadata": {},
   "outputs": [
    {
     "data": {
      "text/plain": [
       "{1, 2, 3, 4, 5, 14}"
      ]
     },
     "execution_count": 11,
     "metadata": {},
     "output_type": "execute_result"
    }
   ],
   "source": [
    "ll = [14,1,2,5,3,2,4,5,14]\n",
    "ll2 = set(ll)\n",
    "ll2"
   ]
  },
  {
   "cell_type": "code",
   "execution_count": 16,
   "id": "e4bd78b0",
   "metadata": {},
   "outputs": [
    {
     "data": {
      "text/plain": [
       "[14, 1, 2, 5, 3, 4]"
      ]
     },
     "execution_count": 16,
     "metadata": {},
     "output_type": "execute_result"
    }
   ],
   "source": [
    "ll = [14,1,2,5,3,2,4,5,14]\n",
    "li =[]\n",
    "for i in ll:\n",
    "    if(i not in li):\n",
    "        li.append(i)\n",
    "        \n",
    "li        "
   ]
  },
  {
   "cell_type": "markdown",
   "id": "545a64e7",
   "metadata": {},
   "source": [
    "8. Write a Python program to check if a list is empty or not"
   ]
  },
  {
   "cell_type": "code",
   "execution_count": 17,
   "id": "0d7f5553",
   "metadata": {},
   "outputs": [
    {
     "name": "stdout",
     "output_type": "stream",
     "text": [
      "enpty\n"
     ]
    }
   ],
   "source": [
    "el =[]\n",
    "if(len(el) == 0):\n",
    "    print(\"empty\")\n",
    "else:\n",
    "    print(\"not empty\")"
   ]
  },
  {
   "cell_type": "markdown",
   "id": "827540ee",
   "metadata": {},
   "source": [
    "9. Write a Python program to clone or copy a list."
   ]
  },
  {
   "cell_type": "code",
   "execution_count": 19,
   "id": "7986b016",
   "metadata": {},
   "outputs": [
    {
     "data": {
      "text/plain": [
       "[14, 1, 2, 5, 3, 2, 4, 5, 14]"
      ]
     },
     "execution_count": 19,
     "metadata": {},
     "output_type": "execute_result"
    }
   ],
   "source": [
    "ll = [14,1,2,5,3,2,4,5,14]\n",
    "cl = ll[:]\n",
    "cl"
   ]
  },
  {
   "cell_type": "markdown",
   "id": "055b116b",
   "metadata": {},
   "source": [
    "10. Write a Python program to find the list of words that are longer than n from a given list of words."
   ]
  },
  {
   "cell_type": "code",
   "execution_count": 21,
   "id": "77ff6067",
   "metadata": {},
   "outputs": [
    {
     "name": "stdout",
     "output_type": "stream",
     "text": [
      "enter n3\n",
      "abcfd\n",
      "xyzkemfnef\n",
      "1221297393874\n"
     ]
    }
   ],
   "source": [
    "n = int(input(\"enter n\"))\n",
    "Lt = ['abcfd', 'xyzkemfnef','au', 'aba', '1221297393874']\n",
    "for i in Lt:\n",
    "    if(len(i) > n):\n",
    "        print(i)"
   ]
  },
  {
   "cell_type": "markdown",
   "id": "caa86a30",
   "metadata": {},
   "source": [
    "11 Write a Python function that takes two lists and returns True if they have at least one common member."
   ]
  },
  {
   "cell_type": "code",
   "execution_count": 29,
   "id": "72c23179",
   "metadata": {},
   "outputs": [
    {
     "name": "stdout",
     "output_type": "stream",
     "text": [
      "True\n"
     ]
    }
   ],
   "source": [
    "Lt = ['abcfd', 'xyzkemfnef','au', 'aba', '1221297393874']\n",
    "lt = ['abc', 'xyz', 'aba', '1221']\n",
    "for i in Lt:\n",
    "    if(i in lt):\n",
    "        print(True)\n",
    "        break    "
   ]
  },
  {
   "cell_type": "markdown",
   "id": "db49adab",
   "metadata": {},
   "source": [
    "12 Write a Python program to print a specified list after removing the 0th, 4th and 5th elements.\n",
    "Sample List : ['Red', 'Green', 'White', 'Black', 'Pink', 'Yellow']\n",
    "Expected Output : ['Green', 'White', 'Black']"
   ]
  },
  {
   "cell_type": "code",
   "execution_count": 31,
   "id": "50477cb2",
   "metadata": {},
   "outputs": [
    {
     "data": {
      "text/plain": [
       "['Green', 'White', 'Black']"
      ]
     },
     "execution_count": 31,
     "metadata": {},
     "output_type": "execute_result"
    }
   ],
   "source": [
    "cl = ['Red', 'Green', 'White', 'Black', 'Pink', 'Yellow']\n",
    "r = cl[1:4]\n",
    "r"
   ]
  },
  {
   "cell_type": "markdown",
   "id": "bb341e13",
   "metadata": {},
   "source": [
    "13 Write a Python program to generate a 3*4*6 3D array whose each element is *."
   ]
  },
  {
   "cell_type": "code",
   "execution_count": null,
   "id": "46cfc3d5",
   "metadata": {},
   "outputs": [],
   "source": []
  },
  {
   "cell_type": "markdown",
   "id": "e1882235",
   "metadata": {},
   "source": [
    "14. Write a Python program to print the numbers of a specified list after removing even numbers from it."
   ]
  },
  {
   "cell_type": "code",
   "execution_count": 34,
   "id": "af86efb7",
   "metadata": {},
   "outputs": [
    {
     "data": {
      "text/plain": [
       "[1, 5, 3, 5]"
      ]
     },
     "execution_count": 34,
     "metadata": {},
     "output_type": "execute_result"
    }
   ],
   "source": [
    "all = [14,1,2,5,3,2,4,5,14]\n",
    "odd = [elem for elem in all if elem % 2 != 0] \n",
    "odd"
   ]
  },
  {
   "cell_type": "markdown",
   "id": "7d5aedbd",
   "metadata": {},
   "source": [
    "15. Write a Python program to shuffle and print a specified list."
   ]
  },
  {
   "cell_type": "code",
   "execution_count": 2,
   "id": "c3932a91",
   "metadata": {},
   "outputs": [
    {
     "data": {
      "text/plain": [
       "[2, 3, 4, 5, 1]"
      ]
     },
     "execution_count": 2,
     "metadata": {},
     "output_type": "execute_result"
    }
   ],
   "source": [
    "import random\n",
    "s = [1,2,3,4,5]\n",
    "random.shuffle(s)\n",
    "s"
   ]
  },
  {
   "cell_type": "markdown",
   "id": "dcfcaf22",
   "metadata": {},
   "source": [
    "16. Write a Python program to generate and print a list of the first and last 5 elements where the values are square numbers between 1 and 30 (both included)."
   ]
  },
  {
   "cell_type": "code",
   "execution_count": 9,
   "id": "299d58c7",
   "metadata": {},
   "outputs": [
    {
     "name": "stdout",
     "output_type": "stream",
     "text": [
      "[1, 4, 9, 16, 25, 729, 784, 841, 900]\n"
     ]
    }
   ],
   "source": [
    "sqr=[]\n",
    "for i in range(1,31):\n",
    "    sqr.append(i*i)\n",
    "sqr \n",
    "print(sqr[:5]+sqr[26:31])\n",
    "    "
   ]
  },
  {
   "cell_type": "markdown",
   "id": "136e635f",
   "metadata": {},
   "source": [
    "17. Write a Python program to check if each number is prime in a given list of numbers. Return True if all numbers are prime otherwise False.\n",
    "Sample Data:\n",
    "([0, 3, 4, 7, 9]) -> False\n",
    "([3, 5, 7, 13]) -> True\n",
    "([1, 5, 3]) -> False"
   ]
  },
  {
   "cell_type": "code",
   "execution_count": 14,
   "id": "7b978e7e",
   "metadata": {},
   "outputs": [
    {
     "name": "stdout",
     "output_type": "stream",
     "text": [
      "True\n"
     ]
    }
   ],
   "source": [
    "from sympy import isprime\n",
    "l1 = [3, 5, 7, 13]\n",
    "if(all(isprime(num) for num in l1)):\n",
    "    print(True)\n",
    "else:\n",
    "    print(False)\n"
   ]
  },
  {
   "cell_type": "markdown",
   "id": "b4229939",
   "metadata": {},
   "source": [
    "18. Write a Python program to generate all permutations of a list in Python.\n",
    "[Hint use library function]"
   ]
  },
  {
   "cell_type": "code",
   "execution_count": 19,
   "id": "28f90efb",
   "metadata": {},
   "outputs": [
    {
     "data": {
      "text/plain": [
       "[(3, 5, 7, 1),\n",
       " (3, 5, 1, 7),\n",
       " (3, 7, 5, 1),\n",
       " (3, 7, 1, 5),\n",
       " (3, 1, 5, 7),\n",
       " (3, 1, 7, 5),\n",
       " (5, 3, 7, 1),\n",
       " (5, 3, 1, 7),\n",
       " (5, 7, 3, 1),\n",
       " (5, 7, 1, 3),\n",
       " (5, 1, 3, 7),\n",
       " (5, 1, 7, 3),\n",
       " (7, 3, 5, 1),\n",
       " (7, 3, 1, 5),\n",
       " (7, 5, 3, 1),\n",
       " (7, 5, 1, 3),\n",
       " (7, 1, 3, 5),\n",
       " (7, 1, 5, 3),\n",
       " (1, 3, 5, 7),\n",
       " (1, 3, 7, 5),\n",
       " (1, 5, 3, 7),\n",
       " (1, 5, 7, 3),\n",
       " (1, 7, 3, 5),\n",
       " (1, 7, 5, 3)]"
      ]
     },
     "execution_count": 19,
     "metadata": {},
     "output_type": "execute_result"
    }
   ],
   "source": [
    "l1 = [3, 5, 7, 1]\n",
    "from itertools import permutations\n",
    "pr = list(permutations(l1))\n",
    "pr\n"
   ]
  },
  {
   "cell_type": "markdown",
   "id": "ac145f77",
   "metadata": {},
   "source": [
    "19. Write a Python program to calculate the difference between the two lists.\n",
    "ex. \n",
    "l1=[1,4,7,8]\n",
    "l2=[2,5,7,23]\n",
    "ans => total difference is 17\n",
    "explaination: \n",
    "first element diff 1\n",
    "second element diff 1\n",
    "third element diff 0\n",
    "fourth element diff 15"
   ]
  },
  {
   "cell_type": "code",
   "execution_count": 25,
   "id": "e8df69e7",
   "metadata": {},
   "outputs": [
    {
     "name": "stdout",
     "output_type": "stream",
     "text": [
      "17\n"
     ]
    }
   ],
   "source": [
    "l1=[1,4,7,8] \n",
    "l2=[2,5,7,23]\n",
    "ad=0\n",
    "if(l1<l2):\n",
    "    a=len(l1)\n",
    "    s=l2\n",
    "else:\n",
    "    a=len(l2)\n",
    "    s=l1\n",
    "for i in range(a):\n",
    "    ad += l2[i] -l1[i]\n",
    "for j in s[4:]:\n",
    "    ad += i\n",
    "print(ad)"
   ]
  },
  {
   "cell_type": "markdown",
   "id": "153c70ed",
   "metadata": {},
   "source": [
    "20. Write a Python program to access element at given index of a list."
   ]
  },
  {
   "cell_type": "code",
   "execution_count": 28,
   "id": "16e6b546",
   "metadata": {},
   "outputs": [
    {
     "name": "stdout",
     "output_type": "stream",
     "text": [
      "enter no3\n",
      "8\n"
     ]
    }
   ],
   "source": [
    "n = int(input(\"enter no\"))\n",
    "li = [1,4,7,8,2,5,7,23]\n",
    "print(li[n])"
   ]
  },
  {
   "cell_type": "markdown",
   "id": "cc6a3998",
   "metadata": {},
   "source": [
    "21. Write a Python program to convert a list of characters into a string."
   ]
  },
  {
   "cell_type": "code",
   "execution_count": 33,
   "id": "cfa19c71",
   "metadata": {},
   "outputs": [
    {
     "name": "stdout",
     "output_type": "stream",
     "text": [
      "abcfd\n"
     ]
    }
   ],
   "source": [
    "lt = ['a','b','c','f','d']\n",
    "s=\"\"\n",
    "for i in lt:\n",
    "    s += i\n",
    "print(s)    "
   ]
  },
  {
   "cell_type": "markdown",
   "id": "9599e7c8",
   "metadata": {},
   "source": [
    "22. Write a Python program to find the index of an item in a specified list."
   ]
  },
  {
   "cell_type": "code",
   "execution_count": 35,
   "id": "a2df2776",
   "metadata": {},
   "outputs": [
    {
     "name": "stdout",
     "output_type": "stream",
     "text": [
      "3\n"
     ]
    }
   ],
   "source": [
    "n=8\n",
    "li = [1,4,7,8,2,5,7,23]\n",
    "print(li.index(n))\n",
    "\n"
   ]
  },
  {
   "cell_type": "markdown",
   "id": "4c56b5aa",
   "metadata": {},
   "source": [
    "23. Write a Python program to flatten a simple list."
   ]
  },
  {
   "cell_type": "code",
   "execution_count": 38,
   "id": "3744c4c1",
   "metadata": {},
   "outputs": [
    {
     "name": "stdout",
     "output_type": "stream",
     "text": [
      "[1, 2, 3, 4, 5, 5, 6]\n"
     ]
    }
   ],
   "source": [
    "f = [[1, 2], [3, 4], [5, 6]]\n",
    "k =[]\n",
    "for i in range(len(f)):\n",
    "    for j in range(len(f[i])):\n",
    "        k.append(f[i][j])\n",
    "        \n",
    "print(k)        "
   ]
  },
  {
   "cell_type": "markdown",
   "id": "a5b1446c",
   "metadata": {},
   "source": [
    "24. Write a Python program to append all elements from a list to the second list."
   ]
  },
  {
   "cell_type": "code",
   "execution_count": 39,
   "id": "bef54e9c",
   "metadata": {},
   "outputs": [
    {
     "data": {
      "text/plain": [
       "[1, 4, 7, 8, 2, 5, 7, 23]"
      ]
     },
     "execution_count": 39,
     "metadata": {},
     "output_type": "execute_result"
    }
   ],
   "source": [
    "li = [1,4,7,8,2,5,7,23]\n",
    "lj=[elem for elem in li]\n",
    "lj "
   ]
  },
  {
   "cell_type": "code",
   "execution_count": 44,
   "id": "18d9d0f8",
   "metadata": {},
   "outputs": [
    {
     "data": {
      "text/plain": [
       "[1, 4, 7, 8, 2, 5, 7, 23]"
      ]
     },
     "execution_count": 44,
     "metadata": {},
     "output_type": "execute_result"
    }
   ],
   "source": [
    "li = [1,4,7,8,2,5,7,23]\n",
    "lk =[]\n",
    "for i in li:\n",
    "    lk.append(i)\n",
    "lk   "
   ]
  },
  {
   "cell_type": "markdown",
   "id": "da43a963",
   "metadata": {},
   "source": [
    "25. Write a Python program to select an item randomly from a list."
   ]
  },
  {
   "cell_type": "code",
   "execution_count": 46,
   "id": "9281fd62",
   "metadata": {},
   "outputs": [
    {
     "name": "stdout",
     "output_type": "stream",
     "text": [
      "2\n"
     ]
    }
   ],
   "source": [
    "import random\n",
    "li = [1,4,7,8,2,5,7,23]\n",
    "print(random.choice(li))"
   ]
  },
  {
   "cell_type": "markdown",
   "id": "81432771",
   "metadata": {},
   "source": [
    "26. Write a Python program to check whether two lists are circularly identical.\n",
    "Ex.\n",
    "l1=[1,2,3,4]\n",
    "l2=[2,3,4,1]\n",
    "l3=[4,1,2,3]\n",
    "l4=[3,4,1,2] \n",
    "all l1, l2, l3 and l4 are circularly same"
   ]
  },
  {
   "cell_type": "code",
   "execution_count": null,
   "id": "d12ea472",
   "metadata": {},
   "outputs": [],
   "source": []
  },
  {
   "cell_type": "code",
   "execution_count": null,
   "id": "86924ef5",
   "metadata": {},
   "outputs": [],
   "source": []
  },
  {
   "cell_type": "markdown",
   "id": "e8b5dadf",
   "metadata": {},
   "source": [
    "27. Write a Python program to find the second smallest number in a list."
   ]
  },
  {
   "cell_type": "code",
   "execution_count": 1,
   "id": "cc009441",
   "metadata": {},
   "outputs": [],
   "source": [
    "li = [7,4,2,8,17,5,1,23]\n",
    "m=min(li)\n",
    "r = li[:].remove(m)\n",
    "r\n",
    "    "
   ]
  },
  {
   "cell_type": "markdown",
   "id": "bee127f2",
   "metadata": {},
   "source": [
    "28. Write a Python program to find the second largest number in a list."
   ]
  },
  {
   "cell_type": "code",
   "execution_count": 1,
   "id": "d2f1f1a0",
   "metadata": {},
   "outputs": [
    {
     "name": "stdout",
     "output_type": "stream",
     "text": [
      "1\n"
     ]
    }
   ],
   "source": [
    "li = [1,4,17,8,2,5,7,23]\n",
    "print(min(li))"
   ]
  },
  {
   "cell_type": "code",
   "execution_count": 3,
   "id": "ccda7ddf",
   "metadata": {},
   "outputs": [],
   "source": [
    "rm"
   ]
  },
  {
   "cell_type": "markdown",
   "id": "47973151",
   "metadata": {},
   "source": [
    "29. Write a Python program to get unique values from a list."
   ]
  },
  {
   "cell_type": "code",
   "execution_count": 17,
   "id": "d07baf99",
   "metadata": {},
   "outputs": [
    {
     "data": {
      "text/plain": [
       "{1, 4, 5, 7, 8}"
      ]
     },
     "execution_count": 17,
     "metadata": {},
     "output_type": "execute_result"
    }
   ],
   "source": [
    "li = [1,4,7,8,4,5,7,1]\n",
    "s = set(li)\n",
    "s"
   ]
  },
  {
   "cell_type": "markdown",
   "id": "2eeaabd6",
   "metadata": {},
   "source": [
    "30. Write a Python program to get the frequency of every element in a list."
   ]
  },
  {
   "cell_type": "code",
   "execution_count": null,
   "id": "1f6c28fe",
   "metadata": {},
   "outputs": [],
   "source": [
    "li = [1,4,7,8,4,5,7,1]\n",
    "for i in "
   ]
  }
 ],
 "metadata": {
  "kernelspec": {
   "display_name": "Python 3 (ipykernel)",
   "language": "python",
   "name": "python3"
  },
  "language_info": {
   "codemirror_mode": {
    "name": "ipython",
    "version": 3
   },
   "file_extension": ".py",
   "mimetype": "text/x-python",
   "name": "python",
   "nbconvert_exporter": "python",
   "pygments_lexer": "ipython3",
   "version": "3.11.3"
  }
 },
 "nbformat": 4,
 "nbformat_minor": 5
}
