{
 "cells": [
  {
   "cell_type": "markdown",
   "id": "0debbf13",
   "metadata": {},
   "source": [
    "1. Write a Python program to sum all the items in a list."
   ]
  },
  {
   "cell_type": "code",
   "execution_count": 1,
   "id": "4bfde463",
   "metadata": {},
   "outputs": [
    {
     "name": "stdout",
     "output_type": "stream",
     "text": [
      "15\n"
     ]
    }
   ],
   "source": [
    "l = [1,2,3,4,5]\n",
    "s=0\n",
    "for i in l:\n",
    "    s = s + i\n",
    "    \n",
    "print(s)    "
   ]
  },
  {
   "cell_type": "markdown",
   "id": "ebaee63c",
   "metadata": {},
   "source": [
    "2. Write a Python program to multiply all the items in a list."
   ]
  },
  {
   "cell_type": "code",
   "execution_count": 3,
   "id": "b20e3f6b",
   "metadata": {},
   "outputs": [
    {
     "name": "stdout",
     "output_type": "stream",
     "text": [
      "120\n"
     ]
    }
   ],
   "source": [
    "li = [1,2,3,4,5]\n",
    "m=1\n",
    "for i in li:\n",
    "     m= m * i\n",
    "print(m)    "
   ]
  },
  {
   "cell_type": "markdown",
   "id": "0030882b",
   "metadata": {},
   "source": [
    "3. Write a Python program to get the largest number from a list."
   ]
  },
  {
   "cell_type": "code",
   "execution_count": 5,
   "id": "52541ceb",
   "metadata": {},
   "outputs": [
    {
     "name": "stdout",
     "output_type": "stream",
     "text": [
      "5\n"
     ]
    }
   ],
   "source": [
    "l1 = [1,2,3,4,5]\n",
    "print(max(l1))"
   ]
  },
  {
   "cell_type": "markdown",
   "id": "2d96f37a",
   "metadata": {},
   "source": [
    "4. Write a Python program to get the smallest number from a list."
   ]
  },
  {
   "cell_type": "code",
   "execution_count": 6,
   "id": "7c26c2fa",
   "metadata": {},
   "outputs": [
    {
     "name": "stdout",
     "output_type": "stream",
     "text": [
      "1\n"
     ]
    }
   ],
   "source": [
    "l1 = [1,2,3,4,5]\n",
    "print(min(l1))"
   ]
  },
  {
   "cell_type": "markdown",
   "id": "0d7ec9c8",
   "metadata": {},
   "source": [
    "5. Write a Python program to count the number of strings from a given list of strings. \n",
    "Condition is, the string length is 2 or more and the first and last characters are the same.\n",
    "Sample List : ['abc', 'xyz', 'aba', '1221']\n",
    "Expected Result : 2"
   ]
  },
  {
   "cell_type": "code",
   "execution_count": 8,
   "id": "05201b92",
   "metadata": {},
   "outputs": [
    {
     "name": "stdout",
     "output_type": "stream",
     "text": [
      "2\n"
     ]
    }
   ],
   "source": [
    "Lt = ['abc', 'xyz', 'aba', '1221']\n",
    "count=0\n",
    "for i in Lt:\n",
    "    if(len(i)>=2 and i[0] == i[len(i)-1]):\n",
    "        count +=1\n",
    "print(count)        \n",
    "        "
   ]
  },
  {
   "cell_type": "markdown",
   "id": "00d8891d",
   "metadata": {},
   "source": [
    "6. Write a Python program to get a list, sorted in increasing order by the last element in each tuple from a given list of non-empty tuples.\n",
    "Sample List : [(2, 5), (1, 2), (4, 4), (2, 3), (2, 1)]\n",
    "Expected Result : [(2, 1), (1, 2), (2, 3), (4, 4), (2, 5)]"
   ]
  },
  {
   "cell_type": "code",
   "execution_count": 15,
   "id": "e7eae091",
   "metadata": {},
   "outputs": [
    {
     "ename": "SyntaxError",
     "evalue": "invalid syntax. Perhaps you forgot a comma? (3041044706.py, line 3)",
     "output_type": "error",
     "traceback": [
      "\u001b[1;36m  Cell \u001b[1;32mIn[15], line 3\u001b[1;36m\u001b[0m\n\u001b[1;33m    sl2 = sorted(sl, key=sl[][[-1]])\u001b[0m\n\u001b[1;37m                         ^\u001b[0m\n\u001b[1;31mSyntaxError\u001b[0m\u001b[1;31m:\u001b[0m invalid syntax. Perhaps you forgot a comma?\n"
     ]
    }
   ],
   "source": [
    "sl = [(2, 5), (1, 2), (4, 4), (2, 3), (2, 1)]\n",
    "\n",
    "sl2 = sorted(sl, key=lambda x: x[-1])\n",
    "sl2"
   ]
  },
  {
   "cell_type": "markdown",
   "id": "863e7e38",
   "metadata": {},
   "source": [
    "7. Write a Python program to remove duplicates from a list. Use another list to store unique values."
   ]
  },
  {
   "cell_type": "code",
   "execution_count": 11,
   "id": "b0b9cd5d",
   "metadata": {},
   "outputs": [
    {
     "data": {
      "text/plain": [
       "{1, 2, 3, 4, 5, 14}"
      ]
     },
     "execution_count": 11,
     "metadata": {},
     "output_type": "execute_result"
    }
   ],
   "source": [
    "ll = [14,1,2,5,3,2,4,5,14]\n",
    "ll2 = set(ll)\n",
    "ll2"
   ]
  },
  {
   "cell_type": "code",
   "execution_count": 16,
   "id": "e4bd78b0",
   "metadata": {},
   "outputs": [
    {
     "data": {
      "text/plain": [
       "[14, 1, 2, 5, 3, 4]"
      ]
     },
     "execution_count": 16,
     "metadata": {},
     "output_type": "execute_result"
    }
   ],
   "source": [
    "ll = [14,1,2,5,3,2,4,5,14]\n",
    "li =[]\n",
    "for i in ll:\n",
    "    if(i not in li):\n",
    "        li.append(i)\n",
    "        \n",
    "li        "
   ]
  },
  {
   "cell_type": "markdown",
   "id": "545a64e7",
   "metadata": {},
   "source": [
    "8. Write a Python program to check if a list is empty or not"
   ]
  },
  {
   "cell_type": "code",
   "execution_count": 17,
   "id": "0d7f5553",
   "metadata": {},
   "outputs": [
    {
     "name": "stdout",
     "output_type": "stream",
     "text": [
      "enpty\n"
     ]
    }
   ],
   "source": [
    "el =[]\n",
    "if(len(el) == 0):\n",
    "    print(\"empty\")\n",
    "else:\n",
    "    print(\"not empty\")"
   ]
  },
  {
   "cell_type": "markdown",
   "id": "827540ee",
   "metadata": {},
   "source": [
    "9. Write a Python program to clone or copy a list."
   ]
  },
  {
   "cell_type": "code",
   "execution_count": 19,
   "id": "7986b016",
   "metadata": {},
   "outputs": [
    {
     "data": {
      "text/plain": [
       "[14, 1, 2, 5, 3, 2, 4, 5, 14]"
      ]
     },
     "execution_count": 19,
     "metadata": {},
     "output_type": "execute_result"
    }
   ],
   "source": [
    "ll = [14,1,2,5,3,2,4,5,14]\n",
    "cl = ll[:]\n",
    "cl"
   ]
  },
  {
   "cell_type": "markdown",
   "id": "055b116b",
   "metadata": {},
   "source": [
    "10. Write a Python program to find the list of words that are longer than n from a given list of words."
   ]
  },
  {
   "cell_type": "code",
   "execution_count": 21,
   "id": "77ff6067",
   "metadata": {},
   "outputs": [
    {
     "name": "stdout",
     "output_type": "stream",
     "text": [
      "enter n3\n",
      "abcfd\n",
      "xyzkemfnef\n",
      "1221297393874\n"
     ]
    }
   ],
   "source": [
    "n = int(input(\"enter n\"))\n",
    "Lt = ['abcfd', 'xyzkemfnef','au', 'aba', '1221297393874']\n",
    "for i in Lt:\n",
    "    if(len(i) > n):\n",
    "        print(i)"
   ]
  },
  {
   "cell_type": "markdown",
   "id": "caa86a30",
   "metadata": {},
   "source": [
    "11 Write a Python function that takes two lists and returns True if they have at least one common member."
   ]
  },
  {
   "cell_type": "code",
   "execution_count": 29,
   "id": "72c23179",
   "metadata": {},
   "outputs": [
    {
     "name": "stdout",
     "output_type": "stream",
     "text": [
      "True\n"
     ]
    }
   ],
   "source": [
    "Lt = ['abcfd', 'xyzkemfnef','au', 'aba', '1221297393874']\n",
    "lt = ['abc', 'xyz', 'aba', '1221']\n",
    "for i in Lt:\n",
    "    if(i in lt):\n",
    "        print(True)\n",
    "        break    "
   ]
  },
  {
   "cell_type": "markdown",
   "id": "db49adab",
   "metadata": {},
   "source": [
    "12 Write a Python program to print a specified list after removing the 0th, 4th and 5th elements.\n",
    "Sample List : ['Red', 'Green', 'White', 'Black', 'Pink', 'Yellow']\n",
    "Expected Output : ['Green', 'White', 'Black']"
   ]
  },
  {
   "cell_type": "code",
   "execution_count": 31,
   "id": "50477cb2",
   "metadata": {},
   "outputs": [
    {
     "data": {
      "text/plain": [
       "['Green', 'White', 'Black']"
      ]
     },
     "execution_count": 31,
     "metadata": {},
     "output_type": "execute_result"
    }
   ],
   "source": [
    "cl = ['Red', 'Green', 'White', 'Black', 'Pink', 'Yellow']\n",
    "r = cl[1:4]\n",
    "r"
   ]
  },
  {
   "cell_type": "markdown",
   "id": "bb341e13",
   "metadata": {},
   "source": [
    "13 Write a Python program to generate a 3*4*6 3D array whose each element is *."
   ]
  },
  {
   "cell_type": "code",
   "execution_count": null,
   "id": "46cfc3d5",
   "metadata": {},
   "outputs": [],
   "source": []
  },
  {
   "cell_type": "markdown",
   "id": "e1882235",
   "metadata": {},
   "source": [
    "14. Write a Python program to print the numbers of a specified list after removing even numbers from it."
   ]
  },
  {
   "cell_type": "code",
   "execution_count": 34,
   "id": "af86efb7",
   "metadata": {},
   "outputs": [
    {
     "data": {
      "text/plain": [
       "[1, 5, 3, 5]"
      ]
     },
     "execution_count": 34,
     "metadata": {},
     "output_type": "execute_result"
    }
   ],
   "source": [
    "all = [14,1,2,5,3,2,4,5,14]\n",
    "odd = [elem for elem in all if elem % 2 != 0] \n",
    "odd"
   ]
  },
  {
   "cell_type": "markdown",
   "id": "7d5aedbd",
   "metadata": {},
   "source": [
    "15. Write a Python program to shuffle and print a specified list."
   ]
  },
  {
   "cell_type": "code",
   "execution_count": 2,
   "id": "c3932a91",
   "metadata": {},
   "outputs": [
    {
     "data": {
      "text/plain": [
       "[2, 3, 4, 5, 1]"
      ]
     },
     "execution_count": 2,
     "metadata": {},
     "output_type": "execute_result"
    }
   ],
   "source": [
    "import random\n",
    "s = [1,2,3,4,5]\n",
    "random.shuffle(s)\n",
    "s"
   ]
  },
  {
   "cell_type": "markdown",
   "id": "dcfcaf22",
   "metadata": {},
   "source": [
    "16. Write a Python program to generate and print a list of the first and last 5 elements where the values are square numbers between 1 and 30 (both included)."
   ]
  },
  {
   "cell_type": "code",
   "execution_count": 9,
   "id": "299d58c7",
   "metadata": {},
   "outputs": [
    {
     "name": "stdout",
     "output_type": "stream",
     "text": [
      "[1, 4, 9, 16, 25, 729, 784, 841, 900]\n"
     ]
    }
   ],
   "source": [
    "sqr=[]\n",
    "for i in range(1,31):\n",
    "    sqr.append(i*i)\n",
    "sqr \n",
    "print(sqr[:5]+sqr[26:31])\n",
    "    "
   ]
  },
  {
   "cell_type": "markdown",
   "id": "136e635f",
   "metadata": {},
   "source": [
    "17. Write a Python program to check if each number is prime in a given list of numbers. Return True if all numbers are prime otherwise False.\n",
    "Sample Data:\n",
    "([0, 3, 4, 7, 9]) -> False\n",
    "([3, 5, 7, 13]) -> True\n",
    "([1, 5, 3]) -> False"
   ]
  },
  {
   "cell_type": "code",
   "execution_count": 14,
   "id": "7b978e7e",
   "metadata": {},
   "outputs": [
    {
     "name": "stdout",
     "output_type": "stream",
     "text": [
      "True\n"
     ]
    }
   ],
   "source": [
    "from sympy import isprime\n",
    "l1 = [3, 5, 7, 13]\n",
    "if(all(isprime(num) for num in l1)):\n",
    "    print(True)\n",
    "else:\n",
    "    print(False)\n"
   ]
  },
  {
   "cell_type": "markdown",
   "id": "b4229939",
   "metadata": {},
   "source": [
    "18. Write a Python program to generate all permutations of a list in Python.\n",
    "[Hint use library function]"
   ]
  },
  {
   "cell_type": "code",
   "execution_count": 19,
   "id": "28f90efb",
   "metadata": {},
   "outputs": [
    {
     "data": {
      "text/plain": [
       "[(3, 5, 7, 1),\n",
       " (3, 5, 1, 7),\n",
       " (3, 7, 5, 1),\n",
       " (3, 7, 1, 5),\n",
       " (3, 1, 5, 7),\n",
       " (3, 1, 7, 5),\n",
       " (5, 3, 7, 1),\n",
       " (5, 3, 1, 7),\n",
       " (5, 7, 3, 1),\n",
       " (5, 7, 1, 3),\n",
       " (5, 1, 3, 7),\n",
       " (5, 1, 7, 3),\n",
       " (7, 3, 5, 1),\n",
       " (7, 3, 1, 5),\n",
       " (7, 5, 3, 1),\n",
       " (7, 5, 1, 3),\n",
       " (7, 1, 3, 5),\n",
       " (7, 1, 5, 3),\n",
       " (1, 3, 5, 7),\n",
       " (1, 3, 7, 5),\n",
       " (1, 5, 3, 7),\n",
       " (1, 5, 7, 3),\n",
       " (1, 7, 3, 5),\n",
       " (1, 7, 5, 3)]"
      ]
     },
     "execution_count": 19,
     "metadata": {},
     "output_type": "execute_result"
    }
   ],
   "source": [
    "l1 = [3, 5, 7, 1]\n",
    "from itertools import permutations\n",
    "pr = list(permutations(l1))\n",
    "pr\n"
   ]
  },
  {
   "cell_type": "markdown",
   "id": "ac145f77",
   "metadata": {},
   "source": [
    "19. Write a Python program to calculate the difference between the two lists.\n",
    "ex. \n",
    "l1=[1,4,7,8]\n",
    "l2=[2,5,7,23]\n",
    "ans => total difference is 17\n",
    "explaination: \n",
    "first element diff 1\n",
    "second element diff 1\n",
    "third element diff 0\n",
    "fourth element diff 15"
   ]
  },
  {
   "cell_type": "code",
   "execution_count": 25,
   "id": "e8df69e7",
   "metadata": {},
   "outputs": [
    {
     "name": "stdout",
     "output_type": "stream",
     "text": [
      "17\n"
     ]
    }
   ],
   "source": [
    "l1=[1,4,7,8] \n",
    "l2=[2,5,7,23]\n",
    "ad=0\n",
    "if(l1<l2):\n",
    "    a=len(l1)\n",
    "    s=l2\n",
    "else:\n",
    "    a=len(l2)\n",
    "    s=l1\n",
    "for i in range(a):\n",
    "    ad += l2[i] -l1[i]\n",
    "for j in s[4:]:\n",
    "    ad += i\n",
    "print(ad)"
   ]
  },
  {
   "cell_type": "markdown",
   "id": "153c70ed",
   "metadata": {},
   "source": [
    "20. Write a Python program to access element at given index of a list."
   ]
  },
  {
   "cell_type": "code",
   "execution_count": 28,
   "id": "16e6b546",
   "metadata": {},
   "outputs": [
    {
     "name": "stdout",
     "output_type": "stream",
     "text": [
      "enter no3\n",
      "8\n"
     ]
    }
   ],
   "source": [
    "n = int(input(\"enter no\"))\n",
    "li = [1,4,7,8,2,5,7,23]\n",
    "print(li[n])"
   ]
  },
  {
   "cell_type": "markdown",
   "id": "cc6a3998",
   "metadata": {},
   "source": [
    "21. Write a Python program to convert a list of characters into a string."
   ]
  },
  {
   "cell_type": "code",
   "execution_count": 33,
   "id": "cfa19c71",
   "metadata": {},
   "outputs": [
    {
     "name": "stdout",
     "output_type": "stream",
     "text": [
      "abcfd\n"
     ]
    }
   ],
   "source": [
    "lt = ['a','b','c','f','d']\n",
    "s=\"\"\n",
    "for i in lt:\n",
    "    s += i\n",
    "print(s)    "
   ]
  },
  {
   "cell_type": "markdown",
   "id": "9599e7c8",
   "metadata": {},
   "source": [
    "22. Write a Python program to find the index of an item in a specified list."
   ]
  },
  {
   "cell_type": "code",
   "execution_count": 35,
   "id": "a2df2776",
   "metadata": {},
   "outputs": [
    {
     "name": "stdout",
     "output_type": "stream",
     "text": [
      "3\n"
     ]
    }
   ],
   "source": [
    "n=8\n",
    "li = [1,4,7,8,2,5,7,23]\n",
    "print(li.index(n))\n",
    "\n"
   ]
  },
  {
   "cell_type": "markdown",
   "id": "4c56b5aa",
   "metadata": {},
   "source": [
    "23. Write a Python program to flatten a simple list."
   ]
  },
  {
   "cell_type": "code",
   "execution_count": 38,
   "id": "3744c4c1",
   "metadata": {},
   "outputs": [
    {
     "name": "stdout",
     "output_type": "stream",
     "text": [
      "[1, 2, 3, 4, 5, 5, 6]\n"
     ]
    }
   ],
   "source": [
    "f = [[1, 2], [3, 4], [5, 6]]\n",
    "k =[]\n",
    "for i in range(len(f)):\n",
    "    for j in range(len(f[i])):\n",
    "        k.append(f[i][j])\n",
    "        \n",
    "print(k)        "
   ]
  },
  {
   "cell_type": "markdown",
   "id": "a5b1446c",
   "metadata": {},
   "source": [
    "24. Write a Python program to append all elements from a list to the second list."
   ]
  },
  {
   "cell_type": "code",
   "execution_count": 39,
   "id": "bef54e9c",
   "metadata": {},
   "outputs": [
    {
     "data": {
      "text/plain": [
       "[1, 4, 7, 8, 2, 5, 7, 23]"
      ]
     },
     "execution_count": 39,
     "metadata": {},
     "output_type": "execute_result"
    }
   ],
   "source": [
    "li = [1,4,7,8,2,5,7,23]\n",
    "lj=[elem for elem in li]\n",
    "lj "
   ]
  },
  {
   "cell_type": "code",
   "execution_count": 44,
   "id": "18d9d0f8",
   "metadata": {},
   "outputs": [
    {
     "data": {
      "text/plain": [
       "[1, 4, 7, 8, 2, 5, 7, 23]"
      ]
     },
     "execution_count": 44,
     "metadata": {},
     "output_type": "execute_result"
    }
   ],
   "source": [
    "li = [1,4,7,8,2,5,7,23]\n",
    "lk =[]\n",
    "for i in li:\n",
    "    lk.append(i)\n",
    "lk   "
   ]
  },
  {
   "cell_type": "markdown",
   "id": "da43a963",
   "metadata": {},
   "source": [
    "25. Write a Python program to select an item randomly from a list."
   ]
  },
  {
   "cell_type": "code",
   "execution_count": 46,
   "id": "9281fd62",
   "metadata": {},
   "outputs": [
    {
     "name": "stdout",
     "output_type": "stream",
     "text": [
      "2\n"
     ]
    }
   ],
   "source": [
    "import random\n",
    "li = [1,4,7,8,2,5,7,23]\n",
    "print(random.choice(li))"
   ]
  },
  {
   "cell_type": "markdown",
   "id": "81432771",
   "metadata": {},
   "source": [
    "26. Write a Python program to check whether two lists are circularly identical.\n",
    "Ex.\n",
    "l1=[1,2,3,4]\n",
    "l2=[2,3,4,1]\n",
    "l3=[4,1,2,3]\n",
    "l4=[3,4,1,2] \n",
    "all l1, l2, l3 and l4 are circularly same"
   ]
  },
  {
   "cell_type": "code",
   "execution_count": null,
   "id": "d12ea472",
   "metadata": {},
   "outputs": [],
   "source": []
  },
  {
   "cell_type": "code",
   "execution_count": null,
   "id": "86924ef5",
   "metadata": {},
   "outputs": [],
   "source": []
  },
  {
   "cell_type": "markdown",
   "id": "e8b5dadf",
   "metadata": {},
   "source": [
    "27. Write a Python program to find the second smallest number in a list."
   ]
  },
  {
   "cell_type": "code",
   "execution_count": 1,
   "id": "cc009441",
   "metadata": {},
   "outputs": [],
   "source": [
    "li = [7,4,2,8,17,5,1,23]\n",
    "m=min(li)\n",
    "r = li[:].remove(m)\n",
    "r\n",
    "    "
   ]
  },
  {
   "cell_type": "markdown",
   "id": "bee127f2",
   "metadata": {},
   "source": [
    "28. Write a Python program to find the second largest number in a list."
   ]
  },
  {
   "cell_type": "code",
   "execution_count": 1,
   "id": "d2f1f1a0",
   "metadata": {},
   "outputs": [
    {
     "name": "stdout",
     "output_type": "stream",
     "text": [
      "1\n"
     ]
    }
   ],
   "source": [
    "li = [1,4,17,8,2,5,7,23]\n",
    "print(min(li))"
   ]
  },
  {
   "cell_type": "code",
   "execution_count": 3,
   "id": "ccda7ddf",
   "metadata": {},
   "outputs": [],
   "source": [
    "rm"
   ]
  },
  {
   "cell_type": "markdown",
   "id": "47973151",
   "metadata": {},
   "source": [
    "29. Write a Python program to get unique values from a list."
   ]
  },
  {
   "cell_type": "code",
   "execution_count": 17,
   "id": "d07baf99",
   "metadata": {},
   "outputs": [
    {
     "data": {
      "text/plain": [
       "{1, 4, 5, 7, 8}"
      ]
     },
     "execution_count": 17,
     "metadata": {},
     "output_type": "execute_result"
    }
   ],
   "source": [
    "li = [1,4,7,8,4,5,7,1]\n",
    "s = set(li)\n",
    "s"
   ]
  },
  {
   "cell_type": "markdown",
   "id": "2eeaabd6",
   "metadata": {},
   "source": [
    "30. Write a Python program to get the frequency of every element in a list."
   ]
  },
  {
   "cell_type": "code",
   "execution_count": 2,
   "id": "1f6c28fe",
   "metadata": {},
   "outputs": [
    {
     "name": "stdout",
     "output_type": "stream",
     "text": [
      "1 2\n",
      "4 2\n",
      "5 1\n",
      "7 2\n",
      "8 1\n"
     ]
    }
   ],
   "source": [
    "li = [1,4,7,8,4,5,7,1]\n",
    "st = set(li)\n",
    "for i in st:\n",
    "    print(i, li.count(i))    "
   ]
  },
  {
   "cell_type": "markdown",
   "id": "bd7c19bd-60d0-4bb5-ad7d-73401bcf9c3a",
   "metadata": {},
   "source": [
    "31. Write a Python program to count the number of elements in a list within a specified slice ( range) of start and end index."
   ]
  },
  {
   "cell_type": "code",
   "execution_count": null,
   "id": "84d1da9e-6d0c-4888-b068-f63d7c779fad",
   "metadata": {},
   "outputs": [],
   "source": [
    "li = [1,4,7,8,4,5,7,1]\n"
   ]
  },
  {
   "cell_type": "markdown",
   "id": "fe4a8c26-bccd-4545-82b0-d779dcaec2f4",
   "metadata": {},
   "source": [
    "32. Write a Python program to check whether a list contains a sublist. ( all elements from one list are present in other list)\n",
    "Ex. \n",
    "l1=[5,7,9,12]\n",
    "l2=[7,9] \n",
    "l2 is sublist of l1 --> print True\n",
    "l3=[12,7]\n",
    "l3 is sublist of l1"
   ]
  },
  {
   "cell_type": "code",
   "execution_count": 21,
   "id": "3c27fddb-2409-47d6-8bed-f3fbda646834",
   "metadata": {},
   "outputs": [
    {
     "name": "stdout",
     "output_type": "stream",
     "text": [
      "True\n"
     ]
    }
   ],
   "source": [
    "l1=[5,7,7,9] \n",
    "l2=[7,9]\n",
    "for i in range(len(l1) - len(l2)+1):\n",
    "    if(l1[i:len(l2)+i] == l2):\n",
    "        print(True)"
   ]
  },
  {
   "cell_type": "code",
   "execution_count": 18,
   "id": "6ded38f7-a387-4c87-b0c4-7e902021ae2f",
   "metadata": {},
   "outputs": [
    {
     "name": "stdout",
     "output_type": "stream",
     "text": [
      "True\n"
     ]
    }
   ],
   "source": [
    "c=0\n",
    "for i in l2:\n",
    "    if(i in l1):\n",
    "        c =1        \n",
    "    else:\n",
    "        c=0\n",
    "        print(False)\n",
    "        break\n",
    "if(c == 1):\n",
    "    print(True)"
   ]
  },
  {
   "cell_type": "markdown",
   "id": "f0c206f5-5763-4600-aa08-074b588ba17d",
   "metadata": {},
   "source": [
    "33. Write a Python program to generate all sublists of a list."
   ]
  },
  {
   "cell_type": "code",
   "execution_count": 24,
   "id": "c3eb6b32-8cc5-4efd-991b-8538269c14c6",
   "metadata": {},
   "outputs": [
    {
     "name": "stdout",
     "output_type": "stream",
     "text": [
      "[5]\n",
      "[5, 7]\n",
      "[5, 7, 9]\n",
      "[5, 7, 9, 12]\n",
      "[7]\n",
      "[7, 9]\n",
      "[7, 9, 12]\n",
      "[9]\n",
      "[9, 12]\n",
      "[12]\n"
     ]
    }
   ],
   "source": [
    "l1=[5,7,9,12]\n",
    "for i in range(len(l1)):\n",
    "    for j in range(i+1,len(l1)+1):\n",
    "        print(l1[i:j])"
   ]
  },
  {
   "cell_type": "markdown",
   "id": "aeb96742-d6d2-4d2c-9ff1-d854371b2a4d",
   "metadata": {},
   "source": [
    "35. Write a Python program to create a list by concatenating a given list with a range from 1 to n.\n",
    "Sample list : ['p', 'q']\n",
    "n =5\n",
    "Sample Output : ['p1', 'q1', 'p2', 'q2', 'p3', 'q3', 'p4', 'q4', 'p5', 'q5']\n"
   ]
  },
  {
   "cell_type": "code",
   "execution_count": 27,
   "id": "fd06dc6e-3f76-4aff-8eae-95adddaf931a",
   "metadata": {},
   "outputs": [
    {
     "data": {
      "text/plain": [
       "['p1', 'q1', 'p2', 'q2', 'p3', 'q3', 'p4', 'q4', 'p5', 'q5']"
      ]
     },
     "execution_count": 27,
     "metadata": {},
     "output_type": "execute_result"
    }
   ],
   "source": [
    "sl = ['p', 'q'] \n",
    "so = []\n",
    "n =5\n",
    "for i in range(1,n+1):\n",
    "    for j in sl:\n",
    "        so.append(j + str(i))\n",
    "so        "
   ]
  },
  {
   "cell_type": "markdown",
   "id": "0a54baba-10b8-414e-9fb7-81795fce8c58",
   "metadata": {},
   "source": [
    "36. Write a Python program to make list of all digits from given number"
   ]
  },
  {
   "cell_type": "code",
   "execution_count": 30,
   "id": "9a5ffb4c-f577-4e08-bdfa-5bdd63239985",
   "metadata": {},
   "outputs": [
    {
     "data": {
      "text/plain": [
       "[1, 2, 3, 4, 5, 6]"
      ]
     },
     "execution_count": 30,
     "metadata": {},
     "output_type": "execute_result"
    }
   ],
   "source": [
    "n = 123456\n",
    "l1 = [int(i) for i in str(n)]\n",
    "l1"
   ]
  },
  {
   "cell_type": "markdown",
   "id": "46ca5908-aa1d-4bbb-9cc4-c48499776209",
   "metadata": {},
   "source": [
    "37. Write a Python program to find common items in two lists."
   ]
  },
  {
   "cell_type": "code",
   "execution_count": 33,
   "id": "d8f15811-9aca-466c-964c-7e67783f5a17",
   "metadata": {},
   "outputs": [
    {
     "data": {
      "text/plain": [
       "[7, 9, 12]"
      ]
     },
     "execution_count": 33,
     "metadata": {},
     "output_type": "execute_result"
    }
   ],
   "source": [
    "l1=[5,7,9,12]\n",
    "l2=[3,7,2,12,9]\n",
    "l3= [i for i in l1 if i in l2]\n",
    "l3"
   ]
  },
  {
   "cell_type": "markdown",
   "id": "3e3d77f9-5fd7-4c11-93e7-6b230efa7fba",
   "metadata": {},
   "source": [
    "38. Write a Python program to change the position of every two consecutive elements n-th value to the (n+1)th in a list. ( swap nth and n+1 th value)\n",
    "Sample list: [0,1,2,3,4,5]\n",
    "Expected Output: [1, 0, 3, 2, 5, 4]\n",
    "Explaination: here we have swapped\n",
    "0 -1 , 2-3 , 4-5\n",
    "    "
   ]
  },
  {
   "cell_type": "code",
   "execution_count": 37,
   "id": "8673f722-8e86-4957-9b3b-e9deb7668ca7",
   "metadata": {},
   "outputs": [
    {
     "data": {
      "text/plain": [
       "[1, 0, 3, 2, 5, 4]"
      ]
     },
     "execution_count": 37,
     "metadata": {},
     "output_type": "execute_result"
    }
   ],
   "source": [
    "ln = [0,1,2,3,4,5]\n",
    "for i in range(0,len(ln)-1,2):\n",
    "    ln[i],ln[i+1] = ln[i+1],ln[i]\n",
    "ln    "
   ]
  },
  {
   "cell_type": "markdown",
   "id": "3b23ef38-a995-47c4-af36-fe907bd5d86e",
   "metadata": {},
   "source": [
    "39. Write a Python program to convert a list of multiple integers into a single integer.\n",
    "Sample list: [11, 33, 50]\n",
    "Expected Output: 113350\n",
    "ex2:  l1=[8,9,0]\n",
    "output : 890"
   ]
  },
  {
   "cell_type": "code",
   "execution_count": 39,
   "id": "6d87d94a-6755-40f6-a597-09c2c5b5b4a8",
   "metadata": {},
   "outputs": [
    {
     "data": {
      "text/plain": [
       "113350"
      ]
     },
     "execution_count": 39,
     "metadata": {},
     "output_type": "execute_result"
    }
   ],
   "source": [
    "li = [11, 33, 50]\n",
    "s = \"\"\n",
    "for i in li:\n",
    "    s+=str(i)\n",
    "int(s)    \n",
    "    "
   ]
  },
  {
   "cell_type": "markdown",
   "id": "b69b0e04-21b3-4428-8a75-9132a84235f9",
   "metadata": {},
   "source": [
    "40. Write a Python program to split a list of words based on the first character of a word.\n",
    "if first character is vowel then put that word in l1 else put that word in l2.\n",
    "Ex. \n",
    "words=['abc','xyz','op','qwe']\n",
    "l1=['abc','op']\n",
    "l2=['xyz','qwe']"
   ]
  },
  {
   "cell_type": "code",
   "execution_count": 40,
   "id": "f278fdad-f56b-426a-acbe-4e117306e0f1",
   "metadata": {},
   "outputs": [
    {
     "name": "stdout",
     "output_type": "stream",
     "text": [
      "['abc', 'op'] ['xyz', 'qwe']\n"
     ]
    }
   ],
   "source": [
    "words=['abc','xyz','op','qwe']\n",
    "vl = ['a','e','i','o','u']\n",
    "l1 =[]\n",
    "l2 =[]\n",
    "for i in words:\n",
    "    if(i[0] in vl):\n",
    "        l1.append(i)\n",
    "    else:\n",
    "        l2.append(i)\n",
    "print(l1,l2)        "
   ]
  },
  {
   "cell_type": "markdown",
   "id": "8a462b9d-30b9-489e-bdaf-e1db0cd73e19",
   "metadata": {},
   "source": [
    "41. Write a Python program to check if given list contains another list object or not.\n",
    "Ex. l1=[10,20,30]\n",
    "output: no list object inside l1\n",
    "\n",
    "l2=[10,20,[45,67]]"
   ]
  },
  {
   "cell_type": "code",
   "execution_count": 42,
   "id": "bac0f791-d8c9-43df-b195-af9de9438dc6",
   "metadata": {},
   "outputs": [],
   "source": [
    "\n",
    "        "
   ]
  },
  {
   "cell_type": "markdown",
   "id": "7dcbb01f-c0ce-45f3-99fd-922192953a40",
   "metadata": {},
   "source": [
    "42. Write a Python program to find missing and additional values in two lists.\n",
    "Sample data : \n",
    "first=['b','a','c','d','e','f']\n",
    "second=['d','e','f','g','h']\n",
    "Missing values in second list: ['b','a','c']\n",
    "Additional values in second list: ['g','h']\n"
   ]
  },
  {
   "cell_type": "code",
   "execution_count": 44,
   "id": "4f6aeaac-2386-48d6-b3ad-ae6fe9414e89",
   "metadata": {},
   "outputs": [
    {
     "name": "stdout",
     "output_type": "stream",
     "text": [
      "['b', 'a', 'c'] ['g', 'h']\n"
     ]
    }
   ],
   "source": [
    "first=['b','a','c','d','e','f']\n",
    "second=['d','e','f','g','h']\n",
    "m =[]\n",
    "a =[]\n",
    "for i in first:\n",
    "    if(i not in second):\n",
    "        m.append(i)\n",
    "for i in second:\n",
    "    if(i not in first):\n",
    "        a.append(i)\n",
    "print(m,a)        "
   ]
  },
  {
   "cell_type": "code",
   "execution_count": 47,
   "id": "4dfcc2d6-398f-485f-8700-27037f049210",
   "metadata": {},
   "outputs": [
    {
     "name": "stdout",
     "output_type": "stream",
     "text": [
      "['b', 'a', 'c'] ['g', 'h']\n"
     ]
    }
   ],
   "source": [
    "m = [i for i in first if i not in second]\n",
    "a = [i for i in second if i not in first]\n",
    "print(m,a)"
   ]
  },
  {
   "cell_type": "markdown",
   "id": "58854937-cf73-4c40-bcf0-aafa6113fc6b",
   "metadata": {},
   "source": [
    "43. Write a Python program to split a list into different variables from center.\n",
    "Ex.\n",
    "l1=[12,23,34,45,56,67]\n",
    "first=[12,23,34]\n",
    "second=[45,56,67]\n",
    "\n",
    "l2=[12,23,34,45,56,67,99]\n",
    "first=[12,23,34]\n",
    "second=[45,56,67,99]"
   ]
  },
  {
   "cell_type": "code",
   "execution_count": 51,
   "id": "ad58b14e-923c-4e98-8fd4-a2651360445a",
   "metadata": {},
   "outputs": [
    {
     "name": "stdout",
     "output_type": "stream",
     "text": [
      "[12, 23, 34] [45, 56, 67, 99]\n"
     ]
    }
   ],
   "source": [
    "l1=[12,23,34,45,56,67,99]\n",
    "ft = []\n",
    "sd = []\n",
    "ft =l1[0:len(l1)//2]\n",
    "sd =l1[len(l1)//2:len(l1)]\n",
    "print(ft,sd)"
   ]
  },
  {
   "cell_type": "markdown",
   "id": "697c6f63-e31e-4353-a3c8-9dd70c44c2e0",
   "metadata": {},
   "source": [
    "44. Write a Python program to generate groups of three consecutive numbers in a list.\n",
    "l1=[1,2,3,4,5,6,7,8,9,10]\n",
    "Ans\n",
    "[1,2,3], [2,3,4], [3,4,5], [6,7,8], [7,8,9], [8,9,10]"
   ]
  },
  {
   "cell_type": "code",
   "execution_count": 52,
   "id": "bd8aac64-4a83-4db4-a93d-b9e5648d399e",
   "metadata": {},
   "outputs": [
    {
     "name": "stdout",
     "output_type": "stream",
     "text": [
      "[1, 2, 3]\n",
      "[2, 3, 4]\n",
      "[3, 4, 5]\n",
      "[4, 5, 6]\n",
      "[5, 6, 7]\n",
      "[6, 7, 8]\n",
      "[7, 8, 9]\n",
      "[8, 9, 10]\n"
     ]
    }
   ],
   "source": [
    "n = 3\n",
    "con =[1,2,3,4,5,6,7,8,9,10]\n",
    "for i in range(len(con) - n+1):\n",
    "    print(con[i:i+n])\n",
    "    "
   ]
  },
  {
   "cell_type": "markdown",
   "id": "378fc6a6-aec4-4532-a162-46b7da1c0951",
   "metadata": {},
   "source": [
    "45. Write a Python program to take a list. Find all unique values. Then print all unique values in sorted order."
   ]
  },
  {
   "cell_type": "code",
   "execution_count": 55,
   "id": "e65677d3-d528-4426-9f01-662c6993f846",
   "metadata": {},
   "outputs": [
    {
     "data": {
      "text/plain": [
       "[1, 4, 5, 7, 8]"
      ]
     },
     "execution_count": 55,
     "metadata": {},
     "output_type": "execute_result"
    }
   ],
   "source": [
    "li = [1,4,7,8,4,5,7,1]\n",
    "sorted(set(li))"
   ]
  },
  {
   "cell_type": "markdown",
   "id": "5b101164-7eba-4f0a-b7c9-37ef301699d2",
   "metadata": {},
   "source": [
    "47. Write a Python program to insert an element before each element of a list.\n",
    "Ex. l1=[1,2,3]\n",
    "insert 10 before every element\n",
    "o/p  [10,1,10,2,10,3]"
   ]
  },
  {
   "cell_type": "code",
   "execution_count": 1,
   "id": "6601c491-17f8-4125-a0db-b074db8dd453",
   "metadata": {},
   "outputs": [
    {
     "data": {
      "text/plain": [
       "[10, 1, 10, 2, 10, 3]"
      ]
     },
     "execution_count": 1,
     "metadata": {},
     "output_type": "execute_result"
    }
   ],
   "source": [
    "n =10\n",
    "l1=[1,2,3]\n",
    "l2 = []\n",
    "for i in l1:\n",
    "    l2.append(10)\n",
    "    l2.append(i)\n",
    "l2    \n",
    "    "
   ]
  },
  {
   "cell_type": "markdown",
   "id": "404d56ec-cc03-4baf-8965-d337968efe48",
   "metadata": {},
   "source": [
    "**49. Write a Python program to convert a list to a list of dictionaries. ( Hint: this is part of creating dictionaries)\n",
    "Sample lists: [\"Black\", \"Red\", \"Maroon\", \"Yellow\"], [\"#000000\", \"#FF0000\", \"#800000\", \"#FFFF00\"]\n",
    "Expected Output: [{'color_name': 'Black', 'color_code': '#000000'}, {'color_name': 'Red', 'color_code': '#FF0000'}, {'color_name': 'Maroon', 'color_code': '#800000'}, {'color_name': 'Yellow', 'color_code': '#FFFF00'}]\n"
   ]
  },
  {
   "cell_type": "code",
   "execution_count": 2,
   "id": "3b7e8237-4543-447a-a41f-92d3fc32fd80",
   "metadata": {},
   "outputs": [
    {
     "data": {
      "text/plain": [
       "[{'color_name': 'Black', 'color_code': '#000000'},\n",
       " {'color_name': 'Red', 'color_code': '#FF0000'},\n",
       " {'color_name': 'Maroon', 'color_code': '#800000'},\n",
       " {'color_name': 'Yellow', 'color_code': '#FFFF00'}]"
      ]
     },
     "execution_count": 2,
     "metadata": {},
     "output_type": "execute_result"
    }
   ],
   "source": [
    "cn = [\"Black\", \"Red\", \"Maroon\", \"Yellow\"]\n",
    "cc = [\"#000000\", \"#FF0000\", \"#800000\", \"#FFFF00\"]\n",
    "cl = []\n",
    "for i in range(len(cn)):\n",
    "    d = dict()\n",
    "    d['color_name'] = cn[i]\n",
    "    d['color_code'] = cc[i]\n",
    "    cl.append(d)\n",
    "cl    \n"
   ]
  },
  {
   "cell_type": "markdown",
   "id": "66a83eb8-8468-4794-baea-1f870b39c2af",
   "metadata": {},
   "source": [
    "52. Write a Python program to compute the difference between two lists.\r\n",
    "Sample data: \r\n",
    "color1 = [\"white\", \"red\", \"orange\", \"green\", \"blue\"] \r\n",
    "color2=[\"black\", \"yellow\", \"green\", \"blue\"]\r\n",
    "\r\n",
    "Expected Output:\r\n",
    "Color1 - Color2: ['white', 'red', 'orange']\r\n",
    "In color1, white, red and orange colors are there which are extra than color2\r\n",
    "\r\n",
    "Color2 - Color1: ['black', 'yellow']\r\n",
    "In color2, black and yellow colors are there which are extra than color2"
   ]
  },
  {
   "cell_type": "code",
   "execution_count": 5,
   "id": "b2fd00a4-b2af-41a9-9cb7-390c5e670953",
   "metadata": {},
   "outputs": [
    {
     "name": "stdout",
     "output_type": "stream",
     "text": [
      "['white', 'red', 'orange'] ['black', 'yellow']\n"
     ]
    }
   ],
   "source": [
    "c1 = [\"white\", \"red\", \"orange\", \"green\", \"blue\"] \n",
    "c2 =[\"black\", \"yellow\", \"green\", \"blue\"]\n",
    "c1_c2 = []\n",
    "c2_c1= []\n",
    "for i in c1:\n",
    "    if(i not in c2):\n",
    "        c1_c2.append(i)\n",
    "for i in c2:\n",
    "    if(i not in c1):\n",
    "        c2_c1.append(i) \n",
    "\n",
    "print(c1_c2, c2_c1)"
   ]
  },
  {
   "cell_type": "markdown",
   "id": "a6f7d1cc-e11b-4813-84d5-94a426260581",
   "metadata": {},
   "source": [
    "\n",
    "**53. Write a Python program to create a list with infinite elements.(this is part of generator function"
   ]
  },
  {
   "cell_type": "code",
   "execution_count": 7,
   "id": "378b009d-8439-4b50-8d60-751d3225c9e6",
   "metadata": {},
   "outputs": [
    {
     "data": {
      "text/plain": [
       "<generator object infinite_list at 0x0000022BF1ED77C0>"
      ]
     },
     "execution_count": 7,
     "metadata": {},
     "output_type": "execute_result"
    }
   ],
   "source": [
    "def infinite_list():\n",
    "    num = 0\n",
    "    while True:\n",
    "        yield num\n",
    "        num += 1\n",
    "\n",
    "gen = infinite_list()\n",
    "gen"
   ]
  },
  {
   "cell_type": "markdown",
   "id": "fdcc9b6a-66df-4c9f-b5fb-3f26712cbc8c",
   "metadata": {},
   "source": [
    "54. Write a Python program to concatenate elements of a given list to another list.\n"
   ]
  },
  {
   "cell_type": "code",
   "execution_count": 8,
   "id": "f48795d4-0352-49d6-893e-8a0b676b50cf",
   "metadata": {},
   "outputs": [
    {
     "data": {
      "text/plain": [
       "[1, 4, 5, 7, 8, 10, 1, 10, 2, 10, 3]"
      ]
     },
     "execution_count": 8,
     "metadata": {},
     "output_type": "execute_result"
    }
   ],
   "source": [
    "lt1 = [1, 4, 5, 7, 8]\n",
    "lt2 = [10, 1, 10, 2, 10, 3]\n",
    "lt1 = lt1+lt2\n",
    "lt1"
   ]
  },
  {
   "cell_type": "markdown",
   "id": "f3763f09-5416-40cd-a445-779a0f84c036",
   "metadata": {},
   "source": [
    "56. Write a Python program to convert a string to a list."
   ]
  },
  {
   "cell_type": "code",
   "execution_count": 9,
   "id": "5b3a4b85-caee-4a28-9658-07fbd486f483",
   "metadata": {},
   "outputs": [
    {
     "data": {
      "text/plain": [
       "['h', 'a', 'r', 's', 'h', 'n', 'i', 'p', 'a', 'n', 'e']"
      ]
     },
     "execution_count": 9,
     "metadata": {},
     "output_type": "execute_result"
    }
   ],
   "source": [
    "st = \"harshnipane\"\n",
    "list(st)"
   ]
  },
  {
   "cell_type": "markdown",
   "id": "7430a63b-00c9-452e-8bcc-8bfedcadee2b",
   "metadata": {},
   "source": [
    "57. Write a Python program to count how many times a word comes in given list of words.\n",
    "Ex\n",
    "word = \"cdac\"\n",
    "word_list=[\"cadc\",\"cdac\",\"iop\",\"lkjh\",\"cdac\"]"
   ]
  },
  {
   "cell_type": "code",
   "execution_count": 10,
   "id": "501d6578-eb87-46ff-a6f3-7752e9d0d4a0",
   "metadata": {},
   "outputs": [
    {
     "name": "stdout",
     "output_type": "stream",
     "text": [
      "2\n"
     ]
    }
   ],
   "source": [
    "word = \"cdac\"\n",
    "word_list=[\"cadc\",\"cdac\",\"iop\",\"lkjh\",\"cdac\"]\n",
    "print(word_list.count(word))"
   ]
  },
  {
   "cell_type": "markdown",
   "id": "0d2b2e4f-fa96-495d-a7f4-3921cdac71d2",
   "metadata": {},
   "source": [
    "58. Write a Python program to replace the last element in a list with another list.\n",
    "Sample data : [1, 3, 5, 7, 9, 10], [2, 4, 6, 8]\n",
    "Expected Output: [1, 3, 5, 7, 9, 2, 4, 6, 8]"
   ]
  },
  {
   "cell_type": "code",
   "execution_count": 14,
   "id": "39dfa8ed-a459-45a2-904a-fc8931dcc9f7",
   "metadata": {},
   "outputs": [
    {
     "data": {
      "text/plain": [
       "[1, 3, 5, 7, 9, 2, 4, 6, 8]"
      ]
     },
     "execution_count": 14,
     "metadata": {},
     "output_type": "execute_result"
    }
   ],
   "source": [
    "x = [1, 3, 5, 7, 9, 10]\n",
    "y= [2, 4, 6, 8] \n",
    "x.remove(10)\n",
    "for i in y:\n",
    "    x.append(i)\n",
    "x    "
   ]
  },
  {
   "cell_type": "markdown",
   "id": "12eee4e0-e88c-450a-81d6-5eb559138a81",
   "metadata": {},
   "source": [
    "59. Write a Python program to check whether the n-th element exists in a given list. Dont give error if n is out of bounds, print out of bounds message.\n",
    "Ex.\n",
    "l1=[90,98,87,76,65]\n",
    "n=1 o/p: exists ( explaination l1[1] exists)\n",
    "n=10 o/p: out of bound index "
   ]
  },
  {
   "cell_type": "code",
   "execution_count": 17,
   "id": "d78301a1-4e01-47ab-ae19-77dc0a5e4c5c",
   "metadata": {},
   "outputs": [
    {
     "name": "stdout",
     "output_type": "stream",
     "text": [
      "out of bound index\n"
     ]
    }
   ],
   "source": [
    "l1=[90,98,87,76,65] \n",
    "n=10\n",
    "if(n < len(l1)):\n",
    "    print(\"exist\", l1[n])\n",
    "else:\n",
    "    print(\"out of bound index\")\n",
    "    "
   ]
  },
  {
   "cell_type": "markdown",
   "id": "98d22282-a5dd-4dd6-b60c-405397318d98",
   "metadata": {},
   "source": [
    "**60. Write a Python program to find a tuple, the smallest second index value from a list of tuples."
   ]
  },
  {
   "cell_type": "code",
   "execution_count": 21,
   "id": "c0a36043-da5e-468f-888f-a6c65541a587",
   "metadata": {},
   "outputs": [
    {
     "data": {
      "text/plain": [
       "(8, 2)"
      ]
     },
     "execution_count": 21,
     "metadata": {},
     "output_type": "execute_result"
    }
   ],
   "source": [
    "ltu= [(10,5),(8,2),(2,9)]\n",
    "x = sorted(ltu,key = lambda x: x[1])\n",
    "x[0]"
   ]
  },
  {
   "cell_type": "code",
   "execution_count": 22,
   "id": "b2bc54d2-31ab-4e44-967f-94d957ffc478",
   "metadata": {},
   "outputs": [
    {
     "data": {
      "text/plain": [
       "(8, 2)"
      ]
     },
     "execution_count": 22,
     "metadata": {},
     "output_type": "execute_result"
    }
   ],
   "source": [
    "st = ltu[0] \n",
    "for tup in ltu[1:]:  \n",
    "    if tup[1] < st[1]:\n",
    "        st = tup\n",
    "st        \n",
    "        "
   ]
  },
  {
   "cell_type": "markdown",
   "id": "8e7ec912-0d06-4e62-8457-d1dc95016680",
   "metadata": {},
   "source": [
    "**61. Write a Python program to create a list of empty dictionaries.\n"
   ]
  },
  {
   "cell_type": "code",
   "execution_count": 24,
   "id": "461d980c-f076-40ec-aec2-4644ca6d014b",
   "metadata": {},
   "outputs": [
    {
     "data": {
      "text/plain": [
       "[{}, {}, {}, {}]"
      ]
     },
     "execution_count": 24,
     "metadata": {},
     "output_type": "execute_result"
    }
   ],
   "source": [
    "led = [{}]*4\n",
    "led"
   ]
  },
  {
   "cell_type": "markdown",
   "id": "aa8508d4-a668-467f-a8cb-49c5b21efa08",
   "metadata": {},
   "source": [
    "**62. Write a Python program to print a list of space-separated elements."
   ]
  },
  {
   "cell_type": "code",
   "execution_count": 26,
   "id": "05a5122c-987c-468b-9506-ea8c9db439d4",
   "metadata": {},
   "outputs": [
    {
     "data": {
      "text/plain": [
       "['h', 'd', 'k', 'd', 'y', 's', 'er4', 'j', 'k', 'n', 'd']"
      ]
     },
     "execution_count": 26,
     "metadata": {},
     "output_type": "execute_result"
    }
   ],
   "source": [
    "st = \"h d k d y s er4 j k n d\"\n",
    "st1 = st.split(\" \")\n",
    "st1"
   ]
  },
  {
   "cell_type": "markdown",
   "id": "91cdbd5a-5812-4e98-ac33-e3599f1c2ea5",
   "metadata": {},
   "source": [
    "63. Write a Python program to insert a given string at the beginning of all items in a list.\n",
    "Sample list : [1,2,3,4], string : emp\n",
    "Expected output : ['emp1', 'emp2', 'emp3', 'emp4']\n"
   ]
  },
  {
   "cell_type": "code",
   "execution_count": 36,
   "id": "5687600e-1678-47cd-b415-ceedb0e3a717",
   "metadata": {},
   "outputs": [
    {
     "data": {
      "text/plain": [
       "['emp1', 'emp2', 'emp3', 'emp4']"
      ]
     },
     "execution_count": 36,
     "metadata": {},
     "output_type": "execute_result"
    }
   ],
   "source": [
    "numl = [1,2,3,4]\n",
    "wrd = 'emp'\n",
    "for i in range(len(numl)):\n",
    "    numl[i] = wrd +str(numl[i])\n",
    "numl    \n",
    "    "
   ]
  },
  {
   "cell_type": "markdown",
   "id": "2677c9f9-4ac2-4872-a335-55cc0a560408",
   "metadata": {},
   "source": [
    "64. Write a Python program to iterate over two lists simultaneously.\n",
    "ex.\n",
    "l1=[2,4,7]\n",
    "l2=[12,45,67]"
   ]
  },
  {
   "cell_type": "code",
   "execution_count": 38,
   "id": "7e8041d9-a444-41d2-85f3-53f52a225939",
   "metadata": {},
   "outputs": [
    {
     "name": "stdout",
     "output_type": "stream",
     "text": [
      "2 12\n",
      "4 45\n",
      "7 67\n"
     ]
    }
   ],
   "source": [
    "l1=[2,4,7]\n",
    "l2=[12,45,67]\n",
    "for i,j in zip(l1,l2):\n",
    "    print(i,j)"
   ]
  },
  {
   "cell_type": "markdown",
   "id": "ec60dd8e-6e23-4e2e-94da-91c12d0b0f02",
   "metadata": {},
   "source": [
    "65. Write a Python program to move all zero digits to the end of a given list of numbers."
   ]
  },
  {
   "cell_type": "code",
   "execution_count": 46,
   "id": "c403a582-a3f9-4509-a9d0-f224ac42a7df",
   "metadata": {},
   "outputs": [
    {
     "data": {
      "text/plain": [
       "[1, 3, 5, 7, 9, 10, 0, 0, 0]"
      ]
     },
     "execution_count": 46,
     "metadata": {},
     "output_type": "execute_result"
    }
   ],
   "source": [
    "lz = [1,0, 3, 5,0, 7, 0,9, 10]\n",
    "count =0\n",
    "for i in lz:\n",
    "    if(i ==0):\n",
    "        lz.remove(i)\n",
    "        count +=1\n",
    "while(count != 0):\n",
    "    lz.append(0)\n",
    "    count -= 1\n",
    "\n",
    "lz  "
   ]
  },
  {
   "cell_type": "code",
   "execution_count": 53,
   "id": "fa3cb1c9-de37-4ab4-ae06-0e57eca6fb56",
   "metadata": {},
   "outputs": [
    {
     "name": "stdout",
     "output_type": "stream",
     "text": [
      "[3, 4, 6, 2, 6, 7, 6, 9, 10, 7, 4, 4, 5, 3, 2, 9, 7, 1, 0, 0, 0, 0, 0, 0, 0, 0, 0]\n"
     ]
    }
   ],
   "source": [
    "lz = [3, 4, 0, 0, 0, 6, 2, 0, 6, 7, 6, 0, 0, 0, 9, 10, 7, 4, 4, 5, 3, 0, 0, 2, 9, 7, 1]\n",
    "count =0\n",
    "for i in lz:\n",
    "    if(i ==0):       \n",
    "        lz.remove(i)\n",
    "        lz.append(0)\n",
    "        count +=1\n",
    "print(lz)  "
   ]
  },
  {
   "cell_type": "markdown",
   "id": "1b8e1a4e-1f85-464d-ae43-995d580b0c4f",
   "metadata": {},
   "source": [
    "66. Write a Python program to find the list in a list of lists whose sum of elements is the highest.\n",
    "Sample list: \n",
    "l1=[[1,2,3], [4,5,6], [10,11,12], [7,8,9]]\n",
    "Expected Output: [10, 11, 12]"
   ]
  },
  {
   "cell_type": "code",
   "execution_count": 57,
   "id": "e6c46328-525a-4840-ad98-8c90013a957f",
   "metadata": {},
   "outputs": [
    {
     "name": "stdout",
     "output_type": "stream",
     "text": [
      "[10, 11, 12]\n"
     ]
    }
   ],
   "source": [
    "hg =[[1,2,3], [4,5,6], [10,11,12], [7,8,9]]\n",
    "maxx = 0\n",
    "for i in hg:\n",
    "    if(sum(i) > maxx):\n",
    "        maxx = sum(i)\n",
    "        elem = i\n",
    "print(elem)        "
   ]
  },
  {
   "cell_type": "markdown",
   "id": "fd9a63c3-b2c4-4da0-8956-bd623ec97d43",
   "metadata": {},
   "source": [
    "69. Write a Python program to remove duplicates from a list of lists.\n",
    "Sample list : [[10, 20], [40], [30, 56, 25], [10, 20], [33], [40]]\n",
    "New List : [[10, 20], [30, 56, 25], [33], [40]]"
   ]
  },
  {
   "cell_type": "code",
   "execution_count": 60,
   "id": "eb2d2abf-e7ac-4143-a88f-96cb9935661c",
   "metadata": {},
   "outputs": [
    {
     "data": {
      "text/plain": [
       "[[10, 20], [40], [30, 56, 25], [33]]"
      ]
     },
     "execution_count": 60,
     "metadata": {},
     "output_type": "execute_result"
    }
   ],
   "source": [
    "dp = [[10, 20], [40], [30, 56, 25], [10, 20], [33], [40]]\n",
    "ul = []\n",
    "for i in dp:\n",
    "    if(i not in ul):\n",
    "        ul.append(i)\n",
    "ul        "
   ]
  },
  {
   "cell_type": "code",
   "execution_count": null,
   "id": "8df6ea90-a806-431c-8764-fdb7762fc1e0",
   "metadata": {},
   "outputs": [],
   "source": [
    "70. Write a Python program to find items starting with a specific character from a list.\n",
    "Example:\n",
    "Original list:\n",
    "['abcd', 'abc', 'bcd', 'bkie', 'cder', 'cdsw', 'sdfsd', 'dagfa', 'acjd']\n",
    "Items start with a from the said list:\n",
    "['abcd', 'abc', 'acjd']"
   ]
  },
  {
   "cell_type": "code",
   "execution_count": 3,
   "id": "855bb65f-ced5-43ec-b5a8-56edfa0c9830",
   "metadata": {},
   "outputs": [
    {
     "data": {
      "text/plain": [
       "['bcd', 'bkie']"
      ]
     },
     "execution_count": 3,
     "metadata": {},
     "output_type": "execute_result"
    }
   ],
   "source": [
    "lst = ['abcd', 'abc', 'bcd', 'bkie', 'cder', 'cdsw', 'sdfsd', 'dagfa', 'acjd']\n",
    "ltr = 'b'\n",
    "a = []\n",
    "for i in lst:\n",
    "    if(i[0] == ltr):\n",
    "        a.append(i)\n",
    "a        "
   ]
  },
  {
   "cell_type": "markdown",
   "id": "42305497-98e1-414d-95e3-8edb18562a97",
   "metadata": {},
   "source": [
    "**71. Write a Python program to check whether all dictionaries in a list are empty or not.\n",
    "Sample list : [{},{},{}]\n",
    "Return value : True\n",
    "Sample list : [{1,2},{},{}]\n",
    "Return value : False"
   ]
  },
  {
   "cell_type": "code",
   "execution_count": 6,
   "id": "b4ad8531-0b09-4aff-bc95-7ecec5fb920d",
   "metadata": {},
   "outputs": [
    {
     "name": "stdout",
     "output_type": "stream",
     "text": [
      "False\n"
     ]
    }
   ],
   "source": [
    "el = [{1,2},{},{}]\n",
    "c=0\n",
    "for i in el:\n",
    "    if i:\n",
    "        c= 1\n",
    "        print(False)\n",
    "        break\n",
    "    else:\n",
    "        c=0\n",
    "if(c==0):\n",
    "    print(True)"
   ]
  },
  {
   "cell_type": "markdown",
   "id": "c0eeb495-1298-4f1f-be46-2f66c4e90fb6",
   "metadata": {},
   "source": [
    "72. Write a Python program to flatten a given nested list structure.\n",
    "Original list: [0, 10, [20, 30], 40, 50, [60, 70, 80], [90, 100, 110, 120]]\n",
    "Flatten list:\n",
    "[0, 10, 20, 30, 40, 50, 60, 70, 80, 90, 100, 110, 120]"
   ]
  },
  {
   "cell_type": "code",
   "execution_count": 12,
   "id": "9ab99f59-516a-4f2e-907b-63761e17831e",
   "metadata": {},
   "outputs": [
    {
     "name": "stdout",
     "output_type": "stream",
     "text": [
      "[0, 10, 20, 30, 40, 50, 60, 70, 80, 90, 100, 110, 120]\n"
     ]
    }
   ],
   "source": [
    "l1 = [0, 10, [20, 30], 40, 50, [60, 70, 80], [90, 100, 110, 120]]\n",
    "l2 = []\n",
    "for i in l1:\n",
    "    if(type(i) == list):\n",
    "        for j in i:\n",
    "            l2.append(j)\n",
    "    else:\n",
    "        l2.append(i)\n",
    "print(l2)\n"
   ]
  },
  {
   "cell_type": "code",
   "execution_count": 15,
   "id": "c437c9f7-813c-4c6b-829d-10cc4af141df",
   "metadata": {
    "scrolled": true
   },
   "outputs": [
    {
     "data": {
      "text/plain": [
       "[1, 2, 3, 4, 5, [7, 8, 9, 7, 8, 9]]"
      ]
     },
     "execution_count": 15,
     "metadata": {},
     "output_type": "execute_result"
    }
   ],
   "source": [
    "73. Write a Python program to remove consecutive (following each other continuously) duplicates (elements) from a given list.\n",
    "Original list:\n",
    "[0, 0, 1, 2, 3, 4, 4, 5, 6, 6, 6, 7, 8, 9, 4, 4]\n",
    "After removing consecutive duplicates:\n",
    "[0, 1, 2, 3, 4, 5, 6, 7, 8, 9, 4]"
   ]
  },
  {
   "cell_type": "code",
   "execution_count": 40,
   "id": "aa07cb9c-276c-4d66-b446-8d4ce553fa9f",
   "metadata": {},
   "outputs": [
    {
     "data": {
      "text/plain": [
       "[0, 1, 2, 3, 4, 5, 6, 7, 8, 9, 4]"
      ]
     },
     "execution_count": 40,
     "metadata": {},
     "output_type": "execute_result"
    }
   ],
   "source": [
    "l1 = [0, 0, 1, 2, 3, 4, 4, 5, 6, 6, 6,7, 8, 9, 4, 4]\n",
    "res = [l1[0]]\n",
    "for i in range(1,len(l1)):\n",
    "    if(l1[i] != l1[i-1]):\n",
    "        res.append(l1[i])\n",
    "res "
   ]
  },
  {
   "cell_type": "code",
   "execution_count": null,
   "id": "17331af1-f797-4fdf-aed4-a3ad46c7952c",
   "metadata": {},
   "outputs": [],
   "source": [
    "        "
   ]
  },
  {
   "cell_type": "code",
   "execution_count": null,
   "id": "69c1ae42-05f6-424d-8d2c-0eab70f9e80a",
   "metadata": {},
   "outputs": [],
   "source": []
  }
 ],
 "metadata": {
  "kernelspec": {
   "display_name": "Python 3 (ipykernel)",
   "language": "python",
   "name": "python3"
  },
  "language_info": {
   "codemirror_mode": {
    "name": "ipython",
    "version": 3
   },
   "file_extension": ".py",
   "mimetype": "text/x-python",
   "name": "python",
   "nbconvert_exporter": "python",
   "pygments_lexer": "ipython3",
   "version": "3.11.5"
  }
 },
 "nbformat": 4,
 "nbformat_minor": 5
}
