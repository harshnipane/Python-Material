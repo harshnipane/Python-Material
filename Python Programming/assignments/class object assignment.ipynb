{
 "cells": [
  {
   "cell_type": "markdown",
   "id": "8d6702cd-3dd1-4027-b07d-00ae8be0eac8",
   "metadata": {},
   "source": [
    "create employee classCreate Employee class to have employee details\n",
    "    empid int\n",
    "    name str\n",
    "    designation str\n",
    "    salary int  --> make it private (hidden)\n",
    "    project_ids_assigned (set)\n",
    "    skills list of str\n",
    "    company name : \n",
    "         shared in all employees\n",
    "\n",
    "Functionalities (methods):\n",
    "        display_projetids()\n",
    "        display_identity()\n",
    "        check_relevant_skill()\n",
    "        \n",
    "        display_company_details():\n",
    "            shared in all (class method)\n"
   ]
  },
  {
   "cell_type": "code",
   "execution_count": 146,
   "id": "5813b816-c472-4d38-aa1d-733aae2e5ce8",
   "metadata": {},
   "outputs": [],
   "source": [
    "class employee:\n",
    "    company_name = \"techmeta\"\n",
    "    def __init__(self,empid,name,designation,salary,projectid,skills):\n",
    "        self.empid = empid\n",
    "        self.name = name\n",
    "        self.designation = designation\n",
    "        self.__salary = salary\n",
    "        self.projectid = projectid\n",
    "        self.skills = skills\n",
    "        \n",
    "    def display_projetids(self):\n",
    "         print(\"projects:\",self.projectid)\n",
    "\n",
    "\n",
    "    def identity(self):\n",
    "        print(self.empid,self.name,self.designation,self.__salary)\n",
    "\n",
    "    def check_relevant_skill(self,skill):\n",
    "        if(skill in self.skills):\n",
    "            print(self.empid,self.name)\n",
    "        else:\n",
    "            print(\"no python\")\n",
    "        \n",
    "    @classmethod\n",
    "    def display_company_details(cls):\n",
    "        print(cls.company_name)\n",
    "\n"
   ]
  },
  {
   "cell_type": "code",
   "execution_count": 147,
   "id": "1c723047-644f-48cf-a765-d6f03da40b02",
   "metadata": {},
   "outputs": [],
   "source": [
    "e1 = employee(1,\"harry\",\"Developer\",\"5000000\",{2,3,4},[\"python\",\"sql\",\"analytics\"])"
   ]
  },
  {
   "cell_type": "code",
   "execution_count": 148,
   "id": "cd89192b-ff02-469d-a2e2-4a3c5a5c123b",
   "metadata": {},
   "outputs": [
    {
     "name": "stdout",
     "output_type": "stream",
     "text": [
      "1 harry Developer 5000000\n"
     ]
    }
   ],
   "source": [
    "e1.identity()"
   ]
  },
  {
   "cell_type": "code",
   "execution_count": 149,
   "id": "c675afb4-a8f0-4789-8cd3-ce9ece1cb6a3",
   "metadata": {},
   "outputs": [
    {
     "name": "stdout",
     "output_type": "stream",
     "text": [
      "projects: {2, 3, 4}\n"
     ]
    }
   ],
   "source": [
    "e1.display_projetids()"
   ]
  },
  {
   "cell_type": "code",
   "execution_count": 150,
   "id": "202238ce-a6ee-4aec-b263-e9d519be535b",
   "metadata": {},
   "outputs": [],
   "source": [
    "e2 = employee(2,\"jimmy\",\"testing\",\"900000\",{1,3,4},[\"agile\",\"sql\",\"linux\"])"
   ]
  },
  {
   "cell_type": "code",
   "execution_count": 151,
   "id": "04eb1320-0032-49ab-9d98-ab31119cb5dc",
   "metadata": {},
   "outputs": [
    {
     "name": "stdout",
     "output_type": "stream",
     "text": [
      "2 jimmy testing 900000\n"
     ]
    }
   ],
   "source": [
    "e2.identity()"
   ]
  },
  {
   "cell_type": "code",
   "execution_count": 152,
   "id": "f69a2419-4af3-44f4-8a8d-0e739ed7c5bc",
   "metadata": {},
   "outputs": [
    {
     "name": "stdout",
     "output_type": "stream",
     "text": [
      "projects: {1, 3, 4}\n"
     ]
    }
   ],
   "source": [
    "e2.display_projetids()"
   ]
  },
  {
   "cell_type": "code",
   "execution_count": 153,
   "id": "0533cb2c-774d-4fa1-a17a-f6fd70b8755f",
   "metadata": {},
   "outputs": [],
   "source": [
    "e3 = employee(3,\"david\",\"java developer\",\"2000000\",{2,8,5},[\"java\",\"javascript\",\"python\"])"
   ]
  },
  {
   "cell_type": "code",
   "execution_count": 154,
   "id": "b17359e7-544a-40a6-9347-ea74cffe25fe",
   "metadata": {},
   "outputs": [
    {
     "name": "stdout",
     "output_type": "stream",
     "text": [
      "3 david java developer 2000000\n"
     ]
    }
   ],
   "source": [
    "e3.identity()"
   ]
  },
  {
   "cell_type": "code",
   "execution_count": 155,
   "id": "2d3cbe88-02be-425e-b7e0-e58594dcfec6",
   "metadata": {},
   "outputs": [
    {
     "name": "stdout",
     "output_type": "stream",
     "text": [
      "projects: {8, 2, 5}\n"
     ]
    }
   ],
   "source": [
    "e3.display_projetids()"
   ]
  },
  {
   "cell_type": "code",
   "execution_count": 156,
   "id": "09202c76-4d7d-4aee-a6db-1d70bc055ecb",
   "metadata": {},
   "outputs": [
    {
     "name": "stdout",
     "output_type": "stream",
     "text": [
      "1 harry\n"
     ]
    }
   ],
   "source": [
    "e1.check_relevant_skill('python')"
   ]
  },
  {
   "cell_type": "code",
   "execution_count": 160,
   "id": "27d198d8-0842-42a9-bc5f-1511cf6881bf",
   "metadata": {},
   "outputs": [
    {
     "name": "stdout",
     "output_type": "stream",
     "text": [
      "no python\n"
     ]
    }
   ],
   "source": [
    "e2.check_relevant_skill('python')"
   ]
  },
  {
   "cell_type": "code",
   "execution_count": 161,
   "id": "55f5ff19-2e12-4df4-8dd0-21822d33c665",
   "metadata": {},
   "outputs": [
    {
     "name": "stdout",
     "output_type": "stream",
     "text": [
      "3 david\n"
     ]
    }
   ],
   "source": [
    "e3.check_relevant_skill('java')"
   ]
  },
  {
   "cell_type": "code",
   "execution_count": null,
   "id": "5af5aab0-45d1-4313-8493-80f68552b02a",
   "metadata": {},
   "outputs": [],
   "source": []
  },
  {
   "cell_type": "code",
   "execution_count": 144,
   "id": "ea3012c4-e3f5-4a0f-ad0b-0d7f9d38d935",
   "metadata": {},
   "outputs": [
    {
     "name": "stdout",
     "output_type": "stream",
     "text": [
      "1 harry\n",
      "3 david\n"
     ]
    }
   ],
   "source": [
    "l = [e1,e2,e3]\n",
    "def pythonskill():\n",
    "    for i in l:\n",
    "        if(\"python\" in i.skills):\n",
    "            print(i.empid,i.name)\n",
    "pythonskill()"
   ]
  },
  {
   "cell_type": "code",
   "execution_count": null,
   "id": "17809bc7-e631-498a-bda5-eb99a803f911",
   "metadata": {},
   "outputs": [],
   "source": []
  }
 ],
 "metadata": {
  "kernelspec": {
   "display_name": "Python 3 (ipykernel)",
   "language": "python",
   "name": "python3"
  },
  "language_info": {
   "codemirror_mode": {
    "name": "ipython",
    "version": 3
   },
   "file_extension": ".py",
   "mimetype": "text/x-python",
   "name": "python",
   "nbconvert_exporter": "python",
   "pygments_lexer": "ipython3",
   "version": "3.11.5"
  }
 },
 "nbformat": 4,
 "nbformat_minor": 5
}
