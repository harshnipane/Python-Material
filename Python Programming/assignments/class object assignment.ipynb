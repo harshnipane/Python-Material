{
 "cells": [
  {
   "cell_type": "markdown",
   "id": "8d6702cd-3dd1-4027-b07d-00ae8be0eac8",
   "metadata": {},
   "source": [
    "create employee classCreate Employee class to have employee details\n",
    "    empid int\n",
    "    name str\n",
    "    designation str\n",
    "    salary int  --> make it private (hidden)\n",
    "    project_ids_assigned (set)\n",
    "    skills list of str\n",
    "    company name : \n",
    "         shared in all employees\n",
    "\n",
    "Functionalities (methods):\n",
    "        display_projetids()\n",
    "        display_identity()\n",
    "        check_relevant_skill()\n",
    "        \n",
    "        display_company_details():\n",
    "            shared in all (class method)\n"
   ]
  },
  {
   "cell_type": "code",
   "execution_count": 146,
   "id": "5813b816-c472-4d38-aa1d-733aae2e5ce8",
   "metadata": {},
   "outputs": [],
   "source": [
    "class employee:\n",
    "    company_name = \"techmeta\"\n",
    "    def __init__(self,empid,name,designation,salary,projectid,skills):\n",
    "        self.empid = empid\n",
    "        self.name = name\n",
    "        self.designation = designation\n",
    "        self.__salary = salary\n",
    "        self.projectid = projectid\n",
    "        self.skills = skills\n",
    "        \n",
    "    def display_projetids(self):\n",
    "         print(\"projects:\",self.projectid)\n",
    "\n",
    "\n",
    "    def identity(self):\n",
    "        print(self.empid,self.name,self.designation,self.__salary)\n",
    "\n",
    "    def check_relevant_skill(self,skill):\n",
    "        if(skill in self.skills):\n",
    "            print(self.empid,self.name)\n",
    "        else:\n",
    "            print(\"no python\")\n",
    "        \n",
    "    @classmethod\n",
    "    def display_company_details(cls):\n",
    "        print(cls.company_name)\n",
    "\n"
   ]
  },
  {
   "cell_type": "code",
   "execution_count": 147,
   "id": "1c723047-644f-48cf-a765-d6f03da40b02",
   "metadata": {},
   "outputs": [],
   "source": [
    "e1 = employee(1,\"harry\",\"Developer\",\"5000000\",{2,3,4},[\"python\",\"sql\",\"analytics\"])"
   ]
  },
  {
   "cell_type": "code",
   "execution_count": 148,
   "id": "cd89192b-ff02-469d-a2e2-4a3c5a5c123b",
   "metadata": {},
   "outputs": [
    {
     "name": "stdout",
     "output_type": "stream",
     "text": [
      "1 harry Developer 5000000\n"
     ]
    }
   ],
   "source": [
    "e1.identity()"
   ]
  },
  {
   "cell_type": "code",
   "execution_count": 149,
   "id": "c675afb4-a8f0-4789-8cd3-ce9ece1cb6a3",
   "metadata": {},
   "outputs": [
    {
     "name": "stdout",
     "output_type": "stream",
     "text": [
      "projects: {2, 3, 4}\n"
     ]
    }
   ],
   "source": [
    "e1.display_projetids()"
   ]
  },
  {
   "cell_type": "code",
   "execution_count": 150,
   "id": "202238ce-a6ee-4aec-b263-e9d519be535b",
   "metadata": {},
   "outputs": [],
   "source": [
    "e2 = employee(2,\"jimmy\",\"testing\",\"900000\",{1,3,4},[\"agile\",\"sql\",\"linux\"])"
   ]
  },
  {
   "cell_type": "code",
   "execution_count": 151,
   "id": "04eb1320-0032-49ab-9d98-ab31119cb5dc",
   "metadata": {},
   "outputs": [
    {
     "name": "stdout",
     "output_type": "stream",
     "text": [
      "2 jimmy testing 900000\n"
     ]
    }
   ],
   "source": [
    "e2.identity()"
   ]
  },
  {
   "cell_type": "code",
   "execution_count": 152,
   "id": "f69a2419-4af3-44f4-8a8d-0e739ed7c5bc",
   "metadata": {},
   "outputs": [
    {
     "name": "stdout",
     "output_type": "stream",
     "text": [
      "projects: {1, 3, 4}\n"
     ]
    }
   ],
   "source": [
    "e2.display_projetids()"
   ]
  },
  {
   "cell_type": "code",
   "execution_count": 153,
   "id": "0533cb2c-774d-4fa1-a17a-f6fd70b8755f",
   "metadata": {},
   "outputs": [],
   "source": [
    "e3 = employee(3,\"david\",\"java developer\",\"2000000\",{2,8,5},[\"java\",\"javascript\",\"python\"])"
   ]
  },
  {
   "cell_type": "code",
   "execution_count": 154,
   "id": "b17359e7-544a-40a6-9347-ea74cffe25fe",
   "metadata": {},
   "outputs": [
    {
     "name": "stdout",
     "output_type": "stream",
     "text": [
      "3 david java developer 2000000\n"
     ]
    }
   ],
   "source": [
    "e3.identity()"
   ]
  },
  {
   "cell_type": "code",
   "execution_count": 155,
   "id": "2d3cbe88-02be-425e-b7e0-e58594dcfec6",
   "metadata": {},
   "outputs": [
    {
     "name": "stdout",
     "output_type": "stream",
     "text": [
      "projects: {8, 2, 5}\n"
     ]
    }
   ],
   "source": [
    "e3.display_projetids()"
   ]
  },
  {
   "cell_type": "code",
   "execution_count": 156,
   "id": "09202c76-4d7d-4aee-a6db-1d70bc055ecb",
   "metadata": {},
   "outputs": [
    {
     "name": "stdout",
     "output_type": "stream",
     "text": [
      "1 harry\n"
     ]
    }
   ],
   "source": [
    "e1.check_relevant_skill('python')"
   ]
  },
  {
   "cell_type": "code",
   "execution_count": 160,
   "id": "27d198d8-0842-42a9-bc5f-1511cf6881bf",
   "metadata": {},
   "outputs": [
    {
     "name": "stdout",
     "output_type": "stream",
     "text": [
      "no python\n"
     ]
    }
   ],
   "source": [
    "e2.check_relevant_skill('python')"
   ]
  },
  {
   "cell_type": "code",
   "execution_count": 161,
   "id": "55f5ff19-2e12-4df4-8dd0-21822d33c665",
   "metadata": {},
   "outputs": [
    {
     "name": "stdout",
     "output_type": "stream",
     "text": [
      "3 david\n"
     ]
    }
   ],
   "source": [
    "e3.check_relevant_skill('java')"
   ]
  },
  {
   "cell_type": "code",
   "execution_count": null,
   "id": "5af5aab0-45d1-4313-8493-80f68552b02a",
   "metadata": {},
   "outputs": [],
   "source": []
  },
  {
   "cell_type": "code",
   "execution_count": 144,
   "id": "ea3012c4-e3f5-4a0f-ad0b-0d7f9d38d935",
   "metadata": {},
   "outputs": [
    {
     "name": "stdout",
     "output_type": "stream",
     "text": [
      "1 harry\n",
      "3 david\n"
     ]
    }
   ],
   "source": [
    "l = [e1,e2,e3]\n",
    "def pythonskill():\n",
    "    for i in l:\n",
    "        if(\"python\" in i.skills):\n",
    "            print(i.empid,i.name)\n",
    "pythonskill()"
   ]
  },
  {
   "cell_type": "markdown",
   "id": "b7593ec6-9593-40dd-b682-aab4c6e9bded",
   "metadata": {},
   "source": [
    "create employee classCreate Employee class to have employee details empid int name str designation str salary int --> make it private (hidden) project_ids_assigned (set) skills list of str company name : shared in all employees\n",
    "\n",
    "Functionalities (methods): display_projetids() display_identity() check_relevant_skill()\n",
    "\n",
    "    display_company_details():\n",
    "        shared in all (class method)"
   ]
  },
  {
   "cell_type": "code",
   "execution_count": 29,
   "id": "17809bc7-e631-498a-bda5-eb99a803f911",
   "metadata": {},
   "outputs": [],
   "source": [
    "class employee:\n",
    "    company= \"techhub\"\n",
    "    def __init__(self,empid,name,desig,salary,project_id:set,skills:list):\n",
    "        \n",
    "        self.name = name\n",
    "        self.empid = empid\n",
    "        self.desig = desig\n",
    "        self.__salary = salary\n",
    "        self.project_id = project_id\n",
    "        self.skills = skills\n",
    "\n",
    "    def display_project(self):\n",
    "        print(self.project_id)\n",
    "\n",
    "    def display_identity(self):\n",
    "        print(self.empid,self.name,self.desig,self.skills)\n",
    "\n",
    "    def check_skills(self,skill):\n",
    "        if skill in self.skills:\n",
    "            return True\n",
    "        else:\n",
    "            return False\n",
    "\n",
    "    @classmethod\n",
    "    def display_company(cls):\n",
    "        cls.company_id = 854767854\n",
    "        print(cls.company_id)"
   ]
  },
  {
   "cell_type": "code",
   "execution_count": 30,
   "id": "46b82192-585b-4281-b4c8-4e4dad391bb9",
   "metadata": {},
   "outputs": [],
   "source": [
    "emp1 = employee(101,'vrukodar','analyst',99000,{1,4,3,6},['python','linux','sql'])"
   ]
  },
  {
   "cell_type": "code",
   "execution_count": 31,
   "id": "f9a96961-e496-4996-9d4c-8ce3acbf209d",
   "metadata": {},
   "outputs": [
    {
     "name": "stdout",
     "output_type": "stream",
     "text": [
      "{1, 3, 4, 6}\n"
     ]
    }
   ],
   "source": [
    "emp1.display_project()"
   ]
  },
  {
   "cell_type": "code",
   "execution_count": 32,
   "id": "5e44ff61-44e2-4048-8743-03259f2e94b0",
   "metadata": {},
   "outputs": [
    {
     "name": "stdout",
     "output_type": "stream",
     "text": [
      "101 vrukodar analyst ['python', 'linux', 'sql']\n"
     ]
    }
   ],
   "source": [
    "emp1.display_identity()"
   ]
  },
  {
   "cell_type": "code",
   "execution_count": 33,
   "id": "a67fc329-740a-4d00-bc4e-1098329d86bc",
   "metadata": {},
   "outputs": [
    {
     "data": {
      "text/plain": [
       "True"
      ]
     },
     "execution_count": 33,
     "metadata": {},
     "output_type": "execute_result"
    }
   ],
   "source": [
    "emp1.check_skills('python')"
   ]
  },
  {
   "cell_type": "code",
   "execution_count": 34,
   "id": "5cb68927-9a3a-49f2-a096-c69623b4bc87",
   "metadata": {},
   "outputs": [
    {
     "data": {
      "text/plain": [
       "'techhub'"
      ]
     },
     "execution_count": 34,
     "metadata": {},
     "output_type": "execute_result"
    }
   ],
   "source": [
    "employee.company"
   ]
  },
  {
   "cell_type": "code",
   "execution_count": 36,
   "id": "fc75614f-db7b-4e16-8ebb-680f3612f8ea",
   "metadata": {},
   "outputs": [
    {
     "name": "stdout",
     "output_type": "stream",
     "text": [
      "854767854\n"
     ]
    }
   ],
   "source": [
    "emp1.display_company()"
   ]
  },
  {
   "cell_type": "code",
   "execution_count": 39,
   "id": "bc15fba1-36c6-45f7-b236-f0660c5e543b",
   "metadata": {},
   "outputs": [
    {
     "ename": "AttributeError",
     "evalue": "'employee' object has no attribute 'salary'",
     "output_type": "error",
     "traceback": [
      "\u001b[1;31m---------------------------------------------------------------------------\u001b[0m",
      "\u001b[1;31mAttributeError\u001b[0m                            Traceback (most recent call last)",
      "Cell \u001b[1;32mIn[39], line 1\u001b[0m\n\u001b[1;32m----> 1\u001b[0m emp1\u001b[38;5;241m.\u001b[39msalary\n",
      "\u001b[1;31mAttributeError\u001b[0m: 'employee' object has no attribute 'salary'"
     ]
    }
   ],
   "source": [
    "emp1.salary"
   ]
  },
  {
   "cell_type": "code",
   "execution_count": null,
   "id": "826ede9f-efc2-4d06-bbf7-75996fa6cfb4",
   "metadata": {},
   "outputs": [],
   "source": []
  }
 ],
 "metadata": {
  "kernelspec": {
   "display_name": "Python 3 (ipykernel)",
   "language": "python",
   "name": "python3"
  },
  "language_info": {
   "codemirror_mode": {
    "name": "ipython",
    "version": 3
   },
   "file_extension": ".py",
   "mimetype": "text/x-python",
   "name": "python",
   "nbconvert_exporter": "python",
   "pygments_lexer": "ipython3",
   "version": "3.11.5"
  }
 },
 "nbformat": 4,
 "nbformat_minor": 5
}
