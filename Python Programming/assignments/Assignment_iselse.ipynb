{
 "cells": [
  {
   "cell_type": "code",
   "execution_count": 1,
   "id": "cecefbc7",
   "metadata": {},
   "outputs": [
    {
     "name": "stdout",
     "output_type": "stream",
     "text": [
      "hello\n"
     ]
    }
   ],
   "source": [
    "print(\"hello\")"
   ]
  },
  {
   "cell_type": "markdown",
   "id": "73e8eb57",
   "metadata": {},
   "source": [
    "A student will not be allowed to sit in exam if his/her attendence is less than 75%.  \n",
    "Take following input from user Number of classes held Number of classes attended. And print percentage of class attended  \n",
    "Is student is allowed to sit in exam or not."
   ]
  },
  {
   "cell_type": "code",
   "execution_count": 2,
   "id": "c8c04745",
   "metadata": {},
   "outputs": [
    {
     "name": "stdout",
     "output_type": "stream",
     "text": [
      "Enter total lectures10\n",
      "enter attended lectures8\n",
      "Not allowed\n"
     ]
    }
   ],
   "source": [
    "tl = int(input(\"Enter total lectures\"))\n",
    "al = int(input(\"enter attended lectures\"))\n",
    "\n",
    "per_att = al*100/tl\n",
    "if per_att > 75:\n",
    "    print(\"Not allowed\")\n",
    "\n",
    "elif(per_att > 50):\n",
    "    print(\"allowed with 40% marks reduction\") \n",
    "else:\n",
    "    print(\"Allowed\")"
   ]
  },
  {
   "cell_type": "markdown",
   "id": "705f514f",
   "metadata": {},
   "source": []
  },
  {
   "cell_type": "markdown",
   "id": "888f42ac",
   "metadata": {},
   "source": [
    "accept amount from user and find the minimum number notes required to get the amount amount =512  \n",
    "Notes: 2000,500,100,50,10,5,2,1  \n",
    "\n",
    "500-1 note  \n",
    "10  - 1 note  \n",
    "2-  1 coin  "
   ]
  },
  {
   "cell_type": "code",
   "execution_count": 9,
   "id": "d875c3ca",
   "metadata": {},
   "outputs": [
    {
     "name": "stdout",
     "output_type": "stream",
     "text": [
      "enter the amount23028\n",
      "2000 - 11\n",
      "500 - 2\n",
      "10 - 2\n",
      "5 - 1\n",
      "2 - 1\n",
      "1 - 1\n"
     ]
    }
   ],
   "source": [
    "amount = int(input(\"enter the amount \"))\n",
    "notes = [2000,500,100,50,10,5,2,1]\n",
    "count=0\n",
    "for i in notes:\n",
    "    if amount>= i:\n",
    "        count = amount // i\n",
    "        print(i,\"-\",count)\n",
    "        amount = amount - count*i\n",
    "               \n",
    "\n"
   ]
  },
  {
   "cell_type": "code",
   "execution_count": null,
   "id": "8515b284",
   "metadata": {},
   "outputs": [],
   "source": []
  },
  {
   "cell_type": "markdown",
   "id": "c893e3db",
   "metadata": {},
   "source": [
    "Modify the above question Q1 to allow student to sit if he/she has medical cause. Ask user if he/she has medical cause or not ( 'Y' or 'N' ) and print accordingly."
   ]
  },
  {
   "cell_type": "code",
   "execution_count": 12,
   "id": "6799aa0a",
   "metadata": {},
   "outputs": [
    {
     "name": "stdout",
     "output_type": "stream",
     "text": [
      "Do you have any medical cause (Y/N)Y\n",
      "Not allowed\n"
     ]
    }
   ],
   "source": [
    "t1 = input(\"Do you have any medical cause (Y/N)\")\n",
    "if t1 == 'Y':\n",
    "    print(\"Not allowed\")\n",
    "else:\n",
    "    print(\"Allowed\")"
   ]
  },
  {
   "cell_type": "markdown",
   "id": "3ef6fb32",
   "metadata": {},
   "source": [
    "A school has following rules for grading system:  \n",
    "a.\tBelow 25 - F  \n",
    "b.\t25 to 45 - E  \n",
    "c.\t45 to 50 - D  \n",
    "d.\t50 to 60 - C  \n",
    "e.\t60 to 80 - B  \n",
    "f.\tAbove 80 - A "
   ]
  },
  {
   "cell_type": "code",
   "execution_count": 14,
   "id": "0b3172e8",
   "metadata": {},
   "outputs": [
    {
     "name": "stdout",
     "output_type": "stream",
     "text": [
      "Enter Marks '1-100' 70\n",
      "B\n"
     ]
    }
   ],
   "source": [
    "marks = int(input(\"Enter Marks '1-100' \"))\n",
    "if marks <25 :\n",
    "    print(\"F\")\n",
    "elif(20 <= marks <= 45):\n",
    "    print(\"E\") \n",
    "elif(45 < marks <= 50):\n",
    "    print(\"D\") \n",
    "elif(50 < marks <= 60):\n",
    "    print(\"C\") \n",
    "elif(60 < marks <= 80):\n",
    "    print(\"B\")    \n",
    "else:\n",
    "    print(\"A\")"
   ]
  },
  {
   "cell_type": "code",
   "execution_count": null,
   "id": "dd1755e9",
   "metadata": {},
   "outputs": [],
   "source": []
  },
  {
   "cell_type": "markdown",
   "id": "02b24944",
   "metadata": {},
   "source": [
    " If  x = 2 y = 5 z = 0  then find values of the following expressions and Print the output of following statements  \n",
    "a.\tx == 2  \n",
    "b.\tx != 5  \n",
    "c.\tx != 5 & y >= 5  \n",
    "d.\tz != 0 | x == 2  \n",
    "e.\tnot(y < 10) "
   ]
  },
  {
   "cell_type": "code",
   "execution_count": 16,
   "id": "c8c53c51",
   "metadata": {},
   "outputs": [
    {
     "name": "stdout",
     "output_type": "stream",
     "text": [
      "True\n",
      "True\n",
      "True\n",
      "True\n",
      "False\n"
     ]
    }
   ],
   "source": [
    "x = 2 \n",
    "y = 5 \n",
    "z = 0\n",
    "print(x==2)\n",
    "print(x != 5)\n",
    "print(x != 5 & y >= 5)\n",
    "print(z != 0 | x == 2)\n",
    "print(not(y < 10))"
   ]
  },
  {
   "cell_type": "markdown",
   "id": "490db44d",
   "metadata": {},
   "source": []
  },
  {
   "cell_type": "markdown",
   "id": "777ab083",
   "metadata": {},
   "source": [
    "Accept number from user and check whether it is divisible by 5 and 11 if divisible then display appropriate message."
   ]
  },
  {
   "cell_type": "code",
   "execution_count": 19,
   "id": "63000987",
   "metadata": {},
   "outputs": [
    {
     "name": "stdout",
     "output_type": "stream",
     "text": [
      "Enter Number 55\n",
      "divisible\n"
     ]
    }
   ],
   "source": [
    "num = int(input(\"Enter Number \"))\n",
    "if(num % 5 == 0 and num % 11 == 0):\n",
    "    print(\"divisible\")\n",
    "else:\n",
    "    print(\"not divisible\")"
   ]
  },
  {
   "cell_type": "code",
   "execution_count": null,
   "id": "d4cca9c8",
   "metadata": {},
   "outputs": [],
   "source": []
  },
  {
   "cell_type": "markdown",
   "id": "3c98dea8",
   "metadata": {},
   "source": [
    "Write a program to calculate the electricity bill (accept number of unit from user) according to the following criteria :  \n",
    "             Unit                                    Price    \n",
    "First 100 units                                       no charge  \n",
    "Next 100 units                                        Rs 5 per unit  \n",
    "After 200 units                                       Rs 10 per unit   "
   ]
  },
  {
   "cell_type": "code",
   "execution_count": 28,
   "id": "e3440dde",
   "metadata": {},
   "outputs": [
    {
     "name": "stdout",
     "output_type": "stream",
     "text": [
      "Enter Units210\n",
      "Total bill  600\n"
     ]
    }
   ],
   "source": [
    "unit = int(input(\"Enter Units \"))\n",
    "amount=0\n",
    "if unit > 100:\n",
    "    amount =0\n",
    "    unit -= 100\n",
    "else:\n",
    "    amount =0\n",
    "    unit=0    \n",
    "if(unit > 100):\n",
    "    amount += 100*5\n",
    "    unit-=100\n",
    "else:\n",
    "    amount += unit*5\n",
    "    unit=0   \n",
    "if(unit >0):\n",
    "    amount += unit*10    \n",
    "print(\"Total bill \",amount)     "
   ]
  },
  {
   "cell_type": "markdown",
   "id": "392c8aa9",
   "metadata": {},
   "source": [
    "Write a program to check whether the last digit of a number( entered by user ) is divisible by 3 or not"
   ]
  },
  {
   "cell_type": "code",
   "execution_count": 32,
   "id": "6ea6dd5a",
   "metadata": {},
   "outputs": [
    {
     "name": "stdout",
     "output_type": "stream",
     "text": [
      "Enter Number 122\n",
      "Not divisible by 3\n"
     ]
    }
   ],
   "source": [
    "n = int(input(\"Enter Number \"))\n",
    "a = n%10\n",
    "if(a%3==0):\n",
    "    print(\"divisible by 3\")\n",
    "else:\n",
    "    print(\"Not divisible by 3\")"
   ]
  },
  {
   "cell_type": "code",
   "execution_count": null,
   "id": "0244dff8",
   "metadata": {},
   "outputs": [],
   "source": []
  }
 ],
 "metadata": {
  "kernelspec": {
   "display_name": "Python 3 (ipykernel)",
   "language": "python",
   "name": "python3"
  },
  "language_info": {
   "codemirror_mode": {
    "name": "ipython",
    "version": 3
   },
   "file_extension": ".py",
   "mimetype": "text/x-python",
   "name": "python",
   "nbconvert_exporter": "python",
   "pygments_lexer": "ipython3",
   "version": "3.11.3"
  }
 },
 "nbformat": 4,
 "nbformat_minor": 5
}
