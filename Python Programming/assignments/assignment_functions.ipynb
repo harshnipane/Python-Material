{
 "cells": [
  {
   "cell_type": "markdown",
   "id": "399f5ed6-9d16-43d8-a03d-0bf0b9e31d3b",
   "metadata": {},
   "source": [
    "1. WA function to take a number as parameter and  print True if given number is even else print False"
   ]
  },
  {
   "cell_type": "code",
   "execution_count": 1,
   "id": "82db0087-4128-4204-b58b-77a7fae0c884",
   "metadata": {},
   "outputs": [
    {
     "name": "stdout",
     "output_type": "stream",
     "text": [
      "True\n"
     ]
    }
   ],
   "source": [
    "def even(e):\n",
    "    if(e % 2==0):\n",
    "        return True\n",
    "    else:\n",
    "        return False\n",
    "print(even(10))        "
   ]
  },
  {
   "cell_type": "markdown",
   "id": "28a9efc9-26c5-4481-af55-5e49760400a1",
   "metadata": {},
   "source": [
    "2. WA function to take list as parameter and print all numbers of given list which are divisible by 11"
   ]
  },
  {
   "cell_type": "code",
   "execution_count": 6,
   "id": "8e1ea0d9-137f-491e-86df-b2f831c161db",
   "metadata": {},
   "outputs": [
    {
     "name": "stdout",
     "output_type": "stream",
     "text": [
      "11\n",
      "66\n",
      "99\n",
      "33\n"
     ]
    }
   ],
   "source": [
    "def elev(el:list):\n",
    "    for i in el:\n",
    "        if(i % 11==0):\n",
    "            print(i)\n",
    "    return        \n",
    "el = [11,2,5,66,3,99,7,33]\n",
    "elev(el)"
   ]
  },
  {
   "cell_type": "markdown",
   "id": "f0492e8d-a9ec-47dc-bc3d-ddb9f4a7b776",
   "metadata": {},
   "source": [
    "3. WA function to take string as parameter\n",
    "Check if string is palindrome or not\n",
    "If palindrome return 1\n",
    "if not palindrome return 0"
   ]
  },
  {
   "cell_type": "code",
   "execution_count": 16,
   "id": "f3a72568-2ca1-4080-a7a3-107f25c8a030",
   "metadata": {},
   "outputs": [
    {
     "data": {
      "text/plain": [
       "True"
      ]
     },
     "execution_count": 16,
     "metadata": {},
     "output_type": "execute_result"
    }
   ],
   "source": [
    "def palin(st):\n",
    "    if(st == st[::-1]):\n",
    "        return True\n",
    "    else:\n",
    "        return False\n",
    "        \n",
    "palin(\"harah\")            \n",
    "            \n",
    "    \n",
    "    "
   ]
  },
  {
   "cell_type": "markdown",
   "id": "1c5e15cd-5073-45c6-9517-b3085c876ccc",
   "metadata": {},
   "source": [
    "4. WA function to check if number is prime or not. Return True if number is prime and false if number not prime."
   ]
  },
  {
   "cell_type": "code",
   "execution_count": 1,
   "id": "bdf0459f-b693-4e51-8055-2b208dd5b950",
   "metadata": {},
   "outputs": [
    {
     "name": "stdout",
     "output_type": "stream",
     "text": [
      "False\n"
     ]
    }
   ],
   "source": [
    "def prime(n):\n",
    "    idx = 2\n",
    "    while(idx < int(n**0.5) + 1):\n",
    "        if(n%idx == 0):\n",
    "            return False\n",
    "        idx += 1\n",
    "    else:\n",
    "        return True\n",
    "print(prime(9))        "
   ]
  },
  {
   "cell_type": "markdown",
   "id": "c02aca9d-9ebf-459e-9b58-16e56fd8a037",
   "metadata": {},
   "source": [
    "Q WA function to take a string as parameter. Print its alternate characters starting from 2nd character"
   ]
  },
  {
   "cell_type": "code",
   "execution_count": 3,
   "id": "0d31b2c0-fe69-4286-88b9-3cc31296e067",
   "metadata": {},
   "outputs": [
    {
     "name": "stdout",
     "output_type": "stream",
     "text": [
      "lpat\n"
     ]
    }
   ],
   "source": [
    "def alt(s):\n",
    "    print(s[1::2])\n",
    "\n",
    "s = \"elephant\"\n",
    "alt(s)    "
   ]
  },
  {
   "cell_type": "markdown",
   "id": "317381db-bf91-4d05-a0ca-65171646beb2",
   "metadata": {},
   "source": [
    "Q WA function to take dictionary as parameter. Print all keys of the dictionary"
   ]
  },
  {
   "cell_type": "code",
   "execution_count": 8,
   "id": "a4f4c49d-4abf-47c7-b7fb-c4894991c8a8",
   "metadata": {},
   "outputs": [
    {
     "name": "stdout",
     "output_type": "stream",
     "text": [
      "dict_keys([1, 2, 3])\n"
     ]
    }
   ],
   "source": [
    "def dict(dic):\n",
    "     print(dic.keys())\n",
    "\n",
    "dic = {1:10,2:20,3:30}\n",
    "dict(dic)\n"
   ]
  },
  {
   "cell_type": "markdown",
   "id": "927529a4-553d-45c0-9bab-6b0048436ecd",
   "metadata": {},
   "source": [
    "Q WA function to take a dictionary as parameter. Print value of key \"name\" if key \"rollno\" is having value 100"
   ]
  },
  {
   "cell_type": "code",
   "execution_count": 14,
   "id": "8d95af04-819f-45ac-b6c4-f2ea3a29e828",
   "metadata": {},
   "outputs": [
    {
     "name": "stdout",
     "output_type": "stream",
     "text": [
      "harsh\n"
     ]
    }
   ],
   "source": [
    "def std(d):\n",
    "    if(d['rollno'] == 100):\n",
    "        print(d['name'])\n",
    "    else:\n",
    "        print(\"not found\")\n",
    "d = {'name': 'harsh','rollno': 100}\n",
    "std(d)"
   ]
  },
  {
   "cell_type": "markdown",
   "id": "1922ebc0-cdaf-46cf-90dd-ce29cd95edcd",
   "metadata": {},
   "source": [
    "Q WA function to take list of strings as parameter and print all strings which have character 's' 2 times"
   ]
  },
  {
   "cell_type": "code",
   "execution_count": 17,
   "id": "4c7da4bc-6b71-4b15-8b99-97cf09abcd54",
   "metadata": {},
   "outputs": [
    {
     "name": "stdout",
     "output_type": "stream",
     "text": [
      "kassd\n",
      "ershfs\n"
     ]
    }
   ],
   "source": [
    "def s2(ls):\n",
    "    for i in ls:\n",
    "        if(i.count('s') == 2):\n",
    "            print(i)\n",
    "ls = [\"kassd\",'hufsca','ershfs']\n",
    "s2(ls)"
   ]
  },
  {
   "cell_type": "markdown",
   "id": "4fc94b0e-0743-4fb4-b0c5-85932ddd3585",
   "metadata": {},
   "source": [
    "Q WA function to take list of dictionaries. Print all dictionaries which contain key \"id\"."
   ]
  },
  {
   "cell_type": "code",
   "execution_count": 19,
   "id": "2d1b7772-a0ac-4b85-8fde-eb3fa6b07ca5",
   "metadata": {},
   "outputs": [
    {
     "name": "stdout",
     "output_type": "stream",
     "text": [
      "{'name': 'harsh', 'id': 100}\n",
      "{'id': 101}\n"
     ]
    }
   ],
   "source": [
    "def idd(ld):\n",
    "    for i in ld:\n",
    "        if('id' in i.keys()):\n",
    "            print(i)\n",
    "ld = [{'name': 'harsh','id': 100},{'id': 101},{'name':'adi'}]\n",
    "idd(ld)\n"
   ]
  },
  {
   "cell_type": "code",
   "execution_count": null,
   "id": "9534dfc0-2e5a-449e-8656-ee16aa3cc852",
   "metadata": {},
   "outputs": [],
   "source": []
  },
  {
   "cell_type": "markdown",
   "id": "f062d6a2-9da3-470a-a14c-2d5f495282eb",
   "metadata": {},
   "source": [
    "## function Practice"
   ]
  },
  {
   "cell_type": "markdown",
   "id": "73b8feb5-db5a-46f2-876d-97d95c83eda5",
   "metadata": {},
   "source": [
    "1. Write a Python function to find the maximum of three numbers."
   ]
  },
  {
   "cell_type": "code",
   "execution_count": 23,
   "id": "51baba01-b453-4117-aa74-cc08c7e0313f",
   "metadata": {},
   "outputs": [
    {
     "name": "stdout",
     "output_type": "stream",
     "text": [
      "20  is greater\n"
     ]
    }
   ],
   "source": [
    "def max3(a,b,c):\n",
    "    if(a > b):\n",
    "        if(a > c):\n",
    "            print(a,' is greater')\n",
    "        else:\n",
    "            print(c,' is grater')\n",
    "    else:\n",
    "        if(b>c):\n",
    "            print(b, ' is greater')\n",
    "        else:\n",
    "            print(c, ' is greater')\n",
    "    return\n",
    "\n",
    "a=10\n",
    "b=20\n",
    "c=15\n",
    "max3(a,b,c)\n",
    "    "
   ]
  },
  {
   "cell_type": "markdown",
   "id": "45a7017c-d9d2-41ac-a73b-23d2889bdc95",
   "metadata": {},
   "source": [
    "2. Write a Python function to sum all the numbers in a list. \n",
    "Sample List : (8, 2, 3, 0, 7)\n",
    "Expected Output : 20"
   ]
  },
  {
   "cell_type": "code",
   "execution_count": 26,
   "id": "1ad71324-9b41-4887-9a53-aac31428ad59",
   "metadata": {},
   "outputs": [
    {
     "name": "stdout",
     "output_type": "stream",
     "text": [
      "sum: 20\n"
     ]
    }
   ],
   "source": [
    "def summ(ls):\n",
    "    x=0\n",
    "    for i in ls:\n",
    "        x += i\n",
    "    print(\"sum:\", x)\n",
    "ls = [8, 2, 3, 0, 7]\n",
    "summ(ls)"
   ]
  },
  {
   "cell_type": "markdown",
   "id": "e015bb55-d145-43de-9891-17dec44559f6",
   "metadata": {},
   "source": [
    "3. Write a Python function to multiply all the numbers in a list. \n",
    "Sample List : (8, 2, 3, -1, 7)\n",
    "Expected Output : -336"
   ]
  },
  {
   "cell_type": "code",
   "execution_count": 28,
   "id": "122e8ef2-5747-4068-9cb7-5111b4c3e976",
   "metadata": {},
   "outputs": [
    {
     "name": "stdout",
     "output_type": "stream",
     "text": [
      "multiplication = -336\n"
     ]
    }
   ],
   "source": [
    "def mul(m):\n",
    "    mul=1\n",
    "    for i in m:\n",
    "        mul *= i\n",
    "    print(\"multiplication =\",mul)\n",
    "\n",
    "m = [8, 2, 3, -1, 7]\n",
    "mul(m)"
   ]
  },
  {
   "cell_type": "markdown",
   "id": "f9fe2725-dea1-4eca-84ad-bae3f7d13f92",
   "metadata": {},
   "source": [
    "4. Write a Python program to reverse a string. \n",
    "Sample String : \"1234abcd\"\n",
    "Expected Output : \"dcba4321\""
   ]
  },
  {
   "cell_type": "code",
   "execution_count": 30,
   "id": "226f96c9-cbbc-4d0b-ada4-0747514f45b0",
   "metadata": {},
   "outputs": [
    {
     "name": "stdout",
     "output_type": "stream",
     "text": [
      "dcba4321\n"
     ]
    }
   ],
   "source": [
    "def rev(g):\n",
    "    print(g[::-1])\n",
    "\n",
    "g = \"1234abcd\"\n",
    "rev(g)"
   ]
  },
  {
   "cell_type": "markdown",
   "id": "7dbfb5b2-4a0d-41a7-8f9a-6396958baa33",
   "metadata": {},
   "source": [
    "5. Write a Python function to calculate the factorial of a number (a non-negative integer). The function accepts the number as an argument."
   ]
  },
  {
   "cell_type": "code",
   "execution_count": 32,
   "id": "44b6f179-8bb7-4545-a6cb-03e22a89d723",
   "metadata": {},
   "outputs": [
    {
     "name": "stdout",
     "output_type": "stream",
     "text": [
      "120\n"
     ]
    }
   ],
   "source": [
    "def fact(n:int):\n",
    "    p=1\n",
    "    for i in range(2,n+1):\n",
    "        p = p * i\n",
    "    return p\n",
    "print(fact(5))"
   ]
  },
  {
   "cell_type": "code",
   "execution_count": null,
   "id": "a2ea7ac8-8d8a-4d73-a9de-8a1d436a16d8",
   "metadata": {},
   "outputs": [],
   "source": []
  },
  {
   "cell_type": "markdown",
   "id": "1eba78c1-49ec-46e2-949d-d9b749dc2c02",
   "metadata": {},
   "source": [
    "6. Write a Python function to check whether a number falls within a given range. "
   ]
  },
  {
   "cell_type": "markdown",
   "id": "debbfd5c-1b30-45a9-9f14-4b0cf02ba85d",
   "metadata": {},
   "source": []
  },
  {
   "cell_type": "markdown",
   "id": "916d0d2c-c4bb-4658-a509-c9f79afbcc93",
   "metadata": {},
   "source": [
    "7. Write a Python function that accepts a string and counts the number of upper and lower case letters. \n",
    "Sample String : 'The quick Brow Fox'\n",
    "Expected Output :\n",
    "No. of Upper case characters : 3\n",
    "No. of Lower case Characters : 12"
   ]
  },
  {
   "cell_type": "code",
   "execution_count": 38,
   "id": "db33cde2-9346-4e9f-a509-eae938a8f2ea",
   "metadata": {},
   "outputs": [
    {
     "name": "stdout",
     "output_type": "stream",
     "text": [
      "Lower 12 upper: 3\n"
     ]
    }
   ],
   "source": [
    "def ul(y):\n",
    "    u=0\n",
    "    l=0\n",
    "    for i in y:\n",
    "        if(i.isupper()):\n",
    "            u+=1\n",
    "        if(i.islower()):\n",
    "            l+=1\n",
    "    print(\"Lower\", l,\"upper:\",u)        \n",
    "\n",
    "t = 'The quick Brow Fox'\n",
    "ul(t)"
   ]
  },
  {
   "cell_type": "markdown",
   "id": "5209df4a-08c3-4dae-89b7-89f31fe93a7e",
   "metadata": {},
   "source": [
    "8. Write a Python function that takes a list and returns a new list with distinct elements from the first list. \n",
    "Sample List : [1,2,3,3,3,3,4,5]\n",
    "Unique List : [1, 2, 3, 4, 5]"
   ]
  },
  {
   "cell_type": "code",
   "execution_count": 41,
   "id": "948afbe2-8637-481e-acda-cb6d48f282b1",
   "metadata": {},
   "outputs": [
    {
     "name": "stdout",
     "output_type": "stream",
     "text": [
      "[1, 2, 3, 4, 5]\n"
     ]
    }
   ],
   "source": [
    "def unq(sl):\n",
    "    ul =[]\n",
    "    for i in sl:\n",
    "        if(i not in ul):\n",
    "            ul.append(i)\n",
    "    print(ul)        \n",
    "sl= [1,2,3,3,3,3,4,5]\n",
    "unq(sl)\n"
   ]
  },
  {
   "cell_type": "markdown",
   "id": "b8d7cc1d-8856-4744-b9c4-c5fe5c4ec8ad",
   "metadata": {},
   "source": [
    "9. Write a Python function that takes a number as a parameter and checks whether the number is prime or not. \n",
    "Note : A prime number (or a prime) is a natural number greater than 1 and that has no positive divisors other than 1 and itself."
   ]
  },
  {
   "cell_type": "code",
   "execution_count": 42,
   "id": "67d07c79-b681-422e-a5ae-e339901379b4",
   "metadata": {},
   "outputs": [
    {
     "name": "stdout",
     "output_type": "stream",
     "text": [
      "False\n"
     ]
    }
   ],
   "source": [
    "def prime(n):\n",
    "    idx = 2\n",
    "    while(idx < int(n**0.5) + 1):\n",
    "        if(n%idx == 0):\n",
    "            return False\n",
    "        idx += 1\n",
    "    else:\n",
    "        return True\n",
    "print(prime(9)) "
   ]
  },
  {
   "cell_type": "markdown",
   "id": "9cf83a0f-6987-49f1-b9be-3d85e7740c7a",
   "metadata": {},
   "source": [
    "10. Write a Python program to print the even numbers from a given list. \n",
    "Sample List : [1, 2, 3, 4, 5, 6, 7, 8, 9]\n",
    "Expected Result : [2, 4, 6, 8]"
   ]
  },
  {
   "cell_type": "code",
   "execution_count": 45,
   "id": "e107bc93-697d-4d72-9cbc-076a5e4e17d0",
   "metadata": {},
   "outputs": [
    {
     "name": "stdout",
     "output_type": "stream",
     "text": [
      "[2, 4, 6, 8]\n"
     ]
    }
   ],
   "source": [
    "def even(L):\n",
    "    e=[elem for elem in L if elem % 2== 0]\n",
    "    print(e)\n",
    "L = [1, 2, 3, 4, 5, 6, 7, 8, 9]\n",
    "even(L)"
   ]
  },
  {
   "cell_type": "markdown",
   "id": "596d1eac-3b7f-418e-a8f8-abe32b191635",
   "metadata": {},
   "source": [
    "11. Write a Python function to check whether a number is \"Perfect\" or not. \n",
    "According to Wikipedia : In number theory, a perfect number is a positive integer that is equal to the sum of its proper positive divisors, that is, the sum of its positive divisors excluding the number itself (also known as its aliquot sum). Equivalently, a perfect number is a number that is half the sum of all of its positive divisors (including itself).\n",
    "Example : The first perfect number is 6, because 1, 2, and 3 are its proper positive divisors, and 1 + 2 + 3 = 6. Equivalently, the number 6 is equal to half the sum of all its positive divisors: ( 1 + 2 + 3 + 6 ) / 2 = 6. The next perfect number is 28 = 1 + 2 + 4 + 7 + 14. This is followed by the perfect numbers 496 and 8128."
   ]
  },
  {
   "cell_type": "code",
   "execution_count": 56,
   "id": "e8956ecd-8a82-4400-9757-75b9597ddc36",
   "metadata": {},
   "outputs": [
    {
     "name": "stdout",
     "output_type": "stream",
     "text": [
      "1\n",
      "2\n",
      "4\n",
      "7\n",
      "14\n",
      "Perfect!!!\n"
     ]
    }
   ],
   "source": [
    "def perfect(n):\n",
    "    sum =0\n",
    "    for i in range(1,n):\n",
    "        if(n % i == 0):\n",
    "            print(i)\n",
    "            sum += i\n",
    "    if(sum == n and (sum+n)/2 == n):\n",
    "        print(\"Perfect!!!\")\n",
    "    else:\n",
    "        print(\"not perfect\")\n",
    "\n",
    "n = 28\n",
    "perfect(n)"
   ]
  },
  {
   "cell_type": "markdown",
   "id": "a4b5a6c2-a9b4-4eb0-b448-af1d5c0f9557",
   "metadata": {},
   "source": [
    "12. Write a Python function that checks whether a passed string is a palindrome or not. \n",
    "Note: A palindrome is a word, phrase, or sequence that reads the same backward as forward, e.g., madam or nurses run."
   ]
  },
  {
   "cell_type": "code",
   "execution_count": 60,
   "id": "cc234b10-3894-4957-82d4-589a93d18861",
   "metadata": {},
   "outputs": [
    {
     "data": {
      "text/plain": [
       "True"
      ]
     },
     "execution_count": 60,
     "metadata": {},
     "output_type": "execute_result"
    }
   ],
   "source": [
    "def palin(st):\n",
    "    if(st == st[::-1]):\n",
    "        return True\n",
    "    else:\n",
    "        return False\n",
    "        \n",
    "palin(\"harah\")            "
   ]
  },
  {
   "cell_type": "markdown",
   "id": "bc75477b-fd4d-4dac-b9ac-a4a011e8ed43",
   "metadata": {},
   "source": [
    "13. Write a Python function that prints out the first n rows of Pascal's triangle. \n",
    "Note : Pascal's triangle is an arithmetic and geometric figure first imagined by Blaise Pascal.\n",
    "\n",
    "Sample Pascal's triangle :\n",
    "Pascal's triangle\n",
    "\n",
    "Each number is the two numbers above it added together "
   ]
  },
  {
   "cell_type": "code",
   "execution_count": 5,
   "id": "892ca700-54da-4b19-94ca-fb86ad7c87bd",
   "metadata": {},
   "outputs": [
    {
     "name": "stdout",
     "output_type": "stream",
     "text": [
      "     1 \n",
      "    1 1 \n",
      "   1 2 1 \n",
      "  1 3 3 1 \n",
      " 1 4 6 4 1 \n"
     ]
    }
   ],
   "source": [
    "from math import factorial\n",
    "n = 5\n",
    "for i in range(n):\n",
    "    for j in range(n-i):\n",
    "        print(end=\" \")\n",
    "        \n",
    "    for j in range(i+1):\n",
    "        # nCr = n!/((n-r)!*r!)\n",
    "        print(factorial(i)//(factorial(j)*factorial(i-j)),end=\" \")\n",
    "\n",
    "    print()"
   ]
  },
  {
   "cell_type": "markdown",
   "id": "a03bb0a0-2b99-440e-a7f0-0ccbee3d56ac",
   "metadata": {},
   "source": [
    "14. Write a Python function to check whether a string is a pangram or not. \n",
    "Note : Pangrams are words or sentences containing every letter of the alphabet at least once.\n",
    "For example : \"The quick brown fox jumps over the lazy dog\""
   ]
  },
  {
   "cell_type": "code",
   "execution_count": 19,
   "id": "8a754b98-344a-413b-92e9-d89d0249ed22",
   "metadata": {},
   "outputs": [
    {
     "name": "stdout",
     "output_type": "stream",
     "text": [
      "['a', 'b', 'c', 'd', 'e', 'f', '', 'h', 'i', 'j', 'k', 'l', 'm', 'n', 'o', 'p', 'q', 'r', 's', 't', 'u', 'v', 'w', 'x', 'y', 'z']\n",
      "no pangrams\n"
     ]
    }
   ],
   "source": [
    "st = \"The quick brown fox jumps over the lazy do\"\n",
    "st = st.lower()\n",
    "ls = ['']*26\n",
    "count =0\n",
    "for i in st:\n",
    "    if(i.isalpha()):\n",
    "        idx = ord(i) - ord('a')\n",
    "        ls[idx] = i\n",
    "print(ls)\n",
    "for i in ls:\n",
    "    if(i == \"\"):\n",
    "        count += 1\n",
    "if(count >0):\n",
    "    print(\"no pangrams\")\n",
    "else:\n",
    "    print(\"Pangrams\")"
   ]
  },
  {
   "cell_type": "markdown",
   "id": "a93ef99a-d225-4c05-8b33-b488ae97c5aa",
   "metadata": {},
   "source": [
    "15. Write a Python program that accepts a hyphen-separated sequence of words as input and prints the words in a hyphen-separated sequence after sorting them alphabetically. \n",
    "Sample Items : green-red-yellow-black-white\n",
    "Expected Result : black-green-red-white-yellow"
   ]
  },
  {
   "cell_type": "code",
   "execution_count": 6,
   "id": "7e925b5a-f9f8-4ebb-b229-dde7658ee490",
   "metadata": {},
   "outputs": [
    {
     "name": "stdout",
     "output_type": "stream",
     "text": [
      "black-green-red-white-yellow\n"
     ]
    }
   ],
   "source": [
    "def hypsep(em):\n",
    "    l =em.split(\"-\")\n",
    "    l.sort()\n",
    "    print(\"-\".join(l))\n",
    "    \n",
    "em = \"green-red-yellow-black-white\"\n",
    "hypsep(em)\n",
    "    "
   ]
  },
  {
   "cell_type": "markdown",
   "id": "0f64ec21-050e-406e-a4e6-1f6a9cc51c8b",
   "metadata": {},
   "source": [
    "16. Write a Python function to create and print a list where the values are the squares of numbers between 1 and 30 (both included)."
   ]
  },
  {
   "cell_type": "code",
   "execution_count": 8,
   "id": "284a7378-9051-4277-9ea3-1cbc10c4d1f0",
   "metadata": {},
   "outputs": [
    {
     "name": "stdout",
     "output_type": "stream",
     "text": [
      "[1, 4, 9, 16, 25, 36, 49, 64, 81, 100, 121, 144, 169, 196, 225, 256, 289, 324, 361, 400, 441, 484, 529, 576, 625, 676, 729, 784, 841, 900]\n"
     ]
    }
   ],
   "source": [
    "def cl():\n",
    "    lt =[]\n",
    "    for i in range(1,31):\n",
    "        lt.append(i*i)\n",
    "    print(lt)\n",
    "\n",
    "cl()"
   ]
  },
  {
   "cell_type": "code",
   "execution_count": 9,
   "id": "c669e9e8",
   "metadata": {},
   "outputs": [
    {
     "data": {
      "text/plain": [
       "120"
      ]
     },
     "execution_count": 9,
     "metadata": {},
     "output_type": "execute_result"
    }
   ],
   "source": [
    "def facto(n):\n",
    "    if(n ==1):\n",
    "        return n\n",
    "    else:\n",
    "        return n*facto(n-1)\n",
    " \n",
    "facto(5)\n",
    "\n"
   ]
  },
  {
   "cell_type": "code",
   "execution_count": 5,
   "id": "9d2123a5",
   "metadata": {},
   "outputs": [
    {
     "data": {
      "text/plain": [
       "[]"
      ]
     },
     "execution_count": 5,
     "metadata": {},
     "output_type": "execute_result"
    }
   ],
   "source": [
    "       "
   ]
  },
  {
   "cell_type": "markdown",
   "id": "dffff1e2-d802-4f21-a78b-95d9abb6a0b3",
   "metadata": {},
   "source": [
    "## Lambda"
   ]
  },
  {
   "cell_type": "markdown",
   "id": "e535dd87-9bcb-4b19-a808-c97178591745",
   "metadata": {},
   "source": [
    "Q Sort all the numbers in a list in descending order using lambda function\n",
    "sorted(l1, key=(lambda x:-x))"
   ]
  },
  {
   "cell_type": "code",
   "execution_count": 2,
   "id": "cfaa7a73-c0ba-466c-b53c-132e695a0281",
   "metadata": {},
   "outputs": [
    {
     "name": "stdout",
     "output_type": "stream",
     "text": [
      "[9, 8, 7, 5, 3, 2, 1]\n"
     ]
    }
   ],
   "source": [
    "l1 = [1,7,3,8,2,5,9]\n",
    "print(sorted(l1, key=(lambda x:-x)))"
   ]
  },
  {
   "cell_type": "markdown",
   "id": "b5557132-3c89-463d-93ee-55cb48d789e0",
   "metadata": {},
   "source": [
    "Q Sort all the characters of given string using lambda function"
   ]
  },
  {
   "cell_type": "code",
   "execution_count": 4,
   "id": "a76092e1-a789-40fb-b24b-ce06515bc80c",
   "metadata": {},
   "outputs": [
    {
     "name": "stdout",
     "output_type": "stream",
     "text": [
      "['a', 'h', 'h', 'r', 's'] <function <lambda> at 0x000001A2ED7A6520>\n"
     ]
    }
   ],
   "source": [
    "st = \"harsh\"\n",
    "print(sorted(st),lambda x :x)"
   ]
  },
  {
   "cell_type": "markdown",
   "id": "c9b8b70f-3082-4ca1-827b-d12e2ec84ab8",
   "metadata": {},
   "source": [
    "Q Given list of strings, sort all the strings by last character of that string. . Use lambda function and normal function both."
   ]
  },
  {
   "cell_type": "code",
   "execution_count": 6,
   "id": "d8228fee-2b99-436d-8ef7-2ca42399a49e",
   "metadata": {},
   "outputs": [
    {
     "name": "stdout",
     "output_type": "stream",
     "text": [
      "['sad', 'harsh', 'hei', 'happy']\n"
     ]
    }
   ],
   "source": [
    "st = [\"hei\",\"harsh\",\"happy\",\"sad\"]\n",
    "print(sorted(st,key = lambda x : x[-1]))"
   ]
  },
  {
   "cell_type": "markdown",
   "id": "ffdaa2bf-9546-4b03-926a-6943d1a90e9c",
   "metadata": {},
   "source": [
    "Q Given list of employees. This list may contain repetitions. Find all unique employee names and print them as per order of second character in that name. Use lambda function and normal function both."
   ]
  },
  {
   "cell_type": "code",
   "execution_count": 11,
   "id": "fe92f3db-0484-44d7-90e5-3ac532d3f8cd",
   "metadata": {},
   "outputs": [
    {
     "name": "stdout",
     "output_type": "stream",
     "text": [
      "['ram', 'rohit', 'aryan', 'sumit']\n"
     ]
    }
   ],
   "source": [
    "emp = [\"ram\",\"sumit\",\"aryan\",\"rohit\",\"aryan\"]\n",
    "emp2 = list(set(emp))\n",
    "print(sorted(emp2,key = lambda x:x[1]))"
   ]
  },
  {
   "cell_type": "markdown",
   "id": "8a0b1dc5-cca0-4214-8911-1e5630cd0f25",
   "metadata": {},
   "source": [
    "Q. Take Employee id and Employee name of 5 employees from user. Store it in dictionary. Print all employees in increasing order of employee Id . Also print all employees in alphabetical order by name."
   ]
  },
  {
   "cell_type": "code",
   "execution_count": 29,
   "id": "b51f34f9-799c-4ec2-9fcc-11943f54a1c4",
   "metadata": {},
   "outputs": [
    {
     "name": "stdout",
     "output_type": "stream",
     "text": [
      "{1: 'harsh', 2: 'yash', 4: 'deepa', 3: 'sumit'}\n",
      "{1: 'harsh', 2: 'yash', 3: 'sumit', 4: 'deepa'}\n",
      "{4: 'deepa', 1: 'harsh', 3: 'sumit', 2: 'yash'}\n"
     ]
    }
   ],
   "source": [
    "\n",
    "emp ={1:\"harsh\",2:\"yash\",4:\"deepa\", 3:\"sumit\"}\n",
    "'''for i in range(5):\n",
    "    n = input(\"enter name \")\n",
    "    r = int(input(\"enter roll no: \"))\n",
    "    emp[r] = n'''\n",
    "print(emp)\n",
    "a= dict(sorted(emp.items(),key = lambda k: k ))\n",
    "print(a)\n",
    "#print(sorted(emp,key = lambda v: ))\n",
    "b = dict(sorted(emp.items(),key = lambda x: x[1]))\n",
    "print(b)"
   ]
  },
  {
   "cell_type": "markdown",
   "id": "b40a38f5-aec7-44a6-a5dc-504d4da86d79",
   "metadata": {},
   "source": [
    "## Map"
   ]
  },
  {
   "cell_type": "markdown",
   "id": "3f7107c4-7fff-4d38-9e6c-b1fa46aca8f1",
   "metadata": {},
   "source": [
    "Q. Take comma separated numbers as input from the user. Split it in list of strings. Now convert every string in this list to float using map function"
   ]
  },
  {
   "cell_type": "code",
   "execution_count": 34,
   "id": "c37db7f0-e970-4c77-b394-8b212a7b6002",
   "metadata": {},
   "outputs": [
    {
     "name": "stdin",
     "output_type": "stream",
     "text": [
      "enter numbers 1,2,3,4,5,6,7\n"
     ]
    },
    {
     "data": {
      "text/plain": [
       "[1.0, 2.0, 3.0, 4.0, 5.0, 6.0, 7.0]"
      ]
     },
     "execution_count": 34,
     "metadata": {},
     "output_type": "execute_result"
    }
   ],
   "source": [
    "num = input(\"enter numbers\")\n",
    "sp = num.split(\",\")\n",
    "res = map(lambda x: float(x), sp)\n",
    "list(res)"
   ]
  },
  {
   "cell_type": "markdown",
   "id": "ab51cf19-c138-4b7d-8efe-88fc3ad1e274",
   "metadata": {},
   "source": [
    "Q Given list of floating point numbers. Convert every number into string and then join all the numbers such that they are separated by pipe(|)"
   ]
  },
  {
   "cell_type": "code",
   "execution_count": 44,
   "id": "54b904e6-bec8-4cd7-b378-d3a8721e71a4",
   "metadata": {},
   "outputs": [
    {
     "data": {
      "text/plain": [
       "'1.0|2.0|3.0|4.0|5.0|6.0|7.0'"
      ]
     },
     "execution_count": 44,
     "metadata": {},
     "output_type": "execute_result"
    }
   ],
   "source": [
    "fl = [1.0, 2.0, 3.0, 4.0, 5.0, 6.0, 7.0]\n",
    "res = map(str,fl)\n",
    "\"|\".join(res)\n",
    "    \n"
   ]
  },
  {
   "cell_type": "markdown",
   "id": "de1bf425-9ce6-4df9-b049-256961fb01a3",
   "metadata": {},
   "source": [
    "Q Given list of integers. Use map function to calculate square of all and store in list. Then print sum of all square values."
   ]
  },
  {
   "cell_type": "code",
   "execution_count": 47,
   "id": "4a246122-5271-46de-a20a-e4018be381bf",
   "metadata": {},
   "outputs": [
    {
     "name": "stdout",
     "output_type": "stream",
     "text": [
      "[1, 4, 9, 16, 25, 36, 49]\n",
      "140\n"
     ]
    }
   ],
   "source": [
    "ls = [1,2,3,4,5,6,7]\n",
    "sq = []\n",
    "res = map(lambda x : x*x, ls)\n",
    "sm =0\n",
    "for i in res:\n",
    "    sq.append(i)\n",
    "    sm += i\n",
    "print(sq)\n",
    "print(sm)\n",
    "    "
   ]
  },
  {
   "cell_type": "markdown",
   "id": "3e2a47da-1781-402c-82d5-8fcf47c89d5b",
   "metadata": {},
   "source": [
    "## function practice lambda\""
   ]
  },
  {
   "cell_type": "markdown",
   "id": "36a2e3b3-1203-4c89-a991-906d3e51379f",
   "metadata": {},
   "source": [
    "3. Write a Python program to sort a list of tuples using Lambda.\n",
    "Original list of tuples:\n",
    "[('English', 88), ('Science', 90), ('Maths', 97), ('Social sciences', 82)]\n",
    "Sorting the List of Tuples:\n",
    "[('Social sciences', 82), ('English', 88), ('Science', 90), ('Maths', 97)]"
   ]
  },
  {
   "cell_type": "code",
   "execution_count": 48,
   "id": "389afcea-4a0a-47da-a294-0ff6ca28168a",
   "metadata": {},
   "outputs": [
    {
     "name": "stdout",
     "output_type": "stream",
     "text": [
      "[('Social sciences', 82), ('English', 88), ('Science', 90), ('Maths', 97)]\n"
     ]
    }
   ],
   "source": [
    "marks = [('English', 88), ('Science', 90), ('Maths', 97), ('Social sciences', 82)]\n",
    "print(sorted(marks, key = lambda x : x[1]))"
   ]
  },
  {
   "cell_type": "markdown",
   "id": "d707ad76-3d24-4dcc-894c-81eb724feff5",
   "metadata": {},
   "source": [
    "5. Write a Python program to filter a list of integers using Lambda.\n",
    "Original list of integers:\n",
    "[1, 2, 3, 4, 5, 6, 7, 8, 9, 10]\n",
    "Even numbers from the said list:\n",
    "[2, 4, 6, 8, 10]\n",
    "Odd numbers from the said list:\n",
    "[1, 3, 5, 7, 9]"
   ]
  },
  {
   "cell_type": "code",
   "execution_count": 50,
   "id": "aff4eaec-0413-4f95-b492-4a5e7acc5fdc",
   "metadata": {},
   "outputs": [
    {
     "name": "stdout",
     "output_type": "stream",
     "text": [
      "[2, 4, 6, 8, 10] [1, 3, 5, 7, 9]\n"
     ]
    }
   ],
   "source": [
    "it = [1, 2, 3, 4, 5, 6, 7, 8, 9, 10]\n",
    "le = list(filter(lambda x : x %2 == 0,it))\n",
    "lo = list(filter(lambda x : x %2 != 0,it))\n",
    "print(le,lo,sep =\" \")"
   ]
  },
  {
   "cell_type": "markdown",
   "id": "1b37d24d-2796-486d-8e58-36b30d76e849",
   "metadata": {},
   "source": [
    "6. Write a Python program to square and cube every number in a given list of integers using Lambda.\n",
    "Original list of integers:\n",
    "[1, 2, 3, 4, 5, 6, 7, 8, 9, 10]\n",
    "Square every number of the said list:\n",
    "[1, 4, 9, 16, 25, 36, 49, 64, 81, 100]\n",
    "Cube every number of the said list:\n",
    "[1, 8, 27, 64, 125, 216, 343, 512, 729, 1000]"
   ]
  },
  {
   "cell_type": "code",
   "execution_count": 56,
   "id": "77c68241-e713-47f9-a12a-ba474a288ada",
   "metadata": {},
   "outputs": [
    {
     "name": "stdout",
     "output_type": "stream",
     "text": [
      "1\n",
      "4\n",
      "9\n",
      "16\n",
      "25\n",
      "36\n",
      "49\n",
      "64\n",
      "81\n",
      "100\n"
     ]
    }
   ],
   "source": [
    "num = [1, 2, 3, 4, 5, 6, 7, 8, 9, 10]\n",
    "#sqr = lambda x : print(x**2)\n",
    "sq= lambda x: print(x**2)\n",
    "for i in num:\n",
    "    sq(i)"
   ]
  },
  {
   "cell_type": "markdown",
   "id": "51be8e60-16ae-4e4e-abe3-da8c39ae6ba9",
   "metadata": {},
   "source": [
    "7. Write a Python program to find if a given string starts with a given character using Lambda.\n",
    "Sample Output:\n",
    "True\n",
    "False"
   ]
  },
  {
   "cell_type": "code",
   "execution_count": 59,
   "id": "eb4be76c-f332-444f-839b-f04622828ec7",
   "metadata": {},
   "outputs": [
    {
     "ename": "TypeError",
     "evalue": "'function' object is not an iterator",
     "output_type": "error",
     "traceback": [
      "\u001b[1;31m---------------------------------------------------------------------------\u001b[0m",
      "\u001b[1;31mTypeError\u001b[0m                                 Traceback (most recent call last)",
      "Cell \u001b[1;32mIn[59], line 3\u001b[0m\n\u001b[0;32m      1\u001b[0m st \u001b[38;5;241m=\u001b[39m \u001b[38;5;124m\"\u001b[39m\u001b[38;5;124mharsh\u001b[39m\u001b[38;5;124m\"\u001b[39m\n\u001b[0;32m      2\u001b[0m res \u001b[38;5;241m=\u001b[39m \u001b[38;5;28;01mlambda\u001b[39;00m x: x[\u001b[38;5;241m0\u001b[39m]\n\u001b[1;32m----> 3\u001b[0m \u001b[38;5;28mnext\u001b[39m(res)\n",
      "\u001b[1;31mTypeError\u001b[0m: 'function' object is not an iterator"
     ]
    }
   ],
   "source": [
    "\n",
    "\n"
   ]
  },
  {
   "cell_type": "code",
   "execution_count": null,
   "id": "40e32971-7b3f-4a4f-91fd-b8c9101b554d",
   "metadata": {},
   "outputs": [],
   "source": []
  }
 ],
 "metadata": {
  "kernelspec": {
   "display_name": "Python 3 (ipykernel)",
   "language": "python",
   "name": "python3"
  },
  "language_info": {
   "codemirror_mode": {
    "name": "ipython",
    "version": 3
   },
   "file_extension": ".py",
   "mimetype": "text/x-python",
   "name": "python",
   "nbconvert_exporter": "python",
   "pygments_lexer": "ipython3",
   "version": "3.11.5"
  }
 },
 "nbformat": 4,
 "nbformat_minor": 5
}
