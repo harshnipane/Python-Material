{
 "cells": [
  {
   "cell_type": "markdown",
   "id": "d35d4611-981f-4966-93ab-b3f0a2d0578f",
   "metadata": {},
   "source": [
    "## List Comprehension"
   ]
  },
  {
   "cell_type": "code",
   "execution_count": 2,
   "id": "126f6470-6540-4e88-bccf-f8a72b0601b8",
   "metadata": {},
   "outputs": [
    {
     "name": "stdout",
     "output_type": "stream",
     "text": [
      "[11, 66, 99]\n"
     ]
    }
   ],
   "source": [
    "l1 = [11,25,35,66,99,100]\n",
    "l2 = [el for el in l1 if el % 11 == 0]\n",
    "print(l2)"
   ]
  },
  {
   "cell_type": "code",
   "execution_count": 3,
   "id": "bebde197-4b22-433f-8e0f-1e5fbc4aeacd",
   "metadata": {},
   "outputs": [
    {
     "name": "stdout",
     "output_type": "stream",
     "text": [
      "[11, None, None, 66, 99, None]\n"
     ]
    }
   ],
   "source": [
    "l3 = [e if e %11 ==0 else None for e in l1]\n",
    "print(l3)"
   ]
  },
  {
   "cell_type": "code",
   "execution_count": 4,
   "id": "81ec8a58-af40-4ed2-8d64-7a07eedf703c",
   "metadata": {},
   "outputs": [
    {
     "name": "stdout",
     "output_type": "stream",
     "text": [
      "11\n"
     ]
    }
   ],
   "source": [
    "print(l1[0])"
   ]
  },
  {
   "cell_type": "code",
   "execution_count": 6,
   "id": "903eedfc-d915-4aaa-a0a8-48eaf26ca1ed",
   "metadata": {},
   "outputs": [
    {
     "name": "stdout",
     "output_type": "stream",
     "text": [
      "[11, 25, 6000, 35, 66, 99, 100, 'hey']\n"
     ]
    }
   ],
   "source": [
    "l1.insert(2,6000)\n",
    "print(l1)"
   ]
  },
  {
   "cell_type": "code",
   "execution_count": 7,
   "id": "efd983c2-49fe-4eed-ade5-6ab7c3e88ebd",
   "metadata": {},
   "outputs": [
    {
     "name": "stdout",
     "output_type": "stream",
     "text": [
      "[11, 99, 6000, 35, 66, 99, 100, 'hey']\n"
     ]
    }
   ],
   "source": [
    "l1[1]= 99\n",
    "print(l1)"
   ]
  },
  {
   "cell_type": "code",
   "execution_count": 5,
   "id": "ce86c633-de07-4994-a691-de19ef7841cf",
   "metadata": {},
   "outputs": [
    {
     "name": "stdout",
     "output_type": "stream",
     "text": [
      "[11, 25, 35, 66, 99, 100, 'hey']\n"
     ]
    }
   ],
   "source": [
    "l1.append('hey')\n",
    "print(l1)"
   ]
  },
  {
   "cell_type": "code",
   "execution_count": 8,
   "id": "f69ed2ff-4bb3-4cf6-863b-b0c194b3b491",
   "metadata": {},
   "outputs": [
    {
     "name": "stdout",
     "output_type": "stream",
     "text": [
      "[11, 99, 6000, 35, 66, 99, 'hey']\n"
     ]
    }
   ],
   "source": [
    "l1.remove(100)\n",
    "print(l1)"
   ]
  },
  {
   "cell_type": "markdown",
   "id": "3e4b90c3-96b2-4575-bcf9-08d5964db977",
   "metadata": {},
   "source": [
    "## list slicing\n"
   ]
  },
  {
   "cell_type": "code",
   "execution_count": 9,
   "id": "e122e064-e82b-47df-bfac-fdcfa66dddfa",
   "metadata": {},
   "outputs": [],
   "source": [
    "l = [10,20,30,40,50,60]"
   ]
  },
  {
   "cell_type": "code",
   "execution_count": 10,
   "id": "37e7faf5-7440-4728-a176-50b9c1aa170c",
   "metadata": {},
   "outputs": [
    {
     "data": {
      "text/plain": [
       "'0  1  2  3  4  5 \\n   10 20 30 40 50 60\\n   -6 -5 -4 -3 -2 -1 '"
      ]
     },
     "execution_count": 10,
     "metadata": {},
     "output_type": "execute_result"
    }
   ],
   "source": [
    "0  1  2  3  4  5 \n",
    "10 20 30 40 50 60\n",
    "-6 -5 -4 -3 -2 -1"
   ]
  },
  {
   "cell_type": "code",
   "execution_count": 11,
   "id": "bf997cad-40d4-42bd-b43b-b3eb5392e715",
   "metadata": {},
   "outputs": [
    {
     "name": "stdout",
     "output_type": "stream",
     "text": [
      "[30, 40]\n"
     ]
    }
   ],
   "source": [
    "print(l[2:4])"
   ]
  },
  {
   "cell_type": "code",
   "execution_count": 12,
   "id": "7c75c963-59bc-4347-aaed-2f100ca5e14c",
   "metadata": {},
   "outputs": [
    {
     "name": "stdout",
     "output_type": "stream",
     "text": [
      "[40]\n"
     ]
    }
   ],
   "source": [
    "print(l[3:5:2])"
   ]
  },
  {
   "cell_type": "code",
   "execution_count": 14,
   "id": "edc563a0-32a5-4f19-a75a-a12d4ea6ffc8",
   "metadata": {},
   "outputs": [
    {
     "name": "stdout",
     "output_type": "stream",
     "text": [
      "[10, 30, 50]\n"
     ]
    }
   ],
   "source": [
    "print(l[0:5:2])"
   ]
  },
  {
   "cell_type": "code",
   "execution_count": 15,
   "id": "1af08593-bf64-42f1-a3d2-73c96e04765a",
   "metadata": {},
   "outputs": [
    {
     "name": "stdout",
     "output_type": "stream",
     "text": [
      "[20, 30, 40, 50]\n"
     ]
    }
   ],
   "source": [
    "print(l[-5:-1])"
   ]
  },
  {
   "cell_type": "code",
   "execution_count": 17,
   "id": "1323b270-bbff-4b17-98cd-1e7c523e330c",
   "metadata": {},
   "outputs": [
    {
     "name": "stdout",
     "output_type": "stream",
     "text": [
      "[30, 40, 50, 60]\n"
     ]
    }
   ],
   "source": [
    "print(l[2:])"
   ]
  },
  {
   "cell_type": "markdown",
   "id": "06ef1fae-e85d-4a04-a49a-4c272ec72599",
   "metadata": {},
   "source": [
    "#### default value of start =0, end - len(l) step +ve"
   ]
  },
  {
   "cell_type": "code",
   "execution_count": 18,
   "id": "8cde15a9-9220-4fe4-a08a-8807034327cd",
   "metadata": {},
   "outputs": [
    {
     "name": "stdout",
     "output_type": "stream",
     "text": [
      "[10, 20, 30, 40]\n"
     ]
    }
   ],
   "source": [
    "print(l[:4])"
   ]
  },
  {
   "cell_type": "code",
   "execution_count": 20,
   "id": "d161bda8-ea15-4082-8364-3e52e64a9373",
   "metadata": {},
   "outputs": [
    {
     "name": "stdout",
     "output_type": "stream",
     "text": [
      "[50, 40]\n"
     ]
    }
   ],
   "source": [
    "print(l[4:2:-1])"
   ]
  },
  {
   "cell_type": "code",
   "execution_count": 21,
   "id": "8f3b573a-c904-4cc3-bbf9-639cf069b6b4",
   "metadata": {},
   "outputs": [
    {
     "name": "stdout",
     "output_type": "stream",
     "text": [
      "[60, 50, 40]\n"
     ]
    }
   ],
   "source": [
    "print(l[-1:-4:-1])"
   ]
  },
  {
   "cell_type": "code",
   "execution_count": 22,
   "id": "3baf1b6e-4c2a-4dd0-93fb-47a16f7b211e",
   "metadata": {},
   "outputs": [
    {
     "name": "stdout",
     "output_type": "stream",
     "text": [
      "[40, 30]\n"
     ]
    }
   ],
   "source": [
    "print(l[-3:-5:-1])"
   ]
  },
  {
   "cell_type": "code",
   "execution_count": 23,
   "id": "d1209fb8-5564-40d7-95c1-d1cb05aae740",
   "metadata": {},
   "outputs": [
    {
     "name": "stdout",
     "output_type": "stream",
     "text": [
      "[50, 40, 30, 20]\n"
     ]
    }
   ],
   "source": [
    "print(l[-2:-6:-1])"
   ]
  },
  {
   "cell_type": "markdown",
   "id": "b3365e42-c345-447c-8126-600dd1d5e687",
   "metadata": {},
   "source": [
    "#### default value start =-1, end = len(l)+1 step -ve"
   ]
  },
  {
   "cell_type": "code",
   "execution_count": 24,
   "id": "c181fe73-b80c-4277-bb9f-4df894829668",
   "metadata": {},
   "outputs": [
    {
     "name": "stdout",
     "output_type": "stream",
     "text": [
      "[60, 50, 40, 30, 20, 10]\n"
     ]
    }
   ],
   "source": [
    "print(l[::-1])"
   ]
  },
  {
   "cell_type": "markdown",
   "id": "f65ab096-c04d-4eaf-86b6-2fd54d11045c",
   "metadata": {},
   "source": [
    "#### special case"
   ]
  },
  {
   "cell_type": "code",
   "execution_count": 25,
   "id": "17b1fff4-3af6-4003-b1db-5a1b11f6a0c8",
   "metadata": {},
   "outputs": [
    {
     "name": "stdout",
     "output_type": "stream",
     "text": [
      "[]\n"
     ]
    }
   ],
   "source": [
    "print(l[4:1:1])"
   ]
  },
  {
   "cell_type": "code",
   "execution_count": 26,
   "id": "b35c8c1a-38ce-496b-bba4-2140da903218",
   "metadata": {},
   "outputs": [
    {
     "name": "stdout",
     "output_type": "stream",
     "text": [
      "[]\n"
     ]
    }
   ],
   "source": [
    "print(l[1:4:-1])"
   ]
  },
  {
   "cell_type": "code",
   "execution_count": 27,
   "id": "e12513f3-fe86-4b01-a1ed-5bfb2ac627fc",
   "metadata": {},
   "outputs": [
    {
     "name": "stdout",
     "output_type": "stream",
     "text": [
      "[]\n"
     ]
    }
   ],
   "source": [
    "print(l[2:2:1])"
   ]
  },
  {
   "cell_type": "code",
   "execution_count": 29,
   "id": "42aa9974-f185-4dac-bb25-886078d67471",
   "metadata": {},
   "outputs": [
    {
     "name": "stdout",
     "output_type": "stream",
     "text": [
      "[]\n"
     ]
    }
   ],
   "source": [
    "print(l[-3:-3:1])"
   ]
  },
  {
   "cell_type": "code",
   "execution_count": 30,
   "id": "7451e75f-8eb3-43a5-a65a-fba3983000ed",
   "metadata": {},
   "outputs": [
    {
     "name": "stdout",
     "output_type": "stream",
     "text": [
      "[30, 40, 50]\n"
     ]
    }
   ],
   "source": [
    "print(l[-4:5:1])  # -4 = len(l)-4 = 6-4 = 2\n"
   ]
  },
  {
   "cell_type": "code",
   "execution_count": 31,
   "id": "a9492c9b-96dd-42e1-a976-e89d1e190e52",
   "metadata": {},
   "outputs": [
    {
     "name": "stdout",
     "output_type": "stream",
     "text": [
      "[10, 20, 30, 40, 50, 60]\n"
     ]
    }
   ],
   "source": [
    "print(l[::])  # shallow copy"
   ]
  },
  {
   "cell_type": "code",
   "execution_count": 32,
   "id": "6763bd1d-f881-4407-9e21-4ccb04144934",
   "metadata": {},
   "outputs": [
    {
     "name": "stdout",
     "output_type": "stream",
     "text": [
      "[10, 20, 30, 40, 50, 60]\n"
     ]
    }
   ],
   "source": [
    "print(l[:100])"
   ]
  },
  {
   "cell_type": "code",
   "execution_count": 33,
   "id": "8599f1f5-4693-4ff8-bc02-17da3b79221b",
   "metadata": {},
   "outputs": [
    {
     "name": "stdout",
     "output_type": "stream",
     "text": [
      "[]\n"
     ]
    }
   ],
   "source": [
    "print(l[100:])"
   ]
  },
  {
   "cell_type": "code",
   "execution_count": 34,
   "id": "2f2be48d-d60b-46c8-88dd-a68c5a5d87e5",
   "metadata": {},
   "outputs": [
    {
     "data": {
      "text/plain": [
       "False"
      ]
     },
     "execution_count": 34,
     "metadata": {},
     "output_type": "execute_result"
    }
   ],
   "source": [
    "l is l[:]"
   ]
  },
  {
   "cell_type": "code",
   "execution_count": null,
   "id": "8971e682-d432-43bf-b0f5-7b6d9eb4b059",
   "metadata": {},
   "outputs": [],
   "source": []
  }
 ],
 "metadata": {
  "kernelspec": {
   "display_name": "Python 3 (ipykernel)",
   "language": "python",
   "name": "python3"
  },
  "language_info": {
   "codemirror_mode": {
    "name": "ipython",
    "version": 3
   },
   "file_extension": ".py",
   "mimetype": "text/x-python",
   "name": "python",
   "nbconvert_exporter": "python",
   "pygments_lexer": "ipython3",
   "version": "3.11.5"
  }
 },
 "nbformat": 4,
 "nbformat_minor": 5
}
