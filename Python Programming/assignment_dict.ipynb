{
 "cells": [
  {
   "cell_type": "markdown",
   "id": "e4cd152b-360a-4627-b61c-8b6590d9a44e",
   "metadata": {},
   "source": [
    "1. Write a Python script to sort (ascending and descending) a dictionary by value."
   ]
  },
  {
   "cell_type": "code",
   "execution_count": null,
   "id": "45ff8655-9ef3-4d76-9496-7474bb6b78c9",
   "metadata": {},
   "outputs": [],
   "source": [
    "Sample Dictionary : {0: 10, 1: 20}"
   ]
  },
  {
   "cell_type": "markdown",
   "id": "f40910fb-8040-47ae-b6b8-de9cdc53f229",
   "metadata": {},
   "source": [
    "2. Write a Python script to add a key to a dictionary.\n",
    "\n",
    "Sample Dictionary : {0: 10, 1: 20}\n",
    "Expected Result : {0: 10, 1: 20, 2: 30}"
   ]
  },
  {
   "cell_type": "code",
   "execution_count": 3,
   "id": "45bc668e-9f33-475e-880f-b10ab066e47c",
   "metadata": {},
   "outputs": [
    {
     "data": {
      "text/plain": [
       "{0: 10, 1: 20, 2: 30}"
      ]
     },
     "execution_count": 3,
     "metadata": {},
     "output_type": "execute_result"
    }
   ],
   "source": [
    "di = {0: 10, 1: 20}\n",
    "di[2] = 30 # di.add di.insert XXX\n",
    "di"
   ]
  },
  {
   "cell_type": "markdown",
   "id": "97a48317-fe48-4589-a886-3a26bf876fd1",
   "metadata": {},
   "source": [
    "3. Write a Python script to concatenate the following dictionaries to create a new one.\n",
    "\n",
    "Sample Dictionary :\n",
    "dic1={1:10, 2:20}\n",
    "dic2={3:30, 4:40}\n",
    "dic3={5:50,6:60}\n",
    "Expected Result : {1: 10, 2: 20, 3: 30, 4: 40, 5: 50, 6: 60}"
   ]
  },
  {
   "cell_type": "code",
   "execution_count": 4,
   "id": "6d5cbdb8-ae07-4694-84e0-d46ff4e322f3",
   "metadata": {},
   "outputs": [
    {
     "data": {
      "text/plain": [
       "{1: 10, 2: 20, 3: 30, 4: 40, 5: 50, 6: 60}"
      ]
     },
     "execution_count": 4,
     "metadata": {},
     "output_type": "execute_result"
    }
   ],
   "source": [
    "d1={1:10, 2:20} \n",
    "d2={3:30, 4:40} \n",
    "d3={5:50,6:60}\n",
    "d = {**d1,**d2,**d3}\n",
    "d"
   ]
  },
  {
   "cell_type": "code",
   "execution_count": 7,
   "id": "801ecf90-2c54-4d10-99ad-24c6e4a30d84",
   "metadata": {},
   "outputs": [
    {
     "data": {
      "text/plain": [
       "{1: 10, 2: 20, 3: 30, 4: 40, 5: 50, 6: 60}"
      ]
     },
     "execution_count": 7,
     "metadata": {},
     "output_type": "execute_result"
    }
   ],
   "source": [
    "d4 = {}\n",
    "for key,val in d1.items():\n",
    "    d4[key] = val\n",
    "for key,val in d2.items():\n",
    "    d4[key] = val\n",
    "for key,val in d3.items():\n",
    "    d4[key] = val\n",
    "d4"
   ]
  },
  {
   "cell_type": "markdown",
   "id": "0455f425-1231-4f66-9a53-7d21cdaf45a9",
   "metadata": {},
   "source": [
    "4. Write a Python script to check whether a given key already exists in a dictionary."
   ]
  },
  {
   "cell_type": "code",
   "execution_count": 14,
   "id": "5784d73e-a227-4ad4-b083-ecb7fe655431",
   "metadata": {},
   "outputs": [
    {
     "name": "stdout",
     "output_type": "stream",
     "text": [
      "Found\n"
     ]
    }
   ],
   "source": [
    "di = {0: 10, 1: 20,'ab':30}\n",
    "k = 1\n",
    "for i in di.keys():\n",
    "    if(i == 1):\n",
    "        print(\"Found\")\n",
    "        c=1\n",
    "        break\n",
    "    else:\n",
    "        c=0\n",
    "if(c==0):\n",
    "    print(\"not found\")"
   ]
  },
  {
   "cell_type": "markdown",
   "id": "6c81e997",
   "metadata": {},
   "source": [
    "5. Write a Python program to iterate over dictionaries using for loops."
   ]
  },
  {
   "cell_type": "code",
   "execution_count": 1,
   "id": "6cf7f8a7-359d-498e-85c0-6104de69c89b",
   "metadata": {},
   "outputs": [
    {
     "name": "stdout",
     "output_type": "stream",
     "text": [
      "10\n",
      "20\n",
      "30\n",
      "40\n",
      "50\n",
      "60\n"
     ]
    }
   ],
   "source": [
    "dct = {1: 10, 2: 20, 3: 30, 4: 40, 5: 50, 6: 60}\n",
    "for key in dct.keys():\n",
    "    print(dct[key])"
   ]
  },
  {
   "cell_type": "markdown",
   "id": "bb1d3f01",
   "metadata": {},
   "source": [
    "6. Write a Python script to generate and print a dictionary that contains a number (between 1 and n) in the form (x, x*x).\n",
    "Sample Dictionary ( n = 5) :\n",
    "Expected Output : {1: 1, 2: 4, 3: 9, 4: 16, 5: 25}/"
   ]
  },
  {
   "cell_type": "code",
   "execution_count": 3,
   "id": "29b6ac7a",
   "metadata": {},
   "outputs": [
    {
     "data": {
      "text/plain": [
       "{1: 1, 2: 4, 3: 9, 4: 16, 5: 25}"
      ]
     },
     "execution_count": 3,
     "metadata": {},
     "output_type": "execute_result"
    }
   ],
   "source": [
    "dd = {}\n",
    "for i in range(1,6):\n",
    "    dd[i] = i*i\n",
    "dd    "
   ]
  },
  {
   "cell_type": "markdown",
   "id": "161fdc1f",
   "metadata": {},
   "source": [
    "7. Write a Python script to print a dictionary where the keys are numbers between 1 and 15 (both included) and the values are the square of the keys.\n",
    "Sample Dictionary\n",
    "{1: 1, 2: 4, 3: 9, 4: 16, 5: 25, 6: 36, 7: 49, 8: 64, 9: 81, 10: 100, 11: 121, 12: 144, 13: 169, 14: 196, 15: 225}"
   ]
  },
  {
   "cell_type": "code",
   "execution_count": 4,
   "id": "247462a3",
   "metadata": {},
   "outputs": [
    {
     "data": {
      "text/plain": [
       "{1: 1,\n",
       " 2: 4,\n",
       " 3: 9,\n",
       " 4: 16,\n",
       " 5: 25,\n",
       " 6: 36,\n",
       " 7: 49,\n",
       " 8: 64,\n",
       " 9: 81,\n",
       " 10: 100,\n",
       " 11: 121,\n",
       " 12: 144,\n",
       " 13: 169,\n",
       " 14: 196,\n",
       " 15: 225}"
      ]
     },
     "execution_count": 4,
     "metadata": {},
     "output_type": "execute_result"
    }
   ],
   "source": [
    "dd1 = {}\n",
    "for i in range(1,16):\n",
    "    dd1[i] = i*i\n",
    "dd1  "
   ]
  },
  {
   "cell_type": "markdown",
   "id": "6bb7ff3f",
   "metadata": {},
   "source": [
    "8. Write a Python script to merge two Python dictionaries."
   ]
  },
  {
   "cell_type": "code",
   "execution_count": 5,
   "id": "8049fe40",
   "metadata": {},
   "outputs": [
    {
     "data": {
      "text/plain": [
       "{1: 10, 2: 20, 3: 30, 4: 40}"
      ]
     },
     "execution_count": 5,
     "metadata": {},
     "output_type": "execute_result"
    }
   ],
   "source": [
    "d1={1:10, 2:20} \n",
    "d2={3:30, 4:40}\n",
    "d3= {}\n",
    "for key,value in d1.items():\n",
    "    d3[key] = value\n",
    "for key,value in d2.items():\n",
    "    d3[key] = value \n",
    "d3    "
   ]
  },
  {
   "cell_type": "code",
   "execution_count": null,
   "id": "256b84c3",
   "metadata": {},
   "outputs": [],
   "source": []
  },
  {
   "cell_type": "code",
   "execution_count": null,
   "id": "3b5dceed",
   "metadata": {},
   "outputs": [],
   "source": []
  },
  {
   "cell_type": "markdown",
   "id": "759558ba-b755-47f4-a6ee-786545693500",
   "metadata": {},
   "source": [
    "10. Write a Python program to sum all the items in a dictionary."
   ]
  },
  {
   "cell_type": "code",
   "execution_count": 9,
   "id": "19777b7e-9e5e-48b0-bb3b-c4b6bf7b80c2",
   "metadata": {},
   "outputs": [
    {
     "name": "stdout",
     "output_type": "stream",
     "text": [
      "dict_values([10, 20, 30, 40, 50, 60])\n"
     ]
    }
   ],
   "source": [
    "d = {1: 10, 2: 20, 3: 30, 4: 40, 5: 50, 6: 60}\n",
    "for i in d.values():\n",
    "    \n",
    "    \n"
   ]
  },
  {
   "cell_type": "markdown",
   "id": "2474f34a",
   "metadata": {},
   "source": [
    "12. Write a Python program to remove a key from a dictionary."
   ]
  },
  {
   "cell_type": "code",
   "execution_count": 6,
   "id": "44c0f565",
   "metadata": {},
   "outputs": [
    {
     "data": {
      "text/plain": [
       "{2: 20}"
      ]
     },
     "execution_count": 6,
     "metadata": {},
     "output_type": "execute_result"
    }
   ],
   "source": [
    "d1={1:10, 2:20} \n",
    "del d1[1]\n",
    "d1"
   ]
  },
  {
   "cell_type": "markdown",
   "id": "2912f26b",
   "metadata": {},
   "source": [
    "13. Write a Python program to map two lists into a dictionary."
   ]
  },
  {
   "cell_type": "code",
   "execution_count": 9,
   "id": "4c1ed646",
   "metadata": {},
   "outputs": [
    {
     "data": {
      "text/plain": [
       "{10: 30, 20: 80}"
      ]
     },
     "execution_count": 9,
     "metadata": {},
     "output_type": "execute_result"
    }
   ],
   "source": [
    "dt =dict(zip([10,20],[30,80]))\n",
    "dt"
   ]
  },
  {
   "cell_type": "markdown",
   "id": "26271a55",
   "metadata": {},
   "source": [
    "14. Write a Python program to sort a given dictionary by key. And output should be a dictionary."
   ]
  },
  {
   "cell_type": "code",
   "execution_count": 5,
   "id": "6813d0f6",
   "metadata": {},
   "outputs": [
    {
     "data": {
      "text/plain": [
       "{1: 10, 2: 20, 3: 30, 4: 40, 5: 50, 6: 60}"
      ]
     },
     "execution_count": 5,
     "metadata": {},
     "output_type": "execute_result"
    }
   ],
   "source": [
    "d = {1: 10,4: 40, 2: 20, 3: 30, 5: 50, 6: 60}\n",
    "p = sorted(d)\n",
    "d2 = {k: d[k] for k in p}\n",
    "d2 "
   ]
  },
  {
   "cell_type": "code",
   "execution_count": 9,
   "id": "35785a4b",
   "metadata": {},
   "outputs": [
    {
     "data": {
      "text/plain": [
       "{1: 10, 2: 20, 3: 30, 4: 40, 5: 50, 6: 60}"
      ]
     },
     "execution_count": 9,
     "metadata": {},
     "output_type": "execute_result"
    }
   ],
   "source": [
    "d3={}\n",
    "for k in p:\n",
    "    d3[k] = d[k]\n",
    "d3    "
   ]
  },
  {
   "cell_type": "markdown",
   "id": "e9e947ec-c5d2-445d-ace4-3759c3c9412e",
   "metadata": {},
   "source": [
    "15. Write a Python program to get the maximum and minimum values of a dictionary."
   ]
  },
  {
   "cell_type": "code",
   "execution_count": 19,
   "id": "99079fc3-b32c-4d7c-85f7-544bb20686f8",
   "metadata": {},
   "outputs": [
    {
     "name": "stdout",
     "output_type": "stream",
     "text": [
      "-10 -60\n"
     ]
    }
   ],
   "source": [
    "d = {1: -10, 2: -20, 3: -30, 4: -40, 5: -50, 6: -60}\n",
    "l = list(d.values())\n",
    "mx = l[0]\n",
    "mn = l[0]\n",
    "for i in l:\n",
    "    if(mx < i):\n",
    "        mx = i\n",
    "    elif(mn >i):  \n",
    "        mn = i\n",
    "print(mx,mn)        "
   ]
  },
  {
   "cell_type": "code",
   "execution_count": 17,
   "id": "9a6aa0f5-5fe5-487a-ba7f-4e190f313a43",
   "metadata": {},
   "outputs": [
    {
     "data": {
      "text/plain": [
       "dict_values"
      ]
     },
     "execution_count": 17,
     "metadata": {},
     "output_type": "execute_result"
    }
   ],
   "source": [
    "17. Write a Python program to remove duplicates from the dictionary."
   ]
  },
  {
   "cell_type": "markdown",
   "id": "6f44d522-ee47-480a-8bc7-3f5c38a7b4d0",
   "metadata": {},
   "source": [
    "18. Write a Python program to check if a dictionary is empty or not."
   ]
  },
  {
   "cell_type": "code",
   "execution_count": 20,
   "id": "7b41755e-7619-421d-b0a4-ade6e2259f8a",
   "metadata": {},
   "outputs": [
    {
     "data": {
      "text/plain": [
       "False"
      ]
     },
     "execution_count": 20,
     "metadata": {},
     "output_type": "execute_result"
    }
   ],
   "source": [
    "d ={}\n",
    "bool(d)"
   ]
  },
  {
   "cell_type": "markdown",
   "id": "aa506f18",
   "metadata": {},
   "source": [
    "19. Write a Python program to combine two dictionary by adding values for common keys.\n",
    "d1 = {'a': 100, 'b': 200, 'c':300}\n",
    "d2 = {'a': 300, 'b': 200, 'd':400}\n",
    "Sample output: Counter({'a': 400, 'b': 400, 'd': 400, 'c': 300})"
   ]
  },
  {
   "cell_type": "code",
   "execution_count": 12,
   "id": "4718f7a0-29d5-4bfe-9f93-ee05c63e6abb",
   "metadata": {},
   "outputs": [
    {
     "data": {
      "text/plain": [
       "{'a': 400, 'b': 400, 'c': 300, 'd': 400}"
      ]
     },
     "execution_count": 12,
     "metadata": {},
     "output_type": "execute_result"
    }
   ],
   "source": [
    "d1 = {'a': 100, 'b': 200, 'c':300} \n",
    "d2 = {'a': 300, 'b': 200, 'd':400}\n",
    "d3 ={}\n",
    "for i in d1.keys():\n",
    "    if(i in d2.keys()):\n",
    "        d3[i] = d1[i] + d2[i]\n",
    "    else:\n",
    "        d3[i] = d1[i]\n",
    "\n",
    "for i in d2.keys():\n",
    "    if(i not in d1.keys()):\n",
    "        d3[i] = d2[i]\n",
    "d3    \n",
    "    "
   ]
  },
  {
   "cell_type": "markdown",
   "id": "01161498",
   "metadata": {},
   "source": [
    "20. Write a Python program to print all distinct values in a dictionary.\n",
    "Sample Data : [{\"V\":\"S001\"}, {\"V\": \"S002\"}, {\"VI\": \"S001\"}, {\"VI\": \"S005\"}, {\"VII\":\"S005\"}, {\"V\":\"S009\"},{\"VIII\":\"S007\"}]\n",
    "Expected Output : Unique Values: {'S005', 'S002', 'S007', 'S001', 'S009'}"
   ]
  },
  {
   "cell_type": "code",
   "execution_count": 27,
   "id": "cc86b4f5",
   "metadata": {},
   "outputs": [
    {
     "data": {
      "text/plain": [
       "{'S001', 'S002', 'S005', 'S007', 'S009'}"
      ]
     },
     "execution_count": 27,
     "metadata": {},
     "output_type": "execute_result"
    }
   ],
   "source": [
    "data = [{\"V\":\"S001\"}, {\"V\": \"S002\"}, {\"VI\": \"S001\"}, {\"VI\": \"S005\"}, {\"VII\":\"S005\"}, {\"V\":\"S009\"},{\"VIII\":\"S007\"}]\n",
    "s =set()\n",
    "for i in data:\n",
    "    for j in i.values():\n",
    "        s.add(j)\n",
    "s        "
   ]
  },
  {
   "cell_type": "code",
   "execution_count": 30,
   "id": "7d53ff24-f22f-45bd-8cd3-e7d24921eb51",
   "metadata": {},
   "outputs": [
    {
     "ename": "KeyError",
     "evalue": "0",
     "output_type": "error",
     "traceback": [
      "\u001b[1;31m---------------------------------------------------------------------------\u001b[0m",
      "\u001b[1;31mKeyError\u001b[0m                                  Traceback (most recent call last)",
      "Cell \u001b[1;32mIn[30], line 3\u001b[0m\n\u001b[0;32m      1\u001b[0m s \u001b[38;5;241m=\u001b[39m\u001b[38;5;28mset\u001b[39m()\n\u001b[0;32m      2\u001b[0m \u001b[38;5;28;01mfor\u001b[39;00m i \u001b[38;5;129;01min\u001b[39;00m data:\n\u001b[1;32m----> 3\u001b[0m     s\u001b[38;5;241m.\u001b[39madd(i[\u001b[38;5;241m0\u001b[39m][\u001b[38;5;241m1\u001b[39m])\n\u001b[0;32m      4\u001b[0m s\n",
      "\u001b[1;31mKeyError\u001b[0m: 0"
     ]
    }
   ],
   "source": []
  },
  {
   "cell_type": "markdown",
   "id": "5ce3ab78",
   "metadata": {},
   "source": [
    "21. Write a Python program to create and display all combinations of letters, selecting each letter from a different key in a dictionary.\n",
    "Sample data : {'1':['a','b'], '2':['c','d']}\n",
    "Expected Output:\n",
    "ac\n",
    "ad\n",
    "bc\n",
    "bd"
   ]
  },
  {
   "cell_type": "code",
   "execution_count": 2,
   "id": "34710d64",
   "metadata": {},
   "outputs": [
    {
     "data": {
      "text/plain": [
       "[['a', 'b'], ['c', 'd']]"
      ]
     },
     "execution_count": 2,
     "metadata": {},
     "output_type": "execute_result"
    }
   ],
   "source": [
    "cm = {'1':['a','b'], '2':['c','d']}\n",
    "ls=[]\n",
    "for i in cm.values():\n",
    "    ls.append(i)\n",
    "ls"
   ]
  },
  {
   "cell_type": "markdown",
   "id": "96f66b9a-c1d5-4e9f-82dc-b166e08c69a9",
   "metadata": {},
   "source": [
    "22. Write a Python program to find the highest 3 values of corresponding keys in a dictionary."
   ]
  },
  {
   "cell_type": "code",
   "execution_count": 3,
   "id": "0fa2ac24-df3a-4b9a-88c0-9084500c1f3c",
   "metadata": {},
   "outputs": [
    {
     "data": {
      "text/plain": [
       "[100, 200, 300]"
      ]
     },
     "execution_count": 3,
     "metadata": {},
     "output_type": "execute_result"
    }
   ],
   "source": [
    "d1 = {'a': 100, 'b': 500, 'c':300,'d':200} \n",
    "ds = sorted(d1.values())\n",
    "ds[:3]"
   ]
  },
  {
   "cell_type": "markdown",
   "id": "1a127640-9786-430f-8aec-7fd70b33677b",
   "metadata": {},
   "source": [
    "23. Write a Python program to combine values in a list of dictionaries.\n",
    "Sample data: [{'item': 'item1', 'amount': 400}, {'item': 'item2', 'amount': 300}, {'item': 'item1', 'amount': 750}]\n",
    "Expected Output: Counter({'item1': 1150, 'item2': 300})"
   ]
  },
  {
   "cell_type": "code",
   "execution_count": 20,
   "id": "3a34bcd0-6681-4467-9dcd-1063e50bafba",
   "metadata": {},
   "outputs": [
    {
     "data": {
      "text/plain": [
       "{'item1': 1150, 'item2': 300}"
      ]
     },
     "execution_count": 20,
     "metadata": {},
     "output_type": "execute_result"
    }
   ],
   "source": [
    "itm =  [{'item': 'item1', 'amount': 400}, {'item': 'item2', 'amount': 300}, {'item': 'item1', 'amount': 750}]\n",
    "dct = {}\n",
    "for i in itm:\n",
    "    if i['item'] in dct:\n",
    "        dct[i['item']] += i['amount']\n",
    "    else:\n",
    "        dct[i['item']] = i['amount']\n",
    "dct   "
   ]
  },
  {
   "cell_type": "markdown",
   "id": "8a8dbe49-578a-4740-8e78-a9b448e17190",
   "metadata": {},
   "source": [
    "24. Write a Python program to create a dictionary from a string.\n",
    "Note: Track the count of the letters from the string.\n",
    "Sample string : 'w3resource'\n",
    "Expected output: {'w': 1, '3': 1, 'r': 2, 'e': 2, 's': 1, 'o': 1, 'u': 1, 'c': 1}"
   ]
  },
  {
   "cell_type": "code",
   "execution_count": 21,
   "id": "7e920aee-12c5-4b2a-839b-c5ef9dc0cc15",
   "metadata": {},
   "outputs": [
    {
     "data": {
      "text/plain": [
       "{'w': 1, '3': 1, 'r': 2, 'e': 2, 's': 1, 'o': 1, 'u': 1, 'c': 1}"
      ]
     },
     "execution_count": 21,
     "metadata": {},
     "output_type": "execute_result"
    }
   ],
   "source": [
    "st= 'w3resource'\n",
    "dct = {}\n",
    "for i in st:\n",
    "    dct[i] = st.count(i)\n",
    "dct    "
   ]
  },
  {
   "cell_type": "markdown",
   "id": "75cc61cf-9906-4364-8c83-98b2af79043b",
   "metadata": {},
   "source": [
    "27. Write a Python program to convert a list into a nested dictionary of keys.\n",
    "\n",
    "Ex. i/p [1, 2, 3, 4]\n",
    "o/p  {1: {2: {3: {4: {}}}}}"
   ]
  },
  {
   "cell_type": "code",
   "execution_count": null,
   "id": "5ec3040b-414f-4684-80e5-10820af5a047",
   "metadata": {},
   "outputs": [],
   "source": []
  },
  {
   "cell_type": "markdown",
   "id": "480e35f9-b4a1-4216-8a23-eeea7614cee5",
   "metadata": {},
   "source": [
    "28. Write a Python program. There is a dictionary where values contain list of integers.\n",
    "So, program should sort that list and return complete dictionary\n",
    "Ex. \n",
    "i/p\n",
    "{'n1': [2, 3, 1], 'n2': [5, 1, 2], 'n3': [3, 2, 4]}\n",
    "o/p\n",
    "{'n1': [1, 2, 3], 'n2': [1, 2, 5], 'n3': [2, 3, 4]}\n"
   ]
  },
  {
   "cell_type": "code",
   "execution_count": 28,
   "id": "9c2f965b-b17f-4b39-ab9d-12bfd0d03f38",
   "metadata": {},
   "outputs": [
    {
     "data": {
      "text/plain": [
       "{'n1': [1, 2, 3], 'n2': [1, 2, 5], 'n3': [2, 3, 4]}"
      ]
     },
     "execution_count": 28,
     "metadata": {},
     "output_type": "execute_result"
    }
   ],
   "source": [
    "p = {'n1': [2, 3, 1], 'n2': [5, 1, 2], 'n3': [3, 2, 4]}\n",
    "q = {}\n",
    "for i in p.keys():\n",
    "    q[i] = sorted(p[i])\n",
    "q    "
   ]
  },
  {
   "cell_type": "markdown",
   "id": "13b61ad4-75ff-4609-ad57-23fa4e854396",
   "metadata": {},
   "source": [
    "29. Write a Python program to remove spaces from dictionary keys.\n",
    "After removing spaces if keys repeat then keep the latest value.\n",
    "Ex. \n",
    "i/p\n",
    "{'S  001': ['Math', 'Science'], 'S    002': ['Math', 'English'], 'S 3':['Math', 'English'], 'S3':['English'], }\n",
    "o/p\n",
    "{'S001': ['Math', 'Science'], 'S002': ['Math', 'English'], 'S3':['English']}"
   ]
  },
  {
   "cell_type": "code",
   "execution_count": 37,
   "id": "cad6be10-1dfe-4be3-9dff-a48f1d98b248",
   "metadata": {},
   "outputs": [
    {
     "data": {
      "text/plain": [
       "{'S001': ['Math', 'Science'], 'S002': ['Math', 'English'], 'S3': ['English']}"
      ]
     },
     "execution_count": 37,
     "metadata": {},
     "output_type": "execute_result"
    }
   ],
   "source": [
    "sub = {'S 001': ['Math', 'Science'], 'S 002': ['Math', 'English'], 'S 3':['Math', 'English'], 'S3':['English'] }\n",
    "sub1 = {}\n",
    "for i in sub:\n",
    "    sub1[i.replace(\" \",\"\")] = sub[i]\n",
    "sub1    \n",
    "    "
   ]
  },
  {
   "cell_type": "markdown",
   "id": "22f0611d-cd13-43f8-8e50-7ebbc919a37c",
   "metadata": {},
   "source": [
    "30. Write a Python program to get the top three items in a shop.\n",
    "Sample data: {'item1': 45.50, 'item2':35, 'item3': 41.30, 'item4':55, 'item5': 24}\n",
    "Expected Output:\n",
    "item4 55\n",
    "item1 45.5\n",
    "item3 41.3"
   ]
  },
  {
   "cell_type": "code",
   "execution_count": 48,
   "id": "9ca48c1f-b1d0-4170-bf40-aa844e48ddcb",
   "metadata": {},
   "outputs": [
    {
     "data": {
      "text/plain": [
       "{'item4': 55, 'item1': 45.5, 'item3': 41.3}"
      ]
     },
     "execution_count": 48,
     "metadata": {},
     "output_type": "execute_result"
    }
   ],
   "source": [
    "ta = {'item1': 45.50, 'item2':35, 'item3': 41.30, 'item4':55, 'item5': 24}\n",
    "at = tuple(ta.items())\n",
    "sort = sorted(at,key = lambda x : x[1],reverse = True)\n",
    "sort = dict(sort[:3])\n",
    "sort"
   ]
  },
  {
   "cell_type": "markdown",
   "id": "84e7d5b3-8591-4e85-86a5-13463edc7414",
   "metadata": {},
   "source": [
    "\n",
    "34. Write a Python program to count the total number of items under all keys in a dictionary value that is a list.\n",
    "Ex. \n",
    "i/p {'Alex': ['subj1', 'subj2', 'subj3'], 'David': ['subj1', 'subj2']}\n",
    "o/p total values : 5"
   ]
  },
  {
   "cell_type": "code",
   "execution_count": 53,
   "id": "247da8e9-19d4-4fbe-9d5c-caeea5dc4bf2",
   "metadata": {},
   "outputs": [
    {
     "data": {
      "text/plain": [
       "5"
      ]
     },
     "execution_count": 53,
     "metadata": {},
     "output_type": "execute_result"
    }
   ],
   "source": [
    "al =  {'Alex': ['subj1', 'subj2', 'subj3'], 'David': ['subj1', 'subj2']}\n",
    "l =0\n",
    "for i in al.values():\n",
    "    l += len(i)\n",
    "l    "
   ]
  },
  {
   "cell_type": "markdown",
   "id": "733d7453-39c0-4278-bee1-7847c34a011c",
   "metadata": {},
   "source": [
    "35. Write a Python program to sort dictionary by value.\n",
    "Sample data : {'Math':81, 'Physics':83, 'Chemistry':87}\n",
    "Expected data: [('Chemistry', 87), ('Physics', 83), ('Math', 81)]"
   ]
  },
  {
   "cell_type": "code",
   "execution_count": 59,
   "id": "b458058a-68d7-40ac-855d-4ac704b5426c",
   "metadata": {},
   "outputs": [
    {
     "data": {
      "text/plain": [
       "[('Chemistry', 87), ('Physics', 83), ('Math', 81)]"
      ]
     },
     "execution_count": 59,
     "metadata": {},
     "output_type": "execute_result"
    }
   ],
   "source": [
    "a = {'Math':81, 'Physics':83, 'Chemistry':87}\n",
    "b = sorted(tuple(a.items()),key = lambda x : x[1],reverse = True)\n",
    "b"
   ]
  },
  {
   "cell_type": "markdown",
   "id": "21fd00ca-3489-455a-9090-15496d8746c4",
   "metadata": {},
   "source": [
    "36. Write a Python program to create a dictionary from two lists without losing duplicate values.\n",
    "Sample lists: ['Class-V', 'Class-VI', 'Class-VII', 'Class-VIII'], [1, 2, 2, 3]\n",
    "Expected Output: defaultdict(<class 'set'>, {'Class-V': {1}, 'Class-VI': {2}, 'Class-VII': {2}, 'Class-VIII': {3}})"
   ]
  },
  {
   "cell_type": "code",
   "execution_count": 3,
   "id": "1624bf8c-6bd2-4804-811e-de17b481d00d",
   "metadata": {},
   "outputs": [
    {
     "data": {
      "text/plain": [
       "{'Class-V': 1, 'Class-VI': 2, 'Class-VII': 2, 'Class-VIII': 3}"
      ]
     },
     "execution_count": 3,
     "metadata": {},
     "output_type": "execute_result"
    }
   ],
   "source": [
    "sl = ['Class-V', 'Class-VI', 'Class-VII', 'Class-VIII']\n",
    "num  = [1, 2, 2, 3]\n",
    "dc = dict(zip(sl,num))\n",
    "dc"
   ]
  },
  {
   "cell_type": "markdown",
   "id": "0ab52343-5861-42d4-a82b-d3edd19a7b36",
   "metadata": {},
   "source": [
    "38. Write a Python program to match key values in two dictionaries.\n",
    "Sample dictionary: {'key1': 1, 'key2': 3, 'key3': 2}, {'key1': 1, 'key2': 2}\n",
    "Expected output: key1: 1 is present in both x and y"
   ]
  },
  {
   "cell_type": "code",
   "execution_count": 8,
   "id": "30894134-57ae-4cb7-9d7b-5ee7fe080d5b",
   "metadata": {},
   "outputs": [
    {
     "name": "stdout",
     "output_type": "stream",
     "text": [
      "('key1', 1)\n"
     ]
    }
   ],
   "source": [
    "d1 = {'key1': 1, 'key2': 3, 'key3': 2}\n",
    "d2 = {'key1': 1, 'key2': 2}\n",
    "for i in d1.items():\n",
    "    if(i in d2.items()):\n",
    "        print(i)\n"
   ]
  },
  {
   "cell_type": "markdown",
   "id": "0fa2b5ab-7037-44fd-9670-c548ea8b2dfa",
   "metadata": {},
   "source": [
    "40. Write a Python program to create a dictionary of keys x, y, and z where each key has as value a list from 11-20, 21-30, and 31-40 respectively. Access the fifth value of each key from the dictionary.\n",
    "{'x': [11, 12, 13, 14, 15, 16, 17, 18, 19],\n",
    "'y': [21, 22, 23, 24, 25, 26, 27, 28, 29],\n",
    "'z': [31, 32, 33, 34, 35, 36, 37, 38, 39]}\n",
    "15\n",
    "25\n",
    "35"
   ]
  },
  {
   "cell_type": "code",
   "execution_count": 12,
   "id": "cffd44d5-f7e9-46c8-991d-164d2f09caf5",
   "metadata": {},
   "outputs": [
    {
     "name": "stdout",
     "output_type": "stream",
     "text": [
      "15\n",
      "25\n",
      "35\n"
     ]
    }
   ],
   "source": [
    "dt = {'x': [11, 12, 13, 14, 15, 16, 17, 18, 19], 'y': [21, 22, 23, 24, 25, 26, 27, 28, 29], 'z': [31, 32, 33, 34, 35, 36, 37, 38, 39]}\n",
    "for i in dt:\n",
    "    print(dt[i][4])"
   ]
  },
  {
   "cell_type": "markdown",
   "id": "10c6e3af-70a6-4149-a5f8-a19f5a6889e8",
   "metadata": {},
   "source": [
    "42. Write a Python program to filter a dictionary based on values.\n",
    "Original Dictionary:\n",
    "{'Cierra Vega': 175, 'Alden Cantrell': 180, 'Kierra Gentry': 165, 'Pierre Cox': 190}\n",
    "Marks greater than 170:\n",
    "{'Cierra Vega': 175, 'Alden Cantrell': 180, 'Pierre Cox': 190}"
   ]
  },
  {
   "cell_type": "code",
   "execution_count": 20,
   "id": "c91f0f5a-7e1c-4e6c-b928-a7e9bba47772",
   "metadata": {},
   "outputs": [
    {
     "data": {
      "text/plain": [
       "{'Cierra Vega': 175, 'Alden Cantrell': 180, 'Pierre Cox': 190}"
      ]
     },
     "execution_count": 20,
     "metadata": {},
     "output_type": "execute_result"
    }
   ],
   "source": [
    "ry = {'Cierra Vega': 175, 'Alden Cantrell': 180, 'Kierra Gentry': 165, 'Pierre Cox': 190}\n",
    "ryt = sorted(tuple(ry.items()), key = lambda x : x[1])\n",
    "ryt = dict(ryt) \n",
    "der = {}\n",
    "for i in ryt:\n",
    "    if(ryt[i] > 170):\n",
    "        der[i] = ryt[i]\n",
    "der        "
   ]
  },
  {
   "cell_type": "markdown",
   "id": "b277f260-5f33-4e14-af95-b9bc567feb74",
   "metadata": {},
   "source": [
    "43. Write a Python program to convert more than one list to a nested dictionary.\n",
    "Original strings:\n",
    "['S001', 'S002', 'S003', 'S004']\n",
    "['Adina Park', 'Leyton Marsh', 'Duncan Boyle', 'Saim Richards']\n",
    "[85, 98, 89, 92]\n",
    "Nested dictionary:\n",
    "[{'S001': {'Adina Park': 85}}, {'S002': {'Leyton Marsh': 98}}, {'S003': {'Duncan Boyle': 89}}, {'S004': {'Saim Richards': 92}}]"
   ]
  },
  {
   "cell_type": "code",
   "execution_count": 55,
   "id": "b81b9184-2853-403d-8fae-3a8b6aeb11d6",
   "metadata": {},
   "outputs": [
    {
     "name": "stdout",
     "output_type": "stream",
     "text": [
      "{'Adina Park': 85, 'Leyton Marsh': 98, 'Duncan Boyle': 89, 'Saim Richards': 92}\n",
      "{'S001': {'Adina Park': 85}, 'S002': {'Leyton Marsh': 98}, 'S003': {'Duncan Boyle': 89}, 'S004': {'Saim Richards': 92}}\n"
     ]
    }
   ],
   "source": [
    "os = ['S001', 'S002', 'S003', 'S004']\n",
    "oa = ['Adina Park', 'Leyton Marsh', 'Duncan Boyle', 'Saim Richards']\n",
    "on = [85, 98, 89, 92]\n",
    "lt = []\n",
    "dct = dict(zip(oa,on))\n",
    "print(dct)\n",
    "for i,e in dct.items():\n",
    "    d = dict()\n",
    "    d[i] = e\n",
    "    lt.append(d)\n",
    "dct = dict(zip(os,lt))\n",
    "print(dct)"
   ]
  },
  {
   "cell_type": "markdown",
   "id": "337f7786-2d7e-4de1-a2a6-39be613746ea",
   "metadata": {},
   "source": [
    "45. Write a Python program to verify that all values in a dictionary are the same.\n",
    "Original Dictionary:\n",
    "{'Cierra Vega': 12, 'Alden Cantrell': 12, 'Kierra Gentry': 12, 'Pierre Cox': 12}\n"
   ]
  },
  {
   "cell_type": "code",
   "execution_count": 59,
   "id": "32e3bb97-cb5c-487c-96e7-e0c5f7f3d92d",
   "metadata": {},
   "outputs": [
    {
     "name": "stdout",
     "output_type": "stream",
     "text": [
      "True\n"
     ]
    }
   ],
   "source": [
    "same = {'Cierra Vega': 12, 'Alden Cantrell': 12, 'Kierra Gentry': 12, 'Pierre Cox': 12}\n",
    "s = set(same.values())\n",
    "if(len(s) == 1):\n",
    "    print(True)\n",
    "else:\n",
    "    print(False)"
   ]
  },
  {
   "cell_type": "code",
   "execution_count": null,
   "id": "54aeffeb-1ee4-445d-a737-5fb5b8405a8c",
   "metadata": {},
   "outputs": [],
   "source": [
    "46. Write a Python program to create a dictionary grouping a sequence of key-value pairs into a dictionary of lists.\n",
    "Original list:\n",
    "[('yellow', 1), ('blue', 2), ('yellow', 3), ('blue', 4), ('red', 1)]\n",
    "Grouping a sequence of key-value pairs into a dictionary of lists:\n",
    "{'yellow': [1, 3], 'blue': [2, 4], 'red': [1]}"
   ]
  },
  {
   "cell_type": "code",
   "execution_count": 66,
   "id": "baa78adb-a941-4dbe-a4b6-4e224fcce40d",
   "metadata": {},
   "outputs": [
    {
     "data": {
      "text/plain": [
       "{'yellow': [1, 3], 'blue': [2, 4], 'red': [1]}"
      ]
     },
     "execution_count": 66,
     "metadata": {},
     "output_type": "execute_result"
    }
   ],
   "source": [
    "c= [('yellow', 1), ('blue', 2), ('yellow', 3), ('blue', 4), ('red', 1)]\n",
    "d = dict()\n",
    "for i,j in c:\n",
    "    if(i in d):\n",
    "        d[i].append(j)\n",
    "    else:\n",
    "        d[i] = [j]\n",
    "\n",
    "d    "
   ]
  },
  {
   "cell_type": "markdown",
   "id": "0ad4d6b7-5242-4ad1-ad79-482308adbeb9",
   "metadata": {},
   "source": [
    "47. Write a Python program to split a given dictionary of lists into lists of dictionaries.\n",
    "Original dictionary of lists:\n",
    "{'Science': [88, 89, 62, 95], 'Language': [77, 78, 84, 80]}\n",
    "Split said dictionary of lists into list of dictionaries:\n",
    "[{'Science': 88, 'Language': 77}, {'Science': 89, 'Language': 78}, {'Science': 62, 'Language': 84}, {'Science': 95, 'Language': 80}]"
   ]
  },
  {
   "cell_type": "code",
   "execution_count": 65,
   "id": "dce1513e-c433-478e-ae6c-d0149f2248b0",
   "metadata": {},
   "outputs": [
    {
     "name": "stdout",
     "output_type": "stream",
     "text": [
      "Key  | Value   \n",
      "---------------\n",
      "Name | John    \n",
      "Age  | 30      \n",
      "City | New York\n"
     ]
    }
   ],
   "source": [
    "dct = {'Science': [88, 89, 62, 95], 'Language': [77, 78, 84, 80]}\n"
   ]
  },
  {
   "cell_type": "code",
   "execution_count": null,
   "id": "2c8345fd-2007-420d-8131-35863a53e850",
   "metadata": {},
   "outputs": [],
   "source": []
  }
 ],
 "metadata": {
  "kernelspec": {
   "display_name": "Python 3 (ipykernel)",
   "language": "python",
   "name": "python3"
  },
  "language_info": {
   "codemirror_mode": {
    "name": "ipython",
    "version": 3
   },
   "file_extension": ".py",
   "mimetype": "text/x-python",
   "name": "python",
   "nbconvert_exporter": "python",
   "pygments_lexer": "ipython3",
   "version": "3.11.5"
  }
 },
 "nbformat": 4,
 "nbformat_minor": 5
}
