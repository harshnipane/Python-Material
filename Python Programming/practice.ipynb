{
 "cells": [
  {
   "cell_type": "markdown",
   "id": "0be9b192-8d26-42b9-83b3-a471b7292973",
   "metadata": {},
   "source": [
    "2. display common elements from the given set\n",
    "set1 = {10, 20, 30, 40, 50}\n",
    "set2 = {30, 40, 50, 60, 70}"
   ]
  },
  {
   "cell_type": "code",
   "execution_count": 2,
   "id": "ef526768-db84-4c77-adfa-38b6a710692e",
   "metadata": {},
   "outputs": [
    {
     "data": {
      "text/plain": [
       "{30, 40, 50}"
      ]
     },
     "execution_count": 2,
     "metadata": {},
     "output_type": "execute_result"
    }
   ],
   "source": [
    "set1 = {10, 20, 30, 40, 50} \n",
    "set2 = {30, 40, 50, 60, 70}\n",
    "set1.intersection(set2)"
   ]
  },
  {
   "cell_type": "markdown",
   "id": "f5a4b97a-b4b0-4091-93cc-c9c12c786cb3",
   "metadata": {},
   "source": [
    "3. Generate a new set with all items from both sets by removing numbers which are in both sets.\n",
    "set1 = {10, 20, 30, 40, 50,25}\n",
    "set2 = {30, 40, 50, 60, 70,100}\n",
    "o/p : order is not important\n",
    "{70, 10, 20, 60,25,100}"
   ]
  },
  {
   "cell_type": "code",
   "execution_count": 4,
   "id": "6aaf3cde-aaf2-4c13-8201-72a6142c2612",
   "metadata": {},
   "outputs": [
    {
     "name": "stdout",
     "output_type": "stream",
     "text": [
      "{100, 70, 10, 20, 25, 60}\n"
     ]
    }
   ],
   "source": [
    "set1 = {10, 20, 30, 40, 50,25} \n",
    "set2 = {30, 40, 50, 60, 70,100}\n",
    "print(set1.union(set2)-set1.intersection(set2))"
   ]
  },
  {
   "cell_type": "markdown",
   "id": "8d0749a7-acb2-44bc-8220-d764e2b6d31f",
   "metadata": {},
   "source": [
    "4. set of all elements in either A or B, but not both\n",
    "set1 = {10, 20, 30, 40, 50}\n",
    "set2 = {30, 40, 50, 60, 70}\n",
    "Expected output:\n",
    "{20, 70, 10, 60}"
   ]
  },
  {
   "cell_type": "code",
   "execution_count": 9,
   "id": "a202a570-9bf3-4150-aabe-90900e16fdb5",
   "metadata": {},
   "outputs": [
    {
     "data": {
      "text/plain": [
       "{10, 20, 60, 70}"
      ]
     },
     "execution_count": 9,
     "metadata": {},
     "output_type": "execute_result"
    }
   ],
   "source": [
    "set1 = {10, 20, 30, 40, 50} \n",
    "set2 = {30, 40, 50, 60, 70}\n",
    "set1.symmetric_difference(set2)"
   ]
  },
  {
   "cell_type": "markdown",
   "id": "bcdecfd6-6a32-43e8-b88b-31edc836bb55",
   "metadata": {},
   "source": [
    "5. Update set1 by adding items from set2, except common items\n"
   ]
  },
  {
   "cell_type": "code",
   "execution_count": 12,
   "id": "47f39e7d-d4fd-4b20-b12b-5121c03dcfea",
   "metadata": {},
   "outputs": [
    {
     "data": {
      "text/plain": [
       "{10, 20, 60, 70}"
      ]
     },
     "execution_count": 12,
     "metadata": {},
     "output_type": "execute_result"
    }
   ],
   "source": [
    "set1 = {10, 20, 30, 40, 50}\n",
    "set2 = {30, 40, 50, 60, 70}\n",
    "set1 = set1.symmetric_difference(set2)\n",
    "set1"
   ]
  },
  {
   "cell_type": "markdown",
   "id": "e239bce1-688a-44fe-a303-71b7192c4e45",
   "metadata": {},
   "source": [
    "6. Take a sentence as input from user. Every word is seperated by space. Print all unique words from the sentence."
   ]
  },
  {
   "cell_type": "code",
   "execution_count": 17,
   "id": "149fcc17-9127-495b-be9f-1dc331b8b7ba",
   "metadata": {},
   "outputs": [
    {
     "data": {
      "text/plain": [
       "{' ', 'a', 'd', 'e', 'h', 'i', 'l', 'm', 'n', 'o', 'p', 'r', 's'}"
      ]
     },
     "execution_count": 17,
     "metadata": {},
     "output_type": "execute_result"
    }
   ],
   "source": [
    "sent = \"hello i am harsh nipane i m indian\"\n",
    "set(sent)"
   ]
  },
  {
   "cell_type": "markdown",
   "id": "16178fc6-ed62-416b-a271-c23b0a89b2ac",
   "metadata": {},
   "source": [
    "## Tuple"
   ]
  },
  {
   "cell_type": "markdown",
   "id": "81a64d18-47ae-4d55-8617-a03c36d34dfc",
   "metadata": {},
   "source": [
    "1. Reverse the following tuple\n",
    "aTuple = (10, 20, 30, 40, 50,60)\n",
    "Expected output:\n",
    "(60,50, 40, 30, 20, 10)\n"
   ]
  },
  {
   "cell_type": "code",
   "execution_count": 19,
   "id": "26672aad-4c08-4412-a0f9-39f3dfa5d9b4",
   "metadata": {},
   "outputs": [
    {
     "data": {
      "text/plain": [
       "(60, 50, 40, 30, 20, 10)"
      ]
     },
     "execution_count": 19,
     "metadata": {},
     "output_type": "execute_result"
    }
   ],
   "source": [
    "tp = (10, 20, 30, 40, 50,60)\n",
    "tp = tp[::-1]\n",
    "tp"
   ]
  },
  {
   "cell_type": "markdown",
   "id": "08f25922-5bc1-4b70-a8b7-c284916fe835",
   "metadata": {},
   "source": [
    "2. display value 20 from the following tuple\n",
    "aTuple = (\"Orange\", [10, 20, 30], (5, 15, 25))\n",
    "\n"
   ]
  },
  {
   "cell_type": "code",
   "execution_count": 21,
   "id": "7215d67b-c913-4552-8004-b08bd420b84e",
   "metadata": {},
   "outputs": [
    {
     "name": "stdout",
     "output_type": "stream",
     "text": [
      "20\n"
     ]
    }
   ],
   "source": [
    "t = (\"Orange\", [10, 20, 30], (5, 15, 25))\n",
    "print(t[1][1])"
   ]
  },
  {
   "cell_type": "markdown",
   "id": "6b6517e8-511d-45d3-a89a-c57a9f54ec4c",
   "metadata": {},
   "source": [
    "5. Copy element 44 and 55 from the following tuple into a new tuple\n",
    "tuple1 = (11, 22, 33, 44, 55, 66)\n",
    "Expected output:\n",
    "tuple2: (44, 55)"
   ]
  },
  {
   "cell_type": "code",
   "execution_count": 23,
   "id": "ba61cd21-49f5-44d3-aec6-5bad0018079e",
   "metadata": {},
   "outputs": [
    {
     "data": {
      "text/plain": [
       "(44, 55)"
      ]
     },
     "execution_count": 23,
     "metadata": {},
     "output_type": "execute_result"
    }
   ],
   "source": [
    "e1 = (11, 22, 33, 44, 55, 66)\n",
    "e2 = e1[3:5]\n",
    "e2"
   ]
  },
  {
   "cell_type": "markdown",
   "id": "11282d19-cc3f-4e2b-b965-5aaa864df4cb",
   "metadata": {},
   "source": [
    "6. Modify the first item (22) of a list inside a following tuple to 200\n",
    "tuple1 = (11, [22, 33], 44, 55)\n",
    "Expected output:\n",
    "tuple1: (11, [200, 33], 44, 55)"
   ]
  },
  {
   "cell_type": "code",
   "execution_count": 27,
   "id": "f815a1ef-1b55-4268-a609-7bf6b9236145",
   "metadata": {},
   "outputs": [
    {
     "data": {
      "text/plain": [
       "(11, [200, 33], 44, 55)"
      ]
     },
     "execution_count": 27,
     "metadata": {},
     "output_type": "execute_result"
    }
   ],
   "source": [
    "tu= (11, [22, 33], 44, 55)\n",
    "tu[1][0] = 200\n",
    "tu"
   ]
  },
  {
   "cell_type": "code",
   "execution_count": null,
   "id": "a4b318cf-446d-4732-8bdd-484da3ec3d42",
   "metadata": {},
   "outputs": [],
   "source": []
  }
 ],
 "metadata": {
  "kernelspec": {
   "display_name": "Python 3 (ipykernel)",
   "language": "python",
   "name": "python3"
  },
  "language_info": {
   "codemirror_mode": {
    "name": "ipython",
    "version": 3
   },
   "file_extension": ".py",
   "mimetype": "text/x-python",
   "name": "python",
   "nbconvert_exporter": "python",
   "pygments_lexer": "ipython3",
   "version": "3.11.5"
  }
 },
 "nbformat": 4,
 "nbformat_minor": 5
}
