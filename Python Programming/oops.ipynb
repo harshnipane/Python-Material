{
 "cells": [
  {
   "cell_type": "markdown",
   "id": "8507c507-90cf-4628-9b4e-80c9c4c51f30",
   "metadata": {},
   "source": [
    "# class and object"
   ]
  },
  {
   "cell_type": "markdown",
   "id": "64f0386a-bf39-43b4-8b78-e2b05cd4b6f0",
   "metadata": {},
   "source": [
    "WAp to create class \n",
    "- attributes (data values in course)\n",
    "- duration\n",
    "- course_id\n",
    "- course name\n",
    "- duration\n",
    "- total hr of syllabus\n",
    "- comtents\n",
    "- staff count\n",
    "- Agency_crating course #class var\n"
   ]
  },
  {
   "cell_type": "code",
   "execution_count": 37,
   "id": "41fa443f-63ff-452c-97ed-643d50539ce0",
   "metadata": {},
   "outputs": [],
   "source": [
    "class Agency_creating_course:\n",
    "    def __init__(self,course_id,course_name,duration,total_hr,contents, staff_count):\n",
    "        self.course_id = course_id\n",
    "        self.course_name = course_name\n",
    "        self.duration = duration\n",
    "        self.total_hr = total_hr\n",
    "        self.contents = contents\n",
    "        self.staff_count = staff_count\n",
    "        \n",
    "    def display_info(self):           #instance Method\n",
    "        print(\"course_id:\",self.course_id,'course_name:',self.course_name,'duration:',self.duration,'total_hr:',self.total_hr,'contents:',self.contents,'staff_count:',self.staff_count,sep = \"\\n\")\n",
    "    \n",
    "    @classmethod\n",
    "    def display_agency(cls):          #Class Method\n",
    "        cls.agency_name = \"Arise Agency\"\n",
    "        print(cls.agency_name)\n",
    "\n"
   ]
  },
  {
   "cell_type": "code",
   "execution_count": 38,
   "id": "1cd624f9-147d-4141-8bff-3246e48fdcf4",
   "metadata": {},
   "outputs": [
    {
     "name": "stdout",
     "output_type": "stream",
     "text": [
      "course_id:\n",
      "1\n",
      "course_name:\n",
      "Python\n",
      "duration:\n",
      "10hrs\n",
      "total_hr:\n",
      "50hr\n",
      "contents:\n",
      "List,set,tuple,functions,oop\n",
      "staff_count:\n",
      "5\n"
     ]
    }
   ],
   "source": [
    "a1 = Agency_creating_course(1,'Python','10hrs','50hr','List,set,tuple,functions,oop','5')\n",
    "a1.display_info()"
   ]
  },
  {
   "cell_type": "code",
   "execution_count": 39,
   "id": "122bdd04-8d3e-41c1-bd3d-69ae4f2ed821",
   "metadata": {},
   "outputs": [
    {
     "name": "stdout",
     "output_type": "stream",
     "text": [
      "Arise Agency\n"
     ]
    }
   ],
   "source": [
    "a1.display_agency()"
   ]
  },
  {
   "cell_type": "code",
   "execution_count": 40,
   "id": "eb2a3abb-f207-4a7d-be5a-b8c851585ab9",
   "metadata": {},
   "outputs": [],
   "source": [
    "a2 = Agency_creating_course(2,'Java','9hrs','50hr','oops,jvm,functions','4')"
   ]
  },
  {
   "cell_type": "code",
   "execution_count": 41,
   "id": "ca464b59-293a-4249-9c71-5eef89f864fa",
   "metadata": {},
   "outputs": [
    {
     "name": "stdout",
     "output_type": "stream",
     "text": [
      "course_id:\n",
      "2\n",
      "course_name:\n",
      "Java\n",
      "duration:\n",
      "9hrs\n",
      "total_hr:\n",
      "50hr\n",
      "contents:\n",
      "oops,jvm,functions\n",
      "staff_count:\n",
      "4\n"
     ]
    }
   ],
   "source": [
    "a2.display_info()"
   ]
  },
  {
   "cell_type": "code",
   "execution_count": 42,
   "id": "94802dc7-f989-4db7-8a88-7bd68f8f9d27",
   "metadata": {},
   "outputs": [
    {
     "data": {
      "text/plain": [
       "mappingproxy({'__module__': '__main__',\n",
       "              '__init__': <function __main__.Agency_creating_course.__init__(self, course_id, course_name, duration, total_hr, contents, staff_count)>,\n",
       "              'display_info': <function __main__.Agency_creating_course.display_info(self)>,\n",
       "              'display_agency': <classmethod(<function Agency_creating_course.display_agency at 0x000002BB46F77100>)>,\n",
       "              '__dict__': <attribute '__dict__' of 'Agency_creating_course' objects>,\n",
       "              '__weakref__': <attribute '__weakref__' of 'Agency_creating_course' objects>,\n",
       "              '__doc__': None,\n",
       "              'agency_name': 'Arise Agency'})"
      ]
     },
     "execution_count": 42,
     "metadata": {},
     "output_type": "execute_result"
    }
   ],
   "source": [
    "Agency_creating_course.__dict__"
   ]
  },
  {
   "cell_type": "code",
   "execution_count": null,
   "id": "53371567-9f95-4d00-bcb6-f271e886fea7",
   "metadata": {},
   "outputs": [],
   "source": []
  },
  {
   "cell_type": "code",
   "execution_count": 50,
   "id": "11682e59-b32e-4b9c-8623-950f2deb64cc",
   "metadata": {},
   "outputs": [
    {
     "name": "stdout",
     "output_type": "stream",
     "text": [
      "Pg_dbda 2 linux,cloud,tableau,dbms,python 20\n"
     ]
    }
   ],
   "source": [
    "class agency_creating:\n",
    "    agency_name=\"CDAC\"   #class variable\n",
    "    def __init__(self,duration,courseid,courses_name,contents,staff_count):\n",
    "        self.duration=duration\n",
    "        self.courseid=courseid\n",
    "        self.contents=contents\n",
    "        self.staff_count=staff_count\n",
    "        self.courses_name=courses_name\n",
    "\n",
    "    def display_info(self):\n",
    "        print(self.courses_name,self.courseid,self.contents,self.staff_count)\n",
    "\n",
    "    @classmethod\n",
    "    def display_agency_name(cls):\n",
    "        print(cls.agency_name)\n",
    "\n",
    "\n",
    "#now create object , object=class name\n",
    "dbda=agency_creating(6,2,\"Pg_dbda\",\"linux,cloud,tableau,dbms,python\",20)\n",
    "dbda.display_info()"
   ]
  },
  {
   "cell_type": "code",
   "execution_count": 68,
   "id": "d804a5e5-961a-4c57-8dcf-53caa5f3eee0",
   "metadata": {},
   "outputs": [],
   "source": [
    "class hidden:\n",
    "    def __init__(self):\n",
    "        self.v1 = 100\n",
    "        self.__hidden_path = \"practiceeeeeeeee\"\n",
    "ht = hidden()"
   ]
  },
  {
   "cell_type": "code",
   "execution_count": 64,
   "id": "556213fa-9e36-4765-afa4-4f1ffc47f624",
   "metadata": {},
   "outputs": [
    {
     "name": "stdout",
     "output_type": "stream",
     "text": [
      "100\n"
     ]
    }
   ],
   "source": [
    "print(ht.v1)"
   ]
  },
  {
   "cell_type": "code",
   "execution_count": 66,
   "id": "07a9f0fc-631d-4837-8b2f-6b4faa827953",
   "metadata": {},
   "outputs": [
    {
     "ename": "AttributeError",
     "evalue": "'hidden' object has no attribute '__hidden_path'",
     "output_type": "error",
     "traceback": [
      "\u001b[1;31m---------------------------------------------------------------------------\u001b[0m",
      "\u001b[1;31mAttributeError\u001b[0m                            Traceback (most recent call last)",
      "Cell \u001b[1;32mIn[66], line 1\u001b[0m\n\u001b[1;32m----> 1\u001b[0m \u001b[38;5;28mprint\u001b[39m(ht\u001b[38;5;241m.\u001b[39m__hidden_path)\n",
      "\u001b[1;31mAttributeError\u001b[0m: 'hidden' object has no attribute '__hidden_path'"
     ]
    }
   ],
   "source": [
    "print(ht.__hidden_path)"
   ]
  },
  {
   "cell_type": "code",
   "execution_count": 72,
   "id": "383e5bb6-d028-4f97-9375-eb1f70058a90",
   "metadata": {},
   "outputs": [
    {
     "name": "stdout",
     "output_type": "stream",
     "text": [
      "practiceeeeeeeee\n"
     ]
    }
   ],
   "source": [
    "print(ht._hidden__hidden_path)"
   ]
  },
  {
   "cell_type": "markdown",
   "id": "a04d897b-fd95-4998-a99c-03f70f8cf224",
   "metadata": {},
   "source": [
    "## Inheritance"
   ]
  },
  {
   "cell_type": "code",
   "execution_count": 87,
   "id": "74359543-8e57-4aa2-9ee9-b387b94e8e2d",
   "metadata": {},
   "outputs": [],
   "source": [
    "class A:\n",
    "    def __init__(self):\n",
    "        self.a= 90\n",
    "class B:\n",
    "    def __init__(self):\n",
    "        self.b = 'abcd'\n",
    "class C(A):\n",
    "    def __init__(self):\n",
    "        super().__init__()\n",
    "        self.c = [9,34,5]\n",
    "    def display_info(self):    \n",
    "        print(self.c,self.a)"
   ]
  },
  {
   "cell_type": "code",
   "execution_count": 88,
   "id": "4067f702-9658-48d9-9a23-b48d82d6c3cf",
   "metadata": {},
   "outputs": [
    {
     "name": "stdout",
     "output_type": "stream",
     "text": [
      "[9, 34, 5] 90\n"
     ]
    }
   ],
   "source": [
    "c1  = C()\n",
    "c1.display_info()"
   ]
  },
  {
   "cell_type": "code",
   "execution_count": 105,
   "id": "c0ec542c-c1c9-41f7-8394-3c5cac5f749d",
   "metadata": {},
   "outputs": [],
   "source": [
    "class A:\n",
    "    def __init__(self):\n",
    "        self.a= 90\n",
    "class B:\n",
    "    def __init__(self):\n",
    "        self.b = 'abcd'\n",
    "class C(A,B):\n",
    "    def __init__(self):\n",
    "        A.__init__(self)\n",
    "        self.c = [9,34,5]\n",
    "    def display_info(self):    \n",
    "        print(self.c,self.a)"
   ]
  },
  {
   "cell_type": "code",
   "execution_count": 106,
   "id": "c917884a-20f8-478b-8758-f6c87eddc0db",
   "metadata": {},
   "outputs": [
    {
     "name": "stdout",
     "output_type": "stream",
     "text": [
      "[9, 34, 5] 90\n"
     ]
    }
   ],
   "source": [
    "c1  = C()\n",
    "c1.display_info()"
   ]
  },
  {
   "cell_type": "code",
   "execution_count": 107,
   "id": "b245ab8e-0e9d-48d0-ac71-c74515247b7f",
   "metadata": {},
   "outputs": [],
   "source": [
    "class A:\n",
    "    def __init__(self):\n",
    "        self.a= 90\n",
    "    def increment(self):\n",
    "        self.a += 100\n",
    "class B:\n",
    "    def __init__(self):\n",
    "        self.b = 'abcd'\n",
    "class C(A,B):\n",
    "    def __init__(self):\n",
    "        A.__init__(self)\n",
    "        A.increment(self)\n",
    "        self.c = [9,34,5]\n",
    "    def display_info(self):    \n",
    "        print(self.c,self.a)"
   ]
  },
  {
   "cell_type": "code",
   "execution_count": 108,
   "id": "2d1c6988-9b53-4e41-a5a0-d456cd9bd5cc",
   "metadata": {},
   "outputs": [
    {
     "name": "stdout",
     "output_type": "stream",
     "text": [
      "[9, 34, 5] 190\n"
     ]
    }
   ],
   "source": [
    "c1  = C()\n",
    "c1.display_info()"
   ]
  },
  {
   "cell_type": "code",
   "execution_count": null,
   "id": "eafea526-6252-437a-960c-3b448632d508",
   "metadata": {},
   "outputs": [],
   "source": []
  }
 ],
 "metadata": {
  "kernelspec": {
   "display_name": "Python 3 (ipykernel)",
   "language": "python",
   "name": "python3"
  },
  "language_info": {
   "codemirror_mode": {
    "name": "ipython",
    "version": 3
   },
   "file_extension": ".py",
   "mimetype": "text/x-python",
   "name": "python",
   "nbconvert_exporter": "python",
   "pygments_lexer": "ipython3",
   "version": "3.11.5"
  }
 },
 "nbformat": 4,
 "nbformat_minor": 5
}
