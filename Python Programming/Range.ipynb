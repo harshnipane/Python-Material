{
 "cells": [
  {
   "cell_type": "markdown",
   "id": "e90cdd1e-f281-4bb0-a94b-e51108cc83c1",
   "metadata": {},
   "source": [
    "Wap to take input from user    print all odd nos till n   print all even nos till n"
   ]
  },
  {
   "cell_type": "code",
   "execution_count": 2,
   "id": "3685812d-5be5-42dd-9ee9-a3f4cd11f814",
   "metadata": {},
   "outputs": [
    {
     "name": "stdin",
     "output_type": "stream",
     "text": [
      "enter the number 13\n"
     ]
    },
    {
     "name": "stdout",
     "output_type": "stream",
     "text": [
      "1\n",
      "3\n",
      "5\n",
      "7\n",
      "9\n",
      "11\n",
      "13\n"
     ]
    }
   ],
   "source": [
    "n = int(input(\"enter the number\"))\n",
    "for i in range(1,n+1,2):\n",
    "    print(i)"
   ]
  },
  {
   "cell_type": "code",
   "execution_count": 4,
   "id": "30d5adc6-bb8f-417b-afb7-1a6dfd9c744e",
   "metadata": {},
   "outputs": [
    {
     "name": "stdin",
     "output_type": "stream",
     "text": [
      "enter the number 12\n"
     ]
    },
    {
     "name": "stdout",
     "output_type": "stream",
     "text": [
      "2\n",
      "4\n",
      "6\n",
      "8\n",
      "10\n",
      "12\n"
     ]
    }
   ],
   "source": [
    "n = int(input(\"enter the number\"))\n",
    "for i in range(2,n+1,2):\n",
    "    print(i)"
   ]
  },
  {
   "cell_type": "code",
   "execution_count": 8,
   "id": "097fbb7f-1cbb-4195-9827-a6e3e9e61d7a",
   "metadata": {},
   "outputs": [
    {
     "name": "stdin",
     "output_type": "stream",
     "text": [
      "enter number for table 3\n"
     ]
    },
    {
     "name": "stdout",
     "output_type": "stream",
     "text": [
      "3\n",
      "6\n",
      "9\n",
      "12\n",
      "15\n",
      "18\n",
      "21\n",
      "24\n",
      "27\n",
      "30\n"
     ]
    }
   ],
   "source": [
    "t = int(input(\"enter number for table\"))\n",
    "for i in range(1,11):\n",
    "    print(t*i)"
   ]
  },
  {
   "cell_type": "code",
   "execution_count": 11,
   "id": "ea257fde-367b-4fb5-95b4-1f6057e33603",
   "metadata": {},
   "outputs": [
    {
     "name": "stdout",
     "output_type": "stream",
     "text": [
      "[3, 6, 9, 12, 15, 18, 21, 24, 27, 30]\n",
      "[7, 14, 21, 28, 35, 42, 49, 56, 63, 70]\n",
      "[13, 26, 39, 52, 65, 78, 91, 104, 117, 130]\n"
     ]
    }
   ],
   "source": [
    "print(list(range(3,3*11,3)))\n",
    "print(list(range(7,7*11,7)))\n",
    "print(list(range(13,13*11,13)))\n"
   ]
  },
  {
   "cell_type": "code",
   "execution_count": null,
   "id": "1879bc6a-7ae8-4041-899b-fab2616755ca",
   "metadata": {},
   "outputs": [],
   "source": []
  }
 ],
 "metadata": {
  "kernelspec": {
   "display_name": "Python 3 (ipykernel)",
   "language": "python",
   "name": "python3"
  },
  "language_info": {
   "codemirror_mode": {
    "name": "ipython",
    "version": 3
   },
   "file_extension": ".py",
   "mimetype": "text/x-python",
   "name": "python",
   "nbconvert_exporter": "python",
   "pygments_lexer": "ipython3",
   "version": "3.11.5"
  }
 },
 "nbformat": 4,
 "nbformat_minor": 5
}
